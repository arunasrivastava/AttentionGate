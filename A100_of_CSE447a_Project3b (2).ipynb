{
  "cells": [
    {
      "cell_type": "markdown",
      "metadata": {
        "id": "mzIDhnUWNX98"
      },
      "source": [
        "# Project 3b: Natural Language Generation Generation\n",
        "\n",
        "In this part of the homework, you will implement decoding algorithms covered in class -- greedy decoding, random sampling, temperature sampling, top-k sampling, and top-p (nucleus) sampling. You will also learn how to use knowledge distillation to use strong teacher models to improve performance of weaker student models. The knowledge distillation exercise is only mandatory for CSE 547M students\n",
        "\n",
        "*The section on Decoding algorithms is adapted from the code by Jiacheng Liu.*"
      ]
    },
    {
      "cell_type": "markdown",
      "source": [
        "## Updates:\n",
        "\n",
        "### 12/02/2024:\n",
        "*   In section 1.5 \"Evaluate\", we have asked you to report the results in the write-up. You do not need to do this and only need to answer the write-up questions.\n",
        "*   For 1.5, some variance is expected in values, specially for the perplexity values. +/- 0.2 should be fine for the perplexity values. Also, we had a typo for the perplexity for topk sampling and it should be roughly around 12. We have updated the notebook.\n",
        "\n",
        "### 12/03/2024\n",
        "\n",
        "* For 1.5, we are noticing a lot of variance in the perplexity values across runs and you might see values which are well over the +/- 0.2 bound from the expected value. It is fine if your values do not lie within this interval. As long as your fluency and diversity values are within the bounds, you should be fine!\n",
        "\n",
        "\n",
        "\n",
        "\n",
        "\n",
        "\n",
        "\n",
        "\n",
        "\n",
        "\n"
      ],
      "metadata": {
        "id": "LYii6yUvQSvp"
      }
    },
    {
      "cell_type": "markdown",
      "metadata": {
        "id": "qM-517mmNX99"
      },
      "source": [
        "## Section 0: Setup"
      ]
    },
    {
      "cell_type": "code",
      "execution_count": null,
      "metadata": {
        "id": "BGHdl9b5NX99"
      },
      "outputs": [],
      "source": [
        "%%bash\n",
        "pip install transformers\n",
        "pip install datasets\n",
        "pip install evaluate"
      ]
    },
    {
      "cell_type": "code",
      "execution_count": 2,
      "metadata": {
        "id": "0IdXWTdjNX99",
        "colab": {
          "base_uri": "https://localhost:8080/"
        },
        "outputId": "6f0f836a-b45e-44b1-b54a-42e695d428da"
      },
      "outputs": [
        {
          "output_type": "stream",
          "name": "stdout",
          "text": [
            "device: cuda\n"
          ]
        }
      ],
      "source": [
        "\"\"\"set device and random seeds\"\"\"\n",
        "\n",
        "######################################################\n",
        "#  The following helper functions are given to you.\n",
        "######################################################\n",
        "import os\n",
        "from tqdm.notebook import tqdm\n",
        "import torch\n",
        "import torch.nn.functional as F\n",
        "\n",
        "device = \"cuda\" if torch.cuda.is_available() else \"cpu\"\n",
        "DEVICE = device\n",
        "print(f\"device: {device}\")\n",
        "\n",
        "\n",
        "def set_seed(seed=19260817):\n",
        "    torch.manual_seed(seed)\n",
        "    torch.cuda.manual_seed_all(seed)\n",
        "    torch.backends.cudnn.deterministic = True\n",
        "    torch.backends.cudnn.benchmark = False\n",
        "\n",
        "\n",
        "set_seed()"
      ]
    },
    {
      "cell_type": "markdown",
      "metadata": {
        "id": "cQBKM6a9NX99"
      },
      "source": [
        "### 0.1 Dataset"
      ]
    },
    {
      "cell_type": "code",
      "execution_count": null,
      "metadata": {
        "id": "_3nf-2f3NX9-"
      },
      "outputs": [],
      "source": [
        "\"\"\"load datasets\"\"\"\n",
        "\n",
        "######################################################\n",
        "#  The following helper code is given to you.\n",
        "######################################################\n",
        "\n",
        "from datasets import load_dataset\n",
        "\n",
        "dataset = load_dataset(\"Ximing/ROCStories\")\n",
        "train_data, dev_data, test_data = (\n",
        "    dataset[\"train\"],\n",
        "    dataset[\"validation\"],\n",
        "    dataset[\"test\"],\n",
        ")\n",
        "\n",
        "print(train_data[0])"
      ]
    },
    {
      "cell_type": "markdown",
      "metadata": {
        "id": "6TIWiYBZNX9-"
      },
      "source": [
        "### 0.2 Evaluation Metrics"
      ]
    },
    {
      "cell_type": "code",
      "execution_count": null,
      "metadata": {
        "id": "4EG-bgQPNX9-"
      },
      "outputs": [],
      "source": [
        "\"\"\"prepare evaluation\"\"\"\n",
        "\n",
        "######################################################\n",
        "#  The following helper code is given to you.\n",
        "######################################################\n",
        "\n",
        "from evaluate import load\n",
        "from transformers import RobertaForSequenceClassification, RobertaTokenizer\n",
        "\n",
        "perplexity_scorer = load(\"perplexity\", module_type=\"metric\")\n",
        "cola_model_name = \"textattack/roberta-base-CoLA\"\n",
        "cola_tokenizer = RobertaTokenizer.from_pretrained(cola_model_name)\n",
        "cola_model = RobertaForSequenceClassification.from_pretrained(cola_model_name).to(\n",
        "    device\n",
        ")\n",
        "\n",
        "\n",
        "def batchify(data, batch_size):\n",
        "    assert batch_size > 0\n",
        "\n",
        "    batch = []\n",
        "    for item in data:\n",
        "        # Yield next batch\n",
        "        if len(batch) == batch_size:\n",
        "            yield batch\n",
        "            batch = []\n",
        "\n",
        "        batch.append(item)\n",
        "\n",
        "    # Yield last un-filled batch\n",
        "    if len(batch) != 0:\n",
        "        yield batch"
      ]
    },
    {
      "cell_type": "code",
      "execution_count": null,
      "metadata": {
        "id": "xgVMcubTNX9-"
      },
      "outputs": [],
      "source": [
        "\"\"\"set up evaluation metric\"\"\"\n",
        "\n",
        "######################################################\n",
        "#  The following helper code is given to you.\n",
        "######################################################\n",
        "\n",
        "\n",
        "def compute_perplexity(texts, model=\"gpt2\", batch_size=8):\n",
        "    score = perplexity_scorer.compute(\n",
        "        predictions=texts, add_start_token=True, batch_size=batch_size, model_id=model\n",
        "    )\n",
        "    return score[\"mean_perplexity\"]\n",
        "\n",
        "\n",
        "def compute_fluency(texts, batch_size=8):\n",
        "    scores = []\n",
        "    for b_texts in batchify(texts, batch_size):\n",
        "        inputs = cola_tokenizer(\n",
        "            texts, padding=True, truncation=True, return_tensors=\"pt\"\n",
        "        ).to(device)\n",
        "        with torch.no_grad():\n",
        "            logits = cola_model(**inputs).logits\n",
        "            probs = logits.softmax(dim=-1)\n",
        "            scores.extend(probs[:, 1].tolist())\n",
        "    return sum(scores) / len(scores)\n",
        "\n",
        "\n",
        "def compute_diversity(texts):\n",
        "    unigrams, bigrams, trigrams = [], [], []\n",
        "    total_words = 0\n",
        "    for gen in texts:\n",
        "        o = gen.split(\" \")\n",
        "        total_words += len(o)\n",
        "        for i in range(len(o)):\n",
        "            unigrams.append(o[i])\n",
        "        for i in range(len(o) - 1):\n",
        "            bigrams.append(o[i] + \"_\" + o[i + 1])\n",
        "        for i in range(len(o) - 2):\n",
        "            trigrams.append(o[i] + \"_\" + o[i + 1] + \"_\" + o[i + 2])\n",
        "    return (\n",
        "        len(set(unigrams)) / len(unigrams),\n",
        "        len(set(bigrams)) / len(bigrams),\n",
        "        len(set(trigrams)) / len(trigrams),\n",
        "    )\n",
        "\n",
        "\n",
        "def evaluate(generations, experiment):\n",
        "    generations = [_ for _ in generations if _ != \"\"]\n",
        "    perplexity = compute_perplexity(generations)\n",
        "    fluency = compute_fluency(generations)\n",
        "    diversity = compute_diversity(generations)\n",
        "    print(experiment)\n",
        "    print(f\"perplexity = {perplexity:.2f}\")\n",
        "    print(f\"fluency = {fluency:.2f}\")\n",
        "    print(f\"diversity = {diversity[0]:.2f}, {diversity[1]:.2f}, {diversity[2]:.2f}\")\n",
        "    print()\n",
        "\n",
        "\n",
        "debug_sents = [\n",
        "    \"This restaurant is awesome\",\n",
        "    \"My dog is cute and I love it.\",\n",
        "    \"Today is sunny.\",\n",
        "]\n",
        "evaluate(debug_sents, \"debugging run\")"
      ]
    },
    {
      "cell_type": "markdown",
      "metadata": {
        "id": "_Srz0ZG6NX9-"
      },
      "source": [
        "### 0.3: Load Model"
      ]
    },
    {
      "cell_type": "code",
      "execution_count": 6,
      "metadata": {
        "id": "iVwg4AX4NX9_",
        "colab": {
          "base_uri": "https://localhost:8080/"
        },
        "outputId": "a735d96d-98f8-49bc-a370-bd657a55a177"
      },
      "outputs": [
        {
          "output_type": "execute_result",
          "data": {
            "text/plain": [
              "GPT2LMHeadModel(\n",
              "  (transformer): GPT2Model(\n",
              "    (wte): Embedding(50257, 768)\n",
              "    (wpe): Embedding(1024, 768)\n",
              "    (drop): Dropout(p=0.1, inplace=False)\n",
              "    (h): ModuleList(\n",
              "      (0-11): 12 x GPT2Block(\n",
              "        (ln_1): LayerNorm((768,), eps=1e-05, elementwise_affine=True)\n",
              "        (attn): GPT2SdpaAttention(\n",
              "          (c_attn): Conv1D(nf=2304, nx=768)\n",
              "          (c_proj): Conv1D(nf=768, nx=768)\n",
              "          (attn_dropout): Dropout(p=0.1, inplace=False)\n",
              "          (resid_dropout): Dropout(p=0.1, inplace=False)\n",
              "        )\n",
              "        (ln_2): LayerNorm((768,), eps=1e-05, elementwise_affine=True)\n",
              "        (mlp): GPT2MLP(\n",
              "          (c_fc): Conv1D(nf=3072, nx=768)\n",
              "          (c_proj): Conv1D(nf=768, nx=3072)\n",
              "          (act): NewGELUActivation()\n",
              "          (dropout): Dropout(p=0.1, inplace=False)\n",
              "        )\n",
              "      )\n",
              "    )\n",
              "    (ln_f): LayerNorm((768,), eps=1e-05, elementwise_affine=True)\n",
              "  )\n",
              "  (lm_head): Linear(in_features=768, out_features=50257, bias=False)\n",
              ")"
            ]
          },
          "metadata": {},
          "execution_count": 6
        }
      ],
      "source": [
        "\"\"\"load model and tokenizer\"\"\"\n",
        "\n",
        "######################################################\n",
        "#  The following helper code is given to you.\n",
        "######################################################\n",
        "\n",
        "from transformers import GPT2LMHeadModel, GPT2Tokenizer\n",
        "\n",
        "model_name = \"gpt2\"\n",
        "tokenizer = GPT2Tokenizer.from_pretrained(model_name, pad_token=\"<|endoftext|>\")\n",
        "model = GPT2LMHeadModel.from_pretrained(model_name).to(device)\n",
        "model.eval()"
      ]
    },
    {
      "cell_type": "markdown",
      "metadata": {
        "id": "Nj0TVZyRNX9_"
      },
      "source": [
        "## **Section 1: Decoding Algorithms**\n",
        "\n",
        "In this section, you will implement a few basic decoding algorithms:\n",
        "1. Greedy decoding\n",
        "2. Vanilla sampling\n",
        "3. Temperature sampling\n",
        "4. Top-k sampling\n",
        "5. Top-p sampling\n",
        "\n",
        "We have provided a wrapper function `decode()` that takes care of batching, controlling max length, and handling the EOS token.\n",
        "You will be asked to implement the core function of each method: *given the pre-softmax logits of the next token, decide what the next token is.*\n",
        "\n",
        "**The wrapper calls the core function of each decoding algorithm, which you will implement in the subsections below.**"
      ]
    },
    {
      "cell_type": "code",
      "execution_count": 7,
      "metadata": {
        "id": "8GofKB8VNX9_"
      },
      "outputs": [],
      "source": [
        "\"\"\"decode main wrapper function\"\"\"\n",
        "\n",
        "######################################################\n",
        "#  The following helper code is given to you.\n",
        "######################################################\n",
        "\n",
        "def _update_model_kwargs_for_generation(\n",
        "    outputs, model_kwargs, is_encoder_decoder: bool = False\n",
        "):\n",
        "    # update past\n",
        "    if \"past_key_values\" in outputs:\n",
        "        model_kwargs[\"past_key_values\"] = outputs.past_key_values\n",
        "    elif \"mems\" in outputs:\n",
        "        model_kwargs[\"past_key_values\"] = outputs.mems\n",
        "    elif \"past_buckets_states\" in outputs:\n",
        "        model_kwargs[\"past_key_values\"] = outputs.past_buckets_states\n",
        "    else:\n",
        "        model_kwargs[\"past_key_values\"] = None\n",
        "\n",
        "    # update token_type_ids with last value\n",
        "    if \"token_type_ids\" in model_kwargs:\n",
        "        token_type_ids = model_kwargs[\"token_type_ids\"]\n",
        "        model_kwargs[\"token_type_ids\"] = torch.cat([token_type_ids, token_type_ids[:, -1].unsqueeze(-1)], dim=-1)\n",
        "\n",
        "    # update attention mask\n",
        "    if not is_encoder_decoder:\n",
        "        if \"attention_mask\" in model_kwargs:\n",
        "            attention_mask = model_kwargs[\"attention_mask\"]\n",
        "            model_kwargs[\"attention_mask\"] = torch.cat(\n",
        "                [attention_mask, attention_mask.new_ones((attention_mask.shape[0], 1))], dim=-1\n",
        "            )\n",
        "\n",
        "    return model_kwargs\n",
        "\n",
        "def decode(prompts, max_len, method, **kwargs):\n",
        "    encodings_dict = tokenizer(prompts, return_tensors=\"pt\", padding=True)\n",
        "    input_ids = encodings_dict[\"input_ids\"].to(device)\n",
        "    attention_mask = encodings_dict[\"attention_mask\"].to(device)\n",
        "\n",
        "    model_kwargs = {\"attention_mask\": attention_mask}\n",
        "    batch_size, input_seq_len = input_ids.shape\n",
        "\n",
        "    unfinished_sequences = torch.ones(batch_size, dtype=torch.long, device=device)\n",
        "\n",
        "    for step in range(max_len):\n",
        "        model_inputs = model.prepare_inputs_for_generation(input_ids, **model_kwargs)\n",
        "        with torch.no_grad():\n",
        "            outputs = model(\n",
        "                **model_inputs,\n",
        "                return_dict=True,\n",
        "                output_attentions=False,\n",
        "                output_hidden_states=False,\n",
        "            )\n",
        "\n",
        "        if step == 0:\n",
        "            last_non_masked_idx = torch.sum(attention_mask, dim=1) - 1\n",
        "            next_token_logits = outputs.logits[\n",
        "                range(batch_size), last_non_masked_idx, :\n",
        "            ]\n",
        "        else:\n",
        "            next_token_logits = outputs.logits[:, -1, :]\n",
        "\n",
        "        log_prob = F.log_softmax(next_token_logits, dim=-1)\n",
        "\n",
        "        if method == \"greedy\":\n",
        "            next_tokens = greedy(next_token_logits)\n",
        "        elif method == \"sample\":\n",
        "            next_tokens = sample(next_token_logits)\n",
        "        elif method == \"temperature\":\n",
        "            next_tokens = temperature(next_token_logits, temperature=kwargs.get(\"temperature\", 0.8))\n",
        "        elif method == \"topk\":\n",
        "            next_tokens = topk(\n",
        "                next_token_logits,\n",
        "                k=kwargs.get(\"k\", 20),\n",
        "                temperature=kwargs.get(\"temperature\", 1.0),\n",
        "            )\n",
        "        elif method == \"topp\":\n",
        "            next_tokens = topp(\n",
        "                next_token_logits,\n",
        "                p=kwargs.get(\"p\", 0.7),\n",
        "                temperature=kwargs.get(\"temperature\", 1.0),\n",
        "            )\n",
        "\n",
        "        # finished sentences should have their next token be a padding token\n",
        "        next_tokens = next_tokens * unfinished_sequences + tokenizer.pad_token_id * (\n",
        "            1 - unfinished_sequences\n",
        "        )\n",
        "\n",
        "        input_ids = torch.cat([input_ids, next_tokens[:, None]], dim=-1)\n",
        "        # model_kwargs[\"attention_mask\"] = torch.cat(\n",
        "        #     [attention_mask, torch.ones_like(next_tokens[:, None])], dim=-1\n",
        "        # )\n",
        "        model_kwargs = _update_model_kwargs_for_generation(\n",
        "            outputs, model_kwargs, is_encoder_decoder=model.config.is_encoder_decoder\n",
        "        )\n",
        "\n",
        "        # model_kwargs = model._update_model_kwargs_for_generation(\n",
        "        #     outputs,\n",
        "        #     model_kwargs,\n",
        "        #     is_encoder_decoder=model.config.is_encoder_decoder,\n",
        "        # )\n",
        "\n",
        "        # if eos_token was found in one sentence, set sentence to finished\n",
        "        unfinished_sequences = unfinished_sequences.mul(\n",
        "            (next_tokens != tokenizer.eos_token_id).long()\n",
        "        )\n",
        "\n",
        "        if unfinished_sequences.max() == 0:\n",
        "            break\n",
        "\n",
        "    response_ids = input_ids[:, input_seq_len:]\n",
        "    response_text = [\n",
        "        tokenizer.decode(\n",
        "            output, skip_special_tokens=True, clean_up_tokenization_spaces=True\n",
        "        )\n",
        "        for output in response_ids\n",
        "    ]\n",
        "\n",
        "    return response_text"
      ]
    },
    {
      "cell_type": "code",
      "execution_count": 8,
      "metadata": {
        "id": "qm-AmDIQNX9_"
      },
      "outputs": [],
      "source": [
        "\"\"\"debug helper code\"\"\"\n",
        "\n",
        "######################################################\n",
        "#  The following helper code is given to you.\n",
        "######################################################\n",
        "\n",
        "# For debugging, we duplicate a single prompt 10 times so that we obtain 10 generations for the same prompt\n",
        "dev_prompts = [dev_data[0][\"prompt\"]] * 10\n",
        "\n",
        "\n",
        "def print_generations(prompts, generations):\n",
        "    for prompt, generation in zip(prompts, generations):\n",
        "        print(f\"{[prompt]} ==> {[generation]}\")"
      ]
    },
    {
      "cell_type": "markdown",
      "metadata": {
        "id": "92B0-5qGNX9_"
      },
      "source": [
        "### 1.1: Greedy Decoding"
      ]
    },
    {
      "cell_type": "code",
      "execution_count": 9,
      "metadata": {
        "deletable": false,
        "nbgrader": {
          "cell_type": "code",
          "checksum": "67fa5b2e58c40210fe7eb3f97faae38c",
          "grade": false,
          "grade_id": "cell-105debff5fe08d80",
          "locked": false,
          "schema_version": 3,
          "solution": true,
          "task": false
        },
        "id": "kVGYgrudNX9_"
      },
      "outputs": [],
      "source": [
        "def greedy(next_token_logits):\n",
        "    \"\"\"\n",
        "    Applies greedy decoding to get the next token.\n",
        "    inputs:\n",
        "    - next_token_logits: Tensor(size = (B, V), dtype = float)\n",
        "    outputs:\n",
        "    - next_tokens: Tensor(size = (B), dtype = long)\n",
        "\n",
        "    \"\"\"\n",
        "    next_tokens = None\n",
        "    # YOUR CODE HERE\n",
        "    next_tokens = torch.argmax(next_token_logits, dim=-1)\n",
        "    return next_tokens"
      ]
    },
    {
      "cell_type": "code",
      "execution_count": 10,
      "metadata": {
        "id": "ztI2SoK0NX9_",
        "colab": {
          "base_uri": "https://localhost:8080/"
        },
        "outputId": "461fbeb3-fd9f-4f9c-919e-bf66a5f0584b"
      },
      "outputs": [
        {
          "output_type": "stream",
          "name": "stdout",
          "text": [
            "['Ryan was called by his friend to skip work one day.'] ==> ['\\n\\n\"I was like, \\'I\\'m going to go to work tomorrow,\\'\" he said.']\n",
            "['Ryan was called by his friend to skip work one day.'] ==> ['\\n\\n\"I was like, \\'I\\'m going to go to work tomorrow,\\'\" he said.']\n",
            "['Ryan was called by his friend to skip work one day.'] ==> ['\\n\\n\"I was like, \\'I\\'m going to go to work tomorrow,\\'\" he said.']\n",
            "['Ryan was called by his friend to skip work one day.'] ==> ['\\n\\n\"I was like, \\'I\\'m going to go to work tomorrow,\\'\" he said.']\n",
            "['Ryan was called by his friend to skip work one day.'] ==> ['\\n\\n\"I was like, \\'I\\'m going to go to work tomorrow,\\'\" he said.']\n",
            "['Ryan was called by his friend to skip work one day.'] ==> ['\\n\\n\"I was like, \\'I\\'m going to go to work tomorrow,\\'\" he said.']\n",
            "['Ryan was called by his friend to skip work one day.'] ==> ['\\n\\n\"I was like, \\'I\\'m going to go to work tomorrow,\\'\" he said.']\n",
            "['Ryan was called by his friend to skip work one day.'] ==> ['\\n\\n\"I was like, \\'I\\'m going to go to work tomorrow,\\'\" he said.']\n",
            "['Ryan was called by his friend to skip work one day.'] ==> ['\\n\\n\"I was like, \\'I\\'m going to go to work tomorrow,\\'\" he said.']\n",
            "['Ryan was called by his friend to skip work one day.'] ==> ['\\n\\n\"I was like, \\'I\\'m going to go to work tomorrow,\\'\" he said.']\n"
          ]
        }
      ],
      "source": [
        "generations = decode(dev_prompts, max_len=20, method=\"greedy\")\n",
        "print_generations(dev_prompts, generations)"
      ]
    },
    {
      "cell_type": "markdown",
      "metadata": {
        "id": "EiUh0_jtNX9_"
      },
      "source": [
        "### 1.2: Vanilla Sampling and Temperature Sampling"
      ]
    },
    {
      "cell_type": "code",
      "execution_count": 11,
      "metadata": {
        "deletable": false,
        "nbgrader": {
          "cell_type": "code",
          "checksum": "3bf0eb9b1bd75f68f4deb188543ab1f6",
          "grade": false,
          "grade_id": "cell-e7bd215427887e78",
          "locked": false,
          "schema_version": 3,
          "solution": true,
          "task": false
        },
        "id": "AAl5RIKJNX9_"
      },
      "outputs": [],
      "source": [
        "def sample(next_token_logits):\n",
        "\n",
        "    \"\"\"\n",
        "    inputs:\n",
        "    - next_token_logits: Tensor(size = (B, V), dtype = float)\n",
        "    outputs:\n",
        "    - next_tokens: Tensor(size = (B), dtype = long)\n",
        "\n",
        "    Hint: use torch.multinomial()\n",
        "    \"\"\"\n",
        "\n",
        "    next_tokens = None\n",
        "    # YOUR CODE HERE\n",
        "    next_tokens = torch.multinomial(F.softmax(next_token_logits, dim=-1), num_samples=1)\n",
        "    next_tokens = next_tokens.squeeze(-1)\n",
        "    return next_tokens"
      ]
    },
    {
      "cell_type": "code",
      "execution_count": 12,
      "metadata": {
        "id": "SQMlgKdDNX9_",
        "colab": {
          "base_uri": "https://localhost:8080/"
        },
        "outputId": "af4b55e8-42f7-4946-ecde-fde60f1a16b0"
      },
      "outputs": [
        {
          "output_type": "stream",
          "name": "stdout",
          "text": [
            "['Ryan was called by his friend to skip work one day.'] ==> ['\\n\\nKiddiak said he stepped on it, hit the brakes hard and decided to cross first']\n",
            "['Ryan was called by his friend to skip work one day.'] ==> [\" Their interaction didn't work at all by the time he would get back to Louisville. Some details that\"]\n",
            "['Ryan was called by his friend to skip work one day.'] ==> [' According to investigators at the time, Gianfranco was yelling at them for not doing enough work']\n",
            "['Ryan was called by his friend to skip work one day.'] ==> [' \"No, my boyfriend doesn\\'t do work,\" Cat started, desperate to dial a phone in distress']\n",
            "['Ryan was called by his friend to skip work one day.'] ==> [' Later, he did not show up for school again until late the next day. After catching a train']\n",
            "['Ryan was called by his friend to skip work one day.'] ==> [' The fliers denounced Gov. Pat Brown for having insufficient police presence in the building, and he engineered']\n",
            "['Ryan was called by his friend to skip work one day.'] ==> [' Then-FBI director Christopher Wray cut him off. The FBI is supposed to press charges against Matt']\n",
            "['Ryan was called by his friend to skip work one day.'] ==> [' The only choice was his motorcycle. His smile vanished. About 28 miles (50 km) away was']\n",
            "['Ryan was called by his friend to skip work one day.'] ==> [' Just before giving up his job, the first thing he learned was who withdrew the money…the grain']\n",
            "['Ryan was called by his friend to skip work one day.'] ==> [' \"I walked off at 3 in the morning. Hopefully your husband has a lot deeper wisdom and his']\n"
          ]
        }
      ],
      "source": [
        "set_seed()\n",
        "generations = decode(dev_prompts, max_len=20, method=\"sample\")\n",
        "print_generations(dev_prompts, generations)"
      ]
    },
    {
      "cell_type": "code",
      "execution_count": 13,
      "metadata": {
        "deletable": false,
        "nbgrader": {
          "cell_type": "code",
          "checksum": "03d44ae38fa4e19ee941b97cff6be030",
          "grade": false,
          "grade_id": "cell-9c65b70fb33ce73e",
          "locked": false,
          "schema_version": 3,
          "solution": true,
          "task": false
        },
        "id": "OGZPWs1tNX9_"
      },
      "outputs": [],
      "source": [
        "def temperature(next_token_logits, temperature):\n",
        "    \"\"\"\n",
        "    inputs:\n",
        "    - next_token_logits: Tensor(size = (B, V), dtype = float)\n",
        "    - temperature: Temperature parameter float\n",
        "    outputs:\n",
        "    - next_tokens: Tensor(size = (B), dtype = long)\n",
        "    \"\"\"\n",
        "    next_tokens = None\n",
        "    next_tokens = torch.multinomial(F.softmax(next_token_logits / temperature, dim=-1), num_samples=1)\n",
        "    next_tokens = next_tokens.squeeze(-1)\n",
        "    return next_tokens"
      ]
    },
    {
      "cell_type": "code",
      "execution_count": 14,
      "metadata": {
        "id": "1kzU7asWNX-A",
        "colab": {
          "base_uri": "https://localhost:8080/"
        },
        "outputId": "81528760-02a7-4cc0-f97c-913541229d9f"
      },
      "outputs": [
        {
          "output_type": "stream",
          "name": "stdout",
          "text": [
            "['Ryan was called by his friend to skip work one day.'] ==> ['\\n\\nKiddiak said he stepped on the blood spur out of pity from his cousin Jimmie']\n",
            "['Ryan was called by his friend to skip work one day.'] ==> [\" Their interaction didn't go well.\\n\\nHerad's mother was in a panic. Unable to\"]\n",
            "['Ryan was called by his friend to skip work one day.'] ==> [\" He said he hadn't asked if he'd be coming back to work for a week.\\n\\n\"]\n",
            "['Ryan was called by his friend to skip work one day.'] ==> [' \"I told my boss I was leaving work early to take care of my sons\\' homework. So']\n",
            "['Ryan was called by his friend to skip work one day.'] ==> [' He also said he was going to play out of town because the game was cancelled. Johnson also said']\n",
            "['Ryan was called by his friend to skip work one day.'] ==> [' The next morning, after talking to other parents who also work in the area, he was told to']\n",
            "['Ryan was called by his friend to skip work one day.'] ==> [' It was before he was going to college.\\n\\n\"Oh, I\\'ll do it,\" he']\n",
            "['Ryan was called by his friend to skip work one day.'] ==> [' The only choice was to get out of school and go to her house to celebrate the graduation. After']\n",
            "['Ryan was called by his friend to skip work one day.'] ==> [' Just before noon, he was drumming his drums in front of his house. He saw his friend']\n",
            "['Ryan was called by his friend to skip work one day.'] ==> [' \"I walked off the job, I went back to school, I took a couple of hours off']\n"
          ]
        }
      ],
      "source": [
        "set_seed()\n",
        "generations = decode(dev_prompts, max_len=20, method=\"temperature\", temperature=0.8)\n",
        "print_generations(dev_prompts, generations)"
      ]
    },
    {
      "cell_type": "markdown",
      "metadata": {
        "id": "jz6KVNhRNX-A"
      },
      "source": [
        "### 1.3: Top-k Sampling\n",
        "\n",
        "Useful tips:\n",
        "- Recall that in Top-k sampling, we only sample from the top-k tokens with the highest probabilities. To ensure that we set the logits other than the top-k to be -inf. You can use `float(\"-inf\")` to represent infinity in python.\n",
        "- You will find `torch.topk()` useful for getting the top-k logits and indices. Check out the [documentation](https://pytorch.org/docs/stable/generated/torch.topk.html) for the function for more details.\n",
        "- Do not forget to divide the logits by the temperature before applying softmax."
      ]
    },
    {
      "cell_type": "code",
      "execution_count": 57,
      "metadata": {
        "deletable": false,
        "nbgrader": {
          "cell_type": "code",
          "checksum": "611732370e1db2672140fc432e6070ef",
          "grade": false,
          "grade_id": "cell-79739f6214d80a0e",
          "locked": false,
          "schema_version": 3,
          "solution": true,
          "task": false
        },
        "id": "2HEJ7w9fNX-A"
      },
      "outputs": [],
      "source": [
        "def topk(next_token_logits, k, temperature = 1):\n",
        "\n",
        "    \"\"\"\n",
        "    Applies the top-k sampling decoding algorithm to get the next token.\n",
        "    inputs:\n",
        "    - next_token_logits: Tensor(size = (B, V), dtype = float)\n",
        "    - k: int, the number of top tokens to consider\n",
        "    - temperature: Temperature parameter float\n",
        "    outputs:\n",
        "    - next_tokens: Tensor(size = (B), dtype = long)\n",
        "    \"\"\"\n",
        "    next_tokens = None\n",
        "    # YOUR CODE HERE\n",
        "    next_tokens = next_token_logits / temperature\n",
        "    min = torch.topk(next_tokens, k=k, dim=-1).values[:,-1].unsqueeze(-1)\n",
        "    next_tokens[next_tokens < min] = float('-inf')\n",
        "    next_tokens = torch.multinomial(F.softmax(next_tokens, dim=-1), num_samples=1)\n",
        "    next_tokens = next_tokens.squeeze(-1)\n",
        "    return next_tokens"
      ]
    },
    {
      "cell_type": "code",
      "execution_count": 16,
      "metadata": {
        "id": "2rRtxtoaNX-A",
        "colab": {
          "base_uri": "https://localhost:8080/"
        },
        "outputId": "c529fceb-fb0b-4e02-8f84-fe94cfd99215"
      },
      "outputs": [
        {
          "output_type": "stream",
          "name": "stdout",
          "text": [
            "['Ryan was called by his friend to skip work one day.'] ==> ['\\n\\n\"I wasn\\'t sure what to expect, so he asked me why I didn\\'t work']\n",
            "['Ryan was called by his friend to skip work one day.'] ==> ['\\n\\n\"I\\'m tired of talking about this because it\\'s a big distraction. I\\'m tired']\n",
            "['Ryan was called by his friend to skip work one day.'] ==> [' When he arrived at work, the other workers were on the line and asked if he would be willing']\n",
            "['Ryan was called by his friend to skip work one day.'] ==> [' \"Why don\\'t you try to do work? You don\\'t look like a person,\" his friend']\n",
            "['Ryan was called by his friend to skip work one day.'] ==> [' He said he did not have enough money to pay his bills. He told his girlfriend, a teacher']\n",
            "['Ryan was called by his friend to skip work one day.'] ==> [' The next morning, after work, he would get back to his job, and the next day,']\n",
            "['Ryan was called by his friend to skip work one day.'] ==> [\" It was the first time they had ever met, and they couldn't quite decide how to respond:\"]\n",
            "['Ryan was called by his friend to skip work one day.'] ==> [' The only problem was that his roommate was working at a local hospital when she refused to come out because']\n",
            "['Ryan was called by his friend to skip work one day.'] ==> [' A few days were spent at home in his home in Washington, D.C., a short drive']\n",
            "['Ryan was called by his friend to skip work one day.'] ==> [' \"I wanted a ride to New York with my family,\" said the 33-year-old New']\n"
          ]
        }
      ],
      "source": [
        "set_seed()\n",
        "generations = decode(dev_prompts, max_len=20, method=\"topk\", k=20)\n",
        "print_generations(dev_prompts, generations)"
      ]
    },
    {
      "cell_type": "markdown",
      "metadata": {
        "id": "dhbKJIPTNX-A"
      },
      "source": [
        "### 1.4: Top-p Sampling"
      ]
    },
    {
      "cell_type": "code",
      "execution_count": 17,
      "metadata": {
        "deletable": false,
        "nbgrader": {
          "cell_type": "code",
          "checksum": "5ab20a9d9cb6e6c50e109fed344c0b97",
          "grade": false,
          "grade_id": "cell-906fc971403533de",
          "locked": false,
          "schema_version": 3,
          "solution": true,
          "task": false
        },
        "id": "R1QudzR0NX-A"
      },
      "outputs": [],
      "source": [
        "def topp(next_token_logits, p, temperature = 1):\n",
        "    \"\"\"\n",
        "    Applies the top-p sampling or nucleus sampling decoding algorithm to get the next token.\n",
        "    inputs:\n",
        "    - next_token_logits: Tensor(size = (B, V), dtype = float)\n",
        "    - p: float, the cutoff probability for the top-p sampling\n",
        "    - temperature: Temperature parameter float\n",
        "    outputs:\n",
        "    - next_tokens: Tensor(size = (B), dtype = long)\n",
        "    \"\"\"\n",
        "\n",
        "    # TODO: Sort the logits in descending order, and compute\n",
        "    # the cumulative probabilities `cum_probs` on the sorted logits\n",
        "    sorted_logits, sorted_indices = None, None\n",
        "    sorted_probs = None\n",
        "    cum_probs = None\n",
        "    # YOUR CODE HERE\n",
        "    sorted_logits, sorted_indices = torch.sort(next_token_logits, descending=True, dim=-1)\n",
        "    sorted_probs = F.softmax(sorted_logits / temperature, dim=-1)\n",
        "    cum_probs = torch.cumsum(sorted_probs, dim=-1)\n",
        "\n",
        "    # Create a mask to zero out all logits not in top-p\n",
        "    sorted_indices_to_remove = cum_probs > p\n",
        "    sorted_indices_to_remove[:, 1:] = sorted_indices_to_remove[:, :-1].clone()\n",
        "    sorted_indices_to_remove[:, 0] = 0\n",
        "    # Restore mask to original indices\n",
        "    indices_to_remove = sorted_indices_to_remove.scatter(dim=1, index=sorted_indices, src=sorted_indices_to_remove)\n",
        "\n",
        "    # Mask the logits\n",
        "    next_token_logits[indices_to_remove] = float('-inf')\n",
        "\n",
        "    # TODO: Sample from the masked logits\n",
        "    next_tokens = None\n",
        "    # YOUR CODE HERE\n",
        "    next_tokens = torch.multinomial(F.softmax(next_token_logits, dim=-1), num_samples=1)\n",
        "    next_tokens = next_tokens.squeeze(-1)\n",
        "    return next_tokens"
      ]
    },
    {
      "cell_type": "code",
      "execution_count": 18,
      "metadata": {
        "id": "tx_60J_mNX-A",
        "colab": {
          "base_uri": "https://localhost:8080/"
        },
        "outputId": "bea0d5af-7687-4741-93aa-f1578299769a"
      },
      "outputs": [
        {
          "output_type": "stream",
          "name": "stdout",
          "text": [
            "['Ryan was called by his friend to skip work one day.'] ==> [\"\\n\\nKiddie said he also didn't know if he was working out or not, and\"]\n",
            "['Ryan was called by his friend to skip work one day.'] ==> [' On the day of the attack, he took the opportunity to share a beautiful moment with her, a']\n",
            "['Ryan was called by his friend to skip work one day.'] ==> [' When he arrived at work, the new tenant was coming in with a pile of trash.\\n\\n']\n",
            "['Ryan was called by his friend to skip work one day.'] ==> [' \"No, my boyfriend doesn\\'t do that,\" he said, before jogging out to his room']\n",
            "['Ryan was called by his friend to skip work one day.'] ==> [' He also sat in a wheelchair at his hospital bed. In the room was a young woman who looked']\n",
            "['Ryan was called by his friend to skip work one day.'] ==> [\" The rookie's parents said he was talking to his father and asking him to help him.\\n\\n\"]\n",
            "['Ryan was called by his friend to skip work one day.'] ==> [\" Then he goes back to work. He can't afford to do it. So he goes back to\"]\n",
            "['Ryan was called by his friend to skip work one day.'] ==> [' The only problem was that his roommate was working at a local Walmart when she refused to work, because']\n",
            "['Ryan was called by his friend to skip work one day.'] ==> [' A low-level CIA agent from the Pentagon who was employed by Special Operations Command was present. But']\n",
            "['Ryan was called by his friend to skip work one day.'] ==> [' \"I walked up and there was a white man. I said, \\'Do you have any idea']\n"
          ]
        }
      ],
      "source": [
        "set_seed()\n",
        "generations = decode(dev_prompts, max_len=20, method=\"topp\", p=0.7)\n",
        "print_generations(dev_prompts, generations)"
      ]
    },
    {
      "cell_type": "markdown",
      "metadata": {
        "id": "kSlonEf1NX-A"
      },
      "source": [
        "### 1.5: Evaluate!\n",
        "\n",
        "Run the following cell to obtain the evaluation results.\n",
        "Also don't forget to answer the questions."
      ]
    },
    {
      "cell_type": "code",
      "execution_count": null,
      "metadata": {
        "id": "EizmFimKNX-A"
      },
      "outputs": [],
      "source": [
        "prompts = [item[\"prompt\"] for item in test_data][:10]\n",
        "GENERATIONS_PER_PROMPT = 10\n",
        "MAX_LEN = 100\n",
        "\n",
        "for experiment in [\"greedy\", \"sample\", \"temperature\", \"topk\", \"topp\"]:\n",
        "    generations = []\n",
        "    for prompt in tqdm(prompts):\n",
        "        generations += decode(\n",
        "            [prompt] * GENERATIONS_PER_PROMPT, max_len=MAX_LEN, method=experiment\n",
        "        )\n",
        "    evaluate(generations, experiment)"
      ]
    },
    {
      "cell_type": "markdown",
      "metadata": {
        "id": "QWvfTqmLNX-A"
      },
      "source": [
        "You should see the following values:\n",
        "\n",
        "- For greedy:\n",
        "perplexity = 2.08\n",
        "fluency = 0.78\n",
        "diversity = 0.01, 0.02, 0.03\n",
        "\n",
        "- For sample:\n",
        "perplexity = 61.54\n",
        "fluency = 0.37\n",
        "diversity = 0.42, 0.89, 0.99\n",
        "\n",
        "- For temperature:\n",
        "perplexity = 16.15\n",
        "fluency = 0.66\n",
        "diversity = 0.31, 0.77, 0.96\n",
        "\n",
        "- For topk:\n",
        "perplexity = 12.34\n",
        "fluency = 0.70\n",
        "diversity = 0.26, 0.74, 0.96\n",
        "\n",
        "- For topp:\n",
        "perplexity = 12.03\n",
        "fluency = 0.72\n",
        "diversity = 0.29, 0.76, 0.95\n",
        "\n",
        "**Update**: There is a lot of variance expected in the perplexity values here. It is fine if the values you get do not match the expected ones here. As long as your fluency and diversity metrics are within the bounds (+/- 0.2), you should be good!"
      ]
    },
    {
      "cell_type": "markdown",
      "metadata": {
        "id": "UN3QMTWqNX-A"
      },
      "source": [
        "### *Do I always need to use all this code to generate text from a language model?*\n",
        "\n",
        "The exercises above were to help you understand the underlying mechanisms of different decoding methods. In practice, you don't need to implement all these decoding methods from scratch. You can use the `generate()` method in the 🤗 Transformers library to generate text from a language model. Below we provide an example of how to use the `generate()` method to generate text from a language model. Please pay close attention to this especially if you are going to be attempting the optional section (mandatory for masters students) on Knowledge Distillation."
      ]
    },
    {
      "cell_type": "code",
      "execution_count": 20,
      "metadata": {
        "id": "kOcXWSceNX-A",
        "colab": {
          "base_uri": "https://localhost:8080/"
        },
        "outputId": "d39009c6-24d6-42dd-be2f-9402aab32225"
      },
      "outputs": [
        {
          "output_type": "stream",
          "name": "stderr",
          "text": [
            "Setting `pad_token_id` to `eos_token_id`:None for open-end generation.\n"
          ]
        },
        {
          "output_type": "stream",
          "name": "stdout",
          "text": [
            "Tokenizer output:\n",
            "{'input_ids': tensor([[7454, 2402,  257,  640]], device='cuda:0'), 'attention_mask': tensor([[1, 1, 1, 1]], device='cuda:0')}\n",
            "*******************\n",
            "Model Generate output:\n",
            "tensor([[ 7454,  2402,   257,   640,    11,   618,   339,  1807,   339,   561,\n",
            "           307,  1498,   284,  1064,   257,  2415,   508,   561,  2453,   683,\n",
            "            11,   339,   550,  1282,   284,   281,  4547,   351,   257,  5891,\n",
            "         49130,   508,   373,  2407,   880,  1900,    13,  1649,   339,  5284,\n",
            "           379,   465,  7404,    11,   262,  1468,   582,  1625,   422,   262,\n",
            "          5093,    11,   290,   618,   339,  2900,   465,  2951,   736,   284,\n",
            "           262,  5366,   904,   339,  2497,   262,  7777,   351,   511,  9168,\n",
            "           510,   284,   262,  9753,    13,   198,   198,   464,  1468,   582,\n",
            "          1965,   683,   611,   339,   714,  1282,  1863,   351,   683,   290,\n",
            "          1265,   546,   262,  2300,    13,   383,  1468,   582,   531,    11,\n",
            "           366,  1639,   423,  1541]], device='cuda:0')\n",
            "*******************\n",
            "Text output:\n",
            "Once upon a time, when he thought he would be able to find a woman who would accept him, he had come to an understanding with a fellow traveller who was quite well known. When he arrived at his village, the old man came from the north, and when he turned his eyes back to the southward he saw the houses with their windows up to the roof.\n",
            "\n",
            "The old man asked him if he could come along with him and ask about the matter. The old man said, \"You have already\n",
            "*******************\n",
            "Text output (ignoring model inputs):\n",
            ", when he thought he would be able to find a woman who would accept him, he had come to an understanding with a fellow traveller who was quite well known. When he arrived at his village, the old man came from the north, and when he turned his eyes back to the southward he saw the houses with their windows up to the roof.\n",
            "\n",
            "The old man asked him if he could come along with him and ask about the matter. The old man said, \"You have already\n",
            "*******************\n"
          ]
        }
      ],
      "source": [
        "from transformers import AutoModelForCausalLM, AutoTokenizer\n",
        "\n",
        "# Step 0: Load a pre-trained language model, and it's the corresponding tokenizer from the Hugging Face model hub\n",
        "model = AutoModelForCausalLM.from_pretrained(\"gpt2\")\n",
        "tokenizer = AutoTokenizer.from_pretrained(\"gpt2\", padding_side=\"left\") # Setting padding_side=left is important when using these models for open ended text generation\n",
        "\n",
        "# Move the model to the device\n",
        "model = model.to(device)\n",
        "\n",
        "example_prompt = \"Once upon a time\"\n",
        "\n",
        "# Step 1: Tokenize the input prompt\n",
        "tokenized_input = tokenizer(example_prompt, return_tensors=\"pt\").to(device)\n",
        "print(\"Tokenizer output:\")\n",
        "print(tokenized_input)\n",
        "print(\"*******************\")\n",
        "\n",
        "# Step 2: Generate text from the model\n",
        "output = model.generate(**tokenized_input, max_new_tokens=100, do_sample=True, top_p=0.9, temperature=1.0,)\n",
        "print(\"Model Generate output:\")\n",
        "print(output)\n",
        "print(\"*******************\")\n",
        "\n",
        "# Step 3: Convert the output ids to text\n",
        "output_text = tokenizer.decode(output[0], skip_special_tokens=True)\n",
        "print(\"Text output:\")\n",
        "print(output_text)\n",
        "print(\"*******************\")\n",
        "# Step 3 (Optional): .generate() returns the model inputs as well. We can ignore that by slicing the output\n",
        "output_text = tokenizer.decode(output[0][len(tokenized_input.input_ids[0]):], skip_special_tokens=True)\n",
        "print(\"Text output (ignoring model inputs):\")\n",
        "print(output_text)\n",
        "print(\"*******************\")"
      ]
    },
    {
      "cell_type": "markdown",
      "metadata": {
        "id": "42_bb9mfNX-A"
      },
      "source": [
        "Let's go over each of these one by one:\n",
        "\n",
        "- **Step 1:** The `tokenizer()` function takes the input prompt and converts it into a format that the model can understand. This is essentially converting the input prompt into a sequence of tokens. Note that the tokenizer returns a dictionary with the tokenized input ids and attention mask. The `input_ids` are the token ids that the model will use as input. `\"attention_mask`\" is a mask vector that indicates if a particular token corresponds to padding. Padding is extremely important when we are dealing with variable length sequences. Through padding, we can ensure that all the sequences in a batch are of the same size. When feeding sequences with padding to a transformer based model, we need to make sure that the model doesn't attend to the padding tokens. The `attention_mask` is used the tokens that are to be ignored in the attention operation. Note that here since we only used a single input sequence, there was no need of padding and that's why all the attention mask values are 1, i.e. none of the tokens in the sequences should be ignored by attention blocks.\n",
        "\n",
        "- **Step 2:** The `generate()` function takes the tokenized input and generates a sequence of tokens as output. The function takes in a number of arguments, the most important of which are `max_new_tokens` and `do_sample`. The `max_new_tokens` argument specifies the maximum number of new tokens to be generated. The `do_sample` argument is used to turn on sampling, if false, greedy decoding is used. If `do_sample` is set to `True`, then the `top_p` and `temperature` arguments are used to control the sampling process. The `top_p` argument is the value of $p$ parameter for top-p or nucleus sampling and the `temperature` argument is used to control the temperature sampling. Notice that the `generate()` function returns as output a sequence of token ids.\n",
        "\n",
        "- **Step 3:** The `tokenizer.decode` method converts the token ids into text. The `skip_special_tokens=True` argument is used to ignore the special tokens (e.g. start of sequence, end of sequence, padding etc.) that are added by the tokenizer.\n",
        "\n",
        "- **Step 3 (Optional):** The `generate()` function returns the model inputs as well. We can ignore that by slicing the output."
      ]
    },
    {
      "cell_type": "markdown",
      "metadata": {
        "id": "DcH-6MglNX-A"
      },
      "source": [
        "## [Optional for CSE 447]  **Section 2: Knowledge Distillation**\n",
        "\n",
        "In this part of the homework, we will learn how we can use knowledge distillation from a larger teacher model to a smaller student model. Particularly, we will be focusing on the task of text summarization and using the CNN/Daily Mail dataset. We will use Qwen2.5-1.5B-Instruct as our teacher model, which is a 1.5B parameter decoder-only mode pre-trained on 18T tokens of data and then further fine-tuned to follow instructions to perform different tasks (similar to something like ChatGPT). You can read more about Qwen2.5 models [here](https://qwenlm.github.io/blog/qwen2.5/). For the student model, we will be using the default GPT-2 model, which is a 124M parameter model.\n",
        "\n",
        "Since Qwen2.5-1.5B-Instruct is a much bigger model and trained on a lot of data, it is more capable of generating better summaries as compared to the default GPT-2 model which is a smaller model and has seen less data. Knowledge distillation is a technique to transfer the knowledge of a larger teacher model to a smaller student model. In this way, we can leverage the large amount of data and compute resources used to train the teacher model to improve the performance of the student model.\n",
        "\n",
        "This assignment will also make heavy use of the [🤗 Transformers Library](https://huggingface.co/docs/transformers/index). Don't worry if you are not familiar with the library, we will discuss its usage in detail."
      ]
    },
    {
      "cell_type": "code",
      "execution_count": null,
      "metadata": {
        "id": "tyAd5ltjNX-A"
      },
      "outputs": [],
      "source": [
        "%%bash\n",
        "pip install rouge-score\n",
        "pip install evaluate"
      ]
    },
    {
      "cell_type": "code",
      "execution_count": 22,
      "metadata": {
        "id": "lpi9RQDZNX-A"
      },
      "outputs": [],
      "source": [
        "# Load packages for this section\n",
        "import os\n",
        "from pprint import pprint\n",
        "from datasets import load_from_disk, Dataset, DatasetDict\n",
        "from transformers import AutoTokenizer, AutoModelForCausalLM\n",
        "from tqdm import tqdm\n"
      ]
    },
    {
      "cell_type": "markdown",
      "metadata": {
        "id": "y7r4SoYCNX-B"
      },
      "source": [
        "As always, we will start by loading the dataset."
      ]
    },
    {
      "cell_type": "code",
      "execution_count": null,
      "metadata": {
        "id": "KRVo35WQNX-B"
      },
      "outputs": [],
      "source": [
        "%%bash\n",
        "# Download the dataset\n",
        "mkdir -p data\n",
        "wget https://homes.cs.washington.edu/~kahuja/cse447/project3/data/cnn_dm_cse447_dataset.hf.zip -O data/cnn_dm_cse447_dataset.hf.zip\n",
        "unzip -o data/cnn_dm_cse447_dataset.hf.zip -d data/\n",
        "wget https://homes.cs.washington.edu/~kahuja/cse447/project3/data/kd_dataset.hf.zip -O data/kd_dataset.hf.zip\n",
        "unzip -o data/kd_dataset.hf.zip -d data/"
      ]
    },
    {
      "cell_type": "code",
      "execution_count": 24,
      "metadata": {
        "id": "YW_3LjBKNX-F",
        "colab": {
          "base_uri": "https://localhost:8080/"
        },
        "outputId": "f96b5003-01d6-4ea1-e4d9-007e9620fea9"
      },
      "outputs": [
        {
          "output_type": "execute_result",
          "data": {
            "text/plain": [
              "DatasetDict({\n",
              "    train: Dataset({\n",
              "        features: ['article', 'summary'],\n",
              "        num_rows: 10000\n",
              "    })\n",
              "    val: Dataset({\n",
              "        features: ['article', 'summary'],\n",
              "        num_rows: 1000\n",
              "    })\n",
              "    test: Dataset({\n",
              "        features: ['article', 'summary'],\n",
              "        num_rows: 1000\n",
              "    })\n",
              "})"
            ]
          },
          "metadata": {},
          "execution_count": 24
        }
      ],
      "source": [
        "######################################################\n",
        "#  The following code is given to you. DO NOT MODIFY.\n",
        "######################################################\n",
        "parent_dir = os.path.dirname(os.path.abspath(\"__file__\"))\n",
        "data_dir = os.path.join(parent_dir, \"data\")\n",
        "cnn_dm_cse447_dataset = load_from_disk(os.path.join(data_dir, \"cnn_dm_cse447_dataset.hf\"))\n",
        "cnn_dm_cse447_dataset"
      ]
    },
    {
      "cell_type": "code",
      "execution_count": null,
      "metadata": {
        "id": "6OOfNJkhNX-F"
      },
      "outputs": [],
      "source": [
        "# Preview the dataset\n",
        "print(\"Full article:\")\n",
        "pprint(cnn_dm_cse447_dataset[\"val\"][0][\"article\"])\n",
        "print(\"\\n\\n\")\n",
        "print(\"Gold summary:\")\n",
        "pprint(cnn_dm_cse447_dataset[\"val\"][0][\"summary\"])"
      ]
    },
    {
      "cell_type": "markdown",
      "metadata": {
        "id": "VgXP92A6NX-F"
      },
      "source": [
        "### 2.1: Student Model\n",
        "\n",
        "In this exercise we will try to understand how well the student model i.e. GPT-2 does on the summarizaion task out of box. In later exercises we will try to improve the performance of the student model using knowledge distillation."
      ]
    },
    {
      "cell_type": "markdown",
      "metadata": {
        "id": "93vxT9paNX-F"
      },
      "source": [
        "We start by loading the student model and tokenizer."
      ]
    },
    {
      "cell_type": "code",
      "execution_count": null,
      "metadata": {
        "id": "vyuhbgG1NX-F"
      },
      "outputs": [],
      "source": [
        "######################################################\n",
        "#  The following code is given to you. DO NOT MODIFY.\n",
        "######################################################\n",
        "from transformers import AutoModelForCausalLM, AutoTokenizer\n",
        "\n",
        "student_model = AutoModelForCausalLM.from_pretrained(\"gpt2\")\n",
        "student_tokenizer = AutoTokenizer.from_pretrained(\"gpt2\", padding_side=\"left\")\n",
        "\n",
        "student_model = student_model.to(device)\n",
        "student_tokenizer.pad_token_id = student_tokenizer.eos_token_id\n",
        "student_model"
      ]
    },
    {
      "cell_type": "markdown",
      "metadata": {
        "id": "nmpHS4-rNX-F"
      },
      "source": [
        "Notice GPT-2 is a decoder-only model and has 12 layers. This is the smallest model in the GPT-2 family i.e. with only 124M parameters."
      ]
    },
    {
      "cell_type": "markdown",
      "metadata": {
        "id": "3_-2Y4zRNX-G"
      },
      "source": [
        "### 2.1.1 Preparing Data for Student Model\n",
        "\n",
        "Our student model is a language model and inherently a language model's job is to predict continuations of a sequence by predicting one token at a time. To perform specific tasks like summarization using language models, we need to prepare the data in such a format such that the possible continuation of the sequence is the output we want i.e. in this case the summary of the article.\n",
        "\n",
        "The GPT-2 paper found adding the TL;DR to the end of the article helps the model in generating better summaries. Implement the `prepare_articles` function that adds the string `\"\\nTL;DR:\"` to the end of each input articles and then tokenizes the articles.\n",
        "\n",
        "Useful tips:\n",
        "- While tokenizing the articles, by calling `tokenizer()` make sure to set `padding=\"max_length\"`, `truncation=True`, and `max_length=max_len`  so that the articles are padded to the same length and truncated if they are longer than the maximum length. Also, make sure to set `return_tensors=\"pt\"` so that the output is a PyTorch tensor."
      ]
    },
    {
      "cell_type": "code",
      "execution_count": 27,
      "metadata": {
        "deletable": false,
        "nbgrader": {
          "cell_type": "code",
          "checksum": "2b5a322ee8328a5a2d0bc97cf93cd0dd",
          "grade": false,
          "grade_id": "cell-0f3b37e5baff721d",
          "locked": false,
          "schema_version": 3,
          "solution": true,
          "task": false
        },
        "id": "SnoeRG60NX-G"
      },
      "outputs": [],
      "source": [
        "def prepare_articles_for_student_model(articles, student_tokenizer, max_len=1024):\n",
        "\n",
        "    \"\"\"\n",
        "    Processes and tokenizes articles into a format that can be used for summarization by the student model\n",
        "    and then tokenizes the articles using the student tokenizer.\n",
        "\n",
        "    Inputs:\n",
        "    - articles: A list of articles to be summarized.\n",
        "    - student_tokenizer: The tokenizer to use for tokenizing the articles.\n",
        "    - max_len: The maximum length of the articles.\n",
        "\n",
        "    Returns:\n",
        "    - tokenized_articles: A dictionary containing the input ids and attention mask of the tokenized articles.\n",
        "    \"\"\"\n",
        "    tokenized_articles = None\n",
        "\n",
        "    # YOUR CODE HERE\n",
        "    # take the articles and tokenize\n",
        "    articles = [article + \"\\nTL;DR:\" for article in articles]\n",
        "    tokenized_articles = student_tokenizer(\n",
        "        articles,\n",
        "        padding=\"max_length\",\n",
        "        truncation=True,\n",
        "        max_length=max_len,\n",
        "        return_tensors=\"pt\")\n",
        "    return tokenized_articles"
      ]
    },
    {
      "cell_type": "code",
      "execution_count": 28,
      "metadata": {
        "id": "iMLkUEipNX-G",
        "colab": {
          "base_uri": "https://localhost:8080/"
        },
        "outputId": "3434c8e5-66fb-46d5-8bca-1a8ae08d0d5d"
      },
      "outputs": [
        {
          "output_type": "stream",
          "name": "stdout",
          "text": [
            "All tests passed!\n"
          ]
        }
      ],
      "source": [
        "######################################################\n",
        "#  The following code is given to you. DO NOT MODIFY.\n",
        "######################################################\n",
        "\n",
        "\n",
        "def test_prepare_articles_for_student_model():\n",
        "    # Setup\n",
        "    student_tokenizer = AutoTokenizer.from_pretrained(\"gpt2\", padding_side=\"left\")\n",
        "    student_tokenizer.pad_token_id = student_tokenizer.eos_token_id\n",
        "\n",
        "    # Test 1: Basic functionality\n",
        "    articles = [\"This is a test article.\"]\n",
        "    output = prepare_articles_for_student_model(articles, student_tokenizer)\n",
        "    assert \"input_ids\" in output, \"Output should contain input_ids\"\n",
        "    assert \"attention_mask\" in output, \"Output should contain attention_mask\"\n",
        "    assert torch.is_tensor(output[\"input_ids\"]), \"input_ids should be a tensor\"\n",
        "    assert torch.is_tensor(\n",
        "        output[\"attention_mask\"]\n",
        "    ), \"attention_mask should be a tensor\"\n",
        "\n",
        "    # Test 2: Multiple articles\n",
        "    articles = [\"First article.\", \"Second article.\", \"Third article.\"]\n",
        "    output = prepare_articles_for_student_model(articles, student_tokenizer)\n",
        "    assert (\n",
        "        output[\"input_ids\"].shape[0] == 3\n",
        "    ), \"Batch size should match number of articles\"\n",
        "    assert (\n",
        "        output[\"attention_mask\"].shape[0] == 3\n",
        "    ), \"Batch size should match number of articles\"\n",
        "\n",
        "    # Test 3: TL;DR addition\n",
        "    articles = [\"Test article.\"]\n",
        "    output = prepare_articles_for_student_model(articles, student_tokenizer)\n",
        "    decoded = student_tokenizer.decode(output[\"input_ids\"][0], skip_special_tokens=True)\n",
        "    assert \"TL;DR:\" in decoded, \"TL;DR: should be added to the article\"\n",
        "    assert decoded == \"Test article.\\nTL;DR:\", \"Article format should be correct\"\n",
        "\n",
        "    # Test 4: Padding and truncation\n",
        "    long_article = \"This is a very \" * 1000  # Create a very long article\n",
        "    short_article = \"Short.\"\n",
        "    articles = [long_article, short_article]\n",
        "    output = prepare_articles_for_student_model(articles, student_tokenizer)\n",
        "    assert (\n",
        "        output[\"input_ids\"].shape[1] == 1024\n",
        "    ), \"Should be padded/truncated to max length\"\n",
        "    assert (output[\"attention_mask\"][1] == 0).any(), \"Short article should have padding\"\n",
        "\n",
        "    print(\"All tests passed!\")\n",
        "\n",
        "test_prepare_articles_for_student_model()\n",
        "######################################################"
      ]
    },
    {
      "cell_type": "markdown",
      "metadata": {
        "id": "HoBhEGfmNX-G"
      },
      "source": [
        "### 2.1.2 Summarizing with Student Model\n",
        "\n",
        "Use the `generate()` method to generate summaries from the student model. Refer to the end of the Section 1 of the notebook for an example of how to use the `generate()` method. You can also learn more about the `generate()` method [here](https://huggingface.co/docs/transformers/en/main_classes/text_generation#transformers.GenerationMixin.generate).\n",
        "\n",
        "Helpful tips:\n",
        "- Instead of generating summaries one by one, we recommend generating summaries in batches to speed up the process."
      ]
    },
    {
      "cell_type": "code",
      "execution_count": 29,
      "metadata": {
        "deletable": false,
        "nbgrader": {
          "cell_type": "code",
          "checksum": "6f8ae69bf3416a6f4160e68259fbaafc",
          "grade": false,
          "grade_id": "cell-d987ea61d6ff75c8",
          "locked": false,
          "schema_version": 3,
          "solution": true,
          "task": false
        },
        "id": "N5tTbCJXNX-G"
      },
      "outputs": [],
      "source": [
        "def summarize_wth_student_model(\n",
        "    articles,\n",
        "    student_model,\n",
        "    student_tokenizer,\n",
        "    batch_size=8,\n",
        "    max_new_tokens=100,\n",
        "    do_sample=True,\n",
        "    p=0.9,\n",
        "    temperature=1.0,\n",
        "    device=\"cuda\",\n",
        "):\n",
        "\n",
        "    \"\"\"\n",
        "    Generates a list of summaries for a list of articles using the student model.\n",
        "\n",
        "    Inputs:\n",
        "    - articles: A list of articles to be summarized.\n",
        "    - student_model: The student model to use for summarization.\n",
        "    - student_tokenizer: The tokenizer corresponding to the student model.\n",
        "    - batch_size: The batch size to use for summarization.\n",
        "    - max_new_tokens: The maximum number of new tokens to generate.\n",
        "    - do_sample: Whether to use sampling or greedy decoding.\n",
        "    - p: The p parameter for top-p sampling.\n",
        "    - temperature: The temperature for sampling.\n",
        "\n",
        "    Returns:\n",
        "    - summaries: A list of summaries for the articles.\n",
        "    \"\"\"\n",
        "\n",
        "    student_model.eval()\n",
        "    summaries = []\n",
        "    with torch.no_grad():\n",
        "        for i in tqdm(range(0, len(articles), batch_size)):\n",
        "            # ToDo: Tokenize the batch of articles\n",
        "            tokenized_articles = None\n",
        "            # YOUR CODE HERE\n",
        "            tokenized_articles = prepare_articles_for_student_model(articles[i : i + batch_size], student_tokenizer)\n",
        "\n",
        "            # Move the data to the device\n",
        "            tokenized_articles = {\n",
        "                key: value.to(device) for key, value in tokenized_articles.items()\n",
        "            }\n",
        "\n",
        "            # ToDo: Generate summaries from the model using the .generate method\n",
        "            generated_summaries = None\n",
        "            # YOUR CODE HERE\n",
        "            generated_summaries = student_model.generate(\n",
        "              **tokenized_articles,\n",
        "              max_new_tokens=max_new_tokens,\n",
        "              do_sample=do_sample,\n",
        "              top_p=p,\n",
        "              temperature=temperature,\n",
        "              output_hidden_states=True,  # Add this line\n",
        "              return_dict_in_generate=True,  # Add this line\n",
        "            )\n",
        "\n",
        "            # ToDo: Convert the generated summaries to text. Hint: Use the `batch_decode` method of the tokenizer.\n",
        "            # Make sure to only decode the generated tokens, i.e., ignore the input tokens.\n",
        "            # Also, make sure to set `skip_special_tokens=True` to ignore the special tokens.\n",
        "            decoded_summaries = None\n",
        "            # YOUR CODE HERE\n",
        "            # only decode generated tokens\n",
        "            decoded_summaries = student_tokenizer.batch_decode(generated_summaries.sequences[:, tokenized_articles['input_ids'].shape[1]:], skip_special_tokens=True)\n",
        "\n",
        "            # Add the decoded summaries to the list\n",
        "            summaries.extend(decoded_summaries)\n",
        "\n",
        "    return summaries"
      ]
    },
    {
      "cell_type": "code",
      "execution_count": null,
      "metadata": {
        "id": "bOnuPZlxNX-H"
      },
      "outputs": [],
      "source": [
        "def test_summarize_wth_student_model():\n",
        "    # Test 1: Basic functionality\n",
        "    articles = [\"This is a test article about AI.\"]\n",
        "    summaries = summarize_wth_student_model(\n",
        "        articles, student_model, student_tokenizer, device=device\n",
        "    )\n",
        "    assert isinstance(summaries, list), \"Output should be a list\"\n",
        "    assert len(summaries) == len(articles), \"Should generate one summary per article\"\n",
        "    assert isinstance(summaries[0], str), \"Each summary should be a string\"\n",
        "    assert len(summaries[0]) > 0, \"Summaries should not be empty\"\n",
        "\n",
        "    # Test 2: Batch processing\n",
        "    articles = [\n",
        "        \"First article.\",\n",
        "        \"Second article.\",\n",
        "        \"Third article.\",\n",
        "    ] * 4  # 12 articles\n",
        "    batch_size = 4\n",
        "    summaries = summarize_wth_student_model(\n",
        "        articles, student_model, student_tokenizer, batch_size=batch_size, device=device\n",
        "    )\n",
        "    assert len(summaries) == len(articles), \"Should generate summary for each article\"\n",
        "\n",
        "    # Test 3: Generation parameters\n",
        "    articles = [\n",
        "        \"Test article for parameter checking.\",\n",
        "        \"Test article for parameter checking.\",\n",
        "    ]\n",
        "    # Test with different generation parameters\n",
        "    summaries_greedy = summarize_wth_student_model(\n",
        "        articles, student_model, student_tokenizer, do_sample=False, device=device\n",
        "    )\n",
        "    summaries_sampling = summarize_wth_student_model(\n",
        "        articles,\n",
        "        student_model,\n",
        "        student_tokenizer,\n",
        "        do_sample=True,\n",
        "        p=0.9,\n",
        "        temperature=0.7,\n",
        "        device=device,\n",
        "    )\n",
        "\n",
        "    assert summaries_greedy[0] == summaries_greedy[1], \"Greedy decoding should give the same result\"\n",
        "    assert (\n",
        "        summaries_sampling[0] != summaries_sampling[1]\n",
        "    ), \"Sampling should give different results\"\n",
        "\n",
        "    # Test 4: Check only generated tokens are in summary\n",
        "    article = \"This is a test article about artificial intelligence. It contains specific phrases that should not appear in the summary unless generated.\"\n",
        "    summaries = summarize_wth_student_model(\n",
        "        [article], student_model, student_tokenizer, device=device\n",
        "    )\n",
        "    # Verify the input article text isn't in the summary\n",
        "    assert article not in summaries[0], \"Summary should not contain the input article\"\n",
        "\n",
        "    # Test 5: Check for special tokens in output\n",
        "    articles = [\"Test article for special token checking.\"]\n",
        "    summaries = summarize_wth_student_model(\n",
        "        articles, student_model, student_tokenizer, device=device\n",
        "    )\n",
        "\n",
        "    # Check if any special tokens exist in the summary\n",
        "    for special_token in student_tokenizer.all_special_tokens:\n",
        "        assert (\n",
        "            special_token not in summaries[0]\n",
        "        ), f\"Summary contains special token: {special_token}\"\n",
        "    print(\"All tests passed!\")\n",
        "\n",
        "test_summarize_wth_student_model()"
      ]
    },
    {
      "cell_type": "markdown",
      "metadata": {
        "id": "v6pSOVIlNX-H"
      },
      "source": [
        "Let's generate summaries for the validation set using the student model."
      ]
    },
    {
      "cell_type": "code",
      "execution_count": null,
      "metadata": {
        "id": "1shF7ExBNX-H"
      },
      "outputs": [],
      "source": [
        "set_seed()\n",
        "pred_summaries = summarize_wth_student_model(\n",
        "    cnn_dm_cse447_dataset[\"val\"][\"article\"],\n",
        "    student_model,\n",
        "    student_tokenizer,\n",
        "    p=0.9,\n",
        "    temperature=1.0,\n",
        "    device=\"cuda\"\n",
        ")"
      ]
    },
    {
      "cell_type": "code",
      "execution_count": null,
      "metadata": {
        "id": "2RL-q4BaNX-H"
      },
      "outputs": [],
      "source": [
        "# Inspect the summaries\n",
        "print(\"Article:\")\n",
        "pprint(cnn_dm_cse447_dataset[\"val\"][0][\"article\"])\n",
        "print(\"***********************\\n\\n\")\n",
        "print(\"Generated summary:\")\n",
        "pprint(pred_summaries[0])\n",
        "print(\"***********************\\n\\n\")\n",
        "print(\"Gold summary:\")\n",
        "pprint(cnn_dm_cse447_dataset[\"val\"][0][\"summary\"])\n"
      ]
    },
    {
      "cell_type": "markdown",
      "metadata": {
        "id": "WIZO7Zu9NX-H"
      },
      "source": [
        "As you can see, the generated summary is not very good, with a lot of completely irrelevant text. Let's try to quantify this by evaluating the summaries using the ROUGE score."
      ]
    },
    {
      "cell_type": "markdown",
      "metadata": {
        "id": "jtDBvNMMNX-H"
      },
      "source": [
        "### Evaluating Student Model\n",
        "\n",
        "We will use the ROUGE score to evaluate the summaries generated by the student model. ROUGE measures how similar a generated summary is to a reference (human-written) summary by comparing overlapping words and phrases. Think of it like a sophisticated \"spot the differences\" between texts.\n",
        "\n",
        "Example:\n",
        "- **Reference**: \"The cat sat on the mat\"\n",
        "- **Generated**: \"The cat lay on the mat\"\n",
        "\n",
        "ROUGE has three main variants:\n",
        "1. **ROUGE-1**: Matches single words (In example: 5/6 words match)\n",
        "2. **ROUGE-2**: Matches word pairs (In example: \"the cat\", \"on the\", \"the mat\" match)\n",
        "3. **ROUGE-L**: Finds longest matching sequences in order\n",
        "\n",
        "Scores range from 0 to 1, with higher being better. While widely used in summarization evaluation, ROUGE isn't perfect - it focuses on matching words rather than meaning.\n",
        "\n",
        "Reference: Lin, C. Y. (2004). ROUGE: A package for automatic evaluation of summaries."
      ]
    },
    {
      "cell_type": "code",
      "execution_count": 33,
      "metadata": {
        "id": "2A637KLDNX-H",
        "colab": {
          "base_uri": "https://localhost:8080/",
          "height": 118,
          "referenced_widgets": [
            "bebb2996320647b0b15776ac1bce390a",
            "618a8cc9039d40469055a6e0a85fba10",
            "297cb7de0fad4d96a8256625a1be8cfb",
            "187bde5329734b2e96eb70bd7f8ed8ba",
            "3e381b57ac254b95a6795c2de5d272e3",
            "b9668288ff5348a795ea21cb24fb2769",
            "acbfa894310c42389f4de134f0048b10",
            "f0c51b796c534556a48c29f746d0eef6",
            "1e620e45dd5b499b90910a150d00a9a0",
            "8b706e765a5643ffb65be066f4bc33b8",
            "f7f4371ad13d47d59e1fddcdb53c6816"
          ]
        },
        "outputId": "e71fcea2-625e-4f31-89ea-39161b339515"
      },
      "outputs": [
        {
          "output_type": "display_data",
          "data": {
            "text/plain": [
              "Downloading builder script:   0%|          | 0.00/6.27k [00:00<?, ?B/s]"
            ],
            "application/vnd.jupyter.widget-view+json": {
              "version_major": 2,
              "version_minor": 0,
              "model_id": "bebb2996320647b0b15776ac1bce390a"
            }
          },
          "metadata": {}
        },
        {
          "output_type": "execute_result",
          "data": {
            "text/plain": [
              "{'rouge1': 0.19291136987913915,\n",
              " 'rouge2': 0.03320872903866526,\n",
              " 'rougeL': 0.12530050177988167,\n",
              " 'rougeLsum': 0.1645989010306262}"
            ]
          },
          "metadata": {},
          "execution_count": 33
        }
      ],
      "source": [
        "# Evaluate the summaries\n",
        "import evaluate\n",
        "rouge = evaluate.load(\"rouge\")\n",
        "scores = rouge.compute(predictions=pred_summaries, references=cnn_dm_cse447_dataset[\"val\"][\"summary\"], use_stemmer=True)\n",
        "scores"
      ]
    },
    {
      "cell_type": "markdown",
      "metadata": {
        "id": "tq0QHHD6NX-H"
      },
      "source": [
        "You should see the following scores:\n",
        "- rouge1: 0.19\n",
        "- rouge2: 0.03\n",
        "- rougeL: 0.12\n",
        "- rougeLsum: 0.16\n",
        "\n",
        "Differences of +/- 0.02 in ROUGE scores are acceptable.\n"
      ]
    },
    {
      "cell_type": "markdown",
      "metadata": {
        "id": "vhdM9rmtNX-H"
      },
      "source": [
        "The model performs relatively poorly on the dataset, especially considering the ROUGE-2 and ROUGE-L scores, which are very low. Let's see if we can improve this by using a teacher model."
      ]
    },
    {
      "cell_type": "markdown",
      "metadata": {
        "id": "gxGRVI2wNX-H"
      },
      "source": [
        "### 2.2 Generate Data from a Teacher Model\n",
        "\n",
        "We will now start with step 1 of knowledge distillation i.e. generating data from a teacher model. As we mentioned earlier, we will use the Qwen2.5-1.5B-Instruct model as our teacher model. Note that Qwen2.5-1.5B-Instruct is an instruction tuned model, which is different from a base language model like GPT-2. Instruction tuned models are obtained from base language models by fine-tuning them on a diverse set of instructions and their desired outputs. This enables the model to become better at following instructions and is the magic recipe for the success of recent large language models."
      ]
    },
    {
      "cell_type": "code",
      "execution_count": null,
      "metadata": {
        "id": "4CiSdDdGNX-H"
      },
      "outputs": [],
      "source": [
        "# Load a teacher model.\n",
        "from transformers import AutoModelForCausalLM, AutoTokenizer\n",
        "teacher_model = AutoModelForCausalLM.from_pretrained(\n",
        "    \"Qwen/Qwen2.5-1.5B-Instruct\"\n",
        ")\n",
        "teacher_tokenizer = AutoTokenizer.from_pretrained(\n",
        "    \"Qwen/Qwen2.5-1.5B-Instruct\", padding_side=\"left\"\n",
        ")\n",
        "teacher_model = teacher_model.to(device)\n",
        "teacher_model"
      ]
    },
    {
      "cell_type": "markdown",
      "metadata": {
        "id": "TPtYBysINX-H"
      },
      "source": [
        "### 2.2.1 Preparing Data for Teacher Model\n",
        "\n",
        "We need to prepare the data for the teacher model in a specific format. Since the teacher model is an instruction-tuned model, it has been adapted to follow instructions. Hence, instead of formatting the text according to a completion problem, we need to format it according to an instruction following the problem. We will do this by adding an instruction to the beginning of each article, i.e., \"Summarize the following article.\" Further, we will also instruct the model to output the summary in a specific format by appending a suffix to the end of each article, i.e., \"Start your summary with 'TL;DR:. '\" In short, the articles should be formatted as follows:\n",
        "\n",
        "`\"Summarize the following article:\\n\\n<article>\\n\\nStart your summary with 'TL;DR:'\"`"
      ]
    },
    {
      "cell_type": "code",
      "execution_count": 35,
      "metadata": {
        "deletable": false,
        "nbgrader": {
          "cell_type": "code",
          "checksum": "7723288824b6f27589989376bbd5a284",
          "grade": false,
          "grade_id": "cell-68a3da94807a2ea3",
          "locked": false,
          "schema_version": 3,
          "solution": true,
          "task": false
        },
        "id": "xPwDQOpTNX-H"
      },
      "outputs": [],
      "source": [
        "def prepare_articles_teacher(articles, teacher_tokenizer, max_len=1024):\n",
        "\n",
        "    \"\"\"\n",
        "    Prepares the articles for the teacher model and performs tokenization.\n",
        "\n",
        "    Inputs\n",
        "    - articles: The articles to prepare and tokenize\n",
        "    - teacher_tokenizer: The tokenizer for the teacher model\n",
        "    - max_len: The max length to use for tokenizing\n",
        "\n",
        "    Returns:\n",
        "    - tokenized_articles: The tokenized articles in the format of a dictionary with keys `input_ids` and `attention_mask`\n",
        "    \"\"\"\n",
        "\n",
        "    # ToDo: Add the instructions as specified above to each article\n",
        "    articles_with_instructions = None\n",
        "    # YOUR CODE HERE\n",
        "    articles_with_instructions = [f\"Summarize the following article:\\n\\n{article}\\n\\nStart your summary with 'TL;DR:'\" for article in articles]\n",
        "\n",
        "    # The instruction-tuned models to be in chat format. Read more here: https://huggingface.co/docs/transformers/main/en/chat_templating\n",
        "    articles_chat = [[\n",
        "        {\"role\": \"system\", \"content\": \"You are a helpful assistant and an expert at summarizing articles.\"},\n",
        "        {\"role\": \"user\", \"content\": article}\n",
        "    ] for article in articles_with_instructions]\n",
        "    # Apply chat template to the articles\n",
        "    articles_chat = teacher_tokenizer.apply_chat_template(articles_chat, tokenize=False, add_generation_prompt=True)\n",
        "\n",
        "    # ToDo: Tokenize the articles. Hint: Set `add_special_tokens=False` since special tokens are already added in the chat template.\n",
        "    tokenized_articles = None\n",
        "    # YOUR CODE HERE\n",
        "    tokenized_articles = teacher_tokenizer(articles_chat, add_special_tokens=False, padding=\"max_length\", truncation=True, max_length=max_len, return_tensors=\"pt\")\n",
        "\n",
        "    return tokenized_articles"
      ]
    },
    {
      "cell_type": "code",
      "execution_count": 36,
      "metadata": {
        "id": "14fiFJfqNX-H",
        "colab": {
          "base_uri": "https://localhost:8080/"
        },
        "outputId": "6a3e0053-c2d1-4956-e2f9-0e152544f69a"
      },
      "outputs": [
        {
          "output_type": "stream",
          "name": "stdout",
          "text": [
            "All tests passed!\n"
          ]
        }
      ],
      "source": [
        "def test_prepare_articles_teacher():\n",
        "\n",
        "    # Test 1: Basic functionality\n",
        "    articles = [\"This is a test article.\"]\n",
        "    output = prepare_articles_teacher(articles, teacher_tokenizer)\n",
        "\n",
        "    assert \"input_ids\" in output, \"Output should contain input_ids\"\n",
        "    assert \"attention_mask\" in output, \"Output should contain attention_mask\"\n",
        "    assert torch.is_tensor(output[\"input_ids\"]), \"input_ids should be a tensor\"\n",
        "    assert torch.is_tensor(\n",
        "        output[\"attention_mask\"]\n",
        "    ), \"attention_mask should be a tensor\"\n",
        "\n",
        "    # Test 2: Instruction addition\n",
        "    decoded = teacher_tokenizer.decode(output[\"input_ids\"][0], skip_special_tokens=True)\n",
        "    assert (\n",
        "        \"Summarize the following article:\" in decoded\n",
        "    ), \"Should contain summarization instruction\"\n",
        "    assert (\n",
        "        \"Start your summary with 'TL;DR:'\" in decoded\n",
        "    ), \"Should contain TL;DR instruction\"\n",
        "\n",
        "    # Test 3: Multiple articles\n",
        "    articles = [\"First article.\", \"Second article.\", \"Third article.\"]\n",
        "    output = prepare_articles_teacher(articles, teacher_tokenizer)\n",
        "    assert (\n",
        "        output[\"input_ids\"].shape[0] == 3\n",
        "    ), \"Batch size should match number of articles\"\n",
        "    assert (\n",
        "        output[\"attention_mask\"].shape[0] == 3\n",
        "    ), \"Batch size should match number of articles\"\n",
        "\n",
        "    # Test 4: Padding and truncation\n",
        "    long_article = \"This is a very \" * 1000  # Create a very long article\n",
        "    short_article = \"Short.\"\n",
        "    articles = [long_article, short_article]\n",
        "    output = prepare_articles_teacher(articles, teacher_tokenizer, max_len=1024)\n",
        "    assert (\n",
        "        output[\"input_ids\"].shape[1] == 1024\n",
        "    ), \"Should be padded/truncated to max length\"\n",
        "    assert (output[\"attention_mask\"][1] == 0).any(), \"Short article should have padding\"\n",
        "\n",
        "    print(\"All tests passed!\")\n",
        "\n",
        "test_prepare_articles_teacher()"
      ]
    },
    {
      "cell_type": "markdown",
      "metadata": {
        "id": "I0zCFIfNNX-I"
      },
      "source": [
        "Let's have a look at the tokenized articles."
      ]
    },
    {
      "cell_type": "code",
      "execution_count": null,
      "metadata": {
        "id": "ILjQgW8iNX-I"
      },
      "outputs": [],
      "source": [
        "tokenized_articles = prepare_articles_teacher(\n",
        "    cnn_dm_cse447_dataset[\"val\"][\"article\"][:2], teacher_tokenizer\n",
        ")\n",
        "decoded_articles = teacher_tokenizer.batch_decode(\n",
        "    tokenized_articles[\"input_ids\"], skip_special_tokens=True\n",
        ")\n",
        "pprint(decoded_articles[0])"
      ]
    },
    {
      "cell_type": "markdown",
      "metadata": {
        "id": "rz18w6c9NX-I"
      },
      "source": [
        "Notice the system, user, and assistant tags in the prompt. The system tag is followed by an instruction to ground the model to be a helpful assistant and be an expert at summarizing articles. The user tag is followed by the article to be summarized and the instruction about the task. We have the assistant tag in the end and the model is expected to generate the summary after the assistant tag."
      ]
    },
    {
      "cell_type": "markdown",
      "metadata": {
        "id": "WoX-31KXNX-I"
      },
      "source": [
        "### 2.2.2. Generate summaries with teacher model\n",
        "\n",
        "Similar to the student model, we will use the `generate()` method to generate summaries from the teacher model. Implement the `summarize_with_teacher_model` function below to do this."
      ]
    },
    {
      "cell_type": "code",
      "execution_count": 38,
      "metadata": {
        "deletable": false,
        "nbgrader": {
          "cell_type": "code",
          "checksum": "82be9a3e43593d77f5fd4b86c847f3c0",
          "grade": false,
          "grade_id": "cell-ca1d4e6c170ef5d9",
          "locked": false,
          "schema_version": 3,
          "solution": true,
          "task": false
        },
        "id": "80yKN_KONX-I"
      },
      "outputs": [],
      "source": [
        "def summarize_with_teacher_model(\n",
        "    articles,\n",
        "    teacher_model,\n",
        "    teacher_tokenizer,\n",
        "    batch_size=8,\n",
        "    max_new_tokens=100,\n",
        "    do_sample=True,\n",
        "    p=0.9,\n",
        "    temperature=1.0,\n",
        "    device=\"cuda\",\n",
        "):\n",
        "\n",
        "    \"\"\"\n",
        "    Generates summaries for a list of articles using the teacher model.\n",
        "    Essentially the same as the function `summarize_wth_student_model`, but we will use the prepare articles function for the teacher model here.\n",
        "    \"\"\"\n",
        "    summaries = []\n",
        "    teacher_model.eval()\n",
        "    with torch.no_grad():\n",
        "        for i in tqdm(range(0, len(articles), batch_size)):\n",
        "            # YOUR CODE HERE\n",
        "            tokenized_articles = prepare_articles_teacher(articles[i : i + batch_size], teacher_tokenizer)\n",
        "            tokenized_articles = {\n",
        "                key: value.to(device) for key, value in tokenized_articles.items()\n",
        "            }\n",
        "            generated_summaries = teacher_model.generate(\n",
        "                **tokenized_articles,\n",
        "                max_new_tokens=max_new_tokens,\n",
        "                do_sample=do_sample,\n",
        "                top_p=p,\n",
        "                temperature=temperature,\n",
        "                output_hidden_states=True,  # Add this line\n",
        "                return_dict_in_generate=True,  # Add this line\n",
        "            )\n",
        "            decoded_summaries = teacher_tokenizer.batch_decode(generated_summaries.sequences[:, tokenized_articles['input_ids'].shape[1]:], skip_special_tokens=True)\n",
        "            # Add the decoded summaries to the list\n",
        "            summaries.extend(decoded_summaries)\n",
        "\n",
        "    return summaries"
      ]
    },
    {
      "cell_type": "markdown",
      "metadata": {
        "id": "0pqFSenhNX-I"
      },
      "source": [
        "Let's first check how well the teacher model performs on the validation set."
      ]
    },
    {
      "cell_type": "code",
      "execution_count": 39,
      "metadata": {
        "id": "pz4qRg6ZNX-I",
        "colab": {
          "base_uri": "https://localhost:8080/"
        },
        "outputId": "bd46ede3-a141-4cb3-b401-432807e06292"
      },
      "outputs": [
        {
          "output_type": "stream",
          "name": "stderr",
          "text": [
            "  0%|          | 0/13 [00:00<?, ?it/s]From v4.47 onwards, when a model cache is to be returned, `generate` will return a `Cache` instance instead by default (as opposed to the legacy tuple of tuples format). If you want to keep returning the legacy format, please set `return_legacy_cache=True`.\n",
            "100%|██████████| 13/13 [03:17<00:00, 15.18s/it]\n"
          ]
        }
      ],
      "source": [
        "\n",
        "set_seed()\n",
        "# Since the teacher model is large, we will only evaluate on a small subset of the validation set.\n",
        "val_summaries_generated = summarize_with_teacher_model(\n",
        "    cnn_dm_cse447_dataset[\"val\"][\"article\"][:100],\n",
        "    teacher_model,\n",
        "    teacher_tokenizer,\n",
        "    batch_size=8,\n",
        "    max_new_tokens=100,\n",
        "    do_sample=True,\n",
        "    p=0.9,\n",
        "    temperature=1.0,\n",
        "    device=\"cuda\"\n",
        ")"
      ]
    },
    {
      "cell_type": "code",
      "execution_count": null,
      "metadata": {
        "id": "twnBLJl8NX-I"
      },
      "outputs": [],
      "source": [
        "# Inspect the summaries\n",
        "print(\"Article:\")\n",
        "pprint(cnn_dm_cse447_dataset[\"val\"][0][\"article\"])\n",
        "print(\"***********************\\n\\n\")\n",
        "print(\"Generated summary:\")\n",
        "pprint(val_summaries_generated[0])\n",
        "print(\"***********************\\n\\n\")\n",
        "print(\"Gold summary:\")\n",
        "pprint(cnn_dm_cse447_dataset[\"val\"][0][\"summary\"])"
      ]
    },
    {
      "cell_type": "markdown",
      "metadata": {
        "id": "rRYcxU_hNX-I"
      },
      "source": [
        "You should see that the generated summary is much better than the one generated by the student model. Let's now evaluate the summaries generated by the teacher model."
      ]
    },
    {
      "cell_type": "code",
      "execution_count": null,
      "metadata": {
        "id": "N_DrFGGQNX-I"
      },
      "outputs": [],
      "source": [
        "set_seed()\n",
        "teacher_rouge = evaluate.load(\"rouge\")\n",
        "scores = teacher_rouge.compute(\n",
        "    predictions=val_summaries_generated,\n",
        "    references=cnn_dm_cse447_dataset[\"val\"][\"summary\"][:100],\n",
        "    use_stemmer=True\n",
        ")\n",
        "scores\n"
      ]
    },
    {
      "cell_type": "markdown",
      "metadata": {
        "id": "YSwFkMnKNX-I"
      },
      "source": [
        "You should see the following scores:\n",
        "- rouge1: 0.261\n",
        "- rouge2: 0.082\n",
        "- rougeL: 0.181\n",
        "- rougeLsum: 0.211\n",
        "\n",
        "Differences of +/- 0.02 in ROUGE scores are acceptable.\n",
        "\n",
        "\n",
        "While these are only on a small subset of the validation set, we also ran the teacher model on the entire validation set and got the following scores:\n",
        "- rouge1: 0.284\n",
        "- rouge2: 0.085\n",
        "- rougeL: 0.188\n",
        "- rougeLsum: 0.229"
      ]
    },
    {
      "cell_type": "markdown",
      "metadata": {
        "id": "2zzB2p8DNX-I"
      },
      "source": [
        "As you can see, the teacher model performs much better than the student model. While the numbers are not super high, note that our teacher model is only 1.5B parameters, which is considered a tiny model in the current LLM landscape. Bigger models with 8B, 30B, 70B, or even higher are expected to perform even better."
      ]
    },
    {
      "cell_type": "markdown",
      "metadata": {
        "id": "Qx1wz1VfNX-I"
      },
      "source": [
        "#### Generating Data for Distillation"
      ]
    },
    {
      "cell_type": "markdown",
      "metadata": {
        "id": "GtsWttDcNX-I"
      },
      "source": [
        "We can now generate data for distillation. We will use the articles from the training dataset and generate summaries for those articles using the teacher model. Note that we do have the original summaries for the training set, but we are not using them for distillation. Our goal is to show you how distillation works and how you can use it for your own use cases where you might not have labelled training data available."
      ]
    },
    {
      "cell_type": "code",
      "execution_count": 42,
      "metadata": {
        "id": "fL5rmRYWNX-I"
      },
      "outputs": [],
      "source": [
        "def generate_synthetic_data_for_distillation(\n",
        "    articles,\n",
        "    teacher_model,\n",
        "    teacher_tokenizer,\n",
        "    num_samples=1000,\n",
        "    batch_size=8,\n",
        "    max_new_tokens=100,\n",
        "    do_sample=True,\n",
        "    p=0.9,\n",
        "    temperature=1.0,\n",
        "    device=\"cuda\",\n",
        "):\n",
        "    articles = articles[:num_samples]\n",
        "    summaries = summarize_with_teacher_model(\n",
        "        articles,\n",
        "        teacher_model,\n",
        "        teacher_tokenizer,\n",
        "        batch_size=batch_size,\n",
        "        max_new_tokens=max_new_tokens,\n",
        "        do_sample=do_sample,\n",
        "        p=p,\n",
        "        temperature=temperature,\n",
        "        device=device,\n",
        "    )\n",
        "\n",
        "    return summaries"
      ]
    },
    {
      "cell_type": "code",
      "execution_count": 43,
      "metadata": {
        "id": "dnBT_de-NX-I",
        "colab": {
          "base_uri": "https://localhost:8080/"
        },
        "outputId": "f48f98c2-4c08-4320-e174-7cd579ca741e"
      },
      "outputs": [
        {
          "output_type": "stream",
          "name": "stderr",
          "text": [
            "100%|██████████| 125/125 [32:20<00:00, 15.52s/it]\n"
          ]
        }
      ],
      "source": [
        "set_seed()\n",
        "train_summaries_generated = generate_synthetic_data_for_distillation(\n",
        "    cnn_dm_cse447_dataset[\"train\"][\"article\"],\n",
        "    teacher_model,\n",
        "    teacher_tokenizer,\n",
        "    num_samples=1000,\n",
        "    batch_size=8,\n",
        "    max_new_tokens=100,\n",
        "    do_sample=True,\n",
        "    p=0.9,\n",
        "    temperature=1.0,\n",
        "    device=\"cuda\",\n",
        ")"
      ]
    },
    {
      "cell_type": "code",
      "execution_count": 44,
      "metadata": {
        "id": "YwZcQLcrNX-I",
        "colab": {
          "base_uri": "https://localhost:8080/"
        },
        "outputId": "2e88f249-d185-4e21-dfe8-53088ec5ca6a"
      },
      "outputs": [
        {
          "output_type": "execute_result",
          "data": {
            "text/plain": [
              "Dataset({\n",
              "    features: ['article', 'summary', 'gold_summary'],\n",
              "    num_rows: 1000\n",
              "})"
            ]
          },
          "metadata": {},
          "execution_count": 44
        }
      ],
      "source": [
        "kd_dataset = {\n",
        "    \"article\": cnn_dm_cse447_dataset[\"train\"][\"article\"][:1000],\n",
        "    \"summary\": train_summaries_generated,\n",
        "    \"gold_summary\": cnn_dm_cse447_dataset[\"train\"][\"summary\"][:1000]\n",
        "}\n",
        "kd_dataset = Dataset.from_dict(kd_dataset)\n",
        "kd_dataset"
      ]
    },
    {
      "cell_type": "code",
      "execution_count": 45,
      "metadata": {
        "id": "HWBxUvIcNX-I",
        "colab": {
          "base_uri": "https://localhost:8080/",
          "height": 49,
          "referenced_widgets": [
            "ccceb008030b4eaaa75d6b5176041e06",
            "61266c310e6c4929bf37afc0435f653b",
            "6fde0fc421984428b58fd512e3d17ae4",
            "e08794c51ee74c4695075caca7cbb931",
            "2a76f75807f0404ca0798058b64386ce",
            "bf9d8ac53a2140c4932e83fa158884a7",
            "b9b89052e538493f8a09b799d4c126a6",
            "49ab49eb1a904c01a2c17f6359b91571",
            "b2e90f6dd3854c3ca3cd540b7c881d16",
            "bba82d0096e84fedad913ec0fb0109d4",
            "d7251a0c3da442e59af413bb9dbb8087"
          ]
        },
        "outputId": "4a093b2b-701f-4fca-b0c3-bb1d83d756d3"
      },
      "outputs": [
        {
          "output_type": "display_data",
          "data": {
            "text/plain": [
              "Saving the dataset (0/1 shards):   0%|          | 0/1000 [00:00<?, ? examples/s]"
            ],
            "application/vnd.jupyter.widget-view+json": {
              "version_major": 2,
              "version_minor": 0,
              "model_id": "ccceb008030b4eaaa75d6b5176041e06"
            }
          },
          "metadata": {}
        }
      ],
      "source": [
        "# Save the dataset to disk, so that you can load it later without re-generating the data.\n",
        "kd_dataset.save_to_disk(f\"{data_dir}/kd_dataset.hf\")"
      ]
    },
    {
      "cell_type": "markdown",
      "metadata": {
        "id": "xo5q2dESNX-I"
      },
      "source": [
        "In case you are running into compute issues while generating data for distillation, we provide you with the distilled dataset in the `data` folder, which you can directly load using the `datasets` library.\n",
        "\n",
        "```python\n",
        "kd_dataset = load_from_disk(f\"{data_dir}/kd_dataset.hf\")\n",
        "```"
      ]
    },
    {
      "cell_type": "markdown",
      "metadata": {
        "id": "owkJR8zJNX-I"
      },
      "source": [
        "### 3. Fine-tuning student model with teacher model's generated data"
      ]
    },
    {
      "cell_type": "markdown",
      "metadata": {
        "id": "8ByU13tmNX-I"
      },
      "source": [
        "#### 3.1 Preparing data for distillation\n",
        "\n",
        "You will now implement the `prepare_data_for_distillation` function to prepare the data for distillation. This function will format the data in a specific way so that it can be used to fine-tune the student model. You will follow pretty much the same process as you did for the student model in `prepare_articles_for_student_model` with a few changes.\n",
        "\n",
        "- First we will include the summaries in the input text along with the articles. This is done because we are now training the student model to generate summaries from the articles. Hence the format of the input text will be `<article>\\nTL;DR:<summary>`.\n",
        "- In the tokenization dictionary, we now need to add a new key, `labels,` which contains the labels to train the language model. For language models, the labels are the same as the input IDs since the model is expected to generate the next word in the sequence. However, while fine-tuning, we want the model to learn how to generate the summaries from the articles and we do not care about the model learning to predict tokens in the original articles. Therefore, we replace the labels for the prompt tokens with -100, which is a special token id that is used to signal the loss function to ignore the loss for those tokens.\n"
      ]
    },
    {
      "cell_type": "code",
      "execution_count": 46,
      "metadata": {
        "deletable": false,
        "nbgrader": {
          "cell_type": "code",
          "checksum": "fa365ea8a33018ce8a35c8865f04dc61",
          "grade": false,
          "grade_id": "cell-b5ae7090ac4d3b51",
          "locked": false,
          "schema_version": 3,
          "solution": true,
          "task": false
        },
        "id": "bj0xXkCWNX-I"
      },
      "outputs": [],
      "source": [
        "def prepare_data_for_distillation(article, summary, student_tokenizer, max_length=1024):\n",
        "    \"\"\"\n",
        "    Prepares the data for distillation.\n",
        "\n",
        "    Inputs:`\n",
        "    - article: The article to be summarized.\n",
        "    - summary: Summary to be used as labels for distillation.\n",
        "    - student_tokenizer: Tokenizer for the student model.\n",
        "    - max_length: Maximum length of the tokenized input.\n",
        "\n",
        "    Returns:\n",
        "    - tokenized_data: Tokenized data in the format of a dictionary with keys `input_ids`, `attention_mask`, and `labels`.\n",
        "\n",
        "    Note: Unlike the functions preparing data for student and techer models before, this function only takes a single\n",
        "    article as input instead of a list of articles. We are doing this because while training we want to create batches\n",
        "    dynamically such that they are padded based on the longest article in the batch. Earlier functions were padding all\n",
        "    the articles with the same length. While it doesn't make any difference in the performance whether you use\n",
        "    dynamic padding or fixed padding, dynamic padding can be much more compute and memory efficient, which is especially\n",
        "    important for training\n",
        "    \"\"\"\n",
        "\n",
        "    # TODO: Format the article and summary for distillation.\n",
        "    # Hint: `summary` might already contain the TL;DR: prefix, make sure you are not adding it twice!\n",
        "    article_wth_summary = None\n",
        "    article_prompt = None  # This should only contain the article and <article>\\nTL;DR: you will need this to set the labels for the prompt tokens to -100\n",
        "    # YOUR CODE HERE\n",
        "    article_wth_summary = f\"{article}\\nTL;DR: {summary}\"\n",
        "    article_prompt = f\"{article}\\nTL;DR:\"\n",
        "\n",
        "    # TODO: Tokenize `articles_wth_summaries`. Note set padding=False, since we want to do dyanmic padding during training.\n",
        "    tokenized_data = None\n",
        "    tokenized_prompt = None\n",
        "    # YOUR CODE HERE\n",
        "    tokenized_data = student_tokenizer(article_wth_summary, padding=False, truncation=True, max_length=max_length, return_tensors=\"pt\")\n",
        "    tokenized_prompt = student_tokenizer(article_prompt, padding=False, truncation=True, max_length=max_length, return_tensors=\"pt\")\n",
        "\n",
        "    # Tokenizer adds a batch dimension to the input IDs and attention mask when the input is a single sequence.\n",
        "    # We need to remove the batch dimension since we are only processing a single article.\n",
        "    tokenized_data[\"input_ids\"], tokenized_data[\"attention_mask\"] = (\n",
        "        tokenized_data[\"input_ids\"][0],\n",
        "        tokenized_data[\"attention_mask\"][0],\n",
        "    )\n",
        "    tokenized_prompt[\"input_ids\"], tokenized_prompt[\"attention_mask\"] = (\n",
        "        tokenized_prompt[\"input_ids\"][0],\n",
        "        tokenized_prompt[\"attention_mask\"][0],\n",
        "    )\n",
        "\n",
        "    # Set the labels to the input IDs\n",
        "    tokenized_data[\"labels\"] = tokenized_data[\"input_ids\"].clone()\n",
        "\n",
        "    # TODO: Replace the labels for the prompt tokens with -100.\n",
        "    # Rember both labels and input_ids are pytorch tensors of shape (seq_len,)\n",
        "    # YOUR CODE HERE\n",
        "    tokenized_data[\"labels\"][: len(tokenized_prompt[\"input_ids\"])] = -100\n",
        "\n",
        "    return tokenized_data"
      ]
    },
    {
      "cell_type": "code",
      "execution_count": 47,
      "metadata": {
        "id": "45NnwKXwNX-J",
        "colab": {
          "base_uri": "https://localhost:8080/"
        },
        "outputId": "81c4dc6f-1f1f-45b3-e461-b21a7e2d46af"
      },
      "outputs": [
        {
          "output_type": "stream",
          "name": "stdout",
          "text": [
            "All tests passed!\n"
          ]
        }
      ],
      "source": [
        "def test_prepare_data_for_distillation():\n",
        "    # Setup\n",
        "    student_tokenizer = AutoTokenizer.from_pretrained(\"gpt2\", padding_side=\"right\")\n",
        "    student_tokenizer.pad_token_id = student_tokenizer.eos_token_id\n",
        "\n",
        "    # Test 1: Basic functionality\n",
        "    article = \"This is a test article.\"\n",
        "    summary = \"This is a test summary.\"\n",
        "    output = prepare_data_for_distillation(article, summary, student_tokenizer)\n",
        "    assert \"input_ids\" in output, \"Output should contain input_ids\"\n",
        "    assert \"attention_mask\" in output, \"Output should contain attention_mask\"\n",
        "    assert \"labels\" in output, \"Output should contain labels\"\n",
        "    assert torch.is_tensor(output[\"input_ids\"]), \"input_ids should be a tensor\"\n",
        "    assert torch.is_tensor(\n",
        "        output[\"attention_mask\"]\n",
        "    ), \"attention_mask should be a tensor\"\n",
        "    assert torch.is_tensor(output[\"labels\"]), \"labels should be a tensor\"\n",
        "\n",
        "    # Test 2: Correct label masking\n",
        "    article = \"This is a test article.\"\n",
        "    summary = \"This is a test summary.\"\n",
        "    output = prepare_data_for_distillation(article, summary, student_tokenizer)\n",
        "    input_ids = output[\"input_ids\"]\n",
        "    labels = output[\"labels\"]\n",
        "\n",
        "    # Ensure labels for the article part are -100\n",
        "    article_length = len(student_tokenizer(article + \"\\nTL;DR:\")[\"input_ids\"])\n",
        "    assert all(\n",
        "        label == -100 for label in labels[:article_length]\n",
        "    ), \"Labels for article tokens should be -100\"\n",
        "\n",
        "    # Ensure labels for the summary part are not -100\n",
        "    assert all(\n",
        "        label != -100 for label in labels[article_length:]\n",
        "    ), \"Labels for summary tokens should not be -100\"\n",
        "\n",
        "    # Test 3: Padding and truncation\n",
        "    long_article = \"This is a very \" * 1000  # Create a very long article\n",
        "    long_summary = \"Summary \" * 1000\n",
        "    short_article = \"Short.\"\n",
        "    short_summary = \"Short.\"\n",
        "    output = prepare_data_for_distillation(\n",
        "        long_article, long_summary, student_tokenizer, max_length=1024\n",
        "    )\n",
        "    assert (\n",
        "        output[\"input_ids\"].shape[0] == 1024\n",
        "    ), \"Long inputs should be truncated to max length\"\n",
        "\n",
        "    output = prepare_data_for_distillation(\n",
        "        short_article, short_summary, student_tokenizer, max_length=1024\n",
        "    )\n",
        "    assert (\n",
        "        output[\"attention_mask\"][1] != 0\n",
        "    ).all(), \"Short article should no have padding\"\n",
        "    print(\"All tests passed!\")\n",
        "\n",
        "\n",
        "test_prepare_data_for_distillation()"
      ]
    },
    {
      "cell_type": "markdown",
      "metadata": {
        "id": "Wc5Outj0NX-J"
      },
      "source": [
        "Let's now prepare the data for distillation."
      ]
    },
    {
      "cell_type": "code",
      "execution_count": 48,
      "metadata": {
        "id": "dpp8s4U_NX-J"
      },
      "outputs": [],
      "source": [
        "kd_dataset = load_from_disk(f\"{data_dir}/kd_dataset.hf\")"
      ]
    },
    {
      "cell_type": "code",
      "execution_count": null,
      "metadata": {
        "id": "mCX_NjPfNX-J"
      },
      "outputs": [],
      "source": [
        "train_tokenized_data = kd_dataset.map(\n",
        "    lambda example: prepare_data_for_distillation(\n",
        "        example[\"article\"],\n",
        "        example[\"summary\"],\n",
        "        student_tokenizer,\n",
        "        max_length=1024,\n",
        "    ),\n",
        "    batched=False,\n",
        "    remove_columns=kd_dataset.column_names,\n",
        ")\n",
        "train_tokenized_data"
      ]
    },
    {
      "cell_type": "code",
      "execution_count": 50,
      "metadata": {
        "id": "Bx3hrq2vNX-J",
        "colab": {
          "base_uri": "https://localhost:8080/",
          "height": 118,
          "referenced_widgets": [
            "817886ab4cc94ca188c2442af41a4241",
            "4a3897304a6f48efba8631e4db0a58e7",
            "a2ab70e04c7844ef8c66a59bba9fa45e",
            "068470eaf30a410380c9a655676a356c",
            "07d235de54e44d93badd153dad630ff5",
            "6f2b2684d44447e7979e3e5e005ae62e",
            "40ccadf6a10a4c979f117a836b7188b9",
            "996bbd8d84364d8582af400fcd1bcdc7",
            "f9c71c6e81c842feb19a64de0021e3ee",
            "f6696307adfb41789ee0cf177d9c3b2e",
            "144e5174960a4c2f892e1fc2dfc7226c"
          ]
        },
        "outputId": "8df164f9-d865-45a7-b6b4-b873cffa4ffa"
      },
      "outputs": [
        {
          "output_type": "display_data",
          "data": {
            "text/plain": [
              "Map:   0%|          | 0/1000 [00:00<?, ? examples/s]"
            ],
            "application/vnd.jupyter.widget-view+json": {
              "version_major": 2,
              "version_minor": 0,
              "model_id": "817886ab4cc94ca188c2442af41a4241"
            }
          },
          "metadata": {}
        },
        {
          "output_type": "execute_result",
          "data": {
            "text/plain": [
              "Dataset({\n",
              "    features: ['input_ids', 'attention_mask', 'labels'],\n",
              "    num_rows: 1000\n",
              "})"
            ]
          },
          "metadata": {},
          "execution_count": 50
        }
      ],
      "source": [
        "val_tokenized_data = cnn_dm_cse447_dataset[\"val\"].map(\n",
        "    lambda example: prepare_data_for_distillation(\n",
        "        example[\"article\"],\n",
        "        example[\"summary\"],\n",
        "        student_tokenizer,\n",
        "        max_length=1024,\n",
        "    ),\n",
        "    batched=False,\n",
        "    remove_columns=cnn_dm_cse447_dataset[\"val\"].column_names,\n",
        ")\n",
        "val_tokenized_data"
      ]
    },
    {
      "cell_type": "code",
      "execution_count": null,
      "metadata": {
        "id": "MAz1NZ_4NX-J"
      },
      "outputs": [],
      "source": [
        "# Let's have a look at the tokenized data\n",
        "tokenized_data = train_tokenized_data[0]\n",
        "print(\"Input IDs:\")\n",
        "print(tokenized_data[\"input_ids\"])\n",
        "print(\"Labels:\")\n",
        "print(tokenized_data[\"labels\"])\n",
        "print(\"***********************\\n\\n\")\n",
        "\n",
        "print(\"Input Text:\")\n",
        "pprint(student_tokenizer.decode(tokenized_data[\"input_ids\"], skip_special_tokens=True))"
      ]
    },
    {
      "cell_type": "markdown",
      "metadata": {
        "id": "IENDBQN3NX-J"
      },
      "source": [
        "### Fine-tuning the student model\n",
        "\n",
        "We are now ready to fine-tune the student model. While this might sound like a daunting task, we actually need not write much code for this. Transformers library has a `Trainer` class that takes care of the fine-tuning process. We will use the `TrainingArguments` class to set the training arguments and the `Trainer` class to fine-tune the model. Below is the code to fine-tune the student model."
      ]
    },
    {
      "cell_type": "code",
      "execution_count": 52,
      "metadata": {
        "id": "V1qTarNvNX-J"
      },
      "outputs": [],
      "source": [
        "torch.cuda.empty_cache()"
      ]
    },
    {
      "cell_type": "code",
      "execution_count": null,
      "metadata": {
        "id": "nO8Qc_UiNX-J"
      },
      "outputs": [],
      "source": [
        "from transformers import TrainingArguments, Trainer, DataCollatorForSeq2Seq\n",
        "\n",
        "def fine_tune_student_model(\n",
        "    student_model,\n",
        "    train_tokenized_data,\n",
        "    val_tokenized_data,\n",
        "    student_tokenizer,\n",
        "    output_dir=\"checkpoints/\",\n",
        "    logging_steps=10,\n",
        "    eval_steps=50,\n",
        "    logging_first_step=True,\n",
        "    learning_rate=2e-5,\n",
        "    warmup_steps=100,\n",
        "    per_device_train_batch_size=2,\n",
        "    per_device_eval_batch_size=2,\n",
        "    gradient_accumulation_steps=4,\n",
        "    num_train_epochs=2,\n",
        "    weight_decay=0.01,\n",
        "    fp16=True,\n",
        "    seed=42,\n",
        "):\n",
        "\n",
        "    \"\"\"\n",
        "    Fine-tunes the student (language) model.\n",
        "\n",
        "    Inputs:\n",
        "    - student_model: The student (language) model to be fine-tuned.\n",
        "    - train_tokenized_data: The tokenized training data.\n",
        "    - val_tokenized_data: The tokenized validation data.\n",
        "    - student_tokenizer: The tokenizer for the student model.\n",
        "    - output_dir: The directory to save the fine-tuned model.\n",
        "    - learning_rate: The learning rate for the optimizer.\n",
        "    - warmup_steps: The number of steps to warm up the learning rate. This is used to gradually increase the learning rate during training.\n",
        "    - per_device_train_batch_size: The batch size for training per device.\n",
        "    - per_device_eval_batch_size: The batch size for evaluation per device.\n",
        "    - gradient_accumulation_steps: The number of steps to accumulate gradients before updating the model weights. # This is a trick to use a larger effective batch size when low on memory. Basically, we accumulate gradients for `gradient_accumulation_steps` steps before updating the model weights using SGD, which is equivalent to using a batch size of `gradient_accumulation_steps * per_device_train_batch_size` times the per_device_train_batch_size.\n",
        "    - num_train_epochs: The number of training epochs.\n",
        "    - weight_decay: The weight decay for the optimizer. This is a regularization technique to prevent overfitting.\n",
        "    - fp16: Whether to use 16-bit precision. This is used to speed up the training process and reduce the memory usage.\n",
        "    - seed: The random seed to use for training. This is used to ensure reproducibility of the training process.\n",
        "    \"\"\"\n",
        "\n",
        "    # Set training arguments.\n",
        "    # This involve things like learning rate, batch size, number of epochs, etc.\n",
        "    training_args = TrainingArguments(\n",
        "        output_dir=\"checkpoints/\",\n",
        "        logging_steps=10,\n",
        "        eval_strategy=\"steps\",\n",
        "        eval_steps=50,\n",
        "        logging_first_step=True,\n",
        "        learning_rate=learning_rate,\n",
        "        warmup_steps=warmup_steps,\n",
        "        per_device_train_batch_size=per_device_train_batch_size,\n",
        "        per_device_eval_batch_size=per_device_eval_batch_size,\n",
        "        gradient_accumulation_steps=gradient_accumulation_steps,\n",
        "        num_train_epochs=num_train_epochs,\n",
        "        weight_decay=weight_decay,\n",
        "        fp16=fp16,\n",
        "        seed=seed,\n",
        "        report_to=\"none\",\n",
        "    )\n",
        "\n",
        "    # Create a data collator for dynamic padding\n",
        "    # A data collator is used to construct batches of data from the dataset.\n",
        "    data_collator = DataCollatorForSeq2Seq(\n",
        "        tokenizer=student_tokenizer, model=student_model, padding=\"longest\"\n",
        "    )\n",
        "\n",
        "    # Create a trainer\n",
        "    trainer = Trainer(\n",
        "        model=student_model,\n",
        "        args=training_args,\n",
        "        train_dataset=train_tokenized_data,\n",
        "        eval_dataset=val_tokenized_data,\n",
        "        data_collator=data_collator,\n",
        "    )\n",
        "\n",
        "    # Fine-tune the model\n",
        "    trainer.train()\n",
        "\n",
        "\n",
        "set_seed()\n",
        "student_model = AutoModelForCausalLM.from_pretrained(\"gpt2\")\n",
        "fine_tune_student_model(\n",
        "    student_model,\n",
        "    train_tokenized_data,\n",
        "    val_tokenized_data,\n",
        "    student_tokenizer,\n",
        "    learning_rate=2e-5,\n",
        "    warmup_steps=100,\n",
        "    per_device_train_batch_size=2,\n",
        "    per_device_eval_batch_size=2,\n",
        "    gradient_accumulation_steps=4,\n",
        "    num_train_epochs=2,\n",
        "    weight_decay=0.01,\n",
        "    fp16=True,\n",
        "    seed=42,\n",
        ")"
      ]
    },
    {
      "cell_type": "markdown",
      "metadata": {
        "id": "iifom3OcNX-J"
      },
      "source": [
        "The reference training and validation losses are 2.61 and 3.01 respectively. Differences of +/- 0.2 are acceptable."
      ]
    },
    {
      "cell_type": "markdown",
      "metadata": {
        "id": "Q7VAEe4PNX-J"
      },
      "source": [
        "Let's now generate summaries with the fine-tuned student model and evaluate the performance."
      ]
    },
    {
      "cell_type": "code",
      "execution_count": null,
      "metadata": {
        "id": "5T-aPSVnNX-J"
      },
      "outputs": [],
      "source": [
        "set_seed()\n",
        "student_tokenizer.padding_side = \"left\" #Padding side left for generation\n",
        "pred_summaries_ft_student = summarize_wth_student_model(\n",
        "    cnn_dm_cse447_dataset[\"val\"][\"article\"],\n",
        "    student_model,\n",
        "    student_tokenizer,\n",
        "    p=0.9,\n",
        "    temperature=1.0,\n",
        "    device=\"cuda\",\n",
        ")"
      ]
    },
    {
      "cell_type": "code",
      "execution_count": null,
      "metadata": {
        "id": "NZAH9iy9NX-J"
      },
      "outputs": [],
      "source": [
        "# Inspect the summaries\n",
        "print(\"Article:\")\n",
        "pprint(cnn_dm_cse447_dataset[\"val\"][0][\"article\"])\n",
        "print(\"***********************\\n\\n\")\n",
        "print(\"Generated summary:\")\n",
        "pprint(pred_summaries_ft_student[0])\n",
        "print(\"***********************\\n\\n\")\n",
        "print(\"Gold summary:\")\n",
        "pprint(cnn_dm_cse447_dataset[\"val\"][0][\"summary\"])"
      ]
    },
    {
      "cell_type": "markdown",
      "metadata": {
        "id": "jRXS1wP9NX-J"
      },
      "source": [
        "While not perfect, the summaries generated by the fine-tuned student model are much better than the ones generated by the student model before fine-tuning. Let's now evaluate the performance of the fine-tuned student model."
      ]
    },
    {
      "cell_type": "code",
      "execution_count": null,
      "metadata": {
        "id": "4uZbThz4NX-J"
      },
      "outputs": [],
      "source": [
        "import evaluate\n",
        "teacher_rouge = evaluate.load(\"rouge\")\n",
        "scores = teacher_rouge.compute(\n",
        "    predictions=pred_summaries_ft_student,\n",
        "    references=cnn_dm_cse447_dataset[\"val\"][\"summary\"],\n",
        "    use_stemmer=True,\n",
        ")\n",
        "scores"
      ]
    },
    {
      "cell_type": "markdown",
      "metadata": {
        "id": "hEbjaHAbNX-J"
      },
      "source": [
        "You should see the following scores:\n",
        "- rouge1: 0.230\n",
        "- rouge2: 0.055\n",
        "- rougeL: 0.145\n",
        "- rougeLsum: 0.185\n",
        "\n",
        "Differences of +/- 0.02 in ROUGE scores are acceptable.\n",
        "\n",
        "As you can see, the fine-tuned student model performs much better than the student model before fine-tuning. This is impressive because we used very small teacher and student models and only used 1000 examples for distillation.\n",
        "\n",
        "In practice, you would want to use a much bigger teacher model and a bigger student model to get better performance. The purpose of this exercise is to give you an idea of how distillation works and how you can use it for your own use cases."
      ]
    },
    {
      "cell_type": "code",
      "execution_count": 56,
      "metadata": {
        "id": "IBXZ16OJNX-J"
      },
      "outputs": [],
      "source": [
        "# Select just first 1000 examples\n",
        "train_data_og = cnn_dm_cse447_dataset[\"train\"].select(range(1000))\n",
        "\n",
        "# Prepare human-annotated data for training\n",
        "train_tokenized_data_og = train_data_og.map(\n",
        "    lambda example: prepare_data_for_distillation(\n",
        "        example[\"article\"],\n",
        "        example[\"summary\"],\n",
        "        student_tokenizer,\n",
        "        max_length=1024,\n",
        "    ),\n",
        "    batched=False,\n",
        "    remove_columns=cnn_dm_cse447_dataset[\"train\"].column_names,\n",
        ")\n",
        "\n",
        "# Initialize new model for human-data training\n",
        "set_seed()\n",
        "student_model_human = AutoModelForCausalLM.from_pretrained(\"gpt2\")\n",
        "student_model_human = student_model_human.to(device)\n",
        "\n",
        "# Fine-tune on human data\n",
        "fine_tune_student_model(\n",
        "    student_model_human,\n",
        "    train_tokenized_data_og,\n",
        "    val_tokenized_data,\n",
        "    student_tokenizer,\n",
        "    learning_rate=2e-5,\n",
        "    warmup_steps=100,\n",
        "    per_device_train_batch_size=2,\n",
        "    per_device_eval_batch_size=2,\n",
        "    gradient_accumulation_steps=4,\n",
        "    num_train_epochs=2,\n",
        "    weight_decay=0.01,\n",
        "    fp16=True,\n",
        "    seed=42,\n",
        ")"
      ]
    },
    {
      "cell_type": "code",
      "source": [
        "def evaluate_all_models(val_articles, val_summaries):\n",
        "    \"\"\"Evaluate and compare all model variants\"\"\"\n",
        "\n",
        "    # Dictionary to store results\n",
        "    all_results = {}\n",
        "\n",
        "    # 1. Evaluate base GPT-2 (no fine-tuning)\n",
        "    base_model = AutoModelForCausalLM.from_pretrained(\"gpt2\").to(device)\n",
        "    base_preds = summarize_wth_student_model(\n",
        "        val_articles,\n",
        "        base_model,\n",
        "        student_tokenizer,\n",
        "        p=0.9,\n",
        "        temperature=1.0,\n",
        "        device=\"cuda\"\n",
        "    )\n",
        "    base_scores = rouge.compute(\n",
        "        predictions=base_preds,\n",
        "        references=val_summaries,\n",
        "        use_stemmer=True\n",
        "    )\n",
        "    all_results[\"GPT-2 (Base)\"] = base_scores\n",
        "\n",
        "    # 2. Evaluate KD fine-tuned model\n",
        "    kd_preds = summarize_wth_student_model(\n",
        "        val_articles,\n",
        "        student_model,  # This is our KD fine-tuned model\n",
        "        student_tokenizer,\n",
        "        p=0.9,\n",
        "        temperature=1.0,\n",
        "        device=\"cuda\"\n",
        "    )\n",
        "    kd_scores = rouge.compute(\n",
        "        predictions=kd_preds,\n",
        "        references=val_summaries,\n",
        "        use_stemmer=True\n",
        "    )\n",
        "    all_results[\"GPT-2 (KD)\"] = kd_scores\n",
        "\n",
        "    # 3. Evaluate human-data fine-tuned model\n",
        "    human_preds = summarize_wth_student_model(\n",
        "        val_articles,\n",
        "        student_model_human,\n",
        "        student_tokenizer,\n",
        "        p=0.9,\n",
        "        temperature=1.0,\n",
        "        device=\"cuda\"\n",
        "    )\n",
        "    human_scores = rouge.compute(\n",
        "        predictions=human_preds,\n",
        "        references=val_summaries,\n",
        "        use_stemmer=True\n",
        "    )\n",
        "    all_results[\"GPT-2 (Human)\"] = human_scores\n",
        "\n",
        "    # 4. Evaluate teacher model (Qwen)\n",
        "    teacher_preds = summarize_with_teacher_model(\n",
        "        val_articles[:100],  # Using first 100 due to computational constraints\n",
        "        teacher_model,\n",
        "        teacher_tokenizer,\n",
        "        p=0.9,\n",
        "        temperature=1.0,\n",
        "        device=\"cuda\"\n",
        "    )\n",
        "    teacher_scores = rouge.compute(\n",
        "        predictions=teacher_preds,\n",
        "        references=val_summaries[:100],\n",
        "        use_stemmer=True\n",
        "    )\n",
        "    all_results[\"Qwen-1.5B\"] = teacher_scores\n",
        "\n",
        "    return all_results\n",
        "\n",
        "# Run evaluation\n",
        "val_articles = cnn_dm_cse447_dataset[\"val\"][\"article\"]\n",
        "val_summaries = cnn_dm_cse447_dataset[\"val\"][\"summary\"]\n",
        "results = evaluate_all_models(val_articles, val_summaries)"
      ],
      "metadata": {
        "id": "8VptDmNYl2LI"
      },
      "execution_count": null,
      "outputs": []
    }
  ],
  "metadata": {
    "kernelspec": {
      "display_name": "Python 3",
      "name": "python3"
    },
    "language_info": {
      "codemirror_mode": {
        "name": "ipython",
        "version": 3
      },
      "file_extension": ".py",
      "mimetype": "text/x-python",
      "name": "python",
      "nbconvert_exporter": "python",
      "pygments_lexer": "ipython3",
      "version": "3.10.14"
    },
    "colab": {
      "provenance": [],
      "gpuType": "T4"
    },
    "accelerator": "GPU",
    "widgets": {
      "application/vnd.jupyter.widget-state+json": {
        "bebb2996320647b0b15776ac1bce390a": {
          "model_module": "@jupyter-widgets/controls",
          "model_name": "HBoxModel",
          "model_module_version": "1.5.0",
          "state": {
            "_dom_classes": [],
            "_model_module": "@jupyter-widgets/controls",
            "_model_module_version": "1.5.0",
            "_model_name": "HBoxModel",
            "_view_count": null,
            "_view_module": "@jupyter-widgets/controls",
            "_view_module_version": "1.5.0",
            "_view_name": "HBoxView",
            "box_style": "",
            "children": [
              "IPY_MODEL_618a8cc9039d40469055a6e0a85fba10",
              "IPY_MODEL_297cb7de0fad4d96a8256625a1be8cfb",
              "IPY_MODEL_187bde5329734b2e96eb70bd7f8ed8ba"
            ],
            "layout": "IPY_MODEL_3e381b57ac254b95a6795c2de5d272e3"
          }
        },
        "618a8cc9039d40469055a6e0a85fba10": {
          "model_module": "@jupyter-widgets/controls",
          "model_name": "HTMLModel",
          "model_module_version": "1.5.0",
          "state": {
            "_dom_classes": [],
            "_model_module": "@jupyter-widgets/controls",
            "_model_module_version": "1.5.0",
            "_model_name": "HTMLModel",
            "_view_count": null,
            "_view_module": "@jupyter-widgets/controls",
            "_view_module_version": "1.5.0",
            "_view_name": "HTMLView",
            "description": "",
            "description_tooltip": null,
            "layout": "IPY_MODEL_b9668288ff5348a795ea21cb24fb2769",
            "placeholder": "​",
            "style": "IPY_MODEL_acbfa894310c42389f4de134f0048b10",
            "value": "Downloading builder script: 100%"
          }
        },
        "297cb7de0fad4d96a8256625a1be8cfb": {
          "model_module": "@jupyter-widgets/controls",
          "model_name": "FloatProgressModel",
          "model_module_version": "1.5.0",
          "state": {
            "_dom_classes": [],
            "_model_module": "@jupyter-widgets/controls",
            "_model_module_version": "1.5.0",
            "_model_name": "FloatProgressModel",
            "_view_count": null,
            "_view_module": "@jupyter-widgets/controls",
            "_view_module_version": "1.5.0",
            "_view_name": "ProgressView",
            "bar_style": "success",
            "description": "",
            "description_tooltip": null,
            "layout": "IPY_MODEL_f0c51b796c534556a48c29f746d0eef6",
            "max": 6270,
            "min": 0,
            "orientation": "horizontal",
            "style": "IPY_MODEL_1e620e45dd5b499b90910a150d00a9a0",
            "value": 6270
          }
        },
        "187bde5329734b2e96eb70bd7f8ed8ba": {
          "model_module": "@jupyter-widgets/controls",
          "model_name": "HTMLModel",
          "model_module_version": "1.5.0",
          "state": {
            "_dom_classes": [],
            "_model_module": "@jupyter-widgets/controls",
            "_model_module_version": "1.5.0",
            "_model_name": "HTMLModel",
            "_view_count": null,
            "_view_module": "@jupyter-widgets/controls",
            "_view_module_version": "1.5.0",
            "_view_name": "HTMLView",
            "description": "",
            "description_tooltip": null,
            "layout": "IPY_MODEL_8b706e765a5643ffb65be066f4bc33b8",
            "placeholder": "​",
            "style": "IPY_MODEL_f7f4371ad13d47d59e1fddcdb53c6816",
            "value": " 6.27k/6.27k [00:00&lt;00:00, 413kB/s]"
          }
        },
        "3e381b57ac254b95a6795c2de5d272e3": {
          "model_module": "@jupyter-widgets/base",
          "model_name": "LayoutModel",
          "model_module_version": "1.2.0",
          "state": {
            "_model_module": "@jupyter-widgets/base",
            "_model_module_version": "1.2.0",
            "_model_name": "LayoutModel",
            "_view_count": null,
            "_view_module": "@jupyter-widgets/base",
            "_view_module_version": "1.2.0",
            "_view_name": "LayoutView",
            "align_content": null,
            "align_items": null,
            "align_self": null,
            "border": null,
            "bottom": null,
            "display": null,
            "flex": null,
            "flex_flow": null,
            "grid_area": null,
            "grid_auto_columns": null,
            "grid_auto_flow": null,
            "grid_auto_rows": null,
            "grid_column": null,
            "grid_gap": null,
            "grid_row": null,
            "grid_template_areas": null,
            "grid_template_columns": null,
            "grid_template_rows": null,
            "height": null,
            "justify_content": null,
            "justify_items": null,
            "left": null,
            "margin": null,
            "max_height": null,
            "max_width": null,
            "min_height": null,
            "min_width": null,
            "object_fit": null,
            "object_position": null,
            "order": null,
            "overflow": null,
            "overflow_x": null,
            "overflow_y": null,
            "padding": null,
            "right": null,
            "top": null,
            "visibility": null,
            "width": null
          }
        },
        "b9668288ff5348a795ea21cb24fb2769": {
          "model_module": "@jupyter-widgets/base",
          "model_name": "LayoutModel",
          "model_module_version": "1.2.0",
          "state": {
            "_model_module": "@jupyter-widgets/base",
            "_model_module_version": "1.2.0",
            "_model_name": "LayoutModel",
            "_view_count": null,
            "_view_module": "@jupyter-widgets/base",
            "_view_module_version": "1.2.0",
            "_view_name": "LayoutView",
            "align_content": null,
            "align_items": null,
            "align_self": null,
            "border": null,
            "bottom": null,
            "display": null,
            "flex": null,
            "flex_flow": null,
            "grid_area": null,
            "grid_auto_columns": null,
            "grid_auto_flow": null,
            "grid_auto_rows": null,
            "grid_column": null,
            "grid_gap": null,
            "grid_row": null,
            "grid_template_areas": null,
            "grid_template_columns": null,
            "grid_template_rows": null,
            "height": null,
            "justify_content": null,
            "justify_items": null,
            "left": null,
            "margin": null,
            "max_height": null,
            "max_width": null,
            "min_height": null,
            "min_width": null,
            "object_fit": null,
            "object_position": null,
            "order": null,
            "overflow": null,
            "overflow_x": null,
            "overflow_y": null,
            "padding": null,
            "right": null,
            "top": null,
            "visibility": null,
            "width": null
          }
        },
        "acbfa894310c42389f4de134f0048b10": {
          "model_module": "@jupyter-widgets/controls",
          "model_name": "DescriptionStyleModel",
          "model_module_version": "1.5.0",
          "state": {
            "_model_module": "@jupyter-widgets/controls",
            "_model_module_version": "1.5.0",
            "_model_name": "DescriptionStyleModel",
            "_view_count": null,
            "_view_module": "@jupyter-widgets/base",
            "_view_module_version": "1.2.0",
            "_view_name": "StyleView",
            "description_width": ""
          }
        },
        "f0c51b796c534556a48c29f746d0eef6": {
          "model_module": "@jupyter-widgets/base",
          "model_name": "LayoutModel",
          "model_module_version": "1.2.0",
          "state": {
            "_model_module": "@jupyter-widgets/base",
            "_model_module_version": "1.2.0",
            "_model_name": "LayoutModel",
            "_view_count": null,
            "_view_module": "@jupyter-widgets/base",
            "_view_module_version": "1.2.0",
            "_view_name": "LayoutView",
            "align_content": null,
            "align_items": null,
            "align_self": null,
            "border": null,
            "bottom": null,
            "display": null,
            "flex": null,
            "flex_flow": null,
            "grid_area": null,
            "grid_auto_columns": null,
            "grid_auto_flow": null,
            "grid_auto_rows": null,
            "grid_column": null,
            "grid_gap": null,
            "grid_row": null,
            "grid_template_areas": null,
            "grid_template_columns": null,
            "grid_template_rows": null,
            "height": null,
            "justify_content": null,
            "justify_items": null,
            "left": null,
            "margin": null,
            "max_height": null,
            "max_width": null,
            "min_height": null,
            "min_width": null,
            "object_fit": null,
            "object_position": null,
            "order": null,
            "overflow": null,
            "overflow_x": null,
            "overflow_y": null,
            "padding": null,
            "right": null,
            "top": null,
            "visibility": null,
            "width": null
          }
        },
        "1e620e45dd5b499b90910a150d00a9a0": {
          "model_module": "@jupyter-widgets/controls",
          "model_name": "ProgressStyleModel",
          "model_module_version": "1.5.0",
          "state": {
            "_model_module": "@jupyter-widgets/controls",
            "_model_module_version": "1.5.0",
            "_model_name": "ProgressStyleModel",
            "_view_count": null,
            "_view_module": "@jupyter-widgets/base",
            "_view_module_version": "1.2.0",
            "_view_name": "StyleView",
            "bar_color": null,
            "description_width": ""
          }
        },
        "8b706e765a5643ffb65be066f4bc33b8": {
          "model_module": "@jupyter-widgets/base",
          "model_name": "LayoutModel",
          "model_module_version": "1.2.0",
          "state": {
            "_model_module": "@jupyter-widgets/base",
            "_model_module_version": "1.2.0",
            "_model_name": "LayoutModel",
            "_view_count": null,
            "_view_module": "@jupyter-widgets/base",
            "_view_module_version": "1.2.0",
            "_view_name": "LayoutView",
            "align_content": null,
            "align_items": null,
            "align_self": null,
            "border": null,
            "bottom": null,
            "display": null,
            "flex": null,
            "flex_flow": null,
            "grid_area": null,
            "grid_auto_columns": null,
            "grid_auto_flow": null,
            "grid_auto_rows": null,
            "grid_column": null,
            "grid_gap": null,
            "grid_row": null,
            "grid_template_areas": null,
            "grid_template_columns": null,
            "grid_template_rows": null,
            "height": null,
            "justify_content": null,
            "justify_items": null,
            "left": null,
            "margin": null,
            "max_height": null,
            "max_width": null,
            "min_height": null,
            "min_width": null,
            "object_fit": null,
            "object_position": null,
            "order": null,
            "overflow": null,
            "overflow_x": null,
            "overflow_y": null,
            "padding": null,
            "right": null,
            "top": null,
            "visibility": null,
            "width": null
          }
        },
        "f7f4371ad13d47d59e1fddcdb53c6816": {
          "model_module": "@jupyter-widgets/controls",
          "model_name": "DescriptionStyleModel",
          "model_module_version": "1.5.0",
          "state": {
            "_model_module": "@jupyter-widgets/controls",
            "_model_module_version": "1.5.0",
            "_model_name": "DescriptionStyleModel",
            "_view_count": null,
            "_view_module": "@jupyter-widgets/base",
            "_view_module_version": "1.2.0",
            "_view_name": "StyleView",
            "description_width": ""
          }
        },
        "ccceb008030b4eaaa75d6b5176041e06": {
          "model_module": "@jupyter-widgets/controls",
          "model_name": "HBoxModel",
          "model_module_version": "1.5.0",
          "state": {
            "_dom_classes": [],
            "_model_module": "@jupyter-widgets/controls",
            "_model_module_version": "1.5.0",
            "_model_name": "HBoxModel",
            "_view_count": null,
            "_view_module": "@jupyter-widgets/controls",
            "_view_module_version": "1.5.0",
            "_view_name": "HBoxView",
            "box_style": "",
            "children": [
              "IPY_MODEL_61266c310e6c4929bf37afc0435f653b",
              "IPY_MODEL_6fde0fc421984428b58fd512e3d17ae4",
              "IPY_MODEL_e08794c51ee74c4695075caca7cbb931"
            ],
            "layout": "IPY_MODEL_2a76f75807f0404ca0798058b64386ce"
          }
        },
        "61266c310e6c4929bf37afc0435f653b": {
          "model_module": "@jupyter-widgets/controls",
          "model_name": "HTMLModel",
          "model_module_version": "1.5.0",
          "state": {
            "_dom_classes": [],
            "_model_module": "@jupyter-widgets/controls",
            "_model_module_version": "1.5.0",
            "_model_name": "HTMLModel",
            "_view_count": null,
            "_view_module": "@jupyter-widgets/controls",
            "_view_module_version": "1.5.0",
            "_view_name": "HTMLView",
            "description": "",
            "description_tooltip": null,
            "layout": "IPY_MODEL_bf9d8ac53a2140c4932e83fa158884a7",
            "placeholder": "​",
            "style": "IPY_MODEL_b9b89052e538493f8a09b799d4c126a6",
            "value": "Saving the dataset (1/1 shards): 100%"
          }
        },
        "6fde0fc421984428b58fd512e3d17ae4": {
          "model_module": "@jupyter-widgets/controls",
          "model_name": "FloatProgressModel",
          "model_module_version": "1.5.0",
          "state": {
            "_dom_classes": [],
            "_model_module": "@jupyter-widgets/controls",
            "_model_module_version": "1.5.0",
            "_model_name": "FloatProgressModel",
            "_view_count": null,
            "_view_module": "@jupyter-widgets/controls",
            "_view_module_version": "1.5.0",
            "_view_name": "ProgressView",
            "bar_style": "success",
            "description": "",
            "description_tooltip": null,
            "layout": "IPY_MODEL_49ab49eb1a904c01a2c17f6359b91571",
            "max": 1000,
            "min": 0,
            "orientation": "horizontal",
            "style": "IPY_MODEL_b2e90f6dd3854c3ca3cd540b7c881d16",
            "value": 1000
          }
        },
        "e08794c51ee74c4695075caca7cbb931": {
          "model_module": "@jupyter-widgets/controls",
          "model_name": "HTMLModel",
          "model_module_version": "1.5.0",
          "state": {
            "_dom_classes": [],
            "_model_module": "@jupyter-widgets/controls",
            "_model_module_version": "1.5.0",
            "_model_name": "HTMLModel",
            "_view_count": null,
            "_view_module": "@jupyter-widgets/controls",
            "_view_module_version": "1.5.0",
            "_view_name": "HTMLView",
            "description": "",
            "description_tooltip": null,
            "layout": "IPY_MODEL_bba82d0096e84fedad913ec0fb0109d4",
            "placeholder": "​",
            "style": "IPY_MODEL_d7251a0c3da442e59af413bb9dbb8087",
            "value": " 1000/1000 [00:00&lt;00:00, 24436.35 examples/s]"
          }
        },
        "2a76f75807f0404ca0798058b64386ce": {
          "model_module": "@jupyter-widgets/base",
          "model_name": "LayoutModel",
          "model_module_version": "1.2.0",
          "state": {
            "_model_module": "@jupyter-widgets/base",
            "_model_module_version": "1.2.0",
            "_model_name": "LayoutModel",
            "_view_count": null,
            "_view_module": "@jupyter-widgets/base",
            "_view_module_version": "1.2.0",
            "_view_name": "LayoutView",
            "align_content": null,
            "align_items": null,
            "align_self": null,
            "border": null,
            "bottom": null,
            "display": null,
            "flex": null,
            "flex_flow": null,
            "grid_area": null,
            "grid_auto_columns": null,
            "grid_auto_flow": null,
            "grid_auto_rows": null,
            "grid_column": null,
            "grid_gap": null,
            "grid_row": null,
            "grid_template_areas": null,
            "grid_template_columns": null,
            "grid_template_rows": null,
            "height": null,
            "justify_content": null,
            "justify_items": null,
            "left": null,
            "margin": null,
            "max_height": null,
            "max_width": null,
            "min_height": null,
            "min_width": null,
            "object_fit": null,
            "object_position": null,
            "order": null,
            "overflow": null,
            "overflow_x": null,
            "overflow_y": null,
            "padding": null,
            "right": null,
            "top": null,
            "visibility": null,
            "width": null
          }
        },
        "bf9d8ac53a2140c4932e83fa158884a7": {
          "model_module": "@jupyter-widgets/base",
          "model_name": "LayoutModel",
          "model_module_version": "1.2.0",
          "state": {
            "_model_module": "@jupyter-widgets/base",
            "_model_module_version": "1.2.0",
            "_model_name": "LayoutModel",
            "_view_count": null,
            "_view_module": "@jupyter-widgets/base",
            "_view_module_version": "1.2.0",
            "_view_name": "LayoutView",
            "align_content": null,
            "align_items": null,
            "align_self": null,
            "border": null,
            "bottom": null,
            "display": null,
            "flex": null,
            "flex_flow": null,
            "grid_area": null,
            "grid_auto_columns": null,
            "grid_auto_flow": null,
            "grid_auto_rows": null,
            "grid_column": null,
            "grid_gap": null,
            "grid_row": null,
            "grid_template_areas": null,
            "grid_template_columns": null,
            "grid_template_rows": null,
            "height": null,
            "justify_content": null,
            "justify_items": null,
            "left": null,
            "margin": null,
            "max_height": null,
            "max_width": null,
            "min_height": null,
            "min_width": null,
            "object_fit": null,
            "object_position": null,
            "order": null,
            "overflow": null,
            "overflow_x": null,
            "overflow_y": null,
            "padding": null,
            "right": null,
            "top": null,
            "visibility": null,
            "width": null
          }
        },
        "b9b89052e538493f8a09b799d4c126a6": {
          "model_module": "@jupyter-widgets/controls",
          "model_name": "DescriptionStyleModel",
          "model_module_version": "1.5.0",
          "state": {
            "_model_module": "@jupyter-widgets/controls",
            "_model_module_version": "1.5.0",
            "_model_name": "DescriptionStyleModel",
            "_view_count": null,
            "_view_module": "@jupyter-widgets/base",
            "_view_module_version": "1.2.0",
            "_view_name": "StyleView",
            "description_width": ""
          }
        },
        "49ab49eb1a904c01a2c17f6359b91571": {
          "model_module": "@jupyter-widgets/base",
          "model_name": "LayoutModel",
          "model_module_version": "1.2.0",
          "state": {
            "_model_module": "@jupyter-widgets/base",
            "_model_module_version": "1.2.0",
            "_model_name": "LayoutModel",
            "_view_count": null,
            "_view_module": "@jupyter-widgets/base",
            "_view_module_version": "1.2.0",
            "_view_name": "LayoutView",
            "align_content": null,
            "align_items": null,
            "align_self": null,
            "border": null,
            "bottom": null,
            "display": null,
            "flex": null,
            "flex_flow": null,
            "grid_area": null,
            "grid_auto_columns": null,
            "grid_auto_flow": null,
            "grid_auto_rows": null,
            "grid_column": null,
            "grid_gap": null,
            "grid_row": null,
            "grid_template_areas": null,
            "grid_template_columns": null,
            "grid_template_rows": null,
            "height": null,
            "justify_content": null,
            "justify_items": null,
            "left": null,
            "margin": null,
            "max_height": null,
            "max_width": null,
            "min_height": null,
            "min_width": null,
            "object_fit": null,
            "object_position": null,
            "order": null,
            "overflow": null,
            "overflow_x": null,
            "overflow_y": null,
            "padding": null,
            "right": null,
            "top": null,
            "visibility": null,
            "width": null
          }
        },
        "b2e90f6dd3854c3ca3cd540b7c881d16": {
          "model_module": "@jupyter-widgets/controls",
          "model_name": "ProgressStyleModel",
          "model_module_version": "1.5.0",
          "state": {
            "_model_module": "@jupyter-widgets/controls",
            "_model_module_version": "1.5.0",
            "_model_name": "ProgressStyleModel",
            "_view_count": null,
            "_view_module": "@jupyter-widgets/base",
            "_view_module_version": "1.2.0",
            "_view_name": "StyleView",
            "bar_color": null,
            "description_width": ""
          }
        },
        "bba82d0096e84fedad913ec0fb0109d4": {
          "model_module": "@jupyter-widgets/base",
          "model_name": "LayoutModel",
          "model_module_version": "1.2.0",
          "state": {
            "_model_module": "@jupyter-widgets/base",
            "_model_module_version": "1.2.0",
            "_model_name": "LayoutModel",
            "_view_count": null,
            "_view_module": "@jupyter-widgets/base",
            "_view_module_version": "1.2.0",
            "_view_name": "LayoutView",
            "align_content": null,
            "align_items": null,
            "align_self": null,
            "border": null,
            "bottom": null,
            "display": null,
            "flex": null,
            "flex_flow": null,
            "grid_area": null,
            "grid_auto_columns": null,
            "grid_auto_flow": null,
            "grid_auto_rows": null,
            "grid_column": null,
            "grid_gap": null,
            "grid_row": null,
            "grid_template_areas": null,
            "grid_template_columns": null,
            "grid_template_rows": null,
            "height": null,
            "justify_content": null,
            "justify_items": null,
            "left": null,
            "margin": null,
            "max_height": null,
            "max_width": null,
            "min_height": null,
            "min_width": null,
            "object_fit": null,
            "object_position": null,
            "order": null,
            "overflow": null,
            "overflow_x": null,
            "overflow_y": null,
            "padding": null,
            "right": null,
            "top": null,
            "visibility": null,
            "width": null
          }
        },
        "d7251a0c3da442e59af413bb9dbb8087": {
          "model_module": "@jupyter-widgets/controls",
          "model_name": "DescriptionStyleModel",
          "model_module_version": "1.5.0",
          "state": {
            "_model_module": "@jupyter-widgets/controls",
            "_model_module_version": "1.5.0",
            "_model_name": "DescriptionStyleModel",
            "_view_count": null,
            "_view_module": "@jupyter-widgets/base",
            "_view_module_version": "1.2.0",
            "_view_name": "StyleView",
            "description_width": ""
          }
        },
        "817886ab4cc94ca188c2442af41a4241": {
          "model_module": "@jupyter-widgets/controls",
          "model_name": "HBoxModel",
          "model_module_version": "1.5.0",
          "state": {
            "_dom_classes": [],
            "_model_module": "@jupyter-widgets/controls",
            "_model_module_version": "1.5.0",
            "_model_name": "HBoxModel",
            "_view_count": null,
            "_view_module": "@jupyter-widgets/controls",
            "_view_module_version": "1.5.0",
            "_view_name": "HBoxView",
            "box_style": "",
            "children": [
              "IPY_MODEL_4a3897304a6f48efba8631e4db0a58e7",
              "IPY_MODEL_a2ab70e04c7844ef8c66a59bba9fa45e",
              "IPY_MODEL_068470eaf30a410380c9a655676a356c"
            ],
            "layout": "IPY_MODEL_07d235de54e44d93badd153dad630ff5"
          }
        },
        "4a3897304a6f48efba8631e4db0a58e7": {
          "model_module": "@jupyter-widgets/controls",
          "model_name": "HTMLModel",
          "model_module_version": "1.5.0",
          "state": {
            "_dom_classes": [],
            "_model_module": "@jupyter-widgets/controls",
            "_model_module_version": "1.5.0",
            "_model_name": "HTMLModel",
            "_view_count": null,
            "_view_module": "@jupyter-widgets/controls",
            "_view_module_version": "1.5.0",
            "_view_name": "HTMLView",
            "description": "",
            "description_tooltip": null,
            "layout": "IPY_MODEL_6f2b2684d44447e7979e3e5e005ae62e",
            "placeholder": "​",
            "style": "IPY_MODEL_40ccadf6a10a4c979f117a836b7188b9",
            "value": "Map: 100%"
          }
        },
        "a2ab70e04c7844ef8c66a59bba9fa45e": {
          "model_module": "@jupyter-widgets/controls",
          "model_name": "FloatProgressModel",
          "model_module_version": "1.5.0",
          "state": {
            "_dom_classes": [],
            "_model_module": "@jupyter-widgets/controls",
            "_model_module_version": "1.5.0",
            "_model_name": "FloatProgressModel",
            "_view_count": null,
            "_view_module": "@jupyter-widgets/controls",
            "_view_module_version": "1.5.0",
            "_view_name": "ProgressView",
            "bar_style": "success",
            "description": "",
            "description_tooltip": null,
            "layout": "IPY_MODEL_996bbd8d84364d8582af400fcd1bcdc7",
            "max": 1000,
            "min": 0,
            "orientation": "horizontal",
            "style": "IPY_MODEL_f9c71c6e81c842feb19a64de0021e3ee",
            "value": 1000
          }
        },
        "068470eaf30a410380c9a655676a356c": {
          "model_module": "@jupyter-widgets/controls",
          "model_name": "HTMLModel",
          "model_module_version": "1.5.0",
          "state": {
            "_dom_classes": [],
            "_model_module": "@jupyter-widgets/controls",
            "_model_module_version": "1.5.0",
            "_model_name": "HTMLModel",
            "_view_count": null,
            "_view_module": "@jupyter-widgets/controls",
            "_view_module_version": "1.5.0",
            "_view_name": "HTMLView",
            "description": "",
            "description_tooltip": null,
            "layout": "IPY_MODEL_f6696307adfb41789ee0cf177d9c3b2e",
            "placeholder": "​",
            "style": "IPY_MODEL_144e5174960a4c2f892e1fc2dfc7226c",
            "value": " 1000/1000 [00:03&lt;00:00, 264.93 examples/s]"
          }
        },
        "07d235de54e44d93badd153dad630ff5": {
          "model_module": "@jupyter-widgets/base",
          "model_name": "LayoutModel",
          "model_module_version": "1.2.0",
          "state": {
            "_model_module": "@jupyter-widgets/base",
            "_model_module_version": "1.2.0",
            "_model_name": "LayoutModel",
            "_view_count": null,
            "_view_module": "@jupyter-widgets/base",
            "_view_module_version": "1.2.0",
            "_view_name": "LayoutView",
            "align_content": null,
            "align_items": null,
            "align_self": null,
            "border": null,
            "bottom": null,
            "display": null,
            "flex": null,
            "flex_flow": null,
            "grid_area": null,
            "grid_auto_columns": null,
            "grid_auto_flow": null,
            "grid_auto_rows": null,
            "grid_column": null,
            "grid_gap": null,
            "grid_row": null,
            "grid_template_areas": null,
            "grid_template_columns": null,
            "grid_template_rows": null,
            "height": null,
            "justify_content": null,
            "justify_items": null,
            "left": null,
            "margin": null,
            "max_height": null,
            "max_width": null,
            "min_height": null,
            "min_width": null,
            "object_fit": null,
            "object_position": null,
            "order": null,
            "overflow": null,
            "overflow_x": null,
            "overflow_y": null,
            "padding": null,
            "right": null,
            "top": null,
            "visibility": null,
            "width": null
          }
        },
        "6f2b2684d44447e7979e3e5e005ae62e": {
          "model_module": "@jupyter-widgets/base",
          "model_name": "LayoutModel",
          "model_module_version": "1.2.0",
          "state": {
            "_model_module": "@jupyter-widgets/base",
            "_model_module_version": "1.2.0",
            "_model_name": "LayoutModel",
            "_view_count": null,
            "_view_module": "@jupyter-widgets/base",
            "_view_module_version": "1.2.0",
            "_view_name": "LayoutView",
            "align_content": null,
            "align_items": null,
            "align_self": null,
            "border": null,
            "bottom": null,
            "display": null,
            "flex": null,
            "flex_flow": null,
            "grid_area": null,
            "grid_auto_columns": null,
            "grid_auto_flow": null,
            "grid_auto_rows": null,
            "grid_column": null,
            "grid_gap": null,
            "grid_row": null,
            "grid_template_areas": null,
            "grid_template_columns": null,
            "grid_template_rows": null,
            "height": null,
            "justify_content": null,
            "justify_items": null,
            "left": null,
            "margin": null,
            "max_height": null,
            "max_width": null,
            "min_height": null,
            "min_width": null,
            "object_fit": null,
            "object_position": null,
            "order": null,
            "overflow": null,
            "overflow_x": null,
            "overflow_y": null,
            "padding": null,
            "right": null,
            "top": null,
            "visibility": null,
            "width": null
          }
        },
        "40ccadf6a10a4c979f117a836b7188b9": {
          "model_module": "@jupyter-widgets/controls",
          "model_name": "DescriptionStyleModel",
          "model_module_version": "1.5.0",
          "state": {
            "_model_module": "@jupyter-widgets/controls",
            "_model_module_version": "1.5.0",
            "_model_name": "DescriptionStyleModel",
            "_view_count": null,
            "_view_module": "@jupyter-widgets/base",
            "_view_module_version": "1.2.0",
            "_view_name": "StyleView",
            "description_width": ""
          }
        },
        "996bbd8d84364d8582af400fcd1bcdc7": {
          "model_module": "@jupyter-widgets/base",
          "model_name": "LayoutModel",
          "model_module_version": "1.2.0",
          "state": {
            "_model_module": "@jupyter-widgets/base",
            "_model_module_version": "1.2.0",
            "_model_name": "LayoutModel",
            "_view_count": null,
            "_view_module": "@jupyter-widgets/base",
            "_view_module_version": "1.2.0",
            "_view_name": "LayoutView",
            "align_content": null,
            "align_items": null,
            "align_self": null,
            "border": null,
            "bottom": null,
            "display": null,
            "flex": null,
            "flex_flow": null,
            "grid_area": null,
            "grid_auto_columns": null,
            "grid_auto_flow": null,
            "grid_auto_rows": null,
            "grid_column": null,
            "grid_gap": null,
            "grid_row": null,
            "grid_template_areas": null,
            "grid_template_columns": null,
            "grid_template_rows": null,
            "height": null,
            "justify_content": null,
            "justify_items": null,
            "left": null,
            "margin": null,
            "max_height": null,
            "max_width": null,
            "min_height": null,
            "min_width": null,
            "object_fit": null,
            "object_position": null,
            "order": null,
            "overflow": null,
            "overflow_x": null,
            "overflow_y": null,
            "padding": null,
            "right": null,
            "top": null,
            "visibility": null,
            "width": null
          }
        },
        "f9c71c6e81c842feb19a64de0021e3ee": {
          "model_module": "@jupyter-widgets/controls",
          "model_name": "ProgressStyleModel",
          "model_module_version": "1.5.0",
          "state": {
            "_model_module": "@jupyter-widgets/controls",
            "_model_module_version": "1.5.0",
            "_model_name": "ProgressStyleModel",
            "_view_count": null,
            "_view_module": "@jupyter-widgets/base",
            "_view_module_version": "1.2.0",
            "_view_name": "StyleView",
            "bar_color": null,
            "description_width": ""
          }
        },
        "f6696307adfb41789ee0cf177d9c3b2e": {
          "model_module": "@jupyter-widgets/base",
          "model_name": "LayoutModel",
          "model_module_version": "1.2.0",
          "state": {
            "_model_module": "@jupyter-widgets/base",
            "_model_module_version": "1.2.0",
            "_model_name": "LayoutModel",
            "_view_count": null,
            "_view_module": "@jupyter-widgets/base",
            "_view_module_version": "1.2.0",
            "_view_name": "LayoutView",
            "align_content": null,
            "align_items": null,
            "align_self": null,
            "border": null,
            "bottom": null,
            "display": null,
            "flex": null,
            "flex_flow": null,
            "grid_area": null,
            "grid_auto_columns": null,
            "grid_auto_flow": null,
            "grid_auto_rows": null,
            "grid_column": null,
            "grid_gap": null,
            "grid_row": null,
            "grid_template_areas": null,
            "grid_template_columns": null,
            "grid_template_rows": null,
            "height": null,
            "justify_content": null,
            "justify_items": null,
            "left": null,
            "margin": null,
            "max_height": null,
            "max_width": null,
            "min_height": null,
            "min_width": null,
            "object_fit": null,
            "object_position": null,
            "order": null,
            "overflow": null,
            "overflow_x": null,
            "overflow_y": null,
            "padding": null,
            "right": null,
            "top": null,
            "visibility": null,
            "width": null
          }
        },
        "144e5174960a4c2f892e1fc2dfc7226c": {
          "model_module": "@jupyter-widgets/controls",
          "model_name": "DescriptionStyleModel",
          "model_module_version": "1.5.0",
          "state": {
            "_model_module": "@jupyter-widgets/controls",
            "_model_module_version": "1.5.0",
            "_model_name": "DescriptionStyleModel",
            "_view_count": null,
            "_view_module": "@jupyter-widgets/base",
            "_view_module_version": "1.2.0",
            "_view_name": "StyleView",
            "description_width": ""
          }
        }
      }
    }
  },
  "nbformat": 4,
  "nbformat_minor": 0
}