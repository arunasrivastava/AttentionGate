{
  "cells": [
    {
      "cell_type": "markdown",
      "metadata": {
        "id": "mzIDhnUWNX98"
      },
      "source": [
        "# Project 3b: Natural Language Generation Generation\n",
        "\n",
        "In this part of the homework, you will implement decoding algorithms covered in class -- greedy decoding, random sampling, temperature sampling, top-k sampling, and top-p (nucleus) sampling. You will also learn how to use knowledge distillation to use strong teacher models to improve performance of weaker student models. The knowledge distillation exercise is only mandatory for CSE 547M students\n",
        "\n",
        "*The section on Decoding algorithms is adapted from the code by Jiacheng Liu.*"
      ]
    },
    {
      "cell_type": "markdown",
      "metadata": {
        "id": "LYii6yUvQSvp"
      },
      "source": [
        "## Updates:\n",
        "\n",
        "### 12/02/2024:\n",
        "*   In section 1.5 \"Evaluate\", we have asked you to report the results in the write-up. You do not need to do this and only need to answer the write-up questions.\n",
        "*   For 1.5, some variance is expected in values, specially for the perplexity values. +/- 0.2 should be fine for the perplexity values. Also, we had a typo for the perplexity for topk sampling and it should be roughly around 12. We have updated the notebook.\n",
        "\n",
        "### 12/03/2024\n",
        "\n",
        "* For 1.5, we are noticing a lot of variance in the perplexity values across runs and you might see values which are well over the +/- 0.2 bound from the expected value. It is fine if your values do not lie within this interval. As long as your fluency and diversity values are within the bounds, you should be fine!\n",
        "\n",
        "\n",
        "\n",
        "\n",
        "\n",
        "\n",
        "\n",
        "\n",
        "\n",
        "\n"
      ]
    },
    {
      "cell_type": "markdown",
      "metadata": {
        "id": "qM-517mmNX99"
      },
      "source": [
        "## Section 0: Setup"
      ]
    },
    {
      "cell_type": "code",
      "execution_count": 1,
      "metadata": {
        "id": "BGHdl9b5NX99"
      },
      "outputs": [
        {
          "name": "stdout",
          "output_type": "stream",
          "text": [
            "Collecting transformers\n",
            "  Downloading transformers-4.47.0-py3-none-any.whl.metadata (43 kB)\n",
            "Requirement already satisfied: filelock in ./env/lib/python3.12/site-packages (from transformers) (3.16.1)\n",
            "Collecting huggingface-hub<1.0,>=0.24.0 (from transformers)\n",
            "  Downloading huggingface_hub-0.26.5-py3-none-any.whl.metadata (13 kB)\n",
            "Requirement already satisfied: numpy>=1.17 in ./env/lib/python3.12/site-packages (from transformers) (2.1.3)\n",
            "Requirement already satisfied: packaging>=20.0 in ./env/lib/python3.12/site-packages (from transformers) (24.2)\n",
            "Collecting pyyaml>=5.1 (from transformers)\n",
            "  Downloading PyYAML-6.0.2-cp312-cp312-manylinux_2_17_x86_64.manylinux2014_x86_64.whl.metadata (2.1 kB)\n",
            "Collecting regex!=2019.12.17 (from transformers)\n",
            "  Downloading regex-2024.11.6-cp312-cp312-manylinux_2_17_x86_64.manylinux2014_x86_64.whl.metadata (40 kB)\n",
            "Collecting requests (from transformers)\n",
            "  Using cached requests-2.32.3-py3-none-any.whl.metadata (4.6 kB)\n",
            "Collecting tokenizers<0.22,>=0.21 (from transformers)\n",
            "  Downloading tokenizers-0.21.0-cp39-abi3-manylinux_2_17_x86_64.manylinux2014_x86_64.whl.metadata (6.7 kB)\n",
            "Collecting safetensors>=0.4.1 (from transformers)\n",
            "  Downloading safetensors-0.4.5-cp312-cp312-manylinux_2_17_x86_64.manylinux2014_x86_64.whl.metadata (3.8 kB)\n",
            "Requirement already satisfied: tqdm>=4.27 in ./env/lib/python3.12/site-packages (from transformers) (4.67.1)\n",
            "Requirement already satisfied: fsspec>=2023.5.0 in ./env/lib/python3.12/site-packages (from huggingface-hub<1.0,>=0.24.0->transformers) (2024.10.0)\n",
            "Requirement already satisfied: typing-extensions>=3.7.4.3 in ./env/lib/python3.12/site-packages (from huggingface-hub<1.0,>=0.24.0->transformers) (4.12.2)\n",
            "Collecting charset-normalizer<4,>=2 (from requests->transformers)\n",
            "  Downloading charset_normalizer-3.4.0-cp312-cp312-manylinux_2_17_x86_64.manylinux2014_x86_64.whl.metadata (34 kB)\n",
            "Collecting idna<4,>=2.5 (from requests->transformers)\n",
            "  Using cached idna-3.10-py3-none-any.whl.metadata (10 kB)\n",
            "Collecting urllib3<3,>=1.21.1 (from requests->transformers)\n",
            "  Downloading urllib3-2.2.3-py3-none-any.whl.metadata (6.5 kB)\n",
            "Collecting certifi>=2017.4.17 (from requests->transformers)\n",
            "  Using cached certifi-2024.8.30-py3-none-any.whl.metadata (2.2 kB)\n",
            "Downloading transformers-4.47.0-py3-none-any.whl (10.1 MB)\n",
            "\u001b[2K   \u001b[90m━━━━━━━━━━━━━━━━━━━━━━━━━━━━━━━━━━━━━━━━\u001b[0m \u001b[32m10.1/10.1 MB\u001b[0m \u001b[31m21.3 MB/s\u001b[0m eta \u001b[36m0:00:00\u001b[0m \u001b[36m0:00:01\u001b[0m\n",
            "\u001b[?25hDownloading huggingface_hub-0.26.5-py3-none-any.whl (447 kB)\n",
            "Downloading PyYAML-6.0.2-cp312-cp312-manylinux_2_17_x86_64.manylinux2014_x86_64.whl (767 kB)\n",
            "\u001b[2K   \u001b[90m━━━━━━━━━━━━━━━━━━━━━━━━━━━━━━━━━━━━━━━━\u001b[0m \u001b[32m767.5/767.5 kB\u001b[0m \u001b[31m28.3 MB/s\u001b[0m eta \u001b[36m0:00:00\u001b[0m\n",
            "\u001b[?25hDownloading regex-2024.11.6-cp312-cp312-manylinux_2_17_x86_64.manylinux2014_x86_64.whl (796 kB)\n",
            "\u001b[2K   \u001b[90m━━━━━━━━━━━━━━━━━━━━━━━━━━━━━━━━━━━━━━━━\u001b[0m \u001b[32m796.9/796.9 kB\u001b[0m \u001b[31m32.6 MB/s\u001b[0m eta \u001b[36m0:00:00\u001b[0m\n",
            "\u001b[?25hDownloading safetensors-0.4.5-cp312-cp312-manylinux_2_17_x86_64.manylinux2014_x86_64.whl (434 kB)\n",
            "Downloading tokenizers-0.21.0-cp39-abi3-manylinux_2_17_x86_64.manylinux2014_x86_64.whl (3.0 MB)\n",
            "\u001b[2K   \u001b[90m━━━━━━━━━━━━━━━━━━━━━━━━━━━━━━━━━━━━━━━━\u001b[0m \u001b[32m3.0/3.0 MB\u001b[0m \u001b[31m50.4 MB/s\u001b[0m eta \u001b[36m0:00:00\u001b[0m\n",
            "\u001b[?25hUsing cached requests-2.32.3-py3-none-any.whl (64 kB)\n",
            "Using cached certifi-2024.8.30-py3-none-any.whl (167 kB)\n",
            "Downloading charset_normalizer-3.4.0-cp312-cp312-manylinux_2_17_x86_64.manylinux2014_x86_64.whl (143 kB)\n",
            "Using cached idna-3.10-py3-none-any.whl (70 kB)\n",
            "Downloading urllib3-2.2.3-py3-none-any.whl (126 kB)\n",
            "Installing collected packages: urllib3, safetensors, regex, pyyaml, idna, charset-normalizer, certifi, requests, huggingface-hub, tokenizers, transformers\n",
            "Successfully installed certifi-2024.8.30 charset-normalizer-3.4.0 huggingface-hub-0.26.5 idna-3.10 pyyaml-6.0.2 regex-2024.11.6 requests-2.32.3 safetensors-0.4.5 tokenizers-0.21.0 transformers-4.47.0 urllib3-2.2.3\n",
            "Collecting datasets\n",
            "  Using cached datasets-3.1.0-py3-none-any.whl.metadata (20 kB)\n",
            "Requirement already satisfied: filelock in ./env/lib/python3.12/site-packages (from datasets) (3.16.1)\n",
            "Requirement already satisfied: numpy>=1.17 in ./env/lib/python3.12/site-packages (from datasets) (2.1.3)\n",
            "Collecting pyarrow>=15.0.0 (from datasets)\n",
            "  Downloading pyarrow-18.1.0-cp312-cp312-manylinux_2_28_x86_64.whl.metadata (3.3 kB)\n",
            "Collecting dill<0.3.9,>=0.3.0 (from datasets)\n",
            "  Using cached dill-0.3.8-py3-none-any.whl.metadata (10 kB)\n",
            "Collecting pandas (from datasets)\n",
            "  Downloading pandas-2.2.3-cp312-cp312-manylinux_2_17_x86_64.manylinux2014_x86_64.whl.metadata (89 kB)\n",
            "Requirement already satisfied: requests>=2.32.2 in ./env/lib/python3.12/site-packages (from datasets) (2.32.3)\n",
            "Requirement already satisfied: tqdm>=4.66.3 in ./env/lib/python3.12/site-packages (from datasets) (4.67.1)\n",
            "Collecting xxhash (from datasets)\n",
            "  Downloading xxhash-3.5.0-cp312-cp312-manylinux_2_17_x86_64.manylinux2014_x86_64.whl.metadata (12 kB)\n",
            "Collecting multiprocess<0.70.17 (from datasets)\n",
            "  Downloading multiprocess-0.70.16-py312-none-any.whl.metadata (7.2 kB)\n",
            "Collecting fsspec<=2024.9.0,>=2023.1.0 (from fsspec[http]<=2024.9.0,>=2023.1.0->datasets)\n",
            "  Downloading fsspec-2024.9.0-py3-none-any.whl.metadata (11 kB)\n",
            "Collecting aiohttp (from datasets)\n",
            "  Downloading aiohttp-3.11.10-cp312-cp312-manylinux_2_17_x86_64.manylinux2014_x86_64.whl.metadata (7.7 kB)\n",
            "Requirement already satisfied: huggingface-hub>=0.23.0 in ./env/lib/python3.12/site-packages (from datasets) (0.26.5)\n",
            "Requirement already satisfied: packaging in ./env/lib/python3.12/site-packages (from datasets) (24.2)\n",
            "Requirement already satisfied: pyyaml>=5.1 in ./env/lib/python3.12/site-packages (from datasets) (6.0.2)\n",
            "Collecting aiohappyeyeballs>=2.3.0 (from aiohttp->datasets)\n",
            "  Downloading aiohappyeyeballs-2.4.4-py3-none-any.whl.metadata (6.1 kB)\n",
            "Collecting aiosignal>=1.1.2 (from aiohttp->datasets)\n",
            "  Using cached aiosignal-1.3.1-py3-none-any.whl.metadata (4.0 kB)\n",
            "Collecting attrs>=17.3.0 (from aiohttp->datasets)\n",
            "  Using cached attrs-24.2.0-py3-none-any.whl.metadata (11 kB)\n",
            "Collecting frozenlist>=1.1.1 (from aiohttp->datasets)\n",
            "  Downloading frozenlist-1.5.0-cp312-cp312-manylinux_2_5_x86_64.manylinux1_x86_64.manylinux_2_17_x86_64.manylinux2014_x86_64.whl.metadata (13 kB)\n",
            "Collecting multidict<7.0,>=4.5 (from aiohttp->datasets)\n",
            "  Downloading multidict-6.1.0-cp312-cp312-manylinux_2_17_x86_64.manylinux2014_x86_64.whl.metadata (5.0 kB)\n",
            "Collecting propcache>=0.2.0 (from aiohttp->datasets)\n",
            "  Downloading propcache-0.2.1-cp312-cp312-manylinux_2_17_x86_64.manylinux2014_x86_64.whl.metadata (9.2 kB)\n",
            "Collecting yarl<2.0,>=1.17.0 (from aiohttp->datasets)\n",
            "  Downloading yarl-1.18.3-cp312-cp312-manylinux_2_17_x86_64.manylinux2014_x86_64.whl.metadata (69 kB)\n",
            "Requirement already satisfied: typing-extensions>=3.7.4.3 in ./env/lib/python3.12/site-packages (from huggingface-hub>=0.23.0->datasets) (4.12.2)\n",
            "Requirement already satisfied: charset-normalizer<4,>=2 in ./env/lib/python3.12/site-packages (from requests>=2.32.2->datasets) (3.4.0)\n",
            "Requirement already satisfied: idna<4,>=2.5 in ./env/lib/python3.12/site-packages (from requests>=2.32.2->datasets) (3.10)\n",
            "Requirement already satisfied: urllib3<3,>=1.21.1 in ./env/lib/python3.12/site-packages (from requests>=2.32.2->datasets) (2.2.3)\n",
            "Requirement already satisfied: certifi>=2017.4.17 in ./env/lib/python3.12/site-packages (from requests>=2.32.2->datasets) (2024.8.30)\n",
            "Requirement already satisfied: python-dateutil>=2.8.2 in ./env/lib/python3.12/site-packages (from pandas->datasets) (2.9.0.post0)\n",
            "Collecting pytz>=2020.1 (from pandas->datasets)\n",
            "  Using cached pytz-2024.2-py2.py3-none-any.whl.metadata (22 kB)\n",
            "Collecting tzdata>=2022.7 (from pandas->datasets)\n",
            "  Using cached tzdata-2024.2-py2.py3-none-any.whl.metadata (1.4 kB)\n",
            "Requirement already satisfied: six>=1.5 in ./env/lib/python3.12/site-packages (from python-dateutil>=2.8.2->pandas->datasets) (1.17.0)\n",
            "Using cached datasets-3.1.0-py3-none-any.whl (480 kB)\n",
            "Using cached dill-0.3.8-py3-none-any.whl (116 kB)\n",
            "Downloading fsspec-2024.9.0-py3-none-any.whl (179 kB)\n",
            "Downloading aiohttp-3.11.10-cp312-cp312-manylinux_2_17_x86_64.manylinux2014_x86_64.whl (1.7 MB)\n",
            "\u001b[2K   \u001b[90m━━━━━━━━━━━━━━━━━━━━━━━━━━━━━━━━━━━━━━━━\u001b[0m \u001b[32m1.7/1.7 MB\u001b[0m \u001b[31m50.4 MB/s\u001b[0m eta \u001b[36m0:00:00\u001b[0m\n",
            "\u001b[?25hDownloading multiprocess-0.70.16-py312-none-any.whl (146 kB)\n",
            "Downloading pyarrow-18.1.0-cp312-cp312-manylinux_2_28_x86_64.whl (40.1 MB)\n",
            "\u001b[2K   \u001b[90m━━━━━━━━━━━━━━━━━━━━━━━━━━━━━━━━━━━━━━━━\u001b[0m \u001b[32m40.1/40.1 MB\u001b[0m \u001b[31m176.0 MB/s\u001b[0m eta \u001b[36m0:00:00\u001b[0m00:01\u001b[0m\n",
            "\u001b[?25hDownloading pandas-2.2.3-cp312-cp312-manylinux_2_17_x86_64.manylinux2014_x86_64.whl (12.7 MB)\n",
            "\u001b[2K   \u001b[90m━━━━━━━━━━━━━━━━━━━━━━━━━━━━━━━━━━━━━━━━\u001b[0m \u001b[32m12.7/12.7 MB\u001b[0m \u001b[31m132.4 MB/s\u001b[0m eta \u001b[36m0:00:00\u001b[0m\n",
            "\u001b[?25hDownloading xxhash-3.5.0-cp312-cp312-manylinux_2_17_x86_64.manylinux2014_x86_64.whl (194 kB)\n",
            "Downloading aiohappyeyeballs-2.4.4-py3-none-any.whl (14 kB)\n",
            "Using cached aiosignal-1.3.1-py3-none-any.whl (7.6 kB)\n",
            "Using cached attrs-24.2.0-py3-none-any.whl (63 kB)\n",
            "Downloading frozenlist-1.5.0-cp312-cp312-manylinux_2_5_x86_64.manylinux1_x86_64.manylinux_2_17_x86_64.manylinux2014_x86_64.whl (283 kB)\n",
            "Downloading multidict-6.1.0-cp312-cp312-manylinux_2_17_x86_64.manylinux2014_x86_64.whl (131 kB)\n",
            "Downloading propcache-0.2.1-cp312-cp312-manylinux_2_17_x86_64.manylinux2014_x86_64.whl (243 kB)\n",
            "Using cached pytz-2024.2-py2.py3-none-any.whl (508 kB)\n",
            "Using cached tzdata-2024.2-py2.py3-none-any.whl (346 kB)\n",
            "Downloading yarl-1.18.3-cp312-cp312-manylinux_2_17_x86_64.manylinux2014_x86_64.whl (336 kB)\n",
            "Installing collected packages: pytz, xxhash, tzdata, pyarrow, propcache, multidict, fsspec, frozenlist, dill, attrs, aiohappyeyeballs, yarl, pandas, multiprocess, aiosignal, aiohttp, datasets\n",
            "  Attempting uninstall: fsspec\n",
            "    Found existing installation: fsspec 2024.10.0\n",
            "    Uninstalling fsspec-2024.10.0:\n",
            "      Successfully uninstalled fsspec-2024.10.0\n",
            "Successfully installed aiohappyeyeballs-2.4.4 aiohttp-3.11.10 aiosignal-1.3.1 attrs-24.2.0 datasets-3.1.0 dill-0.3.8 frozenlist-1.5.0 fsspec-2024.9.0 multidict-6.1.0 multiprocess-0.70.16 pandas-2.2.3 propcache-0.2.1 pyarrow-18.1.0 pytz-2024.2 tzdata-2024.2 xxhash-3.5.0 yarl-1.18.3\n",
            "Collecting evaluate\n",
            "  Using cached evaluate-0.4.3-py3-none-any.whl.metadata (9.2 kB)\n",
            "Requirement already satisfied: datasets>=2.0.0 in ./env/lib/python3.12/site-packages (from evaluate) (3.1.0)\n",
            "Requirement already satisfied: numpy>=1.17 in ./env/lib/python3.12/site-packages (from evaluate) (2.1.3)\n",
            "Requirement already satisfied: dill in ./env/lib/python3.12/site-packages (from evaluate) (0.3.8)\n",
            "Requirement already satisfied: pandas in ./env/lib/python3.12/site-packages (from evaluate) (2.2.3)\n",
            "Requirement already satisfied: requests>=2.19.0 in ./env/lib/python3.12/site-packages (from evaluate) (2.32.3)\n",
            "Requirement already satisfied: tqdm>=4.62.1 in ./env/lib/python3.12/site-packages (from evaluate) (4.67.1)\n",
            "Requirement already satisfied: xxhash in ./env/lib/python3.12/site-packages (from evaluate) (3.5.0)\n",
            "Requirement already satisfied: multiprocess in ./env/lib/python3.12/site-packages (from evaluate) (0.70.16)\n",
            "Requirement already satisfied: fsspec>=2021.05.0 in ./env/lib/python3.12/site-packages (from fsspec[http]>=2021.05.0->evaluate) (2024.9.0)\n",
            "Requirement already satisfied: huggingface-hub>=0.7.0 in ./env/lib/python3.12/site-packages (from evaluate) (0.26.5)\n",
            "Requirement already satisfied: packaging in ./env/lib/python3.12/site-packages (from evaluate) (24.2)\n",
            "Requirement already satisfied: filelock in ./env/lib/python3.12/site-packages (from datasets>=2.0.0->evaluate) (3.16.1)\n",
            "Requirement already satisfied: pyarrow>=15.0.0 in ./env/lib/python3.12/site-packages (from datasets>=2.0.0->evaluate) (18.1.0)\n",
            "Requirement already satisfied: aiohttp in ./env/lib/python3.12/site-packages (from datasets>=2.0.0->evaluate) (3.11.10)\n",
            "Requirement already satisfied: pyyaml>=5.1 in ./env/lib/python3.12/site-packages (from datasets>=2.0.0->evaluate) (6.0.2)\n",
            "Requirement already satisfied: typing-extensions>=3.7.4.3 in ./env/lib/python3.12/site-packages (from huggingface-hub>=0.7.0->evaluate) (4.12.2)\n",
            "Requirement already satisfied: charset-normalizer<4,>=2 in ./env/lib/python3.12/site-packages (from requests>=2.19.0->evaluate) (3.4.0)\n",
            "Requirement already satisfied: idna<4,>=2.5 in ./env/lib/python3.12/site-packages (from requests>=2.19.0->evaluate) (3.10)\n",
            "Requirement already satisfied: urllib3<3,>=1.21.1 in ./env/lib/python3.12/site-packages (from requests>=2.19.0->evaluate) (2.2.3)\n",
            "Requirement already satisfied: certifi>=2017.4.17 in ./env/lib/python3.12/site-packages (from requests>=2.19.0->evaluate) (2024.8.30)\n",
            "Requirement already satisfied: python-dateutil>=2.8.2 in ./env/lib/python3.12/site-packages (from pandas->evaluate) (2.9.0.post0)\n",
            "Requirement already satisfied: pytz>=2020.1 in ./env/lib/python3.12/site-packages (from pandas->evaluate) (2024.2)\n",
            "Requirement already satisfied: tzdata>=2022.7 in ./env/lib/python3.12/site-packages (from pandas->evaluate) (2024.2)\n",
            "Requirement already satisfied: aiohappyeyeballs>=2.3.0 in ./env/lib/python3.12/site-packages (from aiohttp->datasets>=2.0.0->evaluate) (2.4.4)\n",
            "Requirement already satisfied: aiosignal>=1.1.2 in ./env/lib/python3.12/site-packages (from aiohttp->datasets>=2.0.0->evaluate) (1.3.1)\n",
            "Requirement already satisfied: attrs>=17.3.0 in ./env/lib/python3.12/site-packages (from aiohttp->datasets>=2.0.0->evaluate) (24.2.0)\n",
            "Requirement already satisfied: frozenlist>=1.1.1 in ./env/lib/python3.12/site-packages (from aiohttp->datasets>=2.0.0->evaluate) (1.5.0)\n",
            "Requirement already satisfied: multidict<7.0,>=4.5 in ./env/lib/python3.12/site-packages (from aiohttp->datasets>=2.0.0->evaluate) (6.1.0)\n",
            "Requirement already satisfied: propcache>=0.2.0 in ./env/lib/python3.12/site-packages (from aiohttp->datasets>=2.0.0->evaluate) (0.2.1)\n",
            "Requirement already satisfied: yarl<2.0,>=1.17.0 in ./env/lib/python3.12/site-packages (from aiohttp->datasets>=2.0.0->evaluate) (1.18.3)\n",
            "Requirement already satisfied: six>=1.5 in ./env/lib/python3.12/site-packages (from python-dateutil>=2.8.2->pandas->evaluate) (1.17.0)\n",
            "Using cached evaluate-0.4.3-py3-none-any.whl (84 kB)\n",
            "Installing collected packages: evaluate\n",
            "Successfully installed evaluate-0.4.3\n"
          ]
        }
      ],
      "source": [
        "%%bash\n",
        "pip install transformers\n",
        "pip install datasets\n",
        "pip install evaluate"
      ]
    },
    {
      "cell_type": "code",
      "execution_count": 2,
      "metadata": {
        "colab": {
          "base_uri": "https://localhost:8080/"
        },
        "id": "0IdXWTdjNX99",
        "outputId": "6f0f836a-b45e-44b1-b54a-42e695d428da"
      },
      "outputs": [
        {
          "name": "stdout",
          "output_type": "stream",
          "text": [
            "device: cuda\n"
          ]
        }
      ],
      "source": [
        "\"\"\"set device and random seeds\"\"\"\n",
        "\n",
        "######################################################\n",
        "#  The following helper functions are given to you.\n",
        "######################################################\n",
        "import os\n",
        "from tqdm.notebook import tqdm\n",
        "import torch\n",
        "import torch.nn.functional as F\n",
        "\n",
        "device = \"cuda\" if torch.cuda.is_available() else \"cpu\"\n",
        "DEVICE = device\n",
        "print(f\"device: {device}\")\n",
        "\n",
        "\n",
        "def set_seed(seed=19260817):\n",
        "    torch.manual_seed(seed)\n",
        "    torch.cuda.manual_seed_all(seed)\n",
        "    torch.backends.cudnn.deterministic = True\n",
        "    torch.backends.cudnn.benchmark = False\n",
        "\n",
        "\n",
        "set_seed()"
      ]
    },
    {
      "cell_type": "markdown",
      "metadata": {
        "id": "cQBKM6a9NX99"
      },
      "source": [
        "### 0.1 Dataset"
      ]
    },
    {
      "cell_type": "code",
      "execution_count": 3,
      "metadata": {
        "id": "_3nf-2f3NX9-"
      },
      "outputs": [
        {
          "name": "stderr",
          "output_type": "stream",
          "text": [
            "/home/arunasrivastava/AttentionGate/env/lib/python3.12/site-packages/tqdm/auto.py:21: TqdmWarning: IProgress not found. Please update jupyter and ipywidgets. See https://ipywidgets.readthedocs.io/en/stable/user_install.html\n",
            "  from .autonotebook import tqdm as notebook_tqdm\n",
            "Generating train split: 100%|██████████| 16207/16207 [00:00<00:00, 539714.85 examples/s]\n",
            "Generating validation split: 100%|██████████| 1817/1817 [00:00<00:00, 362751.70 examples/s]\n",
            "Generating test split: 100%|██████████| 1819/1819 [00:00<00:00, 309724.31 examples/s]"
          ]
        },
        {
          "name": "stdout",
          "output_type": "stream",
          "text": [
            "{'story_id': '080198fc-d0e7-42b3-8e63-b2144e59d816', 'prompt': 'On my way to work I stopped to get some coffee.', 'continuation': 'I went through the drive through and placed my order. I paid the cashier and patiently waited for my drink. When she handed me the drink, the lid came off and spilled on me. The coffee hurt and I had to go home and change clothes.', 'constraint_words': ['drive', 'order', 'drink', 'lid', 'coffee', 'hurt', 'home', 'change', 'clothes']}\n"
          ]
        },
        {
          "name": "stderr",
          "output_type": "stream",
          "text": [
            "\n"
          ]
        }
      ],
      "source": [
        "\"\"\"load datasets\"\"\"\n",
        "\n",
        "######################################################\n",
        "#  The following helper code is given to you.\n",
        "######################################################\n",
        "\n",
        "from datasets import load_dataset\n",
        "\n",
        "dataset = load_dataset(\"Ximing/ROCStories\")\n",
        "train_data, dev_data, test_data = (\n",
        "    dataset[\"train\"],\n",
        "    dataset[\"validation\"],\n",
        "    dataset[\"test\"],\n",
        ")\n",
        "\n",
        "print(train_data[0])"
      ]
    },
    {
      "cell_type": "markdown",
      "metadata": {
        "id": "6TIWiYBZNX9-"
      },
      "source": [
        "### 0.2 Evaluation Metrics"
      ]
    },
    {
      "cell_type": "code",
      "execution_count": 4,
      "metadata": {
        "id": "4EG-bgQPNX9-"
      },
      "outputs": [
        {
          "name": "stderr",
          "output_type": "stream",
          "text": [
            "Downloading builder script: 100%|██████████| 8.46k/8.46k [00:00<00:00, 18.1MB/s]\n",
            "Some weights of the model checkpoint at textattack/roberta-base-CoLA were not used when initializing RobertaForSequenceClassification: ['roberta.pooler.dense.bias', 'roberta.pooler.dense.weight']\n",
            "- This IS expected if you are initializing RobertaForSequenceClassification from the checkpoint of a model trained on another task or with another architecture (e.g. initializing a BertForSequenceClassification model from a BertForPreTraining model).\n",
            "- This IS NOT expected if you are initializing RobertaForSequenceClassification from the checkpoint of a model that you expect to be exactly identical (initializing a BertForSequenceClassification model from a BertForSequenceClassification model).\n"
          ]
        }
      ],
      "source": [
        "\"\"\"prepare evaluation\"\"\"\n",
        "\n",
        "######################################################\n",
        "#  The following helper code is given to you.\n",
        "######################################################\n",
        "\n",
        "from evaluate import load\n",
        "from transformers import RobertaForSequenceClassification, RobertaTokenizer\n",
        "\n",
        "perplexity_scorer = load(\"perplexity\", module_type=\"metric\")\n",
        "cola_model_name = \"textattack/roberta-base-CoLA\"\n",
        "cola_tokenizer = RobertaTokenizer.from_pretrained(cola_model_name)\n",
        "cola_model = RobertaForSequenceClassification.from_pretrained(cola_model_name).to(\n",
        "    device\n",
        ")\n",
        "\n",
        "\n",
        "def batchify(data, batch_size):\n",
        "    assert batch_size > 0\n",
        "\n",
        "    batch = []\n",
        "    for item in data:\n",
        "        # Yield next batch\n",
        "        if len(batch) == batch_size:\n",
        "            yield batch\n",
        "            batch = []\n",
        "\n",
        "        batch.append(item)\n",
        "\n",
        "    # Yield last un-filled batch\n",
        "    if len(batch) != 0:\n",
        "        yield batch"
      ]
    },
    {
      "cell_type": "code",
      "execution_count": 5,
      "metadata": {
        "id": "xgVMcubTNX9-"
      },
      "outputs": [
        {
          "name": "stderr",
          "output_type": "stream",
          "text": [
            "100%|██████████| 1/1 [00:00<00:00,  1.07it/s]"
          ]
        },
        {
          "name": "stdout",
          "output_type": "stream",
          "text": [
            "debugging run\n",
            "perplexity = 178.64\n",
            "fluency = 0.98\n",
            "diversity = 0.87, 1.00, 1.00\n",
            "\n"
          ]
        },
        {
          "name": "stderr",
          "output_type": "stream",
          "text": [
            "\n"
          ]
        }
      ],
      "source": [
        "\"\"\"set up evaluation metric\"\"\"\n",
        "\n",
        "######################################################\n",
        "#  The following helper code is given to you.\n",
        "######################################################\n",
        "\n",
        "\n",
        "def compute_perplexity(texts, model=\"gpt2\", batch_size=8):\n",
        "    score = perplexity_scorer.compute(\n",
        "        predictions=texts, add_start_token=True, batch_size=batch_size, model_id=model\n",
        "    )\n",
        "    return score[\"mean_perplexity\"]\n",
        "\n",
        "\n",
        "def compute_fluency(texts, batch_size=8):\n",
        "    scores = []\n",
        "    for b_texts in batchify(texts, batch_size):\n",
        "        inputs = cola_tokenizer(\n",
        "            texts, padding=True, truncation=True, return_tensors=\"pt\"\n",
        "        ).to(device)\n",
        "        with torch.no_grad():\n",
        "            logits = cola_model(**inputs).logits\n",
        "            probs = logits.softmax(dim=-1)\n",
        "            scores.extend(probs[:, 1].tolist())\n",
        "    return sum(scores) / len(scores)\n",
        "\n",
        "\n",
        "def compute_diversity(texts):\n",
        "    unigrams, bigrams, trigrams = [], [], []\n",
        "    total_words = 0\n",
        "    for gen in texts:\n",
        "        o = gen.split(\" \")\n",
        "        total_words += len(o)\n",
        "        for i in range(len(o)):\n",
        "            unigrams.append(o[i])\n",
        "        for i in range(len(o) - 1):\n",
        "            bigrams.append(o[i] + \"_\" + o[i + 1])\n",
        "        for i in range(len(o) - 2):\n",
        "            trigrams.append(o[i] + \"_\" + o[i + 1] + \"_\" + o[i + 2])\n",
        "    return (\n",
        "        len(set(unigrams)) / len(unigrams),\n",
        "        len(set(bigrams)) / len(bigrams),\n",
        "        len(set(trigrams)) / len(trigrams),\n",
        "    )\n",
        "\n",
        "\n",
        "def evaluate(generations, experiment):\n",
        "    generations = [_ for _ in generations if _ != \"\"]\n",
        "    perplexity = compute_perplexity(generations)\n",
        "    fluency = compute_fluency(generations)\n",
        "    diversity = compute_diversity(generations)\n",
        "    print(experiment)\n",
        "    print(f\"perplexity = {perplexity:.2f}\")\n",
        "    print(f\"fluency = {fluency:.2f}\")\n",
        "    print(f\"diversity = {diversity[0]:.2f}, {diversity[1]:.2f}, {diversity[2]:.2f}\")\n",
        "    print()\n",
        "\n",
        "\n",
        "debug_sents = [\n",
        "    \"This restaurant is awesome\",\n",
        "    \"My dog is cute and I love it.\",\n",
        "    \"Today is sunny.\",\n",
        "]\n",
        "evaluate(debug_sents, \"debugging run\")"
      ]
    },
    {
      "cell_type": "markdown",
      "metadata": {
        "id": "_Srz0ZG6NX9-"
      },
      "source": [
        "### 0.3: Load Model"
      ]
    },
    {
      "cell_type": "code",
      "execution_count": 6,
      "metadata": {
        "colab": {
          "base_uri": "https://localhost:8080/"
        },
        "id": "iVwg4AX4NX9_",
        "outputId": "a735d96d-98f8-49bc-a370-bd657a55a177"
      },
      "outputs": [
        {
          "data": {
            "text/plain": [
              "GPT2LMHeadModel(\n",
              "  (transformer): GPT2Model(\n",
              "    (wte): Embedding(50257, 768)\n",
              "    (wpe): Embedding(1024, 768)\n",
              "    (drop): Dropout(p=0.1, inplace=False)\n",
              "    (h): ModuleList(\n",
              "      (0-11): 12 x GPT2Block(\n",
              "        (ln_1): LayerNorm((768,), eps=1e-05, elementwise_affine=True)\n",
              "        (attn): GPT2SdpaAttention(\n",
              "          (c_attn): Conv1D(nf=2304, nx=768)\n",
              "          (c_proj): Conv1D(nf=768, nx=768)\n",
              "          (attn_dropout): Dropout(p=0.1, inplace=False)\n",
              "          (resid_dropout): Dropout(p=0.1, inplace=False)\n",
              "        )\n",
              "        (ln_2): LayerNorm((768,), eps=1e-05, elementwise_affine=True)\n",
              "        (mlp): GPT2MLP(\n",
              "          (c_fc): Conv1D(nf=3072, nx=768)\n",
              "          (c_proj): Conv1D(nf=768, nx=3072)\n",
              "          (act): NewGELUActivation()\n",
              "          (dropout): Dropout(p=0.1, inplace=False)\n",
              "        )\n",
              "      )\n",
              "    )\n",
              "    (ln_f): LayerNorm((768,), eps=1e-05, elementwise_affine=True)\n",
              "  )\n",
              "  (lm_head): Linear(in_features=768, out_features=50257, bias=False)\n",
              ")"
            ]
          },
          "execution_count": 6,
          "metadata": {},
          "output_type": "execute_result"
        }
      ],
      "source": [
        "\"\"\"load model and tokenizer\"\"\"\n",
        "\n",
        "######################################################\n",
        "#  The following helper code is given to you.\n",
        "######################################################\n",
        "\n",
        "from transformers import GPT2LMHeadModel, GPT2Tokenizer\n",
        "\n",
        "model_name = \"gpt2\"\n",
        "tokenizer = GPT2Tokenizer.from_pretrained(model_name, pad_token=\"<|endoftext|>\")\n",
        "model = GPT2LMHeadModel.from_pretrained(model_name).to(device)\n",
        "model.eval()"
      ]
    },
    {
      "cell_type": "markdown",
      "metadata": {
        "id": "Nj0TVZyRNX9_"
      },
      "source": [
        "## **Section 1: Decoding Algorithms**\n",
        "\n",
        "In this section, you will implement a few basic decoding algorithms:\n",
        "1. Greedy decoding\n",
        "2. Vanilla sampling\n",
        "3. Temperature sampling\n",
        "4. Top-k sampling\n",
        "5. Top-p sampling\n",
        "\n",
        "We have provided a wrapper function `decode()` that takes care of batching, controlling max length, and handling the EOS token.\n",
        "You will be asked to implement the core function of each method: *given the pre-softmax logits of the next token, decide what the next token is.*\n",
        "\n",
        "**The wrapper calls the core function of each decoding algorithm, which you will implement in the subsections below.**"
      ]
    },
    {
      "cell_type": "code",
      "execution_count": 7,
      "metadata": {
        "id": "8GofKB8VNX9_"
      },
      "outputs": [],
      "source": [
        "\"\"\"decode main wrapper function\"\"\"\n",
        "\n",
        "######################################################\n",
        "#  The following helper code is given to you.\n",
        "######################################################\n",
        "\n",
        "def _update_model_kwargs_for_generation(\n",
        "    outputs, model_kwargs, is_encoder_decoder: bool = False\n",
        "):\n",
        "    # update past\n",
        "    if \"past_key_values\" in outputs:\n",
        "        model_kwargs[\"past_key_values\"] = outputs.past_key_values\n",
        "    elif \"mems\" in outputs:\n",
        "        model_kwargs[\"past_key_values\"] = outputs.mems\n",
        "    elif \"past_buckets_states\" in outputs:\n",
        "        model_kwargs[\"past_key_values\"] = outputs.past_buckets_states\n",
        "    else:\n",
        "        model_kwargs[\"past_key_values\"] = None\n",
        "\n",
        "    # update token_type_ids with last value\n",
        "    if \"token_type_ids\" in model_kwargs:\n",
        "        token_type_ids = model_kwargs[\"token_type_ids\"]\n",
        "        model_kwargs[\"token_type_ids\"] = torch.cat([token_type_ids, token_type_ids[:, -1].unsqueeze(-1)], dim=-1)\n",
        "\n",
        "    # update attention mask\n",
        "    if not is_encoder_decoder:\n",
        "        if \"attention_mask\" in model_kwargs:\n",
        "            attention_mask = model_kwargs[\"attention_mask\"]\n",
        "            model_kwargs[\"attention_mask\"] = torch.cat(\n",
        "                [attention_mask, attention_mask.new_ones((attention_mask.shape[0], 1))], dim=-1\n",
        "            )\n",
        "\n",
        "    return model_kwargs\n",
        "\n",
        "def decode(prompts, max_len, method, **kwargs):\n",
        "    encodings_dict = tokenizer(prompts, return_tensors=\"pt\", padding=True)\n",
        "    input_ids = encodings_dict[\"input_ids\"].to(device)\n",
        "    attention_mask = encodings_dict[\"attention_mask\"].to(device)\n",
        "\n",
        "    model_kwargs = {\"attention_mask\": attention_mask}\n",
        "    batch_size, input_seq_len = input_ids.shape\n",
        "\n",
        "    unfinished_sequences = torch.ones(batch_size, dtype=torch.long, device=device)\n",
        "\n",
        "    for step in range(max_len):\n",
        "        model_inputs = model.prepare_inputs_for_generation(input_ids, **model_kwargs)\n",
        "        with torch.no_grad():\n",
        "            outputs = model(\n",
        "                **model_inputs,\n",
        "                return_dict=True,\n",
        "                output_attentions=False,\n",
        "                output_hidden_states=False,\n",
        "            )\n",
        "\n",
        "        if step == 0:\n",
        "            last_non_masked_idx = torch.sum(attention_mask, dim=1) - 1\n",
        "            next_token_logits = outputs.logits[\n",
        "                range(batch_size), last_non_masked_idx, :\n",
        "            ]\n",
        "        else:\n",
        "            next_token_logits = outputs.logits[:, -1, :]\n",
        "\n",
        "        log_prob = F.log_softmax(next_token_logits, dim=-1)\n",
        "\n",
        "        if method == \"greedy\":\n",
        "            next_tokens = greedy(next_token_logits)\n",
        "        elif method == \"sample\":\n",
        "            next_tokens = sample(next_token_logits)\n",
        "        elif method == \"temperature\":\n",
        "            next_tokens = temperature(next_token_logits, temperature=kwargs.get(\"temperature\", 0.8))\n",
        "        elif method == \"topk\":\n",
        "            next_tokens = topk(\n",
        "                next_token_logits,\n",
        "                k=kwargs.get(\"k\", 20),\n",
        "                temperature=kwargs.get(\"temperature\", 1.0),\n",
        "            )\n",
        "        elif method == \"topp\":\n",
        "            next_tokens = topp(\n",
        "                next_token_logits,\n",
        "                p=kwargs.get(\"p\", 0.7),\n",
        "                temperature=kwargs.get(\"temperature\", 1.0),\n",
        "            )\n",
        "\n",
        "        # finished sentences should have their next token be a padding token\n",
        "        next_tokens = next_tokens * unfinished_sequences + tokenizer.pad_token_id * (\n",
        "            1 - unfinished_sequences\n",
        "        )\n",
        "\n",
        "        input_ids = torch.cat([input_ids, next_tokens[:, None]], dim=-1)\n",
        "        # model_kwargs[\"attention_mask\"] = torch.cat(\n",
        "        #     [attention_mask, torch.ones_like(next_tokens[:, None])], dim=-1\n",
        "        # )\n",
        "        model_kwargs = _update_model_kwargs_for_generation(\n",
        "            outputs, model_kwargs, is_encoder_decoder=model.config.is_encoder_decoder\n",
        "        )\n",
        "\n",
        "        # model_kwargs = model._update_model_kwargs_for_generation(\n",
        "        #     outputs,\n",
        "        #     model_kwargs,\n",
        "        #     is_encoder_decoder=model.config.is_encoder_decoder,\n",
        "        # )\n",
        "\n",
        "        # if eos_token was found in one sentence, set sentence to finished\n",
        "        unfinished_sequences = unfinished_sequences.mul(\n",
        "            (next_tokens != tokenizer.eos_token_id).long()\n",
        "        )\n",
        "\n",
        "        if unfinished_sequences.max() == 0:\n",
        "            break\n",
        "\n",
        "    response_ids = input_ids[:, input_seq_len:]\n",
        "    response_text = [\n",
        "        tokenizer.decode(\n",
        "            output, skip_special_tokens=True, clean_up_tokenization_spaces=True\n",
        "        )\n",
        "        for output in response_ids\n",
        "    ]\n",
        "\n",
        "    return response_text"
      ]
    },
    {
      "cell_type": "code",
      "execution_count": 8,
      "metadata": {
        "id": "qm-AmDIQNX9_"
      },
      "outputs": [],
      "source": [
        "\"\"\"debug helper code\"\"\"\n",
        "\n",
        "######################################################\n",
        "#  The following helper code is given to you.\n",
        "######################################################\n",
        "\n",
        "# For debugging, we duplicate a single prompt 10 times so that we obtain 10 generations for the same prompt\n",
        "dev_prompts = [dev_data[0][\"prompt\"]] * 10\n",
        "\n",
        "\n",
        "def print_generations(prompts, generations):\n",
        "    for prompt, generation in zip(prompts, generations):\n",
        "        print(f\"{[prompt]} ==> {[generation]}\")"
      ]
    },
    {
      "cell_type": "markdown",
      "metadata": {
        "id": "92B0-5qGNX9_"
      },
      "source": [
        "### 1.1: Greedy Decoding"
      ]
    },
    {
      "cell_type": "code",
      "execution_count": 9,
      "metadata": {
        "deletable": false,
        "id": "kVGYgrudNX9_",
        "nbgrader": {
          "cell_type": "code",
          "checksum": "67fa5b2e58c40210fe7eb3f97faae38c",
          "grade": false,
          "grade_id": "cell-105debff5fe08d80",
          "locked": false,
          "schema_version": 3,
          "solution": true,
          "task": false
        }
      },
      "outputs": [],
      "source": [
        "def greedy(next_token_logits):\n",
        "    \"\"\"\n",
        "    Applies greedy decoding to get the next token.\n",
        "    inputs:\n",
        "    - next_token_logits: Tensor(size = (B, V), dtype = float)\n",
        "    outputs:\n",
        "    - next_tokens: Tensor(size = (B), dtype = long)\n",
        "\n",
        "    \"\"\"\n",
        "    next_tokens = None\n",
        "    # YOUR CODE HERE\n",
        "    next_tokens = torch.argmax(next_token_logits, dim=-1)\n",
        "    return next_tokens"
      ]
    },
    {
      "cell_type": "code",
      "execution_count": 10,
      "metadata": {
        "colab": {
          "base_uri": "https://localhost:8080/"
        },
        "id": "ztI2SoK0NX9_",
        "outputId": "461fbeb3-fd9f-4f9c-919e-bf66a5f0584b"
      },
      "outputs": [
        {
          "name": "stdout",
          "output_type": "stream",
          "text": [
            "['Ryan was called by his friend to skip work one day.'] ==> ['\\n\\n\"I was like, \\'I\\'m going to go to work tomorrow,\\'\" he said.']\n",
            "['Ryan was called by his friend to skip work one day.'] ==> ['\\n\\n\"I was like, \\'I\\'m going to go to work tomorrow,\\'\" he said.']\n",
            "['Ryan was called by his friend to skip work one day.'] ==> ['\\n\\n\"I was like, \\'I\\'m going to go to work tomorrow,\\'\" he said.']\n",
            "['Ryan was called by his friend to skip work one day.'] ==> ['\\n\\n\"I was like, \\'I\\'m going to go to work tomorrow,\\'\" he said.']\n",
            "['Ryan was called by his friend to skip work one day.'] ==> ['\\n\\n\"I was like, \\'I\\'m going to go to work tomorrow,\\'\" he said.']\n",
            "['Ryan was called by his friend to skip work one day.'] ==> ['\\n\\n\"I was like, \\'I\\'m going to go to work tomorrow,\\'\" he said.']\n",
            "['Ryan was called by his friend to skip work one day.'] ==> ['\\n\\n\"I was like, \\'I\\'m going to go to work tomorrow,\\'\" he said.']\n",
            "['Ryan was called by his friend to skip work one day.'] ==> ['\\n\\n\"I was like, \\'I\\'m going to go to work tomorrow,\\'\" he said.']\n",
            "['Ryan was called by his friend to skip work one day.'] ==> ['\\n\\n\"I was like, \\'I\\'m going to go to work tomorrow,\\'\" he said.']\n",
            "['Ryan was called by his friend to skip work one day.'] ==> ['\\n\\n\"I was like, \\'I\\'m going to go to work tomorrow,\\'\" he said.']\n"
          ]
        }
      ],
      "source": [
        "generations = decode(dev_prompts, max_len=20, method=\"greedy\")\n",
        "print_generations(dev_prompts, generations)"
      ]
    },
    {
      "cell_type": "markdown",
      "metadata": {
        "id": "EiUh0_jtNX9_"
      },
      "source": [
        "### 1.2: Vanilla Sampling and Temperature Sampling"
      ]
    },
    {
      "cell_type": "code",
      "execution_count": 11,
      "metadata": {
        "deletable": false,
        "id": "AAl5RIKJNX9_",
        "nbgrader": {
          "cell_type": "code",
          "checksum": "3bf0eb9b1bd75f68f4deb188543ab1f6",
          "grade": false,
          "grade_id": "cell-e7bd215427887e78",
          "locked": false,
          "schema_version": 3,
          "solution": true,
          "task": false
        }
      },
      "outputs": [],
      "source": [
        "def sample(next_token_logits):\n",
        "\n",
        "    \"\"\"\n",
        "    inputs:\n",
        "    - next_token_logits: Tensor(size = (B, V), dtype = float)\n",
        "    outputs:\n",
        "    - next_tokens: Tensor(size = (B), dtype = long)\n",
        "\n",
        "    Hint: use torch.multinomial()\n",
        "    \"\"\"\n",
        "\n",
        "    next_tokens = None\n",
        "    # YOUR CODE HERE\n",
        "    next_tokens = torch.multinomial(F.softmax(next_token_logits, dim=-1), num_samples=1)\n",
        "    next_tokens = next_tokens.squeeze(-1)\n",
        "    return next_tokens"
      ]
    },
    {
      "cell_type": "code",
      "execution_count": 12,
      "metadata": {
        "colab": {
          "base_uri": "https://localhost:8080/"
        },
        "id": "SQMlgKdDNX9_",
        "outputId": "af4b55e8-42f7-4946-ecde-fde60f1a16b0"
      },
      "outputs": [
        {
          "name": "stdout",
          "output_type": "stream",
          "text": [
            "['Ryan was called by his friend to skip work one day.'] ==> ['\\n\\n\"Let\\'s walk through the window,\" the banner states (it didn\\'t say that at']\n",
            "['Ryan was called by his friend to skip work one day.'] ==> [' Tucked inside a basement window, he found a packed pack of cigarettes on a tin counter in the']\n",
            "['Ryan was called by his friend to skip work one day.'] ==> [' He said he wanted to enroll in school next Thursday.\\n\\nPolice said a woman and her child']\n",
            "['Ryan was called by his friend to skip work one day.'] ==> [' The person had taken him on a hike.\\n\\nWas filming normal? Yep, except that the']\n",
            "['Ryan was called by his friend to skip work one day.'] ==> [' Our co-author is a doctor at the Pepperdine University who is close with many of the']\n",
            "['Ryan was called by his friend to skip work one day.'] ==> [\" He'd been bullied for a while now. He couldn't get up from his desk. He suddenly\"]\n",
            "['Ryan was called by his friend to skip work one day.'] ==> [' But leaving his $100,000 credit card when his plane landed in Miami and flying to Florida was']\n",
            "['Ryan was called by his friend to skip work one day.'] ==> [' Freddie Martin, who works at a non-exchangeable company in Brooklyn, stops by at a']\n",
            "['Ryan was called by his friend to skip work one day.'] ==> [' The local paper has just published a story from Penn State, but, boy! The junior leading six']\n",
            "['Ryan was called by his friend to skip work one day.'] ==> [' Then he made his way to meetings just where Metman was goofing up the rice-pickers']\n"
          ]
        }
      ],
      "source": [
        "set_seed()\n",
        "generations = decode(dev_prompts, max_len=20, method=\"sample\")\n",
        "print_generations(dev_prompts, generations)"
      ]
    },
    {
      "cell_type": "code",
      "execution_count": 13,
      "metadata": {
        "deletable": false,
        "id": "OGZPWs1tNX9_",
        "nbgrader": {
          "cell_type": "code",
          "checksum": "03d44ae38fa4e19ee941b97cff6be030",
          "grade": false,
          "grade_id": "cell-9c65b70fb33ce73e",
          "locked": false,
          "schema_version": 3,
          "solution": true,
          "task": false
        }
      },
      "outputs": [],
      "source": [
        "def temperature(next_token_logits, temperature):\n",
        "    \"\"\"\n",
        "    inputs:\n",
        "    - next_token_logits: Tensor(size = (B, V), dtype = float)\n",
        "    - temperature: Temperature parameter float\n",
        "    outputs:\n",
        "    - next_tokens: Tensor(size = (B), dtype = long)\n",
        "    \"\"\"\n",
        "    next_tokens = None\n",
        "    next_tokens = torch.multinomial(F.softmax(next_token_logits / temperature, dim=-1), num_samples=1)\n",
        "    next_tokens = next_tokens.squeeze(-1)\n",
        "    return next_tokens"
      ]
    },
    {
      "cell_type": "code",
      "execution_count": 14,
      "metadata": {
        "colab": {
          "base_uri": "https://localhost:8080/"
        },
        "id": "1kzU7asWNX-A",
        "outputId": "81528760-02a7-4cc0-f97c-913541229d9f"
      },
      "outputs": [
        {
          "name": "stdout",
          "output_type": "stream",
          "text": [
            "['Ryan was called by his friend to skip work one day.'] ==> ['\\n\\n\"I told him if I listened to the job, (it would pay him) $']\n",
            "['Ryan was called by his friend to skip work one day.'] ==> [' The hunger strike was held in a tunnel deep beneath Northeast Cleveland, which was hosting a public hearing.']\n",
            "['Ryan was called by his friend to skip work one day.'] ==> [' He said he wanted to enroll in school.\\n\\n\"I didn\\'t feel safe and didn\\'t']\n",
            "['Ryan was called by his friend to skip work one day.'] ==> [' The person had taken him on a hike.\\n\\nWas filming normal?\\n\\nAnyone who saw']\n",
            "['Ryan was called by his friend to skip work one day.'] ==> [' Our co-author is a doctor at the University of California, Irvine. As a pioneer of child']\n",
            "['Ryan was called by his friend to skip work one day.'] ==> [\" He'd been bullied for a while now. He couldn't get up from his desk. He couldn\"]\n",
            "['Ryan was called by his friend to skip work one day.'] ==> [' But he could have been paid well under $600,000 higher than the average American.\\n\\n']\n",
            "['Ryan was called by his friend to skip work one day.'] ==> [' The police have yet to offer an explanation.\\n\\nThe last time police had a photo at a']\n",
            "['Ryan was called by his friend to skip work one day.'] ==> [' The local paper was just doing a story on Penn State, but, boy, does he feel that']\n",
            "['Ryan was called by his friend to skip work one day.'] ==> [' Then he made his way to the school where the girl was goofing off, and he was told']\n"
          ]
        }
      ],
      "source": [
        "set_seed()\n",
        "generations = decode(dev_prompts, max_len=20, method=\"temperature\", temperature=0.8)\n",
        "print_generations(dev_prompts, generations)"
      ]
    },
    {
      "cell_type": "markdown",
      "metadata": {
        "id": "jz6KVNhRNX-A"
      },
      "source": [
        "### 1.3: Top-k Sampling\n",
        "\n",
        "Useful tips:\n",
        "- Recall that in Top-k sampling, we only sample from the top-k tokens with the highest probabilities. To ensure that we set the logits other than the top-k to be -inf. You can use `float(\"-inf\")` to represent infinity in python.\n",
        "- You will find `torch.topk()` useful for getting the top-k logits and indices. Check out the [documentation](https://pytorch.org/docs/stable/generated/torch.topk.html) for the function for more details.\n",
        "- Do not forget to divide the logits by the temperature before applying softmax."
      ]
    },
    {
      "cell_type": "code",
      "execution_count": 15,
      "metadata": {
        "deletable": false,
        "id": "2HEJ7w9fNX-A",
        "nbgrader": {
          "cell_type": "code",
          "checksum": "611732370e1db2672140fc432e6070ef",
          "grade": false,
          "grade_id": "cell-79739f6214d80a0e",
          "locked": false,
          "schema_version": 3,
          "solution": true,
          "task": false
        }
      },
      "outputs": [],
      "source": [
        "def topk(next_token_logits, k, temperature = 1):\n",
        "\n",
        "    \"\"\"\n",
        "    Applies the top-k sampling decoding algorithm to get the next token.\n",
        "    inputs:\n",
        "    - next_token_logits: Tensor(size = (B, V), dtype = float)\n",
        "    - k: int, the number of top tokens to consider\n",
        "    - temperature: Temperature parameter float\n",
        "    outputs:\n",
        "    - next_tokens: Tensor(size = (B), dtype = long)\n",
        "    \"\"\"\n",
        "    next_tokens = None\n",
        "    # YOUR CODE HERE\n",
        "    next_tokens = next_token_logits / temperature\n",
        "    min = torch.topk(next_tokens, k=k, dim=-1).values[:,-1].unsqueeze(-1)\n",
        "    next_tokens[next_tokens < min] = float('-inf')\n",
        "    next_tokens = torch.multinomial(F.softmax(next_tokens, dim=-1), num_samples=1)\n",
        "    next_tokens = next_tokens.squeeze(-1)\n",
        "    return next_tokens"
      ]
    },
    {
      "cell_type": "code",
      "execution_count": 16,
      "metadata": {
        "colab": {
          "base_uri": "https://localhost:8080/"
        },
        "id": "2rRtxtoaNX-A",
        "outputId": "c529fceb-fb0b-4e02-8f84-fe94cfd99215"
      },
      "outputs": [
        {
          "name": "stdout",
          "output_type": "stream",
          "text": [
            "['Ryan was called by his friend to skip work one day.'] ==> ['\\n\\n\"I told him if I got to the job, he\\'d tell me to skip lunch']\n",
            "['Ryan was called by his friend to skip work one day.'] ==> [\" The second time, however, he didn't make it because he'd lost interest in his job.\"]\n",
            "['Ryan was called by his friend to skip work one day.'] ==> [' He said he wanted to come home as soon as possible to have coffee, a meal and to do']\n",
            "['Ryan was called by his friend to skip work one day.'] ==> [' The police had taken him on a search warrant that had to be approved as part of the search for']\n",
            "['Ryan was called by his friend to skip work one day.'] ==> [' They would then drive home after work at the same times the other week. As the friend was talking']\n",
            "['Ryan was called by his friend to skip work one day.'] ==> [\" He'd been scheduled to join the team on a vacation to Europe for a week, but that day\"]\n",
            "['Ryan was called by his friend to skip work one day.'] ==> [\" But he said he went to his friends and told them he wasn't going to work on his schedule\"]\n",
            "['Ryan was called by his friend to skip work one day.'] ==> [\" The police report indicates that he said he was told he couldn't go out in public with the other\"]\n",
            "['Ryan was called by his friend to skip work one day.'] ==> [' The next morning, when the train finally stopped, he felt his stomach begin to swell and his chest']\n",
            "['Ryan was called by his friend to skip work one day.'] ==> [\" He wasn't home on Tuesday morning when it came time for a walk, but he got home that\"]\n"
          ]
        }
      ],
      "source": [
        "set_seed()\n",
        "generations = decode(dev_prompts, max_len=20, method=\"topk\", k=20)\n",
        "print_generations(dev_prompts, generations)"
      ]
    },
    {
      "cell_type": "markdown",
      "metadata": {
        "id": "dhbKJIPTNX-A"
      },
      "source": [
        "### 1.4: Top-p Sampling"
      ]
    },
    {
      "cell_type": "code",
      "execution_count": 17,
      "metadata": {
        "deletable": false,
        "id": "R1QudzR0NX-A",
        "nbgrader": {
          "cell_type": "code",
          "checksum": "5ab20a9d9cb6e6c50e109fed344c0b97",
          "grade": false,
          "grade_id": "cell-906fc971403533de",
          "locked": false,
          "schema_version": 3,
          "solution": true,
          "task": false
        }
      },
      "outputs": [],
      "source": [
        "def topp(next_token_logits, p, temperature = 1):\n",
        "    \"\"\"\n",
        "    Applies the top-p sampling or nucleus sampling decoding algorithm to get the next token.\n",
        "    inputs:\n",
        "    - next_token_logits: Tensor(size = (B, V), dtype = float)\n",
        "    - p: float, the cutoff probability for the top-p sampling\n",
        "    - temperature: Temperature parameter float\n",
        "    outputs:\n",
        "    - next_tokens: Tensor(size = (B), dtype = long)\n",
        "    \"\"\"\n",
        "\n",
        "    # TODO: Sort the logits in descending order, and compute\n",
        "    # the cumulative probabilities `cum_probs` on the sorted logits\n",
        "    sorted_logits, sorted_indices = None, None\n",
        "    sorted_probs = None\n",
        "    cum_probs = None\n",
        "    # YOUR CODE HERE\n",
        "    sorted_logits, sorted_indices = torch.sort(next_token_logits, descending=True, dim=-1)\n",
        "    sorted_probs = F.softmax(sorted_logits / temperature, dim=-1)\n",
        "    cum_probs = torch.cumsum(sorted_probs, dim=-1)\n",
        "\n",
        "    # Create a mask to zero out all logits not in top-p\n",
        "    sorted_indices_to_remove = cum_probs > p\n",
        "    sorted_indices_to_remove[:, 1:] = sorted_indices_to_remove[:, :-1].clone()\n",
        "    sorted_indices_to_remove[:, 0] = 0\n",
        "    # Restore mask to original indices\n",
        "    indices_to_remove = sorted_indices_to_remove.scatter(dim=1, index=sorted_indices, src=sorted_indices_to_remove)\n",
        "\n",
        "    # Mask the logits\n",
        "    next_token_logits[indices_to_remove] = float('-inf')\n",
        "\n",
        "    # TODO: Sample from the masked logits\n",
        "    next_tokens = None\n",
        "    # YOUR CODE HERE\n",
        "    next_tokens = torch.multinomial(F.softmax(next_token_logits, dim=-1), num_samples=1)\n",
        "    next_tokens = next_tokens.squeeze(-1)\n",
        "    return next_tokens"
      ]
    },
    {
      "cell_type": "code",
      "execution_count": 18,
      "metadata": {
        "colab": {
          "base_uri": "https://localhost:8080/"
        },
        "id": "tx_60J_mNX-A",
        "outputId": "bea0d5af-7687-4741-93aa-f1578299769a"
      },
      "outputs": [
        {
          "name": "stdout",
          "output_type": "stream",
          "text": [
            "['Ryan was called by his friend to skip work one day.'] ==> ['\\n\\n\"I told him I had a game plan for my game day and I told him,']\n",
            "['Ryan was called by his friend to skip work one day.'] ==> [' The owner said, \"This is the guy who shot us, who didn\\'t want to do this']\n",
            "['Ryan was called by his friend to skip work one day.'] ==> [\" He said he wanted to skip school one day. He said he didn't want to waste time,\"]\n",
            "['Ryan was called by his friend to skip work one day.'] ==> [' The person had taken him to the hospital.\\n\\nZimmerman said the couple had planned to']\n",
            "['Ryan was called by his friend to skip work one day.'] ==> ['\\n\\n\\n\"The waiter came in and asked me what I was doing and I told him to come']\n",
            "['Ryan was called by his friend to skip work one day.'] ==> [' He\\'d been promised to \"go back to the locker room.\"\\n\\n\"I\\'m going to']\n",
            "['Ryan was called by his friend to skip work one day.'] ==> [' But he could have been paid a day off for his participation in the bombing and the American bomb was']\n",
            "['Ryan was called by his friend to skip work one day.'] ==> [' The police have yet to contact him.\\n\\nWhile there was little other than a photo of a']\n",
            "['Ryan was called by his friend to skip work one day.'] ==> [' The local paper has just published a story in which he admits to having some sort of sexual relationship with']\n",
            "['Ryan was called by his friend to skip work one day.'] ==> [\" Then he made his way to Kaitlyn's apartment. He was afraid that Kaitlyn would\"]\n"
          ]
        }
      ],
      "source": [
        "set_seed()\n",
        "generations = decode(dev_prompts, max_len=20, method=\"topp\", p=0.7)\n",
        "print_generations(dev_prompts, generations)"
      ]
    },
    {
      "cell_type": "markdown",
      "metadata": {
        "id": "kSlonEf1NX-A"
      },
      "source": [
        "### 1.5: Evaluate!\n",
        "\n",
        "Run the following cell to obtain the evaluation results.\n",
        "Also don't forget to answer the questions."
      ]
    },
    {
      "cell_type": "code",
      "execution_count": 22,
      "metadata": {},
      "outputs": [
        {
          "name": "stderr",
          "output_type": "stream",
          "text": [
            "huggingface/tokenizers: The current process just got forked, after parallelism has already been used. Disabling parallelism to avoid deadlocks...\n",
            "To disable this warning, you can either:\n",
            "\t- Avoid using `tokenizers` before the fork if possible\n",
            "\t- Explicitly set the environment variable TOKENIZERS_PARALLELISM=(true | false)\n"
          ]
        },
        {
          "name": "stdout",
          "output_type": "stream",
          "text": [
            "\u001b[33m(Deprecated) Installing extensions with the jupyter labextension install command is now deprecated and will be removed in a future major version of JupyterLab.\n",
            "\n",
            "Users should manage prebuilt extensions with package managers like pip and conda, and extension authors are encouraged to distribute their extensions as prebuilt packages \u001b[0m\n",
            "/home/arunasrivastava/miniconda3/lib/python3.12/site-packages/jupyterlab/debuglog.py:54: UserWarning: An error occurred.\n",
            "  warnings.warn(\"An error occurred.\")\n",
            "/home/arunasrivastava/miniconda3/lib/python3.12/site-packages/jupyterlab/debuglog.py:55: UserWarning: ValueError: Please install Node.js and npm before continuing installation. You may be able to install Node.js from your package manager, from conda, or directly from the Node.js website (https://nodejs.org).\n",
            "  warnings.warn(msg[-1].strip())\n",
            "/home/arunasrivastava/miniconda3/lib/python3.12/site-packages/jupyterlab/debuglog.py:56: UserWarning: See the log file for details: /tmp/jupyterlab-debug-q8fj0r2m.log\n",
            "  warnings.warn(f\"See the log file for details: {log_path!s}\")\n"
          ]
        }
      ],
      "source": [
        "!jupyter labextension install @jupyter-widgets/jupyterlab-manager"
      ]
    },
    {
      "cell_type": "code",
      "execution_count": 27,
      "metadata": {},
      "outputs": [
        {
          "name": "stderr",
          "output_type": "stream",
          "text": [
            "huggingface/tokenizers: The current process just got forked, after parallelism has already been used. Disabling parallelism to avoid deadlocks...\n",
            "To disable this warning, you can either:\n",
            "\t- Avoid using `tokenizers` before the fork if possible\n",
            "\t- Explicitly set the environment variable TOKENIZERS_PARALLELISM=(true | false)\n"
          ]
        },
        {
          "name": "stdout",
          "output_type": "stream",
          "text": [
            "Collecting jupyter\n",
            "  Downloading jupyter-1.1.1-py2.py3-none-any.whl.metadata (2.0 kB)\n",
            "Collecting notebook (from jupyter)\n",
            "  Downloading notebook-7.3.1-py3-none-any.whl.metadata (10 kB)\n",
            "Collecting jupyter-console (from jupyter)\n",
            "  Downloading jupyter_console-6.6.3-py3-none-any.whl.metadata (5.8 kB)\n",
            "Collecting nbconvert (from jupyter)\n",
            "  Downloading nbconvert-7.16.4-py3-none-any.whl.metadata (8.5 kB)\n",
            "Requirement already satisfied: ipykernel in ./env/lib/python3.12/site-packages (from jupyter) (6.29.5)\n",
            "Requirement already satisfied: ipywidgets in ./env/lib/python3.12/site-packages (from jupyter) (8.1.5)\n",
            "Collecting jupyterlab (from jupyter)\n",
            "  Downloading jupyterlab-4.3.2-py3-none-any.whl.metadata (16 kB)\n",
            "Requirement already satisfied: comm>=0.1.1 in ./env/lib/python3.12/site-packages (from ipykernel->jupyter) (0.2.2)\n",
            "Requirement already satisfied: debugpy>=1.6.5 in ./env/lib/python3.12/site-packages (from ipykernel->jupyter) (1.8.9)\n",
            "Requirement already satisfied: ipython>=7.23.1 in ./env/lib/python3.12/site-packages (from ipykernel->jupyter) (8.30.0)\n",
            "Requirement already satisfied: jupyter-client>=6.1.12 in ./env/lib/python3.12/site-packages (from ipykernel->jupyter) (8.6.3)\n",
            "Requirement already satisfied: jupyter-core!=5.0.*,>=4.12 in ./env/lib/python3.12/site-packages (from ipykernel->jupyter) (5.7.2)\n",
            "Requirement already satisfied: matplotlib-inline>=0.1 in ./env/lib/python3.12/site-packages (from ipykernel->jupyter) (0.1.7)\n",
            "Requirement already satisfied: nest-asyncio in ./env/lib/python3.12/site-packages (from ipykernel->jupyter) (1.6.0)\n",
            "Requirement already satisfied: packaging in ./env/lib/python3.12/site-packages (from ipykernel->jupyter) (24.2)\n",
            "Requirement already satisfied: psutil in ./env/lib/python3.12/site-packages (from ipykernel->jupyter) (6.1.0)\n",
            "Requirement already satisfied: pyzmq>=24 in ./env/lib/python3.12/site-packages (from ipykernel->jupyter) (26.2.0)\n",
            "Requirement already satisfied: tornado>=6.1 in ./env/lib/python3.12/site-packages (from ipykernel->jupyter) (6.4.2)\n",
            "Requirement already satisfied: traitlets>=5.4.0 in ./env/lib/python3.12/site-packages (from ipykernel->jupyter) (5.14.3)\n",
            "Requirement already satisfied: widgetsnbextension~=4.0.12 in ./env/lib/python3.12/site-packages (from ipywidgets->jupyter) (4.0.13)\n",
            "Requirement already satisfied: jupyterlab-widgets~=3.0.12 in ./env/lib/python3.12/site-packages (from ipywidgets->jupyter) (3.0.13)\n",
            "Requirement already satisfied: prompt-toolkit>=3.0.30 in ./env/lib/python3.12/site-packages (from jupyter-console->jupyter) (3.0.48)\n",
            "Requirement already satisfied: pygments in ./env/lib/python3.12/site-packages (from jupyter-console->jupyter) (2.18.0)\n",
            "Collecting async-lru>=1.0.0 (from jupyterlab->jupyter)\n",
            "  Downloading async_lru-2.0.4-py3-none-any.whl.metadata (4.5 kB)\n",
            "Collecting httpx~=0.28.0 (from jupyterlab->jupyter)\n",
            "  Downloading httpx-0.28.1-py3-none-any.whl.metadata (7.1 kB)\n",
            "Requirement already satisfied: jinja2>=3.0.3 in ./env/lib/python3.12/site-packages (from jupyterlab->jupyter) (3.1.4)\n",
            "Collecting jupyter-lsp>=2.0.0 (from jupyterlab->jupyter)\n",
            "  Downloading jupyter_lsp-2.2.5-py3-none-any.whl.metadata (1.8 kB)\n",
            "Collecting jupyter-server<3,>=2.4.0 (from jupyterlab->jupyter)\n",
            "  Downloading jupyter_server-2.14.2-py3-none-any.whl.metadata (8.4 kB)\n",
            "Collecting jupyterlab-server<3,>=2.27.1 (from jupyterlab->jupyter)\n",
            "  Downloading jupyterlab_server-2.27.3-py3-none-any.whl.metadata (5.9 kB)\n",
            "Collecting notebook-shim>=0.2 (from jupyterlab->jupyter)\n",
            "  Downloading notebook_shim-0.2.4-py3-none-any.whl.metadata (4.0 kB)\n",
            "Requirement already satisfied: setuptools>=40.8.0 in ./env/lib/python3.12/site-packages (from jupyterlab->jupyter) (75.6.0)\n",
            "Collecting beautifulsoup4 (from nbconvert->jupyter)\n",
            "  Downloading beautifulsoup4-4.12.3-py3-none-any.whl.metadata (3.8 kB)\n",
            "Collecting bleach!=5.0.0 (from nbconvert->jupyter)\n",
            "  Downloading bleach-6.2.0-py3-none-any.whl.metadata (30 kB)\n",
            "Collecting defusedxml (from nbconvert->jupyter)\n",
            "  Downloading defusedxml-0.7.1-py2.py3-none-any.whl.metadata (32 kB)\n",
            "Collecting jupyterlab-pygments (from nbconvert->jupyter)\n",
            "  Downloading jupyterlab_pygments-0.3.0-py3-none-any.whl.metadata (4.4 kB)\n",
            "Requirement already satisfied: markupsafe>=2.0 in ./env/lib/python3.12/site-packages (from nbconvert->jupyter) (3.0.2)\n",
            "Collecting mistune<4,>=2.0.3 (from nbconvert->jupyter)\n",
            "  Downloading mistune-3.0.2-py3-none-any.whl.metadata (1.7 kB)\n",
            "Collecting nbclient>=0.5.0 (from nbconvert->jupyter)\n",
            "  Downloading nbclient-0.10.1-py3-none-any.whl.metadata (8.2 kB)\n",
            "Collecting nbformat>=5.7 (from nbconvert->jupyter)\n",
            "  Downloading nbformat-5.10.4-py3-none-any.whl.metadata (3.6 kB)\n",
            "Collecting pandocfilters>=1.4.1 (from nbconvert->jupyter)\n",
            "  Downloading pandocfilters-1.5.1-py2.py3-none-any.whl.metadata (9.0 kB)\n",
            "Collecting tinycss2 (from nbconvert->jupyter)\n",
            "  Downloading tinycss2-1.4.0-py3-none-any.whl.metadata (3.0 kB)\n",
            "Collecting webencodings (from bleach!=5.0.0->nbconvert->jupyter)\n",
            "  Downloading webencodings-0.5.1-py2.py3-none-any.whl.metadata (2.1 kB)\n",
            "Collecting anyio (from httpx~=0.28.0->jupyterlab->jupyter)\n",
            "  Downloading anyio-4.7.0-py3-none-any.whl.metadata (4.7 kB)\n",
            "Requirement already satisfied: certifi in ./env/lib/python3.12/site-packages (from httpx~=0.28.0->jupyterlab->jupyter) (2024.8.30)\n",
            "Collecting httpcore==1.* (from httpx~=0.28.0->jupyterlab->jupyter)\n",
            "  Downloading httpcore-1.0.7-py3-none-any.whl.metadata (21 kB)\n",
            "Requirement already satisfied: idna in ./env/lib/python3.12/site-packages (from httpx~=0.28.0->jupyterlab->jupyter) (3.10)\n",
            "Collecting h11<0.15,>=0.13 (from httpcore==1.*->httpx~=0.28.0->jupyterlab->jupyter)\n",
            "  Downloading h11-0.14.0-py3-none-any.whl.metadata (8.2 kB)\n",
            "Requirement already satisfied: decorator in ./env/lib/python3.12/site-packages (from ipython>=7.23.1->ipykernel->jupyter) (5.1.1)\n",
            "Requirement already satisfied: jedi>=0.16 in ./env/lib/python3.12/site-packages (from ipython>=7.23.1->ipykernel->jupyter) (0.19.2)\n",
            "Requirement already satisfied: pexpect>4.3 in ./env/lib/python3.12/site-packages (from ipython>=7.23.1->ipykernel->jupyter) (4.9.0)\n",
            "Requirement already satisfied: stack_data in ./env/lib/python3.12/site-packages (from ipython>=7.23.1->ipykernel->jupyter) (0.6.3)\n",
            "Requirement already satisfied: python-dateutil>=2.8.2 in ./env/lib/python3.12/site-packages (from jupyter-client>=6.1.12->ipykernel->jupyter) (2.9.0.post0)\n",
            "Requirement already satisfied: platformdirs>=2.5 in ./env/lib/python3.12/site-packages (from jupyter-core!=5.0.*,>=4.12->ipykernel->jupyter) (4.3.6)\n",
            "Collecting argon2-cffi>=21.1 (from jupyter-server<3,>=2.4.0->jupyterlab->jupyter)\n",
            "  Downloading argon2_cffi-23.1.0-py3-none-any.whl.metadata (5.2 kB)\n",
            "Collecting jupyter-events>=0.9.0 (from jupyter-server<3,>=2.4.0->jupyterlab->jupyter)\n",
            "  Downloading jupyter_events-0.10.0-py3-none-any.whl.metadata (5.9 kB)\n",
            "Collecting jupyter-server-terminals>=0.4.4 (from jupyter-server<3,>=2.4.0->jupyterlab->jupyter)\n",
            "  Downloading jupyter_server_terminals-0.5.3-py3-none-any.whl.metadata (5.6 kB)\n",
            "Collecting overrides>=5.0 (from jupyter-server<3,>=2.4.0->jupyterlab->jupyter)\n",
            "  Downloading overrides-7.7.0-py3-none-any.whl.metadata (5.8 kB)\n",
            "Collecting prometheus-client>=0.9 (from jupyter-server<3,>=2.4.0->jupyterlab->jupyter)\n",
            "  Downloading prometheus_client-0.21.1-py3-none-any.whl.metadata (1.8 kB)\n",
            "Collecting send2trash>=1.8.2 (from jupyter-server<3,>=2.4.0->jupyterlab->jupyter)\n",
            "  Downloading Send2Trash-1.8.3-py3-none-any.whl.metadata (4.0 kB)\n",
            "Collecting terminado>=0.8.3 (from jupyter-server<3,>=2.4.0->jupyterlab->jupyter)\n",
            "  Downloading terminado-0.18.1-py3-none-any.whl.metadata (5.8 kB)\n",
            "Collecting websocket-client>=1.7 (from jupyter-server<3,>=2.4.0->jupyterlab->jupyter)\n",
            "  Downloading websocket_client-1.8.0-py3-none-any.whl.metadata (8.0 kB)\n",
            "Collecting babel>=2.10 (from jupyterlab-server<3,>=2.27.1->jupyterlab->jupyter)\n",
            "  Using cached babel-2.16.0-py3-none-any.whl.metadata (1.5 kB)\n",
            "Collecting json5>=0.9.0 (from jupyterlab-server<3,>=2.27.1->jupyterlab->jupyter)\n",
            "  Downloading json5-0.10.0-py3-none-any.whl.metadata (34 kB)\n",
            "Collecting jsonschema>=4.18.0 (from jupyterlab-server<3,>=2.27.1->jupyterlab->jupyter)\n",
            "  Using cached jsonschema-4.23.0-py3-none-any.whl.metadata (7.9 kB)\n",
            "Requirement already satisfied: requests>=2.31 in ./env/lib/python3.12/site-packages (from jupyterlab-server<3,>=2.27.1->jupyterlab->jupyter) (2.32.3)\n",
            "Collecting fastjsonschema>=2.15 (from nbformat>=5.7->nbconvert->jupyter)\n",
            "  Downloading fastjsonschema-2.21.1-py3-none-any.whl.metadata (2.2 kB)\n",
            "Requirement already satisfied: wcwidth in ./env/lib/python3.12/site-packages (from prompt-toolkit>=3.0.30->jupyter-console->jupyter) (0.2.13)\n",
            "Collecting soupsieve>1.2 (from beautifulsoup4->nbconvert->jupyter)\n",
            "  Downloading soupsieve-2.6-py3-none-any.whl.metadata (4.6 kB)\n",
            "Collecting sniffio>=1.1 (from anyio->httpx~=0.28.0->jupyterlab->jupyter)\n",
            "  Downloading sniffio-1.3.1-py3-none-any.whl.metadata (3.9 kB)\n",
            "Requirement already satisfied: typing_extensions>=4.5 in ./env/lib/python3.12/site-packages (from anyio->httpx~=0.28.0->jupyterlab->jupyter) (4.12.2)\n",
            "Collecting argon2-cffi-bindings (from argon2-cffi>=21.1->jupyter-server<3,>=2.4.0->jupyterlab->jupyter)\n",
            "  Downloading argon2_cffi_bindings-21.2.0-cp36-abi3-manylinux_2_17_x86_64.manylinux2014_x86_64.whl.metadata (6.7 kB)\n",
            "Requirement already satisfied: parso<0.9.0,>=0.8.4 in ./env/lib/python3.12/site-packages (from jedi>=0.16->ipython>=7.23.1->ipykernel->jupyter) (0.8.4)\n",
            "Requirement already satisfied: attrs>=22.2.0 in ./env/lib/python3.12/site-packages (from jsonschema>=4.18.0->jupyterlab-server<3,>=2.27.1->jupyterlab->jupyter) (24.2.0)\n",
            "Collecting jsonschema-specifications>=2023.03.6 (from jsonschema>=4.18.0->jupyterlab-server<3,>=2.27.1->jupyterlab->jupyter)\n",
            "  Downloading jsonschema_specifications-2024.10.1-py3-none-any.whl.metadata (3.0 kB)\n",
            "Collecting referencing>=0.28.4 (from jsonschema>=4.18.0->jupyterlab-server<3,>=2.27.1->jupyterlab->jupyter)\n",
            "  Using cached referencing-0.35.1-py3-none-any.whl.metadata (2.8 kB)\n",
            "Collecting rpds-py>=0.7.1 (from jsonschema>=4.18.0->jupyterlab-server<3,>=2.27.1->jupyterlab->jupyter)\n",
            "  Downloading rpds_py-0.22.3-cp312-cp312-manylinux_2_17_x86_64.manylinux2014_x86_64.whl.metadata (4.2 kB)\n",
            "Collecting python-json-logger>=2.0.4 (from jupyter-events>=0.9.0->jupyter-server<3,>=2.4.0->jupyterlab->jupyter)\n",
            "  Downloading python_json_logger-2.0.7-py3-none-any.whl.metadata (6.5 kB)\n",
            "Requirement already satisfied: pyyaml>=5.3 in ./env/lib/python3.12/site-packages (from jupyter-events>=0.9.0->jupyter-server<3,>=2.4.0->jupyterlab->jupyter) (6.0.2)\n",
            "Collecting rfc3339-validator (from jupyter-events>=0.9.0->jupyter-server<3,>=2.4.0->jupyterlab->jupyter)\n",
            "  Downloading rfc3339_validator-0.1.4-py2.py3-none-any.whl.metadata (1.5 kB)\n",
            "Collecting rfc3986-validator>=0.1.1 (from jupyter-events>=0.9.0->jupyter-server<3,>=2.4.0->jupyterlab->jupyter)\n",
            "  Downloading rfc3986_validator-0.1.1-py2.py3-none-any.whl.metadata (1.7 kB)\n",
            "Requirement already satisfied: ptyprocess>=0.5 in ./env/lib/python3.12/site-packages (from pexpect>4.3->ipython>=7.23.1->ipykernel->jupyter) (0.7.0)\n",
            "Requirement already satisfied: six>=1.5 in ./env/lib/python3.12/site-packages (from python-dateutil>=2.8.2->jupyter-client>=6.1.12->ipykernel->jupyter) (1.17.0)\n",
            "Requirement already satisfied: charset-normalizer<4,>=2 in ./env/lib/python3.12/site-packages (from requests>=2.31->jupyterlab-server<3,>=2.27.1->jupyterlab->jupyter) (3.4.0)\n",
            "Requirement already satisfied: urllib3<3,>=1.21.1 in ./env/lib/python3.12/site-packages (from requests>=2.31->jupyterlab-server<3,>=2.27.1->jupyterlab->jupyter) (2.2.3)\n",
            "Requirement already satisfied: executing>=1.2.0 in ./env/lib/python3.12/site-packages (from stack_data->ipython>=7.23.1->ipykernel->jupyter) (2.1.0)\n",
            "Requirement already satisfied: asttokens>=2.1.0 in ./env/lib/python3.12/site-packages (from stack_data->ipython>=7.23.1->ipykernel->jupyter) (3.0.0)\n",
            "Requirement already satisfied: pure-eval in ./env/lib/python3.12/site-packages (from stack_data->ipython>=7.23.1->ipykernel->jupyter) (0.2.3)\n",
            "Collecting fqdn (from jsonschema[format-nongpl]>=4.18.0->jupyter-events>=0.9.0->jupyter-server<3,>=2.4.0->jupyterlab->jupyter)\n",
            "  Downloading fqdn-1.5.1-py3-none-any.whl.metadata (1.4 kB)\n",
            "Collecting isoduration (from jsonschema[format-nongpl]>=4.18.0->jupyter-events>=0.9.0->jupyter-server<3,>=2.4.0->jupyterlab->jupyter)\n",
            "  Downloading isoduration-20.11.0-py3-none-any.whl.metadata (5.7 kB)\n",
            "Collecting jsonpointer>1.13 (from jsonschema[format-nongpl]>=4.18.0->jupyter-events>=0.9.0->jupyter-server<3,>=2.4.0->jupyterlab->jupyter)\n",
            "  Downloading jsonpointer-3.0.0-py2.py3-none-any.whl.metadata (2.3 kB)\n",
            "Collecting uri-template (from jsonschema[format-nongpl]>=4.18.0->jupyter-events>=0.9.0->jupyter-server<3,>=2.4.0->jupyterlab->jupyter)\n",
            "  Downloading uri_template-1.3.0-py3-none-any.whl.metadata (8.8 kB)\n",
            "Collecting webcolors>=24.6.0 (from jsonschema[format-nongpl]>=4.18.0->jupyter-events>=0.9.0->jupyter-server<3,>=2.4.0->jupyterlab->jupyter)\n",
            "  Downloading webcolors-24.11.1-py3-none-any.whl.metadata (2.2 kB)\n",
            "Collecting cffi>=1.0.1 (from argon2-cffi-bindings->argon2-cffi>=21.1->jupyter-server<3,>=2.4.0->jupyterlab->jupyter)\n",
            "  Downloading cffi-1.17.1-cp312-cp312-manylinux_2_17_x86_64.manylinux2014_x86_64.whl.metadata (1.5 kB)\n",
            "Collecting pycparser (from cffi>=1.0.1->argon2-cffi-bindings->argon2-cffi>=21.1->jupyter-server<3,>=2.4.0->jupyterlab->jupyter)\n",
            "  Using cached pycparser-2.22-py3-none-any.whl.metadata (943 bytes)\n",
            "Collecting arrow>=0.15.0 (from isoduration->jsonschema[format-nongpl]>=4.18.0->jupyter-events>=0.9.0->jupyter-server<3,>=2.4.0->jupyterlab->jupyter)\n",
            "  Downloading arrow-1.3.0-py3-none-any.whl.metadata (7.5 kB)\n",
            "Collecting types-python-dateutil>=2.8.10 (from arrow>=0.15.0->isoduration->jsonschema[format-nongpl]>=4.18.0->jupyter-events>=0.9.0->jupyter-server<3,>=2.4.0->jupyterlab->jupyter)\n",
            "  Downloading types_python_dateutil-2.9.0.20241206-py3-none-any.whl.metadata (2.1 kB)\n",
            "Downloading jupyter-1.1.1-py2.py3-none-any.whl (2.7 kB)\n",
            "Downloading jupyter_console-6.6.3-py3-none-any.whl (24 kB)\n",
            "Downloading jupyterlab-4.3.2-py3-none-any.whl (11.7 MB)\n",
            "\u001b[2K   \u001b[90m━━━━━━━━━━━━━━━━━━━━━━━━━━━━━━━━━━━━━━━━\u001b[0m \u001b[32m11.7/11.7 MB\u001b[0m \u001b[31m100.3 MB/s\u001b[0m eta \u001b[36m0:00:00\u001b[0m\n",
            "\u001b[?25hDownloading nbconvert-7.16.4-py3-none-any.whl (257 kB)\n",
            "Downloading notebook-7.3.1-py3-none-any.whl (13.2 MB)\n",
            "\u001b[2K   \u001b[90m━━━━━━━━━━━━━━━━━━━━━━━━━━━━━━━━━━━━━━━━\u001b[0m \u001b[32m13.2/13.2 MB\u001b[0m \u001b[31m185.9 MB/s\u001b[0m eta \u001b[36m0:00:00\u001b[0m\n",
            "\u001b[?25hDownloading async_lru-2.0.4-py3-none-any.whl (6.1 kB)\n",
            "Downloading bleach-6.2.0-py3-none-any.whl (163 kB)\n",
            "Downloading httpx-0.28.1-py3-none-any.whl (73 kB)\n",
            "Downloading httpcore-1.0.7-py3-none-any.whl (78 kB)\n",
            "Downloading jupyter_lsp-2.2.5-py3-none-any.whl (69 kB)\n",
            "Downloading jupyter_server-2.14.2-py3-none-any.whl (383 kB)\n",
            "Downloading jupyterlab_server-2.27.3-py3-none-any.whl (59 kB)\n",
            "Downloading mistune-3.0.2-py3-none-any.whl (47 kB)\n",
            "Downloading nbclient-0.10.1-py3-none-any.whl (25 kB)\n",
            "Downloading nbformat-5.10.4-py3-none-any.whl (78 kB)\n",
            "Downloading notebook_shim-0.2.4-py3-none-any.whl (13 kB)\n",
            "Downloading pandocfilters-1.5.1-py2.py3-none-any.whl (8.7 kB)\n",
            "Downloading beautifulsoup4-4.12.3-py3-none-any.whl (147 kB)\n",
            "Downloading defusedxml-0.7.1-py2.py3-none-any.whl (25 kB)\n",
            "Downloading jupyterlab_pygments-0.3.0-py3-none-any.whl (15 kB)\n",
            "Downloading tinycss2-1.4.0-py3-none-any.whl (26 kB)\n",
            "Downloading anyio-4.7.0-py3-none-any.whl (93 kB)\n",
            "Downloading argon2_cffi-23.1.0-py3-none-any.whl (15 kB)\n",
            "Using cached babel-2.16.0-py3-none-any.whl (9.6 MB)\n",
            "Downloading fastjsonschema-2.21.1-py3-none-any.whl (23 kB)\n",
            "Downloading json5-0.10.0-py3-none-any.whl (34 kB)\n",
            "Using cached jsonschema-4.23.0-py3-none-any.whl (88 kB)\n",
            "Downloading jupyter_events-0.10.0-py3-none-any.whl (18 kB)\n",
            "Downloading jupyter_server_terminals-0.5.3-py3-none-any.whl (13 kB)\n",
            "Downloading overrides-7.7.0-py3-none-any.whl (17 kB)\n",
            "Downloading prometheus_client-0.21.1-py3-none-any.whl (54 kB)\n",
            "Downloading Send2Trash-1.8.3-py3-none-any.whl (18 kB)\n",
            "Downloading soupsieve-2.6-py3-none-any.whl (36 kB)\n",
            "Downloading terminado-0.18.1-py3-none-any.whl (14 kB)\n",
            "Downloading webencodings-0.5.1-py2.py3-none-any.whl (11 kB)\n",
            "Downloading websocket_client-1.8.0-py3-none-any.whl (58 kB)\n",
            "Downloading h11-0.14.0-py3-none-any.whl (58 kB)\n",
            "Downloading jsonschema_specifications-2024.10.1-py3-none-any.whl (18 kB)\n",
            "Downloading python_json_logger-2.0.7-py3-none-any.whl (8.1 kB)\n",
            "Using cached referencing-0.35.1-py3-none-any.whl (26 kB)\n",
            "Downloading rfc3986_validator-0.1.1-py2.py3-none-any.whl (4.2 kB)\n",
            "Downloading rpds_py-0.22.3-cp312-cp312-manylinux_2_17_x86_64.manylinux2014_x86_64.whl (385 kB)\n",
            "Downloading sniffio-1.3.1-py3-none-any.whl (10 kB)\n",
            "Downloading argon2_cffi_bindings-21.2.0-cp36-abi3-manylinux_2_17_x86_64.manylinux2014_x86_64.whl (86 kB)\n",
            "Downloading rfc3339_validator-0.1.4-py2.py3-none-any.whl (3.5 kB)\n",
            "Downloading cffi-1.17.1-cp312-cp312-manylinux_2_17_x86_64.manylinux2014_x86_64.whl (479 kB)\n",
            "Downloading jsonpointer-3.0.0-py2.py3-none-any.whl (7.6 kB)\n",
            "Downloading webcolors-24.11.1-py3-none-any.whl (14 kB)\n",
            "Downloading fqdn-1.5.1-py3-none-any.whl (9.1 kB)\n",
            "Downloading isoduration-20.11.0-py3-none-any.whl (11 kB)\n",
            "Downloading uri_template-1.3.0-py3-none-any.whl (11 kB)\n",
            "Downloading arrow-1.3.0-py3-none-any.whl (66 kB)\n",
            "Using cached pycparser-2.22-py3-none-any.whl (117 kB)\n",
            "Downloading types_python_dateutil-2.9.0.20241206-py3-none-any.whl (14 kB)\n",
            "Installing collected packages: webencodings, fastjsonschema, websocket-client, webcolors, uri-template, types-python-dateutil, tinycss2, terminado, soupsieve, sniffio, send2trash, rpds-py, rfc3986-validator, rfc3339-validator, python-json-logger, pycparser, prometheus-client, pandocfilters, overrides, mistune, jupyterlab-pygments, jsonpointer, json5, h11, fqdn, defusedxml, bleach, babel, async-lru, referencing, jupyter-server-terminals, httpcore, cffi, beautifulsoup4, arrow, anyio, jsonschema-specifications, isoduration, httpx, argon2-cffi-bindings, jupyter-console, jsonschema, argon2-cffi, nbformat, nbclient, jupyter-events, nbconvert, jupyter-server, notebook-shim, jupyterlab-server, jupyter-lsp, jupyterlab, notebook, jupyter\n",
            "Successfully installed anyio-4.7.0 argon2-cffi-23.1.0 argon2-cffi-bindings-21.2.0 arrow-1.3.0 async-lru-2.0.4 babel-2.16.0 beautifulsoup4-4.12.3 bleach-6.2.0 cffi-1.17.1 defusedxml-0.7.1 fastjsonschema-2.21.1 fqdn-1.5.1 h11-0.14.0 httpcore-1.0.7 httpx-0.28.1 isoduration-20.11.0 json5-0.10.0 jsonpointer-3.0.0 jsonschema-4.23.0 jsonschema-specifications-2024.10.1 jupyter-1.1.1 jupyter-console-6.6.3 jupyter-events-0.10.0 jupyter-lsp-2.2.5 jupyter-server-2.14.2 jupyter-server-terminals-0.5.3 jupyterlab-4.3.2 jupyterlab-pygments-0.3.0 jupyterlab-server-2.27.3 mistune-3.0.2 nbclient-0.10.1 nbconvert-7.16.4 nbformat-5.10.4 notebook-7.3.1 notebook-shim-0.2.4 overrides-7.7.0 pandocfilters-1.5.1 prometheus-client-0.21.1 pycparser-2.22 python-json-logger-2.0.7 referencing-0.35.1 rfc3339-validator-0.1.4 rfc3986-validator-0.1.1 rpds-py-0.22.3 send2trash-1.8.3 sniffio-1.3.1 soupsieve-2.6 terminado-0.18.1 tinycss2-1.4.0 types-python-dateutil-2.9.0.20241206 uri-template-1.3.0 webcolors-24.11.1 webencodings-0.5.1 websocket-client-1.8.0\n"
          ]
        },
        {
          "name": "stderr",
          "output_type": "stream",
          "text": [
            "huggingface/tokenizers: The current process just got forked, after parallelism has already been used. Disabling parallelism to avoid deadlocks...\n",
            "To disable this warning, you can either:\n",
            "\t- Avoid using `tokenizers` before the fork if possible\n",
            "\t- Explicitly set the environment variable TOKENIZERS_PARALLELISM=(true | false)\n"
          ]
        },
        {
          "name": "stdout",
          "output_type": "stream",
          "text": [
            "Requirement already satisfied: jupyterlab in ./env/lib/python3.12/site-packages (4.3.2)\n",
            "Requirement already satisfied: async-lru>=1.0.0 in ./env/lib/python3.12/site-packages (from jupyterlab) (2.0.4)\n",
            "Requirement already satisfied: httpx~=0.28.0 in ./env/lib/python3.12/site-packages (from jupyterlab) (0.28.1)\n",
            "Requirement already satisfied: ipykernel>=6.5.0 in ./env/lib/python3.12/site-packages (from jupyterlab) (6.29.5)\n",
            "Requirement already satisfied: jinja2>=3.0.3 in ./env/lib/python3.12/site-packages (from jupyterlab) (3.1.4)\n",
            "Requirement already satisfied: jupyter-core in ./env/lib/python3.12/site-packages (from jupyterlab) (5.7.2)\n",
            "Requirement already satisfied: jupyter-lsp>=2.0.0 in ./env/lib/python3.12/site-packages (from jupyterlab) (2.2.5)\n",
            "Requirement already satisfied: jupyter-server<3,>=2.4.0 in ./env/lib/python3.12/site-packages (from jupyterlab) (2.14.2)\n",
            "Requirement already satisfied: jupyterlab-server<3,>=2.27.1 in ./env/lib/python3.12/site-packages (from jupyterlab) (2.27.3)\n",
            "Requirement already satisfied: notebook-shim>=0.2 in ./env/lib/python3.12/site-packages (from jupyterlab) (0.2.4)\n",
            "Requirement already satisfied: packaging in ./env/lib/python3.12/site-packages (from jupyterlab) (24.2)\n",
            "Requirement already satisfied: setuptools>=40.8.0 in ./env/lib/python3.12/site-packages (from jupyterlab) (75.6.0)\n",
            "Requirement already satisfied: tornado>=6.2.0 in ./env/lib/python3.12/site-packages (from jupyterlab) (6.4.2)\n",
            "Requirement already satisfied: traitlets in ./env/lib/python3.12/site-packages (from jupyterlab) (5.14.3)\n",
            "Requirement already satisfied: anyio in ./env/lib/python3.12/site-packages (from httpx~=0.28.0->jupyterlab) (4.7.0)\n",
            "Requirement already satisfied: certifi in ./env/lib/python3.12/site-packages (from httpx~=0.28.0->jupyterlab) (2024.8.30)\n",
            "Requirement already satisfied: httpcore==1.* in ./env/lib/python3.12/site-packages (from httpx~=0.28.0->jupyterlab) (1.0.7)\n",
            "Requirement already satisfied: idna in ./env/lib/python3.12/site-packages (from httpx~=0.28.0->jupyterlab) (3.10)\n",
            "Requirement already satisfied: h11<0.15,>=0.13 in ./env/lib/python3.12/site-packages (from httpcore==1.*->httpx~=0.28.0->jupyterlab) (0.14.0)\n",
            "Requirement already satisfied: comm>=0.1.1 in ./env/lib/python3.12/site-packages (from ipykernel>=6.5.0->jupyterlab) (0.2.2)\n",
            "Requirement already satisfied: debugpy>=1.6.5 in ./env/lib/python3.12/site-packages (from ipykernel>=6.5.0->jupyterlab) (1.8.9)\n",
            "Requirement already satisfied: ipython>=7.23.1 in ./env/lib/python3.12/site-packages (from ipykernel>=6.5.0->jupyterlab) (8.30.0)\n",
            "Requirement already satisfied: jupyter-client>=6.1.12 in ./env/lib/python3.12/site-packages (from ipykernel>=6.5.0->jupyterlab) (8.6.3)\n",
            "Requirement already satisfied: matplotlib-inline>=0.1 in ./env/lib/python3.12/site-packages (from ipykernel>=6.5.0->jupyterlab) (0.1.7)\n",
            "Requirement already satisfied: nest-asyncio in ./env/lib/python3.12/site-packages (from ipykernel>=6.5.0->jupyterlab) (1.6.0)\n",
            "Requirement already satisfied: psutil in ./env/lib/python3.12/site-packages (from ipykernel>=6.5.0->jupyterlab) (6.1.0)\n",
            "Requirement already satisfied: pyzmq>=24 in ./env/lib/python3.12/site-packages (from ipykernel>=6.5.0->jupyterlab) (26.2.0)\n",
            "Requirement already satisfied: MarkupSafe>=2.0 in ./env/lib/python3.12/site-packages (from jinja2>=3.0.3->jupyterlab) (3.0.2)\n",
            "Requirement already satisfied: platformdirs>=2.5 in ./env/lib/python3.12/site-packages (from jupyter-core->jupyterlab) (4.3.6)\n",
            "Requirement already satisfied: argon2-cffi>=21.1 in ./env/lib/python3.12/site-packages (from jupyter-server<3,>=2.4.0->jupyterlab) (23.1.0)\n",
            "Requirement already satisfied: jupyter-events>=0.9.0 in ./env/lib/python3.12/site-packages (from jupyter-server<3,>=2.4.0->jupyterlab) (0.10.0)\n",
            "Requirement already satisfied: jupyter-server-terminals>=0.4.4 in ./env/lib/python3.12/site-packages (from jupyter-server<3,>=2.4.0->jupyterlab) (0.5.3)\n",
            "Requirement already satisfied: nbconvert>=6.4.4 in ./env/lib/python3.12/site-packages (from jupyter-server<3,>=2.4.0->jupyterlab) (7.16.4)\n",
            "Requirement already satisfied: nbformat>=5.3.0 in ./env/lib/python3.12/site-packages (from jupyter-server<3,>=2.4.0->jupyterlab) (5.10.4)\n",
            "Requirement already satisfied: overrides>=5.0 in ./env/lib/python3.12/site-packages (from jupyter-server<3,>=2.4.0->jupyterlab) (7.7.0)\n",
            "Requirement already satisfied: prometheus-client>=0.9 in ./env/lib/python3.12/site-packages (from jupyter-server<3,>=2.4.0->jupyterlab) (0.21.1)\n",
            "Requirement already satisfied: send2trash>=1.8.2 in ./env/lib/python3.12/site-packages (from jupyter-server<3,>=2.4.0->jupyterlab) (1.8.3)\n",
            "Requirement already satisfied: terminado>=0.8.3 in ./env/lib/python3.12/site-packages (from jupyter-server<3,>=2.4.0->jupyterlab) (0.18.1)\n",
            "Requirement already satisfied: websocket-client>=1.7 in ./env/lib/python3.12/site-packages (from jupyter-server<3,>=2.4.0->jupyterlab) (1.8.0)\n",
            "Requirement already satisfied: babel>=2.10 in ./env/lib/python3.12/site-packages (from jupyterlab-server<3,>=2.27.1->jupyterlab) (2.16.0)\n",
            "Requirement already satisfied: json5>=0.9.0 in ./env/lib/python3.12/site-packages (from jupyterlab-server<3,>=2.27.1->jupyterlab) (0.10.0)\n",
            "Requirement already satisfied: jsonschema>=4.18.0 in ./env/lib/python3.12/site-packages (from jupyterlab-server<3,>=2.27.1->jupyterlab) (4.23.0)\n",
            "Requirement already satisfied: requests>=2.31 in ./env/lib/python3.12/site-packages (from jupyterlab-server<3,>=2.27.1->jupyterlab) (2.32.3)\n",
            "Requirement already satisfied: sniffio>=1.1 in ./env/lib/python3.12/site-packages (from anyio->httpx~=0.28.0->jupyterlab) (1.3.1)\n",
            "Requirement already satisfied: typing_extensions>=4.5 in ./env/lib/python3.12/site-packages (from anyio->httpx~=0.28.0->jupyterlab) (4.12.2)\n",
            "Requirement already satisfied: argon2-cffi-bindings in ./env/lib/python3.12/site-packages (from argon2-cffi>=21.1->jupyter-server<3,>=2.4.0->jupyterlab) (21.2.0)\n",
            "Requirement already satisfied: decorator in ./env/lib/python3.12/site-packages (from ipython>=7.23.1->ipykernel>=6.5.0->jupyterlab) (5.1.1)\n",
            "Requirement already satisfied: jedi>=0.16 in ./env/lib/python3.12/site-packages (from ipython>=7.23.1->ipykernel>=6.5.0->jupyterlab) (0.19.2)\n",
            "Requirement already satisfied: pexpect>4.3 in ./env/lib/python3.12/site-packages (from ipython>=7.23.1->ipykernel>=6.5.0->jupyterlab) (4.9.0)\n",
            "Requirement already satisfied: prompt_toolkit<3.1.0,>=3.0.41 in ./env/lib/python3.12/site-packages (from ipython>=7.23.1->ipykernel>=6.5.0->jupyterlab) (3.0.48)\n",
            "Requirement already satisfied: pygments>=2.4.0 in ./env/lib/python3.12/site-packages (from ipython>=7.23.1->ipykernel>=6.5.0->jupyterlab) (2.18.0)\n",
            "Requirement already satisfied: stack_data in ./env/lib/python3.12/site-packages (from ipython>=7.23.1->ipykernel>=6.5.0->jupyterlab) (0.6.3)\n",
            "Requirement already satisfied: attrs>=22.2.0 in ./env/lib/python3.12/site-packages (from jsonschema>=4.18.0->jupyterlab-server<3,>=2.27.1->jupyterlab) (24.2.0)\n",
            "Requirement already satisfied: jsonschema-specifications>=2023.03.6 in ./env/lib/python3.12/site-packages (from jsonschema>=4.18.0->jupyterlab-server<3,>=2.27.1->jupyterlab) (2024.10.1)\n",
            "Requirement already satisfied: referencing>=0.28.4 in ./env/lib/python3.12/site-packages (from jsonschema>=4.18.0->jupyterlab-server<3,>=2.27.1->jupyterlab) (0.35.1)\n",
            "Requirement already satisfied: rpds-py>=0.7.1 in ./env/lib/python3.12/site-packages (from jsonschema>=4.18.0->jupyterlab-server<3,>=2.27.1->jupyterlab) (0.22.3)\n",
            "Requirement already satisfied: python-dateutil>=2.8.2 in ./env/lib/python3.12/site-packages (from jupyter-client>=6.1.12->ipykernel>=6.5.0->jupyterlab) (2.9.0.post0)\n",
            "Requirement already satisfied: python-json-logger>=2.0.4 in ./env/lib/python3.12/site-packages (from jupyter-events>=0.9.0->jupyter-server<3,>=2.4.0->jupyterlab) (2.0.7)\n",
            "Requirement already satisfied: pyyaml>=5.3 in ./env/lib/python3.12/site-packages (from jupyter-events>=0.9.0->jupyter-server<3,>=2.4.0->jupyterlab) (6.0.2)\n",
            "Requirement already satisfied: rfc3339-validator in ./env/lib/python3.12/site-packages (from jupyter-events>=0.9.0->jupyter-server<3,>=2.4.0->jupyterlab) (0.1.4)\n",
            "Requirement already satisfied: rfc3986-validator>=0.1.1 in ./env/lib/python3.12/site-packages (from jupyter-events>=0.9.0->jupyter-server<3,>=2.4.0->jupyterlab) (0.1.1)\n",
            "Requirement already satisfied: beautifulsoup4 in ./env/lib/python3.12/site-packages (from nbconvert>=6.4.4->jupyter-server<3,>=2.4.0->jupyterlab) (4.12.3)\n",
            "Requirement already satisfied: bleach!=5.0.0 in ./env/lib/python3.12/site-packages (from nbconvert>=6.4.4->jupyter-server<3,>=2.4.0->jupyterlab) (6.2.0)\n",
            "Requirement already satisfied: defusedxml in ./env/lib/python3.12/site-packages (from nbconvert>=6.4.4->jupyter-server<3,>=2.4.0->jupyterlab) (0.7.1)\n",
            "Requirement already satisfied: jupyterlab-pygments in ./env/lib/python3.12/site-packages (from nbconvert>=6.4.4->jupyter-server<3,>=2.4.0->jupyterlab) (0.3.0)\n",
            "Requirement already satisfied: mistune<4,>=2.0.3 in ./env/lib/python3.12/site-packages (from nbconvert>=6.4.4->jupyter-server<3,>=2.4.0->jupyterlab) (3.0.2)\n",
            "Requirement already satisfied: nbclient>=0.5.0 in ./env/lib/python3.12/site-packages (from nbconvert>=6.4.4->jupyter-server<3,>=2.4.0->jupyterlab) (0.10.1)\n",
            "Requirement already satisfied: pandocfilters>=1.4.1 in ./env/lib/python3.12/site-packages (from nbconvert>=6.4.4->jupyter-server<3,>=2.4.0->jupyterlab) (1.5.1)\n",
            "Requirement already satisfied: tinycss2 in ./env/lib/python3.12/site-packages (from nbconvert>=6.4.4->jupyter-server<3,>=2.4.0->jupyterlab) (1.4.0)\n",
            "Requirement already satisfied: fastjsonschema>=2.15 in ./env/lib/python3.12/site-packages (from nbformat>=5.3.0->jupyter-server<3,>=2.4.0->jupyterlab) (2.21.1)\n",
            "Requirement already satisfied: charset-normalizer<4,>=2 in ./env/lib/python3.12/site-packages (from requests>=2.31->jupyterlab-server<3,>=2.27.1->jupyterlab) (3.4.0)\n",
            "Requirement already satisfied: urllib3<3,>=1.21.1 in ./env/lib/python3.12/site-packages (from requests>=2.31->jupyterlab-server<3,>=2.27.1->jupyterlab) (2.2.3)\n",
            "Requirement already satisfied: ptyprocess in ./env/lib/python3.12/site-packages (from terminado>=0.8.3->jupyter-server<3,>=2.4.0->jupyterlab) (0.7.0)\n",
            "Requirement already satisfied: webencodings in ./env/lib/python3.12/site-packages (from bleach!=5.0.0->nbconvert>=6.4.4->jupyter-server<3,>=2.4.0->jupyterlab) (0.5.1)\n",
            "Requirement already satisfied: parso<0.9.0,>=0.8.4 in ./env/lib/python3.12/site-packages (from jedi>=0.16->ipython>=7.23.1->ipykernel>=6.5.0->jupyterlab) (0.8.4)\n",
            "Requirement already satisfied: fqdn in ./env/lib/python3.12/site-packages (from jsonschema[format-nongpl]>=4.18.0->jupyter-events>=0.9.0->jupyter-server<3,>=2.4.0->jupyterlab) (1.5.1)\n",
            "Requirement already satisfied: isoduration in ./env/lib/python3.12/site-packages (from jsonschema[format-nongpl]>=4.18.0->jupyter-events>=0.9.0->jupyter-server<3,>=2.4.0->jupyterlab) (20.11.0)\n",
            "Requirement already satisfied: jsonpointer>1.13 in ./env/lib/python3.12/site-packages (from jsonschema[format-nongpl]>=4.18.0->jupyter-events>=0.9.0->jupyter-server<3,>=2.4.0->jupyterlab) (3.0.0)\n",
            "Requirement already satisfied: uri-template in ./env/lib/python3.12/site-packages (from jsonschema[format-nongpl]>=4.18.0->jupyter-events>=0.9.0->jupyter-server<3,>=2.4.0->jupyterlab) (1.3.0)\n",
            "Requirement already satisfied: webcolors>=24.6.0 in ./env/lib/python3.12/site-packages (from jsonschema[format-nongpl]>=4.18.0->jupyter-events>=0.9.0->jupyter-server<3,>=2.4.0->jupyterlab) (24.11.1)\n",
            "Requirement already satisfied: wcwidth in ./env/lib/python3.12/site-packages (from prompt_toolkit<3.1.0,>=3.0.41->ipython>=7.23.1->ipykernel>=6.5.0->jupyterlab) (0.2.13)\n",
            "Requirement already satisfied: six>=1.5 in ./env/lib/python3.12/site-packages (from python-dateutil>=2.8.2->jupyter-client>=6.1.12->ipykernel>=6.5.0->jupyterlab) (1.17.0)\n",
            "Requirement already satisfied: cffi>=1.0.1 in ./env/lib/python3.12/site-packages (from argon2-cffi-bindings->argon2-cffi>=21.1->jupyter-server<3,>=2.4.0->jupyterlab) (1.17.1)\n",
            "Requirement already satisfied: soupsieve>1.2 in ./env/lib/python3.12/site-packages (from beautifulsoup4->nbconvert>=6.4.4->jupyter-server<3,>=2.4.0->jupyterlab) (2.6)\n",
            "Requirement already satisfied: executing>=1.2.0 in ./env/lib/python3.12/site-packages (from stack_data->ipython>=7.23.1->ipykernel>=6.5.0->jupyterlab) (2.1.0)\n",
            "Requirement already satisfied: asttokens>=2.1.0 in ./env/lib/python3.12/site-packages (from stack_data->ipython>=7.23.1->ipykernel>=6.5.0->jupyterlab) (3.0.0)\n",
            "Requirement already satisfied: pure-eval in ./env/lib/python3.12/site-packages (from stack_data->ipython>=7.23.1->ipykernel>=6.5.0->jupyterlab) (0.2.3)\n",
            "Requirement already satisfied: pycparser in ./env/lib/python3.12/site-packages (from cffi>=1.0.1->argon2-cffi-bindings->argon2-cffi>=21.1->jupyter-server<3,>=2.4.0->jupyterlab) (2.22)\n",
            "Requirement already satisfied: arrow>=0.15.0 in ./env/lib/python3.12/site-packages (from isoduration->jsonschema[format-nongpl]>=4.18.0->jupyter-events>=0.9.0->jupyter-server<3,>=2.4.0->jupyterlab) (1.3.0)\n",
            "Requirement already satisfied: types-python-dateutil>=2.8.10 in ./env/lib/python3.12/site-packages (from arrow>=0.15.0->isoduration->jsonschema[format-nongpl]>=4.18.0->jupyter-events>=0.9.0->jupyter-server<3,>=2.4.0->jupyterlab) (2.9.0.20241206)\n"
          ]
        }
      ],
      "source": [
        "!pip install jupyter\n",
        "!pip install jupyterlab"
      ]
    },
    {
      "cell_type": "code",
      "execution_count": 28,
      "metadata": {},
      "outputs": [
        {
          "name": "stderr",
          "output_type": "stream",
          "text": [
            "huggingface/tokenizers: The current process just got forked, after parallelism has already been used. Disabling parallelism to avoid deadlocks...\n",
            "To disable this warning, you can either:\n",
            "\t- Avoid using `tokenizers` before the fork if possible\n",
            "\t- Explicitly set the environment variable TOKENIZERS_PARALLELISM=(true | false)\n"
          ]
        },
        {
          "name": "stdout",
          "output_type": "stream",
          "text": [
            "Requirement already satisfied: ipywidgets in ./env/lib/python3.12/site-packages (8.1.5)\n",
            "Requirement already satisfied: comm>=0.1.3 in ./env/lib/python3.12/site-packages (from ipywidgets) (0.2.2)\n",
            "Requirement already satisfied: ipython>=6.1.0 in ./env/lib/python3.12/site-packages (from ipywidgets) (8.30.0)\n",
            "Requirement already satisfied: traitlets>=4.3.1 in ./env/lib/python3.12/site-packages (from ipywidgets) (5.14.3)\n",
            "Requirement already satisfied: widgetsnbextension~=4.0.12 in ./env/lib/python3.12/site-packages (from ipywidgets) (4.0.13)\n",
            "Requirement already satisfied: jupyterlab-widgets~=3.0.12 in ./env/lib/python3.12/site-packages (from ipywidgets) (3.0.13)\n",
            "Requirement already satisfied: decorator in ./env/lib/python3.12/site-packages (from ipython>=6.1.0->ipywidgets) (5.1.1)\n",
            "Requirement already satisfied: jedi>=0.16 in ./env/lib/python3.12/site-packages (from ipython>=6.1.0->ipywidgets) (0.19.2)\n",
            "Requirement already satisfied: matplotlib-inline in ./env/lib/python3.12/site-packages (from ipython>=6.1.0->ipywidgets) (0.1.7)\n",
            "Requirement already satisfied: pexpect>4.3 in ./env/lib/python3.12/site-packages (from ipython>=6.1.0->ipywidgets) (4.9.0)\n",
            "Requirement already satisfied: prompt_toolkit<3.1.0,>=3.0.41 in ./env/lib/python3.12/site-packages (from ipython>=6.1.0->ipywidgets) (3.0.48)\n",
            "Requirement already satisfied: pygments>=2.4.0 in ./env/lib/python3.12/site-packages (from ipython>=6.1.0->ipywidgets) (2.18.0)\n",
            "Requirement already satisfied: stack_data in ./env/lib/python3.12/site-packages (from ipython>=6.1.0->ipywidgets) (0.6.3)\n",
            "Requirement already satisfied: parso<0.9.0,>=0.8.4 in ./env/lib/python3.12/site-packages (from jedi>=0.16->ipython>=6.1.0->ipywidgets) (0.8.4)\n",
            "Requirement already satisfied: ptyprocess>=0.5 in ./env/lib/python3.12/site-packages (from pexpect>4.3->ipython>=6.1.0->ipywidgets) (0.7.0)\n",
            "Requirement already satisfied: wcwidth in ./env/lib/python3.12/site-packages (from prompt_toolkit<3.1.0,>=3.0.41->ipython>=6.1.0->ipywidgets) (0.2.13)\n",
            "Requirement already satisfied: executing>=1.2.0 in ./env/lib/python3.12/site-packages (from stack_data->ipython>=6.1.0->ipywidgets) (2.1.0)\n",
            "Requirement already satisfied: asttokens>=2.1.0 in ./env/lib/python3.12/site-packages (from stack_data->ipython>=6.1.0->ipywidgets) (3.0.0)\n",
            "Requirement already satisfied: pure-eval in ./env/lib/python3.12/site-packages (from stack_data->ipython>=6.1.0->ipywidgets) (0.2.3)\n"
          ]
        },
        {
          "name": "stderr",
          "output_type": "stream",
          "text": [
            "huggingface/tokenizers: The current process just got forked, after parallelism has already been used. Disabling parallelism to avoid deadlocks...\n",
            "To disable this warning, you can either:\n",
            "\t- Avoid using `tokenizers` before the fork if possible\n",
            "\t- Explicitly set the environment variable TOKENIZERS_PARALLELISM=(true | false)\n"
          ]
        },
        {
          "name": "stdout",
          "output_type": "stream",
          "text": [
            "usage: jupyter [-h] [--version] [--config-dir] [--data-dir] [--runtime-dir]\n",
            "               [--paths] [--json] [--debug]\n",
            "               [subcommand]\n",
            "\n",
            "Jupyter: Interactive Computing\n",
            "\n",
            "positional arguments:\n",
            "  subcommand     the subcommand to launch\n",
            "\n",
            "options:\n",
            "  -h, --help     show this help message and exit\n",
            "  --version      show the versions of core jupyter packages and exit\n",
            "  --config-dir   show Jupyter config dir\n",
            "  --data-dir     show Jupyter data dir\n",
            "  --runtime-dir  show Jupyter runtime dir\n",
            "  --paths        show all Jupyter paths. Add --json for machine-readable\n",
            "                 format.\n",
            "  --json         output paths as machine-readable json\n",
            "  --debug        output debug information about paths\n",
            "\n",
            "Available subcommands: console dejavu events execute kernel kernelspec lab\n",
            "labextension labhub migrate nbconvert notebook qtconsole run server\n",
            "troubleshoot trust\n",
            "\n",
            "Jupyter command `jupyter-nbextension` not found.\n"
          ]
        }
      ],
      "source": [
        "!pip install ipywidgets\n",
        "!jupyter nbextension enable --py widgetsnbextension --sys-prefix"
      ]
    },
    {
      "cell_type": "code",
      "execution_count": 23,
      "metadata": {
        "id": "EizmFimKNX-A"
      },
      "outputs": [
        {
          "ename": "ImportError",
          "evalue": "IProgress not found. Please update jupyter and ipywidgets. See https://ipywidgets.readthedocs.io/en/stable/user_install.html",
          "output_type": "error",
          "traceback": [
            "\u001b[0;31m---------------------------------------------------------------------------\u001b[0m",
            "\u001b[0;31mImportError\u001b[0m                               Traceback (most recent call last)",
            "Cell \u001b[0;32mIn[23], line 7\u001b[0m\n\u001b[1;32m      5\u001b[0m \u001b[38;5;28;01mfor\u001b[39;00m experiment \u001b[38;5;129;01min\u001b[39;00m [\u001b[38;5;124m\"\u001b[39m\u001b[38;5;124mgreedy\u001b[39m\u001b[38;5;124m\"\u001b[39m, \u001b[38;5;124m\"\u001b[39m\u001b[38;5;124msample\u001b[39m\u001b[38;5;124m\"\u001b[39m, \u001b[38;5;124m\"\u001b[39m\u001b[38;5;124mtemperature\u001b[39m\u001b[38;5;124m\"\u001b[39m, \u001b[38;5;124m\"\u001b[39m\u001b[38;5;124mtopk\u001b[39m\u001b[38;5;124m\"\u001b[39m, \u001b[38;5;124m\"\u001b[39m\u001b[38;5;124mtopp\u001b[39m\u001b[38;5;124m\"\u001b[39m]:\n\u001b[1;32m      6\u001b[0m     generations \u001b[38;5;241m=\u001b[39m []\n\u001b[0;32m----> 7\u001b[0m     \u001b[38;5;28;01mfor\u001b[39;00m prompt \u001b[38;5;129;01min\u001b[39;00m \u001b[43mtqdm\u001b[49m\u001b[43m(\u001b[49m\u001b[43mprompts\u001b[49m\u001b[43m)\u001b[49m:\n\u001b[1;32m      8\u001b[0m         generations \u001b[38;5;241m+\u001b[39m\u001b[38;5;241m=\u001b[39m decode(\n\u001b[1;32m      9\u001b[0m             [prompt] \u001b[38;5;241m*\u001b[39m GENERATIONS_PER_PROMPT, max_len\u001b[38;5;241m=\u001b[39mMAX_LEN, method\u001b[38;5;241m=\u001b[39mexperiment\n\u001b[1;32m     10\u001b[0m         )\n\u001b[1;32m     11\u001b[0m     evaluate(generations, experiment)\n",
            "File \u001b[0;32m~/AttentionGate/env/lib/python3.12/site-packages/tqdm/notebook.py:234\u001b[0m, in \u001b[0;36mtqdm_notebook.__init__\u001b[0;34m(self, *args, **kwargs)\u001b[0m\n\u001b[1;32m    232\u001b[0m unit_scale \u001b[38;5;241m=\u001b[39m \u001b[38;5;241m1\u001b[39m \u001b[38;5;28;01mif\u001b[39;00m \u001b[38;5;28mself\u001b[39m\u001b[38;5;241m.\u001b[39munit_scale \u001b[38;5;129;01mis\u001b[39;00m \u001b[38;5;28;01mTrue\u001b[39;00m \u001b[38;5;28;01melse\u001b[39;00m \u001b[38;5;28mself\u001b[39m\u001b[38;5;241m.\u001b[39munit_scale \u001b[38;5;129;01mor\u001b[39;00m \u001b[38;5;241m1\u001b[39m\n\u001b[1;32m    233\u001b[0m total \u001b[38;5;241m=\u001b[39m \u001b[38;5;28mself\u001b[39m\u001b[38;5;241m.\u001b[39mtotal \u001b[38;5;241m*\u001b[39m unit_scale \u001b[38;5;28;01mif\u001b[39;00m \u001b[38;5;28mself\u001b[39m\u001b[38;5;241m.\u001b[39mtotal \u001b[38;5;28;01melse\u001b[39;00m \u001b[38;5;28mself\u001b[39m\u001b[38;5;241m.\u001b[39mtotal\n\u001b[0;32m--> 234\u001b[0m \u001b[38;5;28mself\u001b[39m\u001b[38;5;241m.\u001b[39mcontainer \u001b[38;5;241m=\u001b[39m \u001b[38;5;28;43mself\u001b[39;49m\u001b[38;5;241;43m.\u001b[39;49m\u001b[43mstatus_printer\u001b[49m\u001b[43m(\u001b[49m\u001b[38;5;28;43mself\u001b[39;49m\u001b[38;5;241;43m.\u001b[39;49m\u001b[43mfp\u001b[49m\u001b[43m,\u001b[49m\u001b[43m \u001b[49m\u001b[43mtotal\u001b[49m\u001b[43m,\u001b[49m\u001b[43m \u001b[49m\u001b[38;5;28;43mself\u001b[39;49m\u001b[38;5;241;43m.\u001b[39;49m\u001b[43mdesc\u001b[49m\u001b[43m,\u001b[49m\u001b[43m \u001b[49m\u001b[38;5;28;43mself\u001b[39;49m\u001b[38;5;241;43m.\u001b[39;49m\u001b[43mncols\u001b[49m\u001b[43m)\u001b[49m\n\u001b[1;32m    235\u001b[0m \u001b[38;5;28mself\u001b[39m\u001b[38;5;241m.\u001b[39mcontainer\u001b[38;5;241m.\u001b[39mpbar \u001b[38;5;241m=\u001b[39m proxy(\u001b[38;5;28mself\u001b[39m)\n\u001b[1;32m    236\u001b[0m \u001b[38;5;28mself\u001b[39m\u001b[38;5;241m.\u001b[39mdisplayed \u001b[38;5;241m=\u001b[39m \u001b[38;5;28;01mFalse\u001b[39;00m\n",
            "File \u001b[0;32m~/AttentionGate/env/lib/python3.12/site-packages/tqdm/notebook.py:108\u001b[0m, in \u001b[0;36mtqdm_notebook.status_printer\u001b[0;34m(_, total, desc, ncols)\u001b[0m\n\u001b[1;32m     99\u001b[0m \u001b[38;5;66;03m# Fallback to text bar if there's no total\u001b[39;00m\n\u001b[1;32m    100\u001b[0m \u001b[38;5;66;03m# DEPRECATED: replaced with an 'info' style bar\u001b[39;00m\n\u001b[1;32m    101\u001b[0m \u001b[38;5;66;03m# if not total:\u001b[39;00m\n\u001b[0;32m   (...)\u001b[0m\n\u001b[1;32m    105\u001b[0m \n\u001b[1;32m    106\u001b[0m \u001b[38;5;66;03m# Prepare IPython progress bar\u001b[39;00m\n\u001b[1;32m    107\u001b[0m \u001b[38;5;28;01mif\u001b[39;00m IProgress \u001b[38;5;129;01mis\u001b[39;00m \u001b[38;5;28;01mNone\u001b[39;00m:  \u001b[38;5;66;03m# #187 #451 #558 #872\u001b[39;00m\n\u001b[0;32m--> 108\u001b[0m     \u001b[38;5;28;01mraise\u001b[39;00m \u001b[38;5;167;01mImportError\u001b[39;00m(WARN_NOIPYW)\n\u001b[1;32m    109\u001b[0m \u001b[38;5;28;01mif\u001b[39;00m total:\n\u001b[1;32m    110\u001b[0m     pbar \u001b[38;5;241m=\u001b[39m IProgress(\u001b[38;5;28mmin\u001b[39m\u001b[38;5;241m=\u001b[39m\u001b[38;5;241m0\u001b[39m, \u001b[38;5;28mmax\u001b[39m\u001b[38;5;241m=\u001b[39mtotal)\n",
            "\u001b[0;31mImportError\u001b[0m: IProgress not found. Please update jupyter and ipywidgets. See https://ipywidgets.readthedocs.io/en/stable/user_install.html"
          ]
        }
      ],
      "source": [
        "prompts = [item[\"prompt\"] for item in test_data][:10]\n",
        "GENERATIONS_PER_PROMPT = 10\n",
        "MAX_LEN = 100\n",
        "\n",
        "for experiment in [\"greedy\", \"sample\", \"temperature\", \"topk\", \"topp\"]:\n",
        "    generations = []\n",
        "    for prompt in tqdm(prompts):\n",
        "        generations += decode(\n",
        "            [prompt] * GENERATIONS_PER_PROMPT, max_len=MAX_LEN, method=experiment\n",
        "        )\n",
        "    evaluate(generations, experiment)"
      ]
    },
    {
      "cell_type": "markdown",
      "metadata": {
        "id": "QWvfTqmLNX-A"
      },
      "source": [
        "You should see the following values:\n",
        "\n",
        "- For greedy:\n",
        "perplexity = 2.08\n",
        "fluency = 0.78\n",
        "diversity = 0.01, 0.02, 0.03\n",
        "\n",
        "- For sample:\n",
        "perplexity = 61.54\n",
        "fluency = 0.37\n",
        "diversity = 0.42, 0.89, 0.99\n",
        "\n",
        "- For temperature:\n",
        "perplexity = 16.15\n",
        "fluency = 0.66\n",
        "diversity = 0.31, 0.77, 0.96\n",
        "\n",
        "- For topk:\n",
        "perplexity = 12.34\n",
        "fluency = 0.70\n",
        "diversity = 0.26, 0.74, 0.96\n",
        "\n",
        "- For topp:\n",
        "perplexity = 12.03\n",
        "fluency = 0.72\n",
        "diversity = 0.29, 0.76, 0.95\n",
        "\n",
        "**Update**: There is a lot of variance expected in the perplexity values here. It is fine if the values you get do not match the expected ones here. As long as your fluency and diversity metrics are within the bounds (+/- 0.2), you should be good!"
      ]
    },
    {
      "cell_type": "markdown",
      "metadata": {
        "id": "UN3QMTWqNX-A"
      },
      "source": [
        "### *Do I always need to use all this code to generate text from a language model?*\n",
        "\n",
        "The exercises above were to help you understand the underlying mechanisms of different decoding methods. In practice, you don't need to implement all these decoding methods from scratch. You can use the `generate()` method in the 🤗 Transformers library to generate text from a language model. Below we provide an example of how to use the `generate()` method to generate text from a language model. Please pay close attention to this especially if you are going to be attempting the optional section (mandatory for masters students) on Knowledge Distillation."
      ]
    },
    {
      "cell_type": "code",
      "execution_count": 29,
      "metadata": {
        "colab": {
          "base_uri": "https://localhost:8080/"
        },
        "id": "kOcXWSceNX-A",
        "outputId": "d39009c6-24d6-42dd-be2f-9402aab32225"
      },
      "outputs": [
        {
          "name": "stderr",
          "output_type": "stream",
          "text": [
            "Exception ignored in: <function tqdm.__del__ at 0x7fd2c2e23880>\n",
            "Traceback (most recent call last):\n",
            "  File \"/home/arunasrivastava/AttentionGate/env/lib/python3.12/site-packages/tqdm/std.py\", line 1148, in __del__\n",
            "    self.close()\n",
            "  File \"/home/arunasrivastava/AttentionGate/env/lib/python3.12/site-packages/tqdm/notebook.py\", line 279, in close\n",
            "    self.disp(bar_style='danger', check_delay=False)\n",
            "    ^^^^^^^^^\n",
            "AttributeError: 'tqdm_notebook' object has no attribute 'disp'\n",
            "Setting `pad_token_id` to `eos_token_id`:50256 for open-end generation.\n"
          ]
        },
        {
          "name": "stdout",
          "output_type": "stream",
          "text": [
            "Tokenizer output:\n",
            "{'input_ids': tensor([[7454, 2402,  257,  640]], device='cuda:0'), 'attention_mask': tensor([[1, 1, 1, 1]], device='cuda:0')}\n",
            "*******************\n",
            "Model Generate output:\n",
            "tensor([[ 7454,  2402,   257,   640,    11,   428,   649,  1176,   373,  2622,\n",
            "            13,   198,   198,  1722,   262,  1621, 33226,    11,   345,  7073,\n",
            "           340,   355,   345, 21030,   319,   534,  7002,    13,   383,   995,\n",
            "           318, 22331,   416,  6409,  5775,   326,   481,  1394,   345,   319,\n",
            "           262,  5743,   286,   534,  5852,   287,   262, 10580,   286,  1176,\n",
            "            11,   475,   345,  1276,   307,  5597,   284,  1986,   477,   534,\n",
            "          5775,   878,   262,   995,  4962,   656,   257, 15222,  2085,    13,\n",
            "           198,   198,  7120,  2460,   481,  2897,   511,  6133,   618,   534,\n",
            "           640,  4539,   503,    11,   475,   534,   898,  4028,   290,  4678,\n",
            "           481,  5879,  1342,  1593,    13,  1675,  1394,   534,  3435,  7953,\n",
            "            11,   345,   481,   761]], device='cuda:0')\n",
            "*******************\n",
            "Text output:\n",
            "Once upon a time, this new power was needed.\n",
            "\n",
            "As the story progresses, you discover it as you embark on your journey. The world is populated by numerous enemies that will keep you on the edge of your seat in the tower of power, but you must be prepared to face all your enemies before the world turns into a bloody mess.\n",
            "\n",
            "Your friends will offer their aid when your time runs out, but your own actions and skills will prove less important. To keep your characters engaged, you will need\n",
            "*******************\n",
            "Text output (ignoring model inputs):\n",
            ", this new power was needed.\n",
            "\n",
            "As the story progresses, you discover it as you embark on your journey. The world is populated by numerous enemies that will keep you on the edge of your seat in the tower of power, but you must be prepared to face all your enemies before the world turns into a bloody mess.\n",
            "\n",
            "Your friends will offer their aid when your time runs out, but your own actions and skills will prove less important. To keep your characters engaged, you will need\n",
            "*******************\n"
          ]
        }
      ],
      "source": [
        "from transformers import AutoModelForCausalLM, AutoTokenizer\n",
        "\n",
        "# Step 0: Load a pre-trained language model, and it's the corresponding tokenizer from the Hugging Face model hub\n",
        "model = AutoModelForCausalLM.from_pretrained(\"gpt2\")\n",
        "tokenizer = AutoTokenizer.from_pretrained(\"gpt2\", padding_side=\"left\") # Setting padding_side=left is important when using these models for open ended text generation\n",
        "\n",
        "# Move the model to the device\n",
        "model = model.to(device)\n",
        "\n",
        "example_prompt = \"Once upon a time\"\n",
        "\n",
        "# Step 1: Tokenize the input prompt\n",
        "tokenized_input = tokenizer(example_prompt, return_tensors=\"pt\").to(device)\n",
        "print(\"Tokenizer output:\")\n",
        "print(tokenized_input)\n",
        "print(\"*******************\")\n",
        "\n",
        "# Step 2: Generate text from the model\n",
        "output = model.generate(**tokenized_input, max_new_tokens=100, do_sample=True, top_p=0.9, temperature=1.0,)\n",
        "print(\"Model Generate output:\")\n",
        "print(output)\n",
        "print(\"*******************\")\n",
        "\n",
        "# Step 3: Convert the output ids to text\n",
        "output_text = tokenizer.decode(output[0], skip_special_tokens=True)\n",
        "print(\"Text output:\")\n",
        "print(output_text)\n",
        "print(\"*******************\")\n",
        "# Step 3 (Optional): .generate() returns the model inputs as well. We can ignore that by slicing the output\n",
        "output_text = tokenizer.decode(output[0][len(tokenized_input.input_ids[0]):], skip_special_tokens=True)\n",
        "print(\"Text output (ignoring model inputs):\")\n",
        "print(output_text)\n",
        "print(\"*******************\")"
      ]
    },
    {
      "cell_type": "markdown",
      "metadata": {
        "id": "42_bb9mfNX-A"
      },
      "source": [
        "Let's go over each of these one by one:\n",
        "\n",
        "- **Step 1:** The `tokenizer()` function takes the input prompt and converts it into a format that the model can understand. This is essentially converting the input prompt into a sequence of tokens. Note that the tokenizer returns a dictionary with the tokenized input ids and attention mask. The `input_ids` are the token ids that the model will use as input. `\"attention_mask`\" is a mask vector that indicates if a particular token corresponds to padding. Padding is extremely important when we are dealing with variable length sequences. Through padding, we can ensure that all the sequences in a batch are of the same size. When feeding sequences with padding to a transformer based model, we need to make sure that the model doesn't attend to the padding tokens. The `attention_mask` is used the tokens that are to be ignored in the attention operation. Note that here since we only used a single input sequence, there was no need of padding and that's why all the attention mask values are 1, i.e. none of the tokens in the sequences should be ignored by attention blocks.\n",
        "\n",
        "- **Step 2:** The `generate()` function takes the tokenized input and generates a sequence of tokens as output. The function takes in a number of arguments, the most important of which are `max_new_tokens` and `do_sample`. The `max_new_tokens` argument specifies the maximum number of new tokens to be generated. The `do_sample` argument is used to turn on sampling, if false, greedy decoding is used. If `do_sample` is set to `True`, then the `top_p` and `temperature` arguments are used to control the sampling process. The `top_p` argument is the value of $p$ parameter for top-p or nucleus sampling and the `temperature` argument is used to control the temperature sampling. Notice that the `generate()` function returns as output a sequence of token ids.\n",
        "\n",
        "- **Step 3:** The `tokenizer.decode` method converts the token ids into text. The `skip_special_tokens=True` argument is used to ignore the special tokens (e.g. start of sequence, end of sequence, padding etc.) that are added by the tokenizer.\n",
        "\n",
        "- **Step 3 (Optional):** The `generate()` function returns the model inputs as well. We can ignore that by slicing the output."
      ]
    },
    {
      "cell_type": "markdown",
      "metadata": {
        "id": "DcH-6MglNX-A"
      },
      "source": [
        "## [Optional for CSE 447]  **Section 2: Knowledge Distillation**\n",
        "\n",
        "In this part of the homework, we will learn how we can use knowledge distillation from a larger teacher model to a smaller student model. Particularly, we will be focusing on the task of text summarization and using the CNN/Daily Mail dataset. We will use Qwen2.5-1.5B-Instruct as our teacher model, which is a 1.5B parameter decoder-only mode pre-trained on 18T tokens of data and then further fine-tuned to follow instructions to perform different tasks (similar to something like ChatGPT). You can read more about Qwen2.5 models [here](https://qwenlm.github.io/blog/qwen2.5/). For the student model, we will be using the default GPT-2 model, which is a 124M parameter model.\n",
        "\n",
        "Since Qwen2.5-1.5B-Instruct is a much bigger model and trained on a lot of data, it is more capable of generating better summaries as compared to the default GPT-2 model which is a smaller model and has seen less data. Knowledge distillation is a technique to transfer the knowledge of a larger teacher model to a smaller student model. In this way, we can leverage the large amount of data and compute resources used to train the teacher model to improve the performance of the student model.\n",
        "\n",
        "This assignment will also make heavy use of the [🤗 Transformers Library](https://huggingface.co/docs/transformers/index). Don't worry if you are not familiar with the library, we will discuss its usage in detail."
      ]
    },
    {
      "cell_type": "code",
      "execution_count": 30,
      "metadata": {
        "id": "tyAd5ltjNX-A"
      },
      "outputs": [
        {
          "name": "stdout",
          "output_type": "stream",
          "text": [
            "Collecting rouge-score\n",
            "  Downloading rouge_score-0.1.2.tar.gz (17 kB)\n",
            "  Installing build dependencies: started\n",
            "  Installing build dependencies: finished with status 'done'\n",
            "  Getting requirements to build wheel: started\n",
            "  Getting requirements to build wheel: finished with status 'done'\n",
            "  Preparing metadata (pyproject.toml): started\n",
            "  Preparing metadata (pyproject.toml): finished with status 'done'\n",
            "Collecting absl-py (from rouge-score)\n",
            "  Downloading absl_py-2.1.0-py3-none-any.whl.metadata (2.3 kB)\n",
            "Collecting nltk (from rouge-score)\n",
            "  Downloading nltk-3.9.1-py3-none-any.whl.metadata (2.9 kB)\n",
            "Requirement already satisfied: numpy in ./env/lib/python3.12/site-packages (from rouge-score) (2.1.3)\n",
            "Requirement already satisfied: six>=1.14.0 in ./env/lib/python3.12/site-packages (from rouge-score) (1.17.0)\n",
            "Collecting click (from nltk->rouge-score)\n",
            "  Using cached click-8.1.7-py3-none-any.whl.metadata (3.0 kB)\n",
            "Collecting joblib (from nltk->rouge-score)\n",
            "  Using cached joblib-1.4.2-py3-none-any.whl.metadata (5.4 kB)\n",
            "Requirement already satisfied: regex>=2021.8.3 in ./env/lib/python3.12/site-packages (from nltk->rouge-score) (2024.11.6)\n",
            "Requirement already satisfied: tqdm in ./env/lib/python3.12/site-packages (from nltk->rouge-score) (4.67.1)\n",
            "Downloading absl_py-2.1.0-py3-none-any.whl (133 kB)\n",
            "Downloading nltk-3.9.1-py3-none-any.whl (1.5 MB)\n",
            "\u001b[2K   \u001b[90m━━━━━━━━━━━━━━━━━━━━━━━━━━━━━━━━━━━━━━━━\u001b[0m \u001b[32m1.5/1.5 MB\u001b[0m \u001b[31m10.3 MB/s\u001b[0m eta \u001b[36m0:00:00\u001b[0m\n",
            "\u001b[?25hUsing cached click-8.1.7-py3-none-any.whl (97 kB)\n",
            "Using cached joblib-1.4.2-py3-none-any.whl (301 kB)\n",
            "Building wheels for collected packages: rouge-score\n",
            "  Building wheel for rouge-score (pyproject.toml): started\n",
            "  Building wheel for rouge-score (pyproject.toml): finished with status 'done'\n",
            "  Created wheel for rouge-score: filename=rouge_score-0.1.2-py3-none-any.whl size=24935 sha256=d5c800c68ebb68ebcac5802eacd5f6dc1ebf61cb4c94615d94df6646948595d2\n",
            "  Stored in directory: /home/arunasrivastava/.cache/pip/wheels/85/9d/af/01feefbe7d55ef5468796f0c68225b6788e85d9d0a281e7a70\n",
            "Successfully built rouge-score\n",
            "Installing collected packages: joblib, click, absl-py, nltk, rouge-score\n",
            "Successfully installed absl-py-2.1.0 click-8.1.7 joblib-1.4.2 nltk-3.9.1 rouge-score-0.1.2\n",
            "Requirement already satisfied: evaluate in ./env/lib/python3.12/site-packages (0.4.3)\n",
            "Requirement already satisfied: datasets>=2.0.0 in ./env/lib/python3.12/site-packages (from evaluate) (3.1.0)\n",
            "Requirement already satisfied: numpy>=1.17 in ./env/lib/python3.12/site-packages (from evaluate) (2.1.3)\n",
            "Requirement already satisfied: dill in ./env/lib/python3.12/site-packages (from evaluate) (0.3.8)\n",
            "Requirement already satisfied: pandas in ./env/lib/python3.12/site-packages (from evaluate) (2.2.3)\n",
            "Requirement already satisfied: requests>=2.19.0 in ./env/lib/python3.12/site-packages (from evaluate) (2.32.3)\n",
            "Requirement already satisfied: tqdm>=4.62.1 in ./env/lib/python3.12/site-packages (from evaluate) (4.67.1)\n",
            "Requirement already satisfied: xxhash in ./env/lib/python3.12/site-packages (from evaluate) (3.5.0)\n",
            "Requirement already satisfied: multiprocess in ./env/lib/python3.12/site-packages (from evaluate) (0.70.16)\n",
            "Requirement already satisfied: fsspec>=2021.05.0 in ./env/lib/python3.12/site-packages (from fsspec[http]>=2021.05.0->evaluate) (2024.9.0)\n",
            "Requirement already satisfied: huggingface-hub>=0.7.0 in ./env/lib/python3.12/site-packages (from evaluate) (0.26.5)\n",
            "Requirement already satisfied: packaging in ./env/lib/python3.12/site-packages (from evaluate) (24.2)\n",
            "Requirement already satisfied: filelock in ./env/lib/python3.12/site-packages (from datasets>=2.0.0->evaluate) (3.16.1)\n",
            "Requirement already satisfied: pyarrow>=15.0.0 in ./env/lib/python3.12/site-packages (from datasets>=2.0.0->evaluate) (18.1.0)\n",
            "Requirement already satisfied: aiohttp in ./env/lib/python3.12/site-packages (from datasets>=2.0.0->evaluate) (3.11.10)\n",
            "Requirement already satisfied: pyyaml>=5.1 in ./env/lib/python3.12/site-packages (from datasets>=2.0.0->evaluate) (6.0.2)\n",
            "Requirement already satisfied: typing-extensions>=3.7.4.3 in ./env/lib/python3.12/site-packages (from huggingface-hub>=0.7.0->evaluate) (4.12.2)\n",
            "Requirement already satisfied: charset-normalizer<4,>=2 in ./env/lib/python3.12/site-packages (from requests>=2.19.0->evaluate) (3.4.0)\n",
            "Requirement already satisfied: idna<4,>=2.5 in ./env/lib/python3.12/site-packages (from requests>=2.19.0->evaluate) (3.10)\n",
            "Requirement already satisfied: urllib3<3,>=1.21.1 in ./env/lib/python3.12/site-packages (from requests>=2.19.0->evaluate) (2.2.3)\n",
            "Requirement already satisfied: certifi>=2017.4.17 in ./env/lib/python3.12/site-packages (from requests>=2.19.0->evaluate) (2024.8.30)\n",
            "Requirement already satisfied: python-dateutil>=2.8.2 in ./env/lib/python3.12/site-packages (from pandas->evaluate) (2.9.0.post0)\n",
            "Requirement already satisfied: pytz>=2020.1 in ./env/lib/python3.12/site-packages (from pandas->evaluate) (2024.2)\n",
            "Requirement already satisfied: tzdata>=2022.7 in ./env/lib/python3.12/site-packages (from pandas->evaluate) (2024.2)\n",
            "Requirement already satisfied: aiohappyeyeballs>=2.3.0 in ./env/lib/python3.12/site-packages (from aiohttp->datasets>=2.0.0->evaluate) (2.4.4)\n",
            "Requirement already satisfied: aiosignal>=1.1.2 in ./env/lib/python3.12/site-packages (from aiohttp->datasets>=2.0.0->evaluate) (1.3.1)\n",
            "Requirement already satisfied: attrs>=17.3.0 in ./env/lib/python3.12/site-packages (from aiohttp->datasets>=2.0.0->evaluate) (24.2.0)\n",
            "Requirement already satisfied: frozenlist>=1.1.1 in ./env/lib/python3.12/site-packages (from aiohttp->datasets>=2.0.0->evaluate) (1.5.0)\n",
            "Requirement already satisfied: multidict<7.0,>=4.5 in ./env/lib/python3.12/site-packages (from aiohttp->datasets>=2.0.0->evaluate) (6.1.0)\n",
            "Requirement already satisfied: propcache>=0.2.0 in ./env/lib/python3.12/site-packages (from aiohttp->datasets>=2.0.0->evaluate) (0.2.1)\n",
            "Requirement already satisfied: yarl<2.0,>=1.17.0 in ./env/lib/python3.12/site-packages (from aiohttp->datasets>=2.0.0->evaluate) (1.18.3)\n",
            "Requirement already satisfied: six>=1.5 in ./env/lib/python3.12/site-packages (from python-dateutil>=2.8.2->pandas->evaluate) (1.17.0)\n"
          ]
        }
      ],
      "source": [
        "%%bash\n",
        "pip install rouge-score\n",
        "pip install evaluate"
      ]
    },
    {
      "cell_type": "code",
      "execution_count": 31,
      "metadata": {
        "id": "lpi9RQDZNX-A"
      },
      "outputs": [],
      "source": [
        "# Load packages for this section\n",
        "import os\n",
        "from pprint import pprint\n",
        "from datasets import load_from_disk, Dataset, DatasetDict\n",
        "from transformers import AutoTokenizer, AutoModelForCausalLM\n",
        "from tqdm import tqdm\n"
      ]
    },
    {
      "cell_type": "markdown",
      "metadata": {
        "id": "y7r4SoYCNX-B"
      },
      "source": [
        "As always, we will start by loading the dataset."
      ]
    },
    {
      "cell_type": "code",
      "execution_count": 32,
      "metadata": {
        "id": "KRVo35WQNX-B"
      },
      "outputs": [
        {
          "name": "stderr",
          "output_type": "stream",
          "text": [
            "--2024-12-08 00:13:52--  https://homes.cs.washington.edu/~kahuja/cse447/project3/data/cnn_dm_cse447_dataset.hf.zip\n",
            "Resolving homes.cs.washington.edu (homes.cs.washington.edu)... 128.208.3.226, 2607:4000:200:12::e2\n",
            "Connecting to homes.cs.washington.edu (homes.cs.washington.edu)|128.208.3.226|:443... connected.\n",
            "HTTP request sent, awaiting response... 200 OK\n",
            "Length: 12157788 (12M) [application/zip]\n",
            "Saving to: ‘data/cnn_dm_cse447_dataset.hf.zip’\n",
            "\n",
            "     0K .......... .......... .......... .......... ..........  0%  563K 21s\n",
            "    50K .......... .......... .......... .......... ..........  0% 1.11M 16s\n",
            "   100K .......... .......... .......... .......... ..........  1% 51.6M 10s\n",
            "   150K .......... .......... .......... .......... ..........  1% 66.2M 8s\n",
            "   200K .......... .......... .......... .......... ..........  2% 1.12M 8s\n",
            "   250K .......... .......... .......... .......... ..........  2%  138M 7s\n",
            "   300K .......... .......... .......... .......... ..........  2% 87.1M 6s\n",
            "   350K .......... .......... .......... .......... ..........  3% 91.6M 5s\n",
            "   400K .......... .......... .......... .......... ..........  3% 1.15M 6s\n",
            "   450K .......... .......... .......... .......... ..........  4% 88.3M 5s\n",
            "   500K .......... .......... .......... .......... ..........  4%  142M 5s\n",
            "   550K .......... .......... .......... .......... ..........  5% 99.5M 4s\n",
            "   600K .......... .......... .......... .......... ..........  5% 94.3M 4s\n",
            "   650K .......... .......... .......... .......... ..........  5%  131M 4s\n",
            "   700K .......... .......... .......... .......... ..........  6% 96.8M 3s\n",
            "   750K .......... .......... .......... .......... ..........  6% 98.1M 3s\n",
            "   800K .......... .......... .......... .......... ..........  7%  118M 3s\n",
            "   850K .......... .......... .......... .......... ..........  7% 1.19M 3s\n",
            "   900K .......... .......... .......... .......... ..........  8% 93.8M 3s\n",
            "   950K .......... .......... .......... .......... ..........  8%  124M 3s\n",
            "  1000K .......... .......... .......... .......... ..........  8%  107M 3s\n",
            "  1050K .......... .......... .......... .......... ..........  9%  122M 3s\n",
            "  1100K .......... .......... .......... .......... ..........  9% 89.2M 3s\n",
            "  1150K .......... .......... .......... .......... .......... 10%  113M 2s\n",
            "  1200K .......... .......... .......... .......... .......... 10% 92.6M 2s\n",
            "  1250K .......... .......... .......... .......... .......... 10%  119M 2s\n",
            "  1300K .......... .......... .......... .......... .......... 11%  125M 2s\n",
            "  1350K .......... .......... .......... .......... .......... 11% 90.7M 2s\n",
            "  1400K .......... .......... .......... .......... .......... 12%  109M 2s\n",
            "  1450K .......... .......... .......... .......... .......... 12% 98.6M 2s\n",
            "  1500K .......... .......... .......... .......... .......... 13%  119M 2s\n",
            "  1550K .......... .......... .......... .......... .......... 13%  111M 2s\n",
            "  1600K .......... .......... .......... .......... .......... 13%  101M 2s\n",
            "  1650K .......... .......... .......... .......... .......... 14%  108M 2s\n",
            "  1700K .......... .......... .......... .......... .......... 14% 1.32M 2s\n",
            "  1750K .......... .......... .......... .......... .......... 15%  147M 2s\n",
            "  1800K .......... .......... .......... .......... .......... 15%  111M 2s\n",
            "  1850K .......... .......... .......... .......... .......... 16%  101M 2s\n",
            "  1900K .......... .......... .......... .......... .......... 16%  106M 2s\n",
            "  1950K .......... .......... .......... .......... .......... 16%  102M 2s\n",
            "  2000K .......... .......... .......... .......... .......... 17% 73.7M 2s\n",
            "  2050K .......... .......... .......... .......... .......... 17%  200M 1s\n",
            "  2100K .......... .......... .......... .......... .......... 18% 98.1M 1s\n",
            "  2150K .......... .......... .......... .......... .......... 18%  123M 1s\n",
            "  2200K .......... .......... .......... .......... .......... 18%  102M 1s\n",
            "  2250K .......... .......... .......... .......... .......... 19%  114M 1s\n",
            "  2300K .......... .......... .......... .......... .......... 19% 82.9M 1s\n",
            "  2350K .......... .......... .......... .......... .......... 20% 96.7M 1s\n",
            "  2400K .......... .......... .......... .......... .......... 20%  116M 1s\n",
            "  2450K .......... .......... .......... .......... .......... 21% 99.5M 1s\n",
            "  2500K .......... .......... .......... .......... .......... 21%  112M 1s\n",
            "  2550K .......... .......... .......... .......... .......... 21%  118M 1s\n",
            "  2600K .......... .......... .......... .......... .......... 22% 93.3M 1s\n",
            "  2650K .......... .......... .......... .......... .......... 22%  119M 1s\n",
            "  2700K .......... .......... .......... .......... .......... 23% 98.3M 1s\n",
            "  2750K .......... .......... .......... .......... .......... 23%  116M 1s\n",
            "  2800K .......... .......... .......... .......... .......... 24%  125M 1s\n",
            "  2850K .......... .......... .......... .......... .......... 24%  100M 1s\n",
            "  2900K .......... .......... .......... .......... .......... 24%  111M 1s\n",
            "  2950K .......... .......... .......... .......... .......... 25%  101M 1s\n",
            "  3000K .......... .......... .......... .......... .......... 25%  110M 1s\n",
            "  3050K .......... .......... .......... .......... .......... 26%  102M 1s\n",
            "  3100K .......... .......... .......... .......... .......... 26%  112M 1s\n",
            "  3150K .......... .......... .......... .......... .......... 26%  104M 1s\n",
            "  3200K .......... .......... .......... .......... .......... 27% 99.6M 1s\n",
            "  3250K .......... .......... .......... .......... .......... 27%  116M 1s\n",
            "  3300K .......... .......... .......... .......... .......... 28%  133M 1s\n",
            "  3350K .......... .......... .......... .......... .......... 28% 87.6M 1s\n",
            "  3400K .......... .......... .......... .......... .......... 29%  126M 1s\n",
            "  3450K .......... .......... .......... .......... .......... 29% 1.69M 1s\n",
            "  3500K .......... .......... .......... .......... .......... 29%  125M 1s\n",
            "  3550K .......... .......... .......... .......... .......... 30% 78.1M 1s\n",
            "  3600K .......... .......... .......... .......... .......... 30%  105M 1s\n",
            "  3650K .......... .......... .......... .......... .......... 31%  112M 1s\n",
            "  3700K .......... .......... .......... .......... .......... 31% 95.3M 1s\n",
            "  3750K .......... .......... .......... .......... .......... 32%  106M 1s\n",
            "  3800K .......... .......... .......... .......... .......... 32%  110M 1s\n",
            "  3850K .......... .......... .......... .......... .......... 32%  102M 1s\n",
            "  3900K .......... .......... .......... .......... .......... 33% 85.0M 1s\n",
            "  3950K .......... .......... .......... .......... .......... 33%  150M 1s\n",
            "  4000K .......... .......... .......... .......... .......... 34%  117M 1s\n",
            "  4050K .......... .......... .......... .......... .......... 34%  109M 1s\n",
            "  4100K .......... .......... .......... .......... .......... 34% 95.2M 1s\n",
            "  4150K .......... .......... .......... .......... .......... 35%  116M 1s\n",
            "  4200K .......... .......... .......... .......... .......... 35% 99.8M 1s\n",
            "  4250K .......... .......... .......... .......... .......... 36%  114M 1s\n",
            "  4300K .......... .......... .......... .......... .......... 36%  104M 1s\n",
            "  4350K .......... .......... .......... .......... .......... 37%  100M 1s\n",
            "  4400K .......... .......... .......... .......... .......... 37%  135M 1s\n",
            "  4450K .......... .......... .......... .......... .......... 37% 90.8M 1s\n",
            "  4500K .......... .......... .......... .......... .......... 38%  110M 1s\n",
            "  4550K .......... .......... .......... .......... .......... 38%  125M 1s\n",
            "  4600K .......... .......... .......... .......... .......... 39% 98.9M 1s\n",
            "  4650K .......... .......... .......... .......... .......... 39%  109M 1s\n",
            "  4700K .......... .......... .......... .......... .......... 40% 97.9M 1s\n",
            "  4750K .......... .......... .......... .......... .......... 40%  128M 1s\n",
            "  4800K .......... .......... .......... .......... .......... 40%  105M 1s\n",
            "  4850K .......... .......... .......... .......... .......... 41%  101M 1s\n",
            "  4900K .......... .......... .......... .......... .......... 41%  116M 1s\n",
            "  4950K .......... .......... .......... .......... .......... 42% 97.6M 1s\n",
            "  5000K .......... .......... .......... .......... .......... 42%  123M 0s\n",
            "  5050K .......... .......... .......... .......... .......... 42% 73.5M 0s\n",
            "  5100K .......... .......... .......... .......... .......... 43% 49.4M 0s\n",
            "  5150K .......... .......... .......... .......... .......... 43% 68.8M 0s\n",
            "  5200K .......... .......... .......... .......... .......... 44%  104M 0s\n",
            "  5250K .......... .......... .......... .......... .......... 44% 98.3M 0s\n",
            "  5300K .......... .......... .......... .......... .......... 45%  123M 0s\n",
            "  5350K .......... .......... .......... .......... .......... 45% 96.7M 0s\n",
            "  5400K .......... .......... .......... .......... .......... 45%  139M 0s\n",
            "  5450K .......... .......... .......... .......... .......... 46% 93.5M 0s\n",
            "  5500K .......... .......... .......... .......... .......... 46%  126M 0s\n",
            "  5550K .......... .......... .......... .......... .......... 47%  108M 0s\n",
            "  5600K .......... .......... .......... .......... .......... 47% 89.3M 0s\n",
            "  5650K .......... .......... .......... .......... .......... 48%  117M 0s\n",
            "  5700K .......... .......... .......... .......... .......... 48%  102M 0s\n",
            "  5750K .......... .......... .......... .......... .......... 48%  119M 0s\n",
            "  5800K .......... .......... .......... .......... .......... 49%  123M 0s\n",
            "  5850K .......... .......... .......... .......... .......... 49% 81.7M 0s\n",
            "  5900K .......... .......... .......... .......... .......... 50%  148M 0s\n",
            "  5950K .......... .......... .......... .......... .......... 50% 98.2M 0s\n",
            "  6000K .......... .......... .......... .......... .......... 50%  116M 0s\n",
            "  6050K .......... .......... .......... .......... .......... 51%  123M 0s\n",
            "  6100K .......... .......... .......... .......... .......... 51% 90.7M 0s\n",
            "  6150K .......... .......... .......... .......... .......... 52%  128M 0s\n",
            "  6200K .......... .......... .......... .......... .......... 52% 91.8M 0s\n",
            "  6250K .......... .......... .......... .......... .......... 53%  115M 0s\n",
            "  6300K .......... .......... .......... .......... .......... 53% 2.49M 0s\n",
            "  6350K .......... .......... .......... .......... .......... 53% 98.7M 0s\n",
            "  6400K .......... .......... .......... .......... .......... 54%  111M 0s\n",
            "  6450K .......... .......... .......... .......... .......... 54% 93.2M 0s\n",
            "  6500K .......... .......... .......... .......... .......... 55%  125M 0s\n",
            "  6550K .......... .......... .......... .......... .......... 55%  101M 0s\n",
            "  6600K .......... .......... .......... .......... .......... 56% 94.8M 0s\n",
            "  6650K .......... .......... .......... .......... .......... 56%  112M 0s\n",
            "  6700K .......... .......... .......... .......... .......... 56%  102M 0s\n",
            "  6750K .......... .......... .......... .......... .......... 57% 62.2M 0s\n",
            "  6800K .......... .......... .......... .......... .......... 57% 86.0M 0s\n",
            "  6850K .......... .......... .......... .......... .......... 58% 98.8M 0s\n",
            "  6900K .......... .......... .......... .......... .......... 58% 95.1M 0s\n",
            "  6950K .......... .......... .......... .......... .......... 58%  109M 0s\n",
            "  7000K .......... .......... .......... .......... .......... 59%  137M 0s\n",
            "  7050K .......... .......... .......... .......... .......... 59%  103M 0s\n",
            "  7100K .......... .......... .......... .......... .......... 60%  107M 0s\n",
            "  7150K .......... .......... .......... .......... .......... 60%  108M 0s\n",
            "  7200K .......... .......... .......... .......... .......... 61%  101M 0s\n",
            "  7250K .......... .......... .......... .......... .......... 61%  113M 0s\n",
            "  7300K .......... .......... .......... .......... .......... 61%  112M 0s\n",
            "  7350K .......... .......... .......... .......... .......... 62%  107M 0s\n",
            "  7400K .......... .......... .......... .......... .......... 62%  107M 0s\n",
            "  7450K .......... .......... .......... .......... .......... 63% 96.5M 0s\n",
            "  7500K .......... .......... .......... .......... .......... 63%  118M 0s\n",
            "  7550K .......... .......... .......... .......... .......... 64%  115M 0s\n",
            "  7600K .......... .......... .......... .......... .......... 64%  104M 0s\n",
            "  7650K .......... .......... .......... .......... .......... 64%  119M 0s\n",
            "  7700K .......... .......... .......... .......... .......... 65% 94.4M 0s\n",
            "  7750K .......... .......... .......... .......... .......... 65% 85.8M 0s\n",
            "  7800K .......... .......... .......... .......... .......... 66% 61.8M 0s\n",
            "  7850K .......... .......... .......... .......... .......... 66% 46.4M 0s\n",
            "  7900K .......... .......... .......... .......... .......... 66% 1.04M 0s\n",
            "  7950K .......... .......... .......... .......... .......... 67%  193M 0s\n",
            "  8000K .......... .......... .......... .......... .......... 67%  323M 0s\n",
            "  8050K .......... .......... .......... .......... .......... 68%  253M 0s\n",
            "  8100K .......... .......... .......... .......... .......... 68%  279M 0s\n",
            "  8150K .......... .......... .......... .......... .......... 69%  291M 0s\n",
            "  8200K .......... .......... .......... .......... .......... 69%  269M 0s\n",
            "  8250K .......... .......... .......... .......... .......... 69%  325M 0s\n",
            "  8300K .......... .......... .......... .......... .......... 70%  328M 0s\n",
            "  8350K .......... .......... .......... .......... .......... 70%  291M 0s\n",
            "  8400K .......... .......... .......... .......... .......... 71%  319M 0s\n",
            "  8450K .......... .......... .......... .......... .......... 71%  291M 0s\n",
            "  8500K .......... .......... .......... .......... .......... 72%  340M 0s\n",
            "  8550K .......... .......... .......... .......... .......... 72%  325M 0s\n",
            "  8600K .......... .......... .......... .......... .......... 72%  290M 0s\n",
            "  8650K .......... .......... .......... .......... .......... 73%  342M 0s\n",
            "  8700K .......... .......... .......... .......... .......... 73%  291M 0s\n",
            "  8750K .......... .......... .......... .......... .......... 74%  326M 0s\n",
            "  8800K .......... .......... .......... .......... .......... 74%  325M 0s\n",
            "  8850K .......... .......... .......... .......... .......... 74%  289M 0s\n",
            "  8900K .......... .......... .......... .......... .......... 75%  278M 0s\n",
            "  8950K .......... .......... .......... .......... .......... 75%  295M 0s\n",
            "  9000K .......... .......... .......... .......... .......... 76%  340M 0s\n",
            "  9050K .......... .......... .......... .......... .......... 76%  308M 0s\n",
            "  9100K .......... .......... .......... .......... .......... 77%  288M 0s\n",
            "  9150K .......... .......... .......... .......... .......... 77%  284M 0s\n",
            "  9200K .......... .......... .......... .......... .......... 77%  292M 0s\n",
            "  9250K .......... .......... .......... .......... .......... 78%  343M 0s\n",
            "  9300K .......... .......... .......... .......... .......... 78%  327M 0s\n",
            "  9350K .......... .......... .......... .......... .......... 79%  283M 0s\n",
            "  9400K .......... .......... .......... .......... .......... 79%  286M 0s\n",
            "  9450K .......... .......... .......... .......... .......... 80%  295M 0s\n",
            "  9500K .......... .......... .......... .......... .......... 80%  338M 0s\n",
            "  9550K .......... .......... .......... .......... .......... 80%  325M 0s\n",
            "  9600K .......... .......... .......... .......... .......... 81%  288M 0s\n",
            "  9650K .......... .......... .......... .......... .......... 81%  344M 0s\n",
            "  9700K .......... .......... .......... .......... .......... 82%  280M 0s\n",
            "  9750K .......... .......... .......... .......... .......... 82%  342M 0s\n",
            "  9800K .......... .......... .......... .......... .......... 82%  328M 0s\n",
            "  9850K .......... .......... .......... .......... .......... 83%  278M 0s\n",
            "  9900K .......... .......... .......... .......... .......... 83%  336M 0s\n",
            "  9950K .......... .......... .......... .......... .......... 84%  292M 0s\n",
            " 10000K .......... .......... .......... .......... .......... 84%  331M 0s\n",
            " 10050K .......... .......... .......... .......... .......... 85%  325M 0s\n",
            " 10100K .......... .......... .......... .......... .......... 85%  294M 0s\n",
            " 10150K .......... .......... .......... .......... .......... 85%  329M 0s\n",
            " 10200K .......... .......... .......... .......... .......... 86%  294M 0s\n",
            " 10250K .......... .......... .......... .......... .......... 86%  301M 0s\n",
            " 10300K .......... .......... .......... .......... .......... 87%  326M 0s\n",
            " 10350K .......... .......... .......... .......... .......... 87%  279M 0s\n",
            " 10400K .......... .......... .......... .......... .......... 88%  342M 0s\n",
            " 10450K .......... .......... .......... .......... .......... 88%  297M 0s\n",
            " 10500K .......... .......... .......... .......... .......... 88%  336M 0s\n",
            " 10550K .......... .......... .......... .......... .......... 89%  346M 0s\n",
            " 10600K .......... .......... .......... .......... .......... 89%  281M 0s\n",
            " 10650K .......... .......... .......... .......... .......... 90%  336M 0s\n",
            " 10700K .......... .......... .......... .......... .......... 90%  269M 0s\n",
            " 10750K .......... .......... .......... .......... .......... 90%  323M 0s\n",
            " 10800K .......... .......... .......... .......... .......... 91%  332M 0s\n",
            " 10850K .......... .......... .......... .......... .......... 91%  260M 0s\n",
            " 10900K .......... .......... .......... .......... .......... 92%  324M 0s\n",
            " 10950K .......... .......... .......... .......... .......... 92% 1.40M 0s\n",
            " 11000K .......... .......... .......... .......... .......... 93%  136M 0s\n",
            " 11050K .......... .......... .......... .......... .......... 93% 87.3M 0s\n",
            " 11100K .......... .......... .......... .......... .......... 93%  102M 0s\n",
            " 11150K .......... .......... .......... .......... .......... 94%  139M 0s\n",
            " 11200K .......... .......... .......... .......... .......... 94% 95.7M 0s\n",
            " 11250K .......... .......... .......... .......... .......... 95% 99.3M 0s\n",
            " 11300K .......... .......... .......... .......... .......... 95%  142M 0s\n",
            " 11350K .......... .......... .......... .......... .......... 96% 82.2M 0s\n",
            " 11400K .......... .......... .......... .......... .......... 96%  136M 0s\n",
            " 11450K .......... .......... .......... .......... .......... 96% 90.8M 0s\n",
            " 11500K .......... .......... .......... .......... .......... 97%  127M 0s\n",
            " 11550K .......... .......... .......... .......... .......... 97% 99.0M 0s\n",
            " 11600K .......... .......... .......... .......... .......... 98%  104M 0s\n",
            " 11650K .......... .......... .......... .......... .......... 98%  104M 0s\n",
            " 11700K .......... .......... .......... .......... .......... 98%  104M 0s\n",
            " 11750K .......... .......... .......... .......... .......... 99%  114M 0s\n",
            " 11800K .......... .......... .......... .......... .......... 99%  122M 0s\n",
            " 11850K .......... .......... ..                              100%  131M=0.5s\n",
            "\n",
            "2024-12-08 00:13:53 (22.4 MB/s) - ‘data/cnn_dm_cse447_dataset.hf.zip’ saved [12157788/12157788]\n",
            "\n",
            "bash: line 4: unzip: command not found\n",
            "--2024-12-08 00:13:53--  https://homes.cs.washington.edu/~kahuja/cse447/project3/data/kd_dataset.hf.zip\n",
            "Resolving homes.cs.washington.edu (homes.cs.washington.edu)... 128.208.3.226, 2607:4000:200:12::e2\n",
            "Connecting to homes.cs.washington.edu (homes.cs.washington.edu)|128.208.3.226|:443... connected.\n",
            "HTTP request sent, awaiting response... 200 OK\n",
            "Length: 1153651 (1.1M) [application/zip]\n",
            "Saving to: ‘data/kd_dataset.hf.zip’\n",
            "\n",
            "     0K .......... .......... .......... .......... ..........  4%  552K 2s\n",
            "    50K .......... .......... .......... .......... ..........  8% 1.09M 1s\n",
            "   100K .......... .......... .......... .......... .......... 13% 43.3M 1s\n",
            "   150K .......... .......... .......... .......... .......... 17% 76.8M 1s\n",
            "   200K .......... .......... .......... .......... .......... 22% 1.11M 1s\n",
            "   250K .......... .......... .......... .......... .......... 26%  105M 1s\n",
            "   300K .......... .......... .......... .......... .......... 31% 94.6M 0s\n",
            "   350K .......... .......... .......... .......... .......... 35% 86.3M 0s\n",
            "   400K .......... .......... .......... .......... .......... 39% 1.13M 0s\n",
            "   450K .......... .......... .......... .......... .......... 44%  103M 0s\n",
            "   500K .......... .......... .......... .......... .......... 48%  110M 0s\n",
            "   550K .......... .......... .......... .......... .......... 53%  106M 0s\n",
            "   600K .......... .......... .......... .......... .......... 57%  100M 0s\n",
            "   650K .......... .......... .......... .......... .......... 62%  112M 0s\n",
            "   700K .......... .......... .......... .......... .......... 66% 95.2M 0s\n",
            "   750K .......... .......... .......... .......... .......... 71%  113M 0s\n",
            "   800K .......... .......... .......... .......... .......... 75%  128M 0s\n",
            "   850K .......... .......... .......... .......... .......... 79% 1.17M 0s\n",
            "   900K .......... .......... .......... .......... .......... 84%  122M 0s\n",
            "   950K .......... .......... .......... .......... .......... 88% 87.6M 0s\n",
            "  1000K .......... .......... .......... .......... .......... 93% 86.2M 0s\n",
            "  1050K .......... .......... .......... .......... .......... 97%  208M 0s\n",
            "  1100K .......... .......... ......                          100%  115M=0.3s\n",
            "\n",
            "2024-12-08 00:13:53 (4.02 MB/s) - ‘data/kd_dataset.hf.zip’ saved [1153651/1153651]\n",
            "\n",
            "bash: line 6: unzip: command not found\n"
          ]
        },
        {
          "ename": "CalledProcessError",
          "evalue": "Command 'b'# Download the dataset\\nmkdir -p data\\nwget https://homes.cs.washington.edu/~kahuja/cse447/project3/data/cnn_dm_cse447_dataset.hf.zip -O data/cnn_dm_cse447_dataset.hf.zip\\nunzip -o data/cnn_dm_cse447_dataset.hf.zip -d data/\\nwget https://homes.cs.washington.edu/~kahuja/cse447/project3/data/kd_dataset.hf.zip -O data/kd_dataset.hf.zip\\nunzip -o data/kd_dataset.hf.zip -d data/\\n'' returned non-zero exit status 127.",
          "output_type": "error",
          "traceback": [
            "\u001b[0;31m---------------------------------------------------------------------------\u001b[0m",
            "\u001b[0;31mCalledProcessError\u001b[0m                        Traceback (most recent call last)",
            "Cell \u001b[0;32mIn[32], line 1\u001b[0m\n\u001b[0;32m----> 1\u001b[0m \u001b[43mget_ipython\u001b[49m\u001b[43m(\u001b[49m\u001b[43m)\u001b[49m\u001b[38;5;241;43m.\u001b[39;49m\u001b[43mrun_cell_magic\u001b[49m\u001b[43m(\u001b[49m\u001b[38;5;124;43m'\u001b[39;49m\u001b[38;5;124;43mbash\u001b[39;49m\u001b[38;5;124;43m'\u001b[39;49m\u001b[43m,\u001b[49m\u001b[43m \u001b[49m\u001b[38;5;124;43m'\u001b[39;49m\u001b[38;5;124;43m'\u001b[39;49m\u001b[43m,\u001b[49m\u001b[43m \u001b[49m\u001b[38;5;124;43m'\u001b[39;49m\u001b[38;5;124;43m# Download the dataset\u001b[39;49m\u001b[38;5;130;43;01m\\n\u001b[39;49;00m\u001b[38;5;124;43mmkdir -p data\u001b[39;49m\u001b[38;5;130;43;01m\\n\u001b[39;49;00m\u001b[38;5;124;43mwget https://homes.cs.washington.edu/~kahuja/cse447/project3/data/cnn_dm_cse447_dataset.hf.zip -O data/cnn_dm_cse447_dataset.hf.zip\u001b[39;49m\u001b[38;5;130;43;01m\\n\u001b[39;49;00m\u001b[38;5;124;43munzip -o data/cnn_dm_cse447_dataset.hf.zip -d data/\u001b[39;49m\u001b[38;5;130;43;01m\\n\u001b[39;49;00m\u001b[38;5;124;43mwget https://homes.cs.washington.edu/~kahuja/cse447/project3/data/kd_dataset.hf.zip -O data/kd_dataset.hf.zip\u001b[39;49m\u001b[38;5;130;43;01m\\n\u001b[39;49;00m\u001b[38;5;124;43munzip -o data/kd_dataset.hf.zip -d data/\u001b[39;49m\u001b[38;5;130;43;01m\\n\u001b[39;49;00m\u001b[38;5;124;43m'\u001b[39;49m\u001b[43m)\u001b[49m\n",
            "File \u001b[0;32m~/AttentionGate/env/lib/python3.12/site-packages/IPython/core/interactiveshell.py:2541\u001b[0m, in \u001b[0;36mInteractiveShell.run_cell_magic\u001b[0;34m(self, magic_name, line, cell)\u001b[0m\n\u001b[1;32m   2539\u001b[0m \u001b[38;5;28;01mwith\u001b[39;00m \u001b[38;5;28mself\u001b[39m\u001b[38;5;241m.\u001b[39mbuiltin_trap:\n\u001b[1;32m   2540\u001b[0m     args \u001b[38;5;241m=\u001b[39m (magic_arg_s, cell)\n\u001b[0;32m-> 2541\u001b[0m     result \u001b[38;5;241m=\u001b[39m \u001b[43mfn\u001b[49m\u001b[43m(\u001b[49m\u001b[38;5;241;43m*\u001b[39;49m\u001b[43margs\u001b[49m\u001b[43m,\u001b[49m\u001b[43m \u001b[49m\u001b[38;5;241;43m*\u001b[39;49m\u001b[38;5;241;43m*\u001b[39;49m\u001b[43mkwargs\u001b[49m\u001b[43m)\u001b[49m\n\u001b[1;32m   2543\u001b[0m \u001b[38;5;66;03m# The code below prevents the output from being displayed\u001b[39;00m\n\u001b[1;32m   2544\u001b[0m \u001b[38;5;66;03m# when using magics with decorator @output_can_be_silenced\u001b[39;00m\n\u001b[1;32m   2545\u001b[0m \u001b[38;5;66;03m# when the last Python token in the expression is a ';'.\u001b[39;00m\n\u001b[1;32m   2546\u001b[0m \u001b[38;5;28;01mif\u001b[39;00m \u001b[38;5;28mgetattr\u001b[39m(fn, magic\u001b[38;5;241m.\u001b[39mMAGIC_OUTPUT_CAN_BE_SILENCED, \u001b[38;5;28;01mFalse\u001b[39;00m):\n",
            "File \u001b[0;32m~/AttentionGate/env/lib/python3.12/site-packages/IPython/core/magics/script.py:155\u001b[0m, in \u001b[0;36mScriptMagics._make_script_magic.<locals>.named_script_magic\u001b[0;34m(line, cell)\u001b[0m\n\u001b[1;32m    153\u001b[0m \u001b[38;5;28;01melse\u001b[39;00m:\n\u001b[1;32m    154\u001b[0m     line \u001b[38;5;241m=\u001b[39m script\n\u001b[0;32m--> 155\u001b[0m \u001b[38;5;28;01mreturn\u001b[39;00m \u001b[38;5;28;43mself\u001b[39;49m\u001b[38;5;241;43m.\u001b[39;49m\u001b[43mshebang\u001b[49m\u001b[43m(\u001b[49m\u001b[43mline\u001b[49m\u001b[43m,\u001b[49m\u001b[43m \u001b[49m\u001b[43mcell\u001b[49m\u001b[43m)\u001b[49m\n",
            "File \u001b[0;32m~/AttentionGate/env/lib/python3.12/site-packages/IPython/core/magics/script.py:315\u001b[0m, in \u001b[0;36mScriptMagics.shebang\u001b[0;34m(self, line, cell)\u001b[0m\n\u001b[1;32m    310\u001b[0m \u001b[38;5;28;01mif\u001b[39;00m args\u001b[38;5;241m.\u001b[39mraise_error \u001b[38;5;129;01mand\u001b[39;00m p\u001b[38;5;241m.\u001b[39mreturncode \u001b[38;5;241m!=\u001b[39m \u001b[38;5;241m0\u001b[39m:\n\u001b[1;32m    311\u001b[0m     \u001b[38;5;66;03m# If we get here and p.returncode is still None, we must have\u001b[39;00m\n\u001b[1;32m    312\u001b[0m     \u001b[38;5;66;03m# killed it but not yet seen its return code. We don't wait for it,\u001b[39;00m\n\u001b[1;32m    313\u001b[0m     \u001b[38;5;66;03m# in case it's stuck in uninterruptible sleep. -9 = SIGKILL\u001b[39;00m\n\u001b[1;32m    314\u001b[0m     rc \u001b[38;5;241m=\u001b[39m p\u001b[38;5;241m.\u001b[39mreturncode \u001b[38;5;129;01mor\u001b[39;00m \u001b[38;5;241m-\u001b[39m\u001b[38;5;241m9\u001b[39m\n\u001b[0;32m--> 315\u001b[0m     \u001b[38;5;28;01mraise\u001b[39;00m CalledProcessError(rc, cell)\n",
            "\u001b[0;31mCalledProcessError\u001b[0m: Command 'b'# Download the dataset\\nmkdir -p data\\nwget https://homes.cs.washington.edu/~kahuja/cse447/project3/data/cnn_dm_cse447_dataset.hf.zip -O data/cnn_dm_cse447_dataset.hf.zip\\nunzip -o data/cnn_dm_cse447_dataset.hf.zip -d data/\\nwget https://homes.cs.washington.edu/~kahuja/cse447/project3/data/kd_dataset.hf.zip -O data/kd_dataset.hf.zip\\nunzip -o data/kd_dataset.hf.zip -d data/\\n'' returned non-zero exit status 127."
          ]
        }
      ],
      "source": [
        "%%bash\n",
        "# Download the dataset\n",
        "mkdir -p data\n",
        "wget https://homes.cs.washington.edu/~kahuja/cse447/project3/data/cnn_dm_cse447_dataset.hf.zip -O data/cnn_dm_cse447_dataset.hf.zip\n",
        "unzip -o data/cnn_dm_cse447_dataset.hf.zip -d data/\n",
        "wget https://homes.cs.washington.edu/~kahuja/cse447/project3/data/kd_dataset.hf.zip -O data/kd_dataset.hf.zip\n",
        "unzip -o data/kd_dataset.hf.zip -d data/"
      ]
    },
    {
      "cell_type": "code",
      "execution_count": 33,
      "metadata": {
        "colab": {
          "base_uri": "https://localhost:8080/"
        },
        "id": "YW_3LjBKNX-F",
        "outputId": "f96b5003-01d6-4ea1-e4d9-007e9620fea9"
      },
      "outputs": [
        {
          "ename": "FileNotFoundError",
          "evalue": "Directory /home/arunasrivastava/AttentionGate/data/cnn_dm_cse447_dataset.hf not found",
          "output_type": "error",
          "traceback": [
            "\u001b[0;31m---------------------------------------------------------------------------\u001b[0m",
            "\u001b[0;31mFileNotFoundError\u001b[0m                         Traceback (most recent call last)",
            "Cell \u001b[0;32mIn[33], line 6\u001b[0m\n\u001b[1;32m      4\u001b[0m parent_dir \u001b[38;5;241m=\u001b[39m os\u001b[38;5;241m.\u001b[39mpath\u001b[38;5;241m.\u001b[39mdirname(os\u001b[38;5;241m.\u001b[39mpath\u001b[38;5;241m.\u001b[39mabspath(\u001b[38;5;124m\"\u001b[39m\u001b[38;5;124m__file__\u001b[39m\u001b[38;5;124m\"\u001b[39m))\n\u001b[1;32m      5\u001b[0m data_dir \u001b[38;5;241m=\u001b[39m os\u001b[38;5;241m.\u001b[39mpath\u001b[38;5;241m.\u001b[39mjoin(parent_dir, \u001b[38;5;124m\"\u001b[39m\u001b[38;5;124mdata\u001b[39m\u001b[38;5;124m\"\u001b[39m)\n\u001b[0;32m----> 6\u001b[0m cnn_dm_cse447_dataset \u001b[38;5;241m=\u001b[39m \u001b[43mload_from_disk\u001b[49m\u001b[43m(\u001b[49m\u001b[43mos\u001b[49m\u001b[38;5;241;43m.\u001b[39;49m\u001b[43mpath\u001b[49m\u001b[38;5;241;43m.\u001b[39;49m\u001b[43mjoin\u001b[49m\u001b[43m(\u001b[49m\u001b[43mdata_dir\u001b[49m\u001b[43m,\u001b[49m\u001b[43m \u001b[49m\u001b[38;5;124;43m\"\u001b[39;49m\u001b[38;5;124;43mcnn_dm_cse447_dataset.hf\u001b[39;49m\u001b[38;5;124;43m\"\u001b[39;49m\u001b[43m)\u001b[49m\u001b[43m)\u001b[49m\n\u001b[1;32m      7\u001b[0m cnn_dm_cse447_dataset\n",
            "File \u001b[0;32m~/AttentionGate/env/lib/python3.12/site-packages/datasets/load.py:2210\u001b[0m, in \u001b[0;36mload_from_disk\u001b[0;34m(dataset_path, keep_in_memory, storage_options)\u001b[0m\n\u001b[1;32m   2208\u001b[0m fs, \u001b[38;5;241m*\u001b[39m_ \u001b[38;5;241m=\u001b[39m url_to_fs(dataset_path, \u001b[38;5;241m*\u001b[39m\u001b[38;5;241m*\u001b[39m(storage_options \u001b[38;5;129;01mor\u001b[39;00m {}))\n\u001b[1;32m   2209\u001b[0m \u001b[38;5;28;01mif\u001b[39;00m \u001b[38;5;129;01mnot\u001b[39;00m fs\u001b[38;5;241m.\u001b[39mexists(dataset_path):\n\u001b[0;32m-> 2210\u001b[0m     \u001b[38;5;28;01mraise\u001b[39;00m \u001b[38;5;167;01mFileNotFoundError\u001b[39;00m(\u001b[38;5;124mf\u001b[39m\u001b[38;5;124m\"\u001b[39m\u001b[38;5;124mDirectory \u001b[39m\u001b[38;5;132;01m{\u001b[39;00mdataset_path\u001b[38;5;132;01m}\u001b[39;00m\u001b[38;5;124m not found\u001b[39m\u001b[38;5;124m\"\u001b[39m)\n\u001b[1;32m   2211\u001b[0m \u001b[38;5;28;01mif\u001b[39;00m fs\u001b[38;5;241m.\u001b[39misfile(posixpath\u001b[38;5;241m.\u001b[39mjoin(dataset_path, config\u001b[38;5;241m.\u001b[39mDATASET_INFO_FILENAME)) \u001b[38;5;129;01mand\u001b[39;00m fs\u001b[38;5;241m.\u001b[39misfile(\n\u001b[1;32m   2212\u001b[0m     posixpath\u001b[38;5;241m.\u001b[39mjoin(dataset_path, config\u001b[38;5;241m.\u001b[39mDATASET_STATE_JSON_FILENAME)\n\u001b[1;32m   2213\u001b[0m ):\n\u001b[1;32m   2214\u001b[0m     \u001b[38;5;28;01mreturn\u001b[39;00m Dataset\u001b[38;5;241m.\u001b[39mload_from_disk(dataset_path, keep_in_memory\u001b[38;5;241m=\u001b[39mkeep_in_memory, storage_options\u001b[38;5;241m=\u001b[39mstorage_options)\n",
            "\u001b[0;31mFileNotFoundError\u001b[0m: Directory /home/arunasrivastava/AttentionGate/data/cnn_dm_cse447_dataset.hf not found"
          ]
        }
      ],
      "source": [
        "######################################################\n",
        "#  The following code is given to you. DO NOT MODIFY.\n",
        "######################################################\n",
        "parent_dir = os.path.dirname(os.path.abspath(\"__file__\"))\n",
        "data_dir = os.path.join(parent_dir, \"data\")\n",
        "cnn_dm_cse447_dataset = load_from_disk(os.path.join(data_dir, \"cnn_dm_cse447_dataset.hf\"))\n",
        "cnn_dm_cse447_dataset"
      ]
    },
    {
      "cell_type": "code",
      "execution_count": 34,
      "metadata": {
        "id": "6OOfNJkhNX-F"
      },
      "outputs": [
        {
          "name": "stdout",
          "output_type": "stream",
          "text": [
            "Full article:\n"
          ]
        },
        {
          "ename": "NameError",
          "evalue": "name 'cnn_dm_cse447_dataset' is not defined",
          "output_type": "error",
          "traceback": [
            "\u001b[0;31m---------------------------------------------------------------------------\u001b[0m",
            "\u001b[0;31mNameError\u001b[0m                                 Traceback (most recent call last)",
            "Cell \u001b[0;32mIn[34], line 3\u001b[0m\n\u001b[1;32m      1\u001b[0m \u001b[38;5;66;03m# Preview the dataset\u001b[39;00m\n\u001b[1;32m      2\u001b[0m \u001b[38;5;28mprint\u001b[39m(\u001b[38;5;124m\"\u001b[39m\u001b[38;5;124mFull article:\u001b[39m\u001b[38;5;124m\"\u001b[39m)\n\u001b[0;32m----> 3\u001b[0m pprint(\u001b[43mcnn_dm_cse447_dataset\u001b[49m[\u001b[38;5;124m\"\u001b[39m\u001b[38;5;124mval\u001b[39m\u001b[38;5;124m\"\u001b[39m][\u001b[38;5;241m0\u001b[39m][\u001b[38;5;124m\"\u001b[39m\u001b[38;5;124marticle\u001b[39m\u001b[38;5;124m\"\u001b[39m])\n\u001b[1;32m      4\u001b[0m \u001b[38;5;28mprint\u001b[39m(\u001b[38;5;124m\"\u001b[39m\u001b[38;5;130;01m\\n\u001b[39;00m\u001b[38;5;130;01m\\n\u001b[39;00m\u001b[38;5;124m\"\u001b[39m)\n\u001b[1;32m      5\u001b[0m \u001b[38;5;28mprint\u001b[39m(\u001b[38;5;124m\"\u001b[39m\u001b[38;5;124mGold summary:\u001b[39m\u001b[38;5;124m\"\u001b[39m)\n",
            "\u001b[0;31mNameError\u001b[0m: name 'cnn_dm_cse447_dataset' is not defined"
          ]
        }
      ],
      "source": [
        "# Preview the dataset\n",
        "print(\"Full article:\")\n",
        "pprint(cnn_dm_cse447_dataset[\"val\"][0][\"article\"])\n",
        "print(\"\\n\\n\")\n",
        "print(\"Gold summary:\")\n",
        "pprint(cnn_dm_cse447_dataset[\"val\"][0][\"summary\"])"
      ]
    },
    {
      "cell_type": "markdown",
      "metadata": {
        "id": "VgXP92A6NX-F"
      },
      "source": [
        "### 2.1: Student Model\n",
        "\n",
        "In this exercise we will try to understand how well the student model i.e. GPT-2 does on the summarizaion task out of box. In later exercises we will try to improve the performance of the student model using knowledge distillation."
      ]
    },
    {
      "cell_type": "markdown",
      "metadata": {
        "id": "93vxT9paNX-F"
      },
      "source": [
        "We start by loading the student model and tokenizer."
      ]
    },
    {
      "cell_type": "code",
      "execution_count": null,
      "metadata": {
        "id": "vyuhbgG1NX-F"
      },
      "outputs": [],
      "source": [
        "######################################################\n",
        "#  The following code is given to you. DO NOT MODIFY.\n",
        "######################################################\n",
        "from transformers import AutoModelForCausalLM, AutoTokenizer\n",
        "\n",
        "student_model = AutoModelForCausalLM.from_pretrained(\"gpt2\")\n",
        "student_tokenizer = AutoTokenizer.from_pretrained(\"gpt2\", padding_side=\"left\")\n",
        "\n",
        "student_model = student_model.to(device)\n",
        "student_tokenizer.pad_token_id = student_tokenizer.eos_token_id\n",
        "student_model"
      ]
    },
    {
      "cell_type": "markdown",
      "metadata": {
        "id": "nmpHS4-rNX-F"
      },
      "source": [
        "Notice GPT-2 is a decoder-only model and has 12 layers. This is the smallest model in the GPT-2 family i.e. with only 124M parameters."
      ]
    },
    {
      "cell_type": "markdown",
      "metadata": {
        "id": "3_-2Y4zRNX-G"
      },
      "source": [
        "### 2.1.1 Preparing Data for Student Model\n",
        "\n",
        "Our student model is a language model and inherently a language model's job is to predict continuations of a sequence by predicting one token at a time. To perform specific tasks like summarization using language models, we need to prepare the data in such a format such that the possible continuation of the sequence is the output we want i.e. in this case the summary of the article.\n",
        "\n",
        "The GPT-2 paper found adding the TL;DR to the end of the article helps the model in generating better summaries. Implement the `prepare_articles` function that adds the string `\"\\nTL;DR:\"` to the end of each input articles and then tokenizes the articles.\n",
        "\n",
        "Useful tips:\n",
        "- While tokenizing the articles, by calling `tokenizer()` make sure to set `padding=\"max_length\"`, `truncation=True`, and `max_length=max_len`  so that the articles are padded to the same length and truncated if they are longer than the maximum length. Also, make sure to set `return_tensors=\"pt\"` so that the output is a PyTorch tensor."
      ]
    },
    {
      "cell_type": "code",
      "execution_count": 27,
      "metadata": {
        "deletable": false,
        "id": "SnoeRG60NX-G",
        "nbgrader": {
          "cell_type": "code",
          "checksum": "2b5a322ee8328a5a2d0bc97cf93cd0dd",
          "grade": false,
          "grade_id": "cell-0f3b37e5baff721d",
          "locked": false,
          "schema_version": 3,
          "solution": true,
          "task": false
        }
      },
      "outputs": [],
      "source": [
        "def prepare_articles_for_student_model(articles, student_tokenizer, max_len=1024):\n",
        "\n",
        "    \"\"\"\n",
        "    Processes and tokenizes articles into a format that can be used for summarization by the student model\n",
        "    and then tokenizes the articles using the student tokenizer.\n",
        "\n",
        "    Inputs:\n",
        "    - articles: A list of articles to be summarized.\n",
        "    - student_tokenizer: The tokenizer to use for tokenizing the articles.\n",
        "    - max_len: The maximum length of the articles.\n",
        "\n",
        "    Returns:\n",
        "    - tokenized_articles: A dictionary containing the input ids and attention mask of the tokenized articles.\n",
        "    \"\"\"\n",
        "    tokenized_articles = None\n",
        "\n",
        "    # YOUR CODE HERE\n",
        "    # take the articles and tokenize\n",
        "    articles = [article + \"\\nTL;DR:\" for article in articles]\n",
        "    tokenized_articles = student_tokenizer(\n",
        "        articles,\n",
        "        padding=\"max_length\",\n",
        "        truncation=True,\n",
        "        max_length=max_len,\n",
        "        return_tensors=\"pt\")\n",
        "    return tokenized_articles"
      ]
    },
    {
      "cell_type": "code",
      "execution_count": 28,
      "metadata": {
        "colab": {
          "base_uri": "https://localhost:8080/"
        },
        "id": "iMLkUEipNX-G",
        "outputId": "3434c8e5-66fb-46d5-8bca-1a8ae08d0d5d"
      },
      "outputs": [
        {
          "name": "stdout",
          "output_type": "stream",
          "text": [
            "All tests passed!\n"
          ]
        }
      ],
      "source": [
        "######################################################\n",
        "#  The following code is given to you. DO NOT MODIFY.\n",
        "######################################################\n",
        "\n",
        "\n",
        "def test_prepare_articles_for_student_model():\n",
        "    # Setup\n",
        "    student_tokenizer = AutoTokenizer.from_pretrained(\"gpt2\", padding_side=\"left\")\n",
        "    student_tokenizer.pad_token_id = student_tokenizer.eos_token_id\n",
        "\n",
        "    # Test 1: Basic functionality\n",
        "    articles = [\"This is a test article.\"]\n",
        "    output = prepare_articles_for_student_model(articles, student_tokenizer)\n",
        "    assert \"input_ids\" in output, \"Output should contain input_ids\"\n",
        "    assert \"attention_mask\" in output, \"Output should contain attention_mask\"\n",
        "    assert torch.is_tensor(output[\"input_ids\"]), \"input_ids should be a tensor\"\n",
        "    assert torch.is_tensor(\n",
        "        output[\"attention_mask\"]\n",
        "    ), \"attention_mask should be a tensor\"\n",
        "\n",
        "    # Test 2: Multiple articles\n",
        "    articles = [\"First article.\", \"Second article.\", \"Third article.\"]\n",
        "    output = prepare_articles_for_student_model(articles, student_tokenizer)\n",
        "    assert (\n",
        "        output[\"input_ids\"].shape[0] == 3\n",
        "    ), \"Batch size should match number of articles\"\n",
        "    assert (\n",
        "        output[\"attention_mask\"].shape[0] == 3\n",
        "    ), \"Batch size should match number of articles\"\n",
        "\n",
        "    # Test 3: TL;DR addition\n",
        "    articles = [\"Test article.\"]\n",
        "    output = prepare_articles_for_student_model(articles, student_tokenizer)\n",
        "    decoded = student_tokenizer.decode(output[\"input_ids\"][0], skip_special_tokens=True)\n",
        "    assert \"TL;DR:\" in decoded, \"TL;DR: should be added to the article\"\n",
        "    assert decoded == \"Test article.\\nTL;DR:\", \"Article format should be correct\"\n",
        "\n",
        "    # Test 4: Padding and truncation\n",
        "    long_article = \"This is a very \" * 1000  # Create a very long article\n",
        "    short_article = \"Short.\"\n",
        "    articles = [long_article, short_article]\n",
        "    output = prepare_articles_for_student_model(articles, student_tokenizer)\n",
        "    assert (\n",
        "        output[\"input_ids\"].shape[1] == 1024\n",
        "    ), \"Should be padded/truncated to max length\"\n",
        "    assert (output[\"attention_mask\"][1] == 0).any(), \"Short article should have padding\"\n",
        "\n",
        "    print(\"All tests passed!\")\n",
        "\n",
        "test_prepare_articles_for_student_model()\n",
        "######################################################"
      ]
    },
    {
      "cell_type": "markdown",
      "metadata": {
        "id": "HoBhEGfmNX-G"
      },
      "source": [
        "### 2.1.2 Summarizing with Student Model\n",
        "\n",
        "Use the `generate()` method to generate summaries from the student model. Refer to the end of the Section 1 of the notebook for an example of how to use the `generate()` method. You can also learn more about the `generate()` method [here](https://huggingface.co/docs/transformers/en/main_classes/text_generation#transformers.GenerationMixin.generate).\n",
        "\n",
        "Helpful tips:\n",
        "- Instead of generating summaries one by one, we recommend generating summaries in batches to speed up the process."
      ]
    },
    {
      "cell_type": "code",
      "execution_count": 29,
      "metadata": {
        "deletable": false,
        "id": "N5tTbCJXNX-G",
        "nbgrader": {
          "cell_type": "code",
          "checksum": "6f8ae69bf3416a6f4160e68259fbaafc",
          "grade": false,
          "grade_id": "cell-d987ea61d6ff75c8",
          "locked": false,
          "schema_version": 3,
          "solution": true,
          "task": false
        }
      },
      "outputs": [],
      "source": [
        "def summarize_wth_student_model(\n",
        "    articles,\n",
        "    student_model,\n",
        "    student_tokenizer,\n",
        "    batch_size=8,\n",
        "    max_new_tokens=100,\n",
        "    do_sample=True,\n",
        "    p=0.9,\n",
        "    temperature=1.0,\n",
        "    device=\"cuda\",\n",
        "):\n",
        "\n",
        "    \"\"\"\n",
        "    Generates a list of summaries for a list of articles using the student model.\n",
        "\n",
        "    Inputs:\n",
        "    - articles: A list of articles to be summarized.\n",
        "    - student_model: The student model to use for summarization.\n",
        "    - student_tokenizer: The tokenizer corresponding to the student model.\n",
        "    - batch_size: The batch size to use for summarization.\n",
        "    - max_new_tokens: The maximum number of new tokens to generate.\n",
        "    - do_sample: Whether to use sampling or greedy decoding.\n",
        "    - p: The p parameter for top-p sampling.\n",
        "    - temperature: The temperature for sampling.\n",
        "\n",
        "    Returns:\n",
        "    - summaries: A list of summaries for the articles.\n",
        "    \"\"\"\n",
        "\n",
        "    student_model.eval()\n",
        "    summaries = []\n",
        "    with torch.no_grad():\n",
        "        for i in tqdm(range(0, len(articles), batch_size)):\n",
        "            # ToDo: Tokenize the batch of articles\n",
        "            tokenized_articles = None\n",
        "            # YOUR CODE HERE\n",
        "            tokenized_articles = prepare_articles_for_student_model(articles[i : i + batch_size], student_tokenizer)\n",
        "\n",
        "            # Move the data to the device\n",
        "            tokenized_articles = {\n",
        "                key: value.to(device) for key, value in tokenized_articles.items()\n",
        "            }\n",
        "\n",
        "            # ToDo: Generate summaries from the model using the .generate method\n",
        "            generated_summaries = None\n",
        "            # YOUR CODE HERE\n",
        "            generated_summaries = student_model.generate(\n",
        "              **tokenized_articles,\n",
        "              max_new_tokens=max_new_tokens,\n",
        "              do_sample=do_sample,\n",
        "              top_p=p,\n",
        "              temperature=temperature,\n",
        "              output_hidden_states=True,  # Add this line\n",
        "              return_dict_in_generate=True,  # Add this line\n",
        "            )\n",
        "\n",
        "            # ToDo: Convert the generated summaries to text. Hint: Use the `batch_decode` method of the tokenizer.\n",
        "            # Make sure to only decode the generated tokens, i.e., ignore the input tokens.\n",
        "            # Also, make sure to set `skip_special_tokens=True` to ignore the special tokens.\n",
        "            decoded_summaries = None\n",
        "            # YOUR CODE HERE\n",
        "            # only decode generated tokens\n",
        "            decoded_summaries = student_tokenizer.batch_decode(generated_summaries.sequences[:, tokenized_articles['input_ids'].shape[1]:], skip_special_tokens=True)\n",
        "\n",
        "            # Add the decoded summaries to the list\n",
        "            summaries.extend(decoded_summaries)\n",
        "\n",
        "    return summaries"
      ]
    },
    {
      "cell_type": "code",
      "execution_count": null,
      "metadata": {
        "id": "bOnuPZlxNX-H"
      },
      "outputs": [],
      "source": [
        "def test_summarize_wth_student_model():\n",
        "    # Test 1: Basic functionality\n",
        "    articles = [\"This is a test article about AI.\"]\n",
        "    summaries = summarize_wth_student_model(\n",
        "        articles, student_model, student_tokenizer, device=device\n",
        "    )\n",
        "    assert isinstance(summaries, list), \"Output should be a list\"\n",
        "    assert len(summaries) == len(articles), \"Should generate one summary per article\"\n",
        "    assert isinstance(summaries[0], str), \"Each summary should be a string\"\n",
        "    assert len(summaries[0]) > 0, \"Summaries should not be empty\"\n",
        "\n",
        "    # Test 2: Batch processing\n",
        "    articles = [\n",
        "        \"First article.\",\n",
        "        \"Second article.\",\n",
        "        \"Third article.\",\n",
        "    ] * 4  # 12 articles\n",
        "    batch_size = 4\n",
        "    summaries = summarize_wth_student_model(\n",
        "        articles, student_model, student_tokenizer, batch_size=batch_size, device=device\n",
        "    )\n",
        "    assert len(summaries) == len(articles), \"Should generate summary for each article\"\n",
        "\n",
        "    # Test 3: Generation parameters\n",
        "    articles = [\n",
        "        \"Test article for parameter checking.\",\n",
        "        \"Test article for parameter checking.\",\n",
        "    ]\n",
        "    # Test with different generation parameters\n",
        "    summaries_greedy = summarize_wth_student_model(\n",
        "        articles, student_model, student_tokenizer, do_sample=False, device=device\n",
        "    )\n",
        "    summaries_sampling = summarize_wth_student_model(\n",
        "        articles,\n",
        "        student_model,\n",
        "        student_tokenizer,\n",
        "        do_sample=True,\n",
        "        p=0.9,\n",
        "        temperature=0.7,\n",
        "        device=device,\n",
        "    )\n",
        "\n",
        "    assert summaries_greedy[0] == summaries_greedy[1], \"Greedy decoding should give the same result\"\n",
        "    assert (\n",
        "        summaries_sampling[0] != summaries_sampling[1]\n",
        "    ), \"Sampling should give different results\"\n",
        "\n",
        "    # Test 4: Check only generated tokens are in summary\n",
        "    article = \"This is a test article about artificial intelligence. It contains specific phrases that should not appear in the summary unless generated.\"\n",
        "    summaries = summarize_wth_student_model(\n",
        "        [article], student_model, student_tokenizer, device=device\n",
        "    )\n",
        "    # Verify the input article text isn't in the summary\n",
        "    assert article not in summaries[0], \"Summary should not contain the input article\"\n",
        "\n",
        "    # Test 5: Check for special tokens in output\n",
        "    articles = [\"Test article for special token checking.\"]\n",
        "    summaries = summarize_wth_student_model(\n",
        "        articles, student_model, student_tokenizer, device=device\n",
        "    )\n",
        "\n",
        "    # Check if any special tokens exist in the summary\n",
        "    for special_token in student_tokenizer.all_special_tokens:\n",
        "        assert (\n",
        "            special_token not in summaries[0]\n",
        "        ), f\"Summary contains special token: {special_token}\"\n",
        "    print(\"All tests passed!\")\n",
        "\n",
        "test_summarize_wth_student_model()"
      ]
    },
    {
      "cell_type": "markdown",
      "metadata": {
        "id": "v6pSOVIlNX-H"
      },
      "source": [
        "Let's generate summaries for the validation set using the student model."
      ]
    },
    {
      "cell_type": "code",
      "execution_count": null,
      "metadata": {
        "id": "1shF7ExBNX-H"
      },
      "outputs": [],
      "source": [
        "set_seed()\n",
        "pred_summaries = summarize_wth_student_model(\n",
        "    cnn_dm_cse447_dataset[\"val\"][\"article\"],\n",
        "    student_model,\n",
        "    student_tokenizer,\n",
        "    p=0.9,\n",
        "    temperature=1.0,\n",
        "    device=\"cuda\"\n",
        ")"
      ]
    },
    {
      "cell_type": "code",
      "execution_count": null,
      "metadata": {
        "id": "2RL-q4BaNX-H"
      },
      "outputs": [],
      "source": [
        "# Inspect the summaries\n",
        "print(\"Article:\")\n",
        "pprint(cnn_dm_cse447_dataset[\"val\"][0][\"article\"])\n",
        "print(\"***********************\\n\\n\")\n",
        "print(\"Generated summary:\")\n",
        "pprint(pred_summaries[0])\n",
        "print(\"***********************\\n\\n\")\n",
        "print(\"Gold summary:\")\n",
        "pprint(cnn_dm_cse447_dataset[\"val\"][0][\"summary\"])\n"
      ]
    },
    {
      "cell_type": "markdown",
      "metadata": {
        "id": "WIZO7Zu9NX-H"
      },
      "source": [
        "As you can see, the generated summary is not very good, with a lot of completely irrelevant text. Let's try to quantify this by evaluating the summaries using the ROUGE score."
      ]
    },
    {
      "cell_type": "markdown",
      "metadata": {
        "id": "jtDBvNMMNX-H"
      },
      "source": [
        "### Evaluating Student Model\n",
        "\n",
        "We will use the ROUGE score to evaluate the summaries generated by the student model. ROUGE measures how similar a generated summary is to a reference (human-written) summary by comparing overlapping words and phrases. Think of it like a sophisticated \"spot the differences\" between texts.\n",
        "\n",
        "Example:\n",
        "- **Reference**: \"The cat sat on the mat\"\n",
        "- **Generated**: \"The cat lay on the mat\"\n",
        "\n",
        "ROUGE has three main variants:\n",
        "1. **ROUGE-1**: Matches single words (In example: 5/6 words match)\n",
        "2. **ROUGE-2**: Matches word pairs (In example: \"the cat\", \"on the\", \"the mat\" match)\n",
        "3. **ROUGE-L**: Finds longest matching sequences in order\n",
        "\n",
        "Scores range from 0 to 1, with higher being better. While widely used in summarization evaluation, ROUGE isn't perfect - it focuses on matching words rather than meaning.\n",
        "\n",
        "Reference: Lin, C. Y. (2004). ROUGE: A package for automatic evaluation of summaries."
      ]
    },
    {
      "cell_type": "code",
      "execution_count": 33,
      "metadata": {
        "colab": {
          "base_uri": "https://localhost:8080/",
          "height": 118,
          "referenced_widgets": [
            "bebb2996320647b0b15776ac1bce390a",
            "618a8cc9039d40469055a6e0a85fba10",
            "297cb7de0fad4d96a8256625a1be8cfb",
            "187bde5329734b2e96eb70bd7f8ed8ba",
            "3e381b57ac254b95a6795c2de5d272e3",
            "b9668288ff5348a795ea21cb24fb2769",
            "acbfa894310c42389f4de134f0048b10",
            "f0c51b796c534556a48c29f746d0eef6",
            "1e620e45dd5b499b90910a150d00a9a0",
            "8b706e765a5643ffb65be066f4bc33b8",
            "f7f4371ad13d47d59e1fddcdb53c6816"
          ]
        },
        "id": "2A637KLDNX-H",
        "outputId": "e71fcea2-625e-4f31-89ea-39161b339515"
      },
      "outputs": [
        {
          "data": {
            "application/vnd.jupyter.widget-view+json": {
              "model_id": "bebb2996320647b0b15776ac1bce390a",
              "version_major": 2,
              "version_minor": 0
            },
            "text/plain": [
              "Downloading builder script:   0%|          | 0.00/6.27k [00:00<?, ?B/s]"
            ]
          },
          "metadata": {},
          "output_type": "display_data"
        },
        {
          "data": {
            "text/plain": [
              "{'rouge1': 0.19291136987913915,\n",
              " 'rouge2': 0.03320872903866526,\n",
              " 'rougeL': 0.12530050177988167,\n",
              " 'rougeLsum': 0.1645989010306262}"
            ]
          },
          "execution_count": 33,
          "metadata": {},
          "output_type": "execute_result"
        }
      ],
      "source": [
        "# Evaluate the summaries\n",
        "import evaluate\n",
        "rouge = evaluate.load(\"rouge\")\n",
        "scores = rouge.compute(predictions=pred_summaries, references=cnn_dm_cse447_dataset[\"val\"][\"summary\"], use_stemmer=True)\n",
        "scores"
      ]
    },
    {
      "cell_type": "markdown",
      "metadata": {
        "id": "tq0QHHD6NX-H"
      },
      "source": [
        "You should see the following scores:\n",
        "- rouge1: 0.19\n",
        "- rouge2: 0.03\n",
        "- rougeL: 0.12\n",
        "- rougeLsum: 0.16\n",
        "\n",
        "Differences of +/- 0.02 in ROUGE scores are acceptable.\n"
      ]
    },
    {
      "cell_type": "markdown",
      "metadata": {
        "id": "vhdM9rmtNX-H"
      },
      "source": [
        "The model performs relatively poorly on the dataset, especially considering the ROUGE-2 and ROUGE-L scores, which are very low. Let's see if we can improve this by using a teacher model."
      ]
    },
    {
      "cell_type": "markdown",
      "metadata": {
        "id": "gxGRVI2wNX-H"
      },
      "source": [
        "### 2.2 Generate Data from a Teacher Model\n",
        "\n",
        "We will now start with step 1 of knowledge distillation i.e. generating data from a teacher model. As we mentioned earlier, we will use the Qwen2.5-1.5B-Instruct model as our teacher model. Note that Qwen2.5-1.5B-Instruct is an instruction tuned model, which is different from a base language model like GPT-2. Instruction tuned models are obtained from base language models by fine-tuning them on a diverse set of instructions and their desired outputs. This enables the model to become better at following instructions and is the magic recipe for the success of recent large language models."
      ]
    },
    {
      "cell_type": "code",
      "execution_count": null,
      "metadata": {
        "id": "4CiSdDdGNX-H"
      },
      "outputs": [],
      "source": [
        "# Load a teacher model.\n",
        "from transformers import AutoModelForCausalLM, AutoTokenizer\n",
        "teacher_model = AutoModelForCausalLM.from_pretrained(\n",
        "    \"Qwen/Qwen2.5-1.5B-Instruct\"\n",
        ")\n",
        "teacher_tokenizer = AutoTokenizer.from_pretrained(\n",
        "    \"Qwen/Qwen2.5-1.5B-Instruct\", padding_side=\"left\"\n",
        ")\n",
        "teacher_model = teacher_model.to(device)\n",
        "teacher_model"
      ]
    },
    {
      "cell_type": "markdown",
      "metadata": {
        "id": "TPtYBysINX-H"
      },
      "source": [
        "### 2.2.1 Preparing Data for Teacher Model\n",
        "\n",
        "We need to prepare the data for the teacher model in a specific format. Since the teacher model is an instruction-tuned model, it has been adapted to follow instructions. Hence, instead of formatting the text according to a completion problem, we need to format it according to an instruction following the problem. We will do this by adding an instruction to the beginning of each article, i.e., \"Summarize the following article.\" Further, we will also instruct the model to output the summary in a specific format by appending a suffix to the end of each article, i.e., \"Start your summary with 'TL;DR:. '\" In short, the articles should be formatted as follows:\n",
        "\n",
        "`\"Summarize the following article:\\n\\n<article>\\n\\nStart your summary with 'TL;DR:'\"`"
      ]
    },
    {
      "cell_type": "code",
      "execution_count": 35,
      "metadata": {
        "deletable": false,
        "id": "xPwDQOpTNX-H",
        "nbgrader": {
          "cell_type": "code",
          "checksum": "7723288824b6f27589989376bbd5a284",
          "grade": false,
          "grade_id": "cell-68a3da94807a2ea3",
          "locked": false,
          "schema_version": 3,
          "solution": true,
          "task": false
        }
      },
      "outputs": [],
      "source": [
        "def prepare_articles_teacher(articles, teacher_tokenizer, max_len=1024):\n",
        "\n",
        "    \"\"\"\n",
        "    Prepares the articles for the teacher model and performs tokenization.\n",
        "\n",
        "    Inputs\n",
        "    - articles: The articles to prepare and tokenize\n",
        "    - teacher_tokenizer: The tokenizer for the teacher model\n",
        "    - max_len: The max length to use for tokenizing\n",
        "\n",
        "    Returns:\n",
        "    - tokenized_articles: The tokenized articles in the format of a dictionary with keys `input_ids` and `attention_mask`\n",
        "    \"\"\"\n",
        "\n",
        "    # ToDo: Add the instructions as specified above to each article\n",
        "    articles_with_instructions = None\n",
        "    # YOUR CODE HERE\n",
        "    articles_with_instructions = [f\"Summarize the following article:\\n\\n{article}\\n\\nStart your summary with 'TL;DR:'\" for article in articles]\n",
        "\n",
        "    # The instruction-tuned models to be in chat format. Read more here: https://huggingface.co/docs/transformers/main/en/chat_templating\n",
        "    articles_chat = [[\n",
        "        {\"role\": \"system\", \"content\": \"You are a helpful assistant and an expert at summarizing articles.\"},\n",
        "        {\"role\": \"user\", \"content\": article}\n",
        "    ] for article in articles_with_instructions]\n",
        "    # Apply chat template to the articles\n",
        "    articles_chat = teacher_tokenizer.apply_chat_template(articles_chat, tokenize=False, add_generation_prompt=True)\n",
        "\n",
        "    # ToDo: Tokenize the articles. Hint: Set `add_special_tokens=False` since special tokens are already added in the chat template.\n",
        "    tokenized_articles = None\n",
        "    # YOUR CODE HERE\n",
        "    tokenized_articles = teacher_tokenizer(articles_chat, add_special_tokens=False, padding=\"max_length\", truncation=True, max_length=max_len, return_tensors=\"pt\")\n",
        "\n",
        "    return tokenized_articles"
      ]
    },
    {
      "cell_type": "code",
      "execution_count": 36,
      "metadata": {
        "colab": {
          "base_uri": "https://localhost:8080/"
        },
        "id": "14fiFJfqNX-H",
        "outputId": "6a3e0053-c2d1-4956-e2f9-0e152544f69a"
      },
      "outputs": [
        {
          "name": "stdout",
          "output_type": "stream",
          "text": [
            "All tests passed!\n"
          ]
        }
      ],
      "source": [
        "def test_prepare_articles_teacher():\n",
        "\n",
        "    # Test 1: Basic functionality\n",
        "    articles = [\"This is a test article.\"]\n",
        "    output = prepare_articles_teacher(articles, teacher_tokenizer)\n",
        "\n",
        "    assert \"input_ids\" in output, \"Output should contain input_ids\"\n",
        "    assert \"attention_mask\" in output, \"Output should contain attention_mask\"\n",
        "    assert torch.is_tensor(output[\"input_ids\"]), \"input_ids should be a tensor\"\n",
        "    assert torch.is_tensor(\n",
        "        output[\"attention_mask\"]\n",
        "    ), \"attention_mask should be a tensor\"\n",
        "\n",
        "    # Test 2: Instruction addition\n",
        "    decoded = teacher_tokenizer.decode(output[\"input_ids\"][0], skip_special_tokens=True)\n",
        "    assert (\n",
        "        \"Summarize the following article:\" in decoded\n",
        "    ), \"Should contain summarization instruction\"\n",
        "    assert (\n",
        "        \"Start your summary with 'TL;DR:'\" in decoded\n",
        "    ), \"Should contain TL;DR instruction\"\n",
        "\n",
        "    # Test 3: Multiple articles\n",
        "    articles = [\"First article.\", \"Second article.\", \"Third article.\"]\n",
        "    output = prepare_articles_teacher(articles, teacher_tokenizer)\n",
        "    assert (\n",
        "        output[\"input_ids\"].shape[0] == 3\n",
        "    ), \"Batch size should match number of articles\"\n",
        "    assert (\n",
        "        output[\"attention_mask\"].shape[0] == 3\n",
        "    ), \"Batch size should match number of articles\"\n",
        "\n",
        "    # Test 4: Padding and truncation\n",
        "    long_article = \"This is a very \" * 1000  # Create a very long article\n",
        "    short_article = \"Short.\"\n",
        "    articles = [long_article, short_article]\n",
        "    output = prepare_articles_teacher(articles, teacher_tokenizer, max_len=1024)\n",
        "    assert (\n",
        "        output[\"input_ids\"].shape[1] == 1024\n",
        "    ), \"Should be padded/truncated to max length\"\n",
        "    assert (output[\"attention_mask\"][1] == 0).any(), \"Short article should have padding\"\n",
        "\n",
        "    print(\"All tests passed!\")\n",
        "\n",
        "test_prepare_articles_teacher()"
      ]
    },
    {
      "cell_type": "markdown",
      "metadata": {
        "id": "I0zCFIfNNX-I"
      },
      "source": [
        "Let's have a look at the tokenized articles."
      ]
    },
    {
      "cell_type": "code",
      "execution_count": null,
      "metadata": {
        "id": "ILjQgW8iNX-I"
      },
      "outputs": [],
      "source": [
        "tokenized_articles = prepare_articles_teacher(\n",
        "    cnn_dm_cse447_dataset[\"val\"][\"article\"][:2], teacher_tokenizer\n",
        ")\n",
        "decoded_articles = teacher_tokenizer.batch_decode(\n",
        "    tokenized_articles[\"input_ids\"], skip_special_tokens=True\n",
        ")\n",
        "pprint(decoded_articles[0])"
      ]
    },
    {
      "cell_type": "markdown",
      "metadata": {
        "id": "rz18w6c9NX-I"
      },
      "source": [
        "Notice the system, user, and assistant tags in the prompt. The system tag is followed by an instruction to ground the model to be a helpful assistant and be an expert at summarizing articles. The user tag is followed by the article to be summarized and the instruction about the task. We have the assistant tag in the end and the model is expected to generate the summary after the assistant tag."
      ]
    },
    {
      "cell_type": "markdown",
      "metadata": {
        "id": "WoX-31KXNX-I"
      },
      "source": [
        "### 2.2.2. Generate summaries with teacher model\n",
        "\n",
        "Similar to the student model, we will use the `generate()` method to generate summaries from the teacher model. Implement the `summarize_with_teacher_model` function below to do this."
      ]
    },
    {
      "cell_type": "code",
      "execution_count": 38,
      "metadata": {
        "deletable": false,
        "id": "80yKN_KONX-I",
        "nbgrader": {
          "cell_type": "code",
          "checksum": "82be9a3e43593d77f5fd4b86c847f3c0",
          "grade": false,
          "grade_id": "cell-ca1d4e6c170ef5d9",
          "locked": false,
          "schema_version": 3,
          "solution": true,
          "task": false
        }
      },
      "outputs": [],
      "source": [
        "def summarize_with_teacher_model(\n",
        "    articles,\n",
        "    teacher_model,\n",
        "    teacher_tokenizer,\n",
        "    batch_size=8,\n",
        "    max_new_tokens=100,\n",
        "    do_sample=True,\n",
        "    p=0.9,\n",
        "    temperature=1.0,\n",
        "    device=\"cuda\",\n",
        "):\n",
        "\n",
        "    \"\"\"\n",
        "    Generates summaries for a list of articles using the teacher model.\n",
        "    Essentially the same as the function `summarize_wth_student_model`, but we will use the prepare articles function for the teacher model here.\n",
        "    \"\"\"\n",
        "    summaries = []\n",
        "    teacher_model.eval()\n",
        "    with torch.no_grad():\n",
        "        for i in tqdm(range(0, len(articles), batch_size)):\n",
        "            # YOUR CODE HERE\n",
        "            tokenized_articles = prepare_articles_teacher(articles[i : i + batch_size], teacher_tokenizer)\n",
        "            tokenized_articles = {\n",
        "                key: value.to(device) for key, value in tokenized_articles.items()\n",
        "            }\n",
        "            generated_summaries = teacher_model.generate(\n",
        "                **tokenized_articles,\n",
        "                max_new_tokens=max_new_tokens,\n",
        "                do_sample=do_sample,\n",
        "                top_p=p,\n",
        "                temperature=temperature,\n",
        "                output_hidden_states=True,  # Add this line\n",
        "                return_dict_in_generate=True,  # Add this line\n",
        "            )\n",
        "            decoded_summaries = teacher_tokenizer.batch_decode(generated_summaries.sequences[:, tokenized_articles['input_ids'].shape[1]:], skip_special_tokens=True)\n",
        "            # Add the decoded summaries to the list\n",
        "            summaries.extend(decoded_summaries)\n",
        "\n",
        "    return summaries"
      ]
    },
    {
      "cell_type": "markdown",
      "metadata": {
        "id": "0pqFSenhNX-I"
      },
      "source": [
        "Let's first check how well the teacher model performs on the validation set."
      ]
    },
    {
      "cell_type": "code",
      "execution_count": 39,
      "metadata": {
        "colab": {
          "base_uri": "https://localhost:8080/"
        },
        "id": "pz4qRg6ZNX-I",
        "outputId": "bd46ede3-a141-4cb3-b401-432807e06292"
      },
      "outputs": [
        {
          "name": "stderr",
          "output_type": "stream",
          "text": [
            "  0%|          | 0/13 [00:00<?, ?it/s]From v4.47 onwards, when a model cache is to be returned, `generate` will return a `Cache` instance instead by default (as opposed to the legacy tuple of tuples format). If you want to keep returning the legacy format, please set `return_legacy_cache=True`.\n",
            "100%|██████████| 13/13 [03:17<00:00, 15.18s/it]\n"
          ]
        }
      ],
      "source": [
        "\n",
        "set_seed()\n",
        "# Since the teacher model is large, we will only evaluate on a small subset of the validation set.\n",
        "val_summaries_generated = summarize_with_teacher_model(\n",
        "    cnn_dm_cse447_dataset[\"val\"][\"article\"][:100],\n",
        "    teacher_model,\n",
        "    teacher_tokenizer,\n",
        "    batch_size=8,\n",
        "    max_new_tokens=100,\n",
        "    do_sample=True,\n",
        "    p=0.9,\n",
        "    temperature=1.0,\n",
        "    device=\"cuda\"\n",
        ")"
      ]
    },
    {
      "cell_type": "code",
      "execution_count": null,
      "metadata": {
        "id": "twnBLJl8NX-I"
      },
      "outputs": [],
      "source": [
        "# Inspect the summaries\n",
        "print(\"Article:\")\n",
        "pprint(cnn_dm_cse447_dataset[\"val\"][0][\"article\"])\n",
        "print(\"***********************\\n\\n\")\n",
        "print(\"Generated summary:\")\n",
        "pprint(val_summaries_generated[0])\n",
        "print(\"***********************\\n\\n\")\n",
        "print(\"Gold summary:\")\n",
        "pprint(cnn_dm_cse447_dataset[\"val\"][0][\"summary\"])"
      ]
    },
    {
      "cell_type": "markdown",
      "metadata": {
        "id": "rRYcxU_hNX-I"
      },
      "source": [
        "You should see that the generated summary is much better than the one generated by the student model. Let's now evaluate the summaries generated by the teacher model."
      ]
    },
    {
      "cell_type": "code",
      "execution_count": null,
      "metadata": {
        "id": "N_DrFGGQNX-I"
      },
      "outputs": [],
      "source": [
        "set_seed()\n",
        "teacher_rouge = evaluate.load(\"rouge\")\n",
        "scores = teacher_rouge.compute(\n",
        "    predictions=val_summaries_generated,\n",
        "    references=cnn_dm_cse447_dataset[\"val\"][\"summary\"][:100],\n",
        "    use_stemmer=True\n",
        ")\n",
        "scores\n"
      ]
    },
    {
      "cell_type": "markdown",
      "metadata": {
        "id": "YSwFkMnKNX-I"
      },
      "source": [
        "You should see the following scores:\n",
        "- rouge1: 0.261\n",
        "- rouge2: 0.082\n",
        "- rougeL: 0.181\n",
        "- rougeLsum: 0.211\n",
        "\n",
        "Differences of +/- 0.02 in ROUGE scores are acceptable.\n",
        "\n",
        "\n",
        "While these are only on a small subset of the validation set, we also ran the teacher model on the entire validation set and got the following scores:\n",
        "- rouge1: 0.284\n",
        "- rouge2: 0.085\n",
        "- rougeL: 0.188\n",
        "- rougeLsum: 0.229"
      ]
    },
    {
      "cell_type": "markdown",
      "metadata": {
        "id": "2zzB2p8DNX-I"
      },
      "source": [
        "As you can see, the teacher model performs much better than the student model. While the numbers are not super high, note that our teacher model is only 1.5B parameters, which is considered a tiny model in the current LLM landscape. Bigger models with 8B, 30B, 70B, or even higher are expected to perform even better."
      ]
    },
    {
      "cell_type": "markdown",
      "metadata": {
        "id": "Qx1wz1VfNX-I"
      },
      "source": [
        "#### Generating Data for Distillation"
      ]
    },
    {
      "cell_type": "markdown",
      "metadata": {
        "id": "GtsWttDcNX-I"
      },
      "source": [
        "We can now generate data for distillation. We will use the articles from the training dataset and generate summaries for those articles using the teacher model. Note that we do have the original summaries for the training set, but we are not using them for distillation. Our goal is to show you how distillation works and how you can use it for your own use cases where you might not have labelled training data available."
      ]
    },
    {
      "cell_type": "code",
      "execution_count": 42,
      "metadata": {
        "id": "fL5rmRYWNX-I"
      },
      "outputs": [],
      "source": [
        "def generate_synthetic_data_for_distillation(\n",
        "    articles,\n",
        "    teacher_model,\n",
        "    teacher_tokenizer,\n",
        "    num_samples=1000,\n",
        "    batch_size=8,\n",
        "    max_new_tokens=100,\n",
        "    do_sample=True,\n",
        "    p=0.9,\n",
        "    temperature=1.0,\n",
        "    device=\"cuda\",\n",
        "):\n",
        "    articles = articles[:num_samples]\n",
        "    summaries = summarize_with_teacher_model(\n",
        "        articles,\n",
        "        teacher_model,\n",
        "        teacher_tokenizer,\n",
        "        batch_size=batch_size,\n",
        "        max_new_tokens=max_new_tokens,\n",
        "        do_sample=do_sample,\n",
        "        p=p,\n",
        "        temperature=temperature,\n",
        "        device=device,\n",
        "    )\n",
        "\n",
        "    return summaries"
      ]
    },
    {
      "cell_type": "code",
      "execution_count": 43,
      "metadata": {
        "colab": {
          "base_uri": "https://localhost:8080/"
        },
        "id": "dnBT_de-NX-I",
        "outputId": "f48f98c2-4c08-4320-e174-7cd579ca741e"
      },
      "outputs": [
        {
          "name": "stderr",
          "output_type": "stream",
          "text": [
            "100%|██████████| 125/125 [32:20<00:00, 15.52s/it]\n"
          ]
        }
      ],
      "source": [
        "set_seed()\n",
        "train_summaries_generated = generate_synthetic_data_for_distillation(\n",
        "    cnn_dm_cse447_dataset[\"train\"][\"article\"],\n",
        "    teacher_model,\n",
        "    teacher_tokenizer,\n",
        "    num_samples=1000,\n",
        "    batch_size=8,\n",
        "    max_new_tokens=100,\n",
        "    do_sample=True,\n",
        "    p=0.9,\n",
        "    temperature=1.0,\n",
        "    device=\"cuda\",\n",
        ")"
      ]
    },
    {
      "cell_type": "code",
      "execution_count": 44,
      "metadata": {
        "colab": {
          "base_uri": "https://localhost:8080/"
        },
        "id": "YwZcQLcrNX-I",
        "outputId": "2e88f249-d185-4e21-dfe8-53088ec5ca6a"
      },
      "outputs": [
        {
          "data": {
            "text/plain": [
              "Dataset({\n",
              "    features: ['article', 'summary', 'gold_summary'],\n",
              "    num_rows: 1000\n",
              "})"
            ]
          },
          "execution_count": 44,
          "metadata": {},
          "output_type": "execute_result"
        }
      ],
      "source": [
        "kd_dataset = {\n",
        "    \"article\": cnn_dm_cse447_dataset[\"train\"][\"article\"][:1000],\n",
        "    \"summary\": train_summaries_generated,\n",
        "    \"gold_summary\": cnn_dm_cse447_dataset[\"train\"][\"summary\"][:1000]\n",
        "}\n",
        "kd_dataset = Dataset.from_dict(kd_dataset)\n",
        "kd_dataset"
      ]
    },
    {
      "cell_type": "code",
      "execution_count": 45,
      "metadata": {
        "colab": {
          "base_uri": "https://localhost:8080/",
          "height": 49,
          "referenced_widgets": [
            "ccceb008030b4eaaa75d6b5176041e06",
            "61266c310e6c4929bf37afc0435f653b",
            "6fde0fc421984428b58fd512e3d17ae4",
            "e08794c51ee74c4695075caca7cbb931",
            "2a76f75807f0404ca0798058b64386ce",
            "bf9d8ac53a2140c4932e83fa158884a7",
            "b9b89052e538493f8a09b799d4c126a6",
            "49ab49eb1a904c01a2c17f6359b91571",
            "b2e90f6dd3854c3ca3cd540b7c881d16",
            "bba82d0096e84fedad913ec0fb0109d4",
            "d7251a0c3da442e59af413bb9dbb8087"
          ]
        },
        "id": "HWBxUvIcNX-I",
        "outputId": "4a093b2b-701f-4fca-b0c3-bb1d83d756d3"
      },
      "outputs": [
        {
          "data": {
            "application/vnd.jupyter.widget-view+json": {
              "model_id": "ccceb008030b4eaaa75d6b5176041e06",
              "version_major": 2,
              "version_minor": 0
            },
            "text/plain": [
              "Saving the dataset (0/1 shards):   0%|          | 0/1000 [00:00<?, ? examples/s]"
            ]
          },
          "metadata": {},
          "output_type": "display_data"
        }
      ],
      "source": [
        "# Save the dataset to disk, so that you can load it later without re-generating the data.\n",
        "kd_dataset.save_to_disk(f\"{data_dir}/kd_dataset.hf\")"
      ]
    },
    {
      "cell_type": "markdown",
      "metadata": {
        "id": "xo5q2dESNX-I"
      },
      "source": [
        "In case you are running into compute issues while generating data for distillation, we provide you with the distilled dataset in the `data` folder, which you can directly load using the `datasets` library.\n",
        "\n",
        "```python\n",
        "kd_dataset = load_from_disk(f\"{data_dir}/kd_dataset.hf\")\n",
        "```"
      ]
    },
    {
      "cell_type": "markdown",
      "metadata": {
        "id": "owkJR8zJNX-I"
      },
      "source": [
        "### 3. Fine-tuning student model with teacher model's generated data"
      ]
    },
    {
      "cell_type": "markdown",
      "metadata": {
        "id": "8ByU13tmNX-I"
      },
      "source": [
        "#### 3.1 Preparing data for distillation\n",
        "\n",
        "You will now implement the `prepare_data_for_distillation` function to prepare the data for distillation. This function will format the data in a specific way so that it can be used to fine-tune the student model. You will follow pretty much the same process as you did for the student model in `prepare_articles_for_student_model` with a few changes.\n",
        "\n",
        "- First we will include the summaries in the input text along with the articles. This is done because we are now training the student model to generate summaries from the articles. Hence the format of the input text will be `<article>\\nTL;DR:<summary>`.\n",
        "- In the tokenization dictionary, we now need to add a new key, `labels,` which contains the labels to train the language model. For language models, the labels are the same as the input IDs since the model is expected to generate the next word in the sequence. However, while fine-tuning, we want the model to learn how to generate the summaries from the articles and we do not care about the model learning to predict tokens in the original articles. Therefore, we replace the labels for the prompt tokens with -100, which is a special token id that is used to signal the loss function to ignore the loss for those tokens.\n"
      ]
    },
    {
      "cell_type": "code",
      "execution_count": 46,
      "metadata": {
        "deletable": false,
        "id": "bj0xXkCWNX-I",
        "nbgrader": {
          "cell_type": "code",
          "checksum": "fa365ea8a33018ce8a35c8865f04dc61",
          "grade": false,
          "grade_id": "cell-b5ae7090ac4d3b51",
          "locked": false,
          "schema_version": 3,
          "solution": true,
          "task": false
        }
      },
      "outputs": [],
      "source": [
        "def prepare_data_for_distillation(article, summary, student_tokenizer, max_length=1024):\n",
        "    \"\"\"\n",
        "    Prepares the data for distillation.\n",
        "\n",
        "    Inputs:`\n",
        "    - article: The article to be summarized.\n",
        "    - summary: Summary to be used as labels for distillation.\n",
        "    - student_tokenizer: Tokenizer for the student model.\n",
        "    - max_length: Maximum length of the tokenized input.\n",
        "\n",
        "    Returns:\n",
        "    - tokenized_data: Tokenized data in the format of a dictionary with keys `input_ids`, `attention_mask`, and `labels`.\n",
        "\n",
        "    Note: Unlike the functions preparing data for student and techer models before, this function only takes a single\n",
        "    article as input instead of a list of articles. We are doing this because while training we want to create batches\n",
        "    dynamically such that they are padded based on the longest article in the batch. Earlier functions were padding all\n",
        "    the articles with the same length. While it doesn't make any difference in the performance whether you use\n",
        "    dynamic padding or fixed padding, dynamic padding can be much more compute and memory efficient, which is especially\n",
        "    important for training\n",
        "    \"\"\"\n",
        "\n",
        "    # TODO: Format the article and summary for distillation.\n",
        "    # Hint: `summary` might already contain the TL;DR: prefix, make sure you are not adding it twice!\n",
        "    article_wth_summary = None\n",
        "    article_prompt = None  # This should only contain the article and <article>\\nTL;DR: you will need this to set the labels for the prompt tokens to -100\n",
        "    # YOUR CODE HERE\n",
        "    article_wth_summary = f\"{article}\\nTL;DR: {summary}\"\n",
        "    article_prompt = f\"{article}\\nTL;DR:\"\n",
        "\n",
        "    # TODO: Tokenize `articles_wth_summaries`. Note set padding=False, since we want to do dyanmic padding during training.\n",
        "    tokenized_data = None\n",
        "    tokenized_prompt = None\n",
        "    # YOUR CODE HERE\n",
        "    tokenized_data = student_tokenizer(article_wth_summary, padding=False, truncation=True, max_length=max_length, return_tensors=\"pt\")\n",
        "    tokenized_prompt = student_tokenizer(article_prompt, padding=False, truncation=True, max_length=max_length, return_tensors=\"pt\")\n",
        "\n",
        "    # Tokenizer adds a batch dimension to the input IDs and attention mask when the input is a single sequence.\n",
        "    # We need to remove the batch dimension since we are only processing a single article.\n",
        "    tokenized_data[\"input_ids\"], tokenized_data[\"attention_mask\"] = (\n",
        "        tokenized_data[\"input_ids\"][0],\n",
        "        tokenized_data[\"attention_mask\"][0],\n",
        "    )\n",
        "    tokenized_prompt[\"input_ids\"], tokenized_prompt[\"attention_mask\"] = (\n",
        "        tokenized_prompt[\"input_ids\"][0],\n",
        "        tokenized_prompt[\"attention_mask\"][0],\n",
        "    )\n",
        "\n",
        "    # Set the labels to the input IDs\n",
        "    tokenized_data[\"labels\"] = tokenized_data[\"input_ids\"].clone()\n",
        "\n",
        "    # TODO: Replace the labels for the prompt tokens with -100.\n",
        "    # Rember both labels and input_ids are pytorch tensors of shape (seq_len,)\n",
        "    # YOUR CODE HERE\n",
        "    tokenized_data[\"labels\"][: len(tokenized_prompt[\"input_ids\"])] = -100\n",
        "\n",
        "    return tokenized_data"
      ]
    },
    {
      "cell_type": "code",
      "execution_count": 47,
      "metadata": {
        "colab": {
          "base_uri": "https://localhost:8080/"
        },
        "id": "45NnwKXwNX-J",
        "outputId": "81c4dc6f-1f1f-45b3-e461-b21a7e2d46af"
      },
      "outputs": [
        {
          "name": "stdout",
          "output_type": "stream",
          "text": [
            "All tests passed!\n"
          ]
        }
      ],
      "source": [
        "def test_prepare_data_for_distillation():\n",
        "    # Setup\n",
        "    student_tokenizer = AutoTokenizer.from_pretrained(\"gpt2\", padding_side=\"right\")\n",
        "    student_tokenizer.pad_token_id = student_tokenizer.eos_token_id\n",
        "\n",
        "    # Test 1: Basic functionality\n",
        "    article = \"This is a test article.\"\n",
        "    summary = \"This is a test summary.\"\n",
        "    output = prepare_data_for_distillation(article, summary, student_tokenizer)\n",
        "    assert \"input_ids\" in output, \"Output should contain input_ids\"\n",
        "    assert \"attention_mask\" in output, \"Output should contain attention_mask\"\n",
        "    assert \"labels\" in output, \"Output should contain labels\"\n",
        "    assert torch.is_tensor(output[\"input_ids\"]), \"input_ids should be a tensor\"\n",
        "    assert torch.is_tensor(\n",
        "        output[\"attention_mask\"]\n",
        "    ), \"attention_mask should be a tensor\"\n",
        "    assert torch.is_tensor(output[\"labels\"]), \"labels should be a tensor\"\n",
        "\n",
        "    # Test 2: Correct label masking\n",
        "    article = \"This is a test article.\"\n",
        "    summary = \"This is a test summary.\"\n",
        "    output = prepare_data_for_distillation(article, summary, student_tokenizer)\n",
        "    input_ids = output[\"input_ids\"]\n",
        "    labels = output[\"labels\"]\n",
        "\n",
        "    # Ensure labels for the article part are -100\n",
        "    article_length = len(student_tokenizer(article + \"\\nTL;DR:\")[\"input_ids\"])\n",
        "    assert all(\n",
        "        label == -100 for label in labels[:article_length]\n",
        "    ), \"Labels for article tokens should be -100\"\n",
        "\n",
        "    # Ensure labels for the summary part are not -100\n",
        "    assert all(\n",
        "        label != -100 for label in labels[article_length:]\n",
        "    ), \"Labels for summary tokens should not be -100\"\n",
        "\n",
        "    # Test 3: Padding and truncation\n",
        "    long_article = \"This is a very \" * 1000  # Create a very long article\n",
        "    long_summary = \"Summary \" * 1000\n",
        "    short_article = \"Short.\"\n",
        "    short_summary = \"Short.\"\n",
        "    output = prepare_data_for_distillation(\n",
        "        long_article, long_summary, student_tokenizer, max_length=1024\n",
        "    )\n",
        "    assert (\n",
        "        output[\"input_ids\"].shape[0] == 1024\n",
        "    ), \"Long inputs should be truncated to max length\"\n",
        "\n",
        "    output = prepare_data_for_distillation(\n",
        "        short_article, short_summary, student_tokenizer, max_length=1024\n",
        "    )\n",
        "    assert (\n",
        "        output[\"attention_mask\"][1] != 0\n",
        "    ).all(), \"Short article should no have padding\"\n",
        "    print(\"All tests passed!\")\n",
        "\n",
        "\n",
        "test_prepare_data_for_distillation()"
      ]
    },
    {
      "cell_type": "markdown",
      "metadata": {
        "id": "Wc5Outj0NX-J"
      },
      "source": [
        "Let's now prepare the data for distillation."
      ]
    },
    {
      "cell_type": "code",
      "execution_count": 48,
      "metadata": {
        "id": "dpp8s4U_NX-J"
      },
      "outputs": [],
      "source": [
        "kd_dataset = load_from_disk(f\"{data_dir}/kd_dataset.hf\")"
      ]
    },
    {
      "cell_type": "code",
      "execution_count": null,
      "metadata": {
        "id": "mCX_NjPfNX-J"
      },
      "outputs": [],
      "source": [
        "train_tokenized_data = kd_dataset.map(\n",
        "    lambda example: prepare_data_for_distillation(\n",
        "        example[\"article\"],\n",
        "        example[\"summary\"],\n",
        "        student_tokenizer,\n",
        "        max_length=1024,\n",
        "    ),\n",
        "    batched=False,\n",
        "    remove_columns=kd_dataset.column_names,\n",
        ")\n",
        "train_tokenized_data"
      ]
    },
    {
      "cell_type": "code",
      "execution_count": 50,
      "metadata": {
        "colab": {
          "base_uri": "https://localhost:8080/",
          "height": 118,
          "referenced_widgets": [
            "817886ab4cc94ca188c2442af41a4241",
            "4a3897304a6f48efba8631e4db0a58e7",
            "a2ab70e04c7844ef8c66a59bba9fa45e",
            "068470eaf30a410380c9a655676a356c",
            "07d235de54e44d93badd153dad630ff5",
            "6f2b2684d44447e7979e3e5e005ae62e",
            "40ccadf6a10a4c979f117a836b7188b9",
            "996bbd8d84364d8582af400fcd1bcdc7",
            "f9c71c6e81c842feb19a64de0021e3ee",
            "f6696307adfb41789ee0cf177d9c3b2e",
            "144e5174960a4c2f892e1fc2dfc7226c"
          ]
        },
        "id": "Bx3hrq2vNX-J",
        "outputId": "8df164f9-d865-45a7-b6b4-b873cffa4ffa"
      },
      "outputs": [
        {
          "data": {
            "application/vnd.jupyter.widget-view+json": {
              "model_id": "817886ab4cc94ca188c2442af41a4241",
              "version_major": 2,
              "version_minor": 0
            },
            "text/plain": [
              "Map:   0%|          | 0/1000 [00:00<?, ? examples/s]"
            ]
          },
          "metadata": {},
          "output_type": "display_data"
        },
        {
          "data": {
            "text/plain": [
              "Dataset({\n",
              "    features: ['input_ids', 'attention_mask', 'labels'],\n",
              "    num_rows: 1000\n",
              "})"
            ]
          },
          "execution_count": 50,
          "metadata": {},
          "output_type": "execute_result"
        }
      ],
      "source": [
        "val_tokenized_data = cnn_dm_cse447_dataset[\"val\"].map(\n",
        "    lambda example: prepare_data_for_distillation(\n",
        "        example[\"article\"],\n",
        "        example[\"summary\"],\n",
        "        student_tokenizer,\n",
        "        max_length=1024,\n",
        "    ),\n",
        "    batched=False,\n",
        "    remove_columns=cnn_dm_cse447_dataset[\"val\"].column_names,\n",
        ")\n",
        "val_tokenized_data"
      ]
    },
    {
      "cell_type": "code",
      "execution_count": null,
      "metadata": {
        "id": "MAz1NZ_4NX-J"
      },
      "outputs": [],
      "source": [
        "# Let's have a look at the tokenized data\n",
        "tokenized_data = train_tokenized_data[0]\n",
        "print(\"Input IDs:\")\n",
        "print(tokenized_data[\"input_ids\"])\n",
        "print(\"Labels:\")\n",
        "print(tokenized_data[\"labels\"])\n",
        "print(\"***********************\\n\\n\")\n",
        "\n",
        "print(\"Input Text:\")\n",
        "pprint(student_tokenizer.decode(tokenized_data[\"input_ids\"], skip_special_tokens=True))"
      ]
    },
    {
      "cell_type": "markdown",
      "metadata": {
        "id": "IENDBQN3NX-J"
      },
      "source": [
        "### Fine-tuning the student model\n",
        "\n",
        "We are now ready to fine-tune the student model. While this might sound like a daunting task, we actually need not write much code for this. Transformers library has a `Trainer` class that takes care of the fine-tuning process. We will use the `TrainingArguments` class to set the training arguments and the `Trainer` class to fine-tune the model. Below is the code to fine-tune the student model."
      ]
    },
    {
      "cell_type": "code",
      "execution_count": 52,
      "metadata": {
        "id": "V1qTarNvNX-J"
      },
      "outputs": [],
      "source": [
        "torch.cuda.empty_cache()"
      ]
    },
    {
      "cell_type": "code",
      "execution_count": null,
      "metadata": {
        "id": "nO8Qc_UiNX-J"
      },
      "outputs": [],
      "source": [
        "from transformers import TrainingArguments, Trainer, DataCollatorForSeq2Seq\n",
        "\n",
        "def fine_tune_student_model(\n",
        "    student_model,\n",
        "    train_tokenized_data,\n",
        "    val_tokenized_data,\n",
        "    student_tokenizer,\n",
        "    output_dir=\"checkpoints/\",\n",
        "    logging_steps=10,\n",
        "    eval_steps=50,\n",
        "    logging_first_step=True,\n",
        "    learning_rate=2e-5,\n",
        "    warmup_steps=100,\n",
        "    per_device_train_batch_size=2,\n",
        "    per_device_eval_batch_size=2,\n",
        "    gradient_accumulation_steps=4,\n",
        "    num_train_epochs=2,\n",
        "    weight_decay=0.01,\n",
        "    fp16=True,\n",
        "    seed=42,\n",
        "):\n",
        "\n",
        "    \"\"\"\n",
        "    Fine-tunes the student (language) model.\n",
        "\n",
        "    Inputs:\n",
        "    - student_model: The student (language) model to be fine-tuned.\n",
        "    - train_tokenized_data: The tokenized training data.\n",
        "    - val_tokenized_data: The tokenized validation data.\n",
        "    - student_tokenizer: The tokenizer for the student model.\n",
        "    - output_dir: The directory to save the fine-tuned model.\n",
        "    - learning_rate: The learning rate for the optimizer.\n",
        "    - warmup_steps: The number of steps to warm up the learning rate. This is used to gradually increase the learning rate during training.\n",
        "    - per_device_train_batch_size: The batch size for training per device.\n",
        "    - per_device_eval_batch_size: The batch size for evaluation per device.\n",
        "    - gradient_accumulation_steps: The number of steps to accumulate gradients before updating the model weights. # This is a trick to use a larger effective batch size when low on memory. Basically, we accumulate gradients for `gradient_accumulation_steps` steps before updating the model weights using SGD, which is equivalent to using a batch size of `gradient_accumulation_steps * per_device_train_batch_size` times the per_device_train_batch_size.\n",
        "    - num_train_epochs: The number of training epochs.\n",
        "    - weight_decay: The weight decay for the optimizer. This is a regularization technique to prevent overfitting.\n",
        "    - fp16: Whether to use 16-bit precision. This is used to speed up the training process and reduce the memory usage.\n",
        "    - seed: The random seed to use for training. This is used to ensure reproducibility of the training process.\n",
        "    \"\"\"\n",
        "\n",
        "    # Set training arguments.\n",
        "    # This involve things like learning rate, batch size, number of epochs, etc.\n",
        "    training_args = TrainingArguments(\n",
        "        output_dir=\"checkpoints/\",\n",
        "        logging_steps=10,\n",
        "        eval_strategy=\"steps\",\n",
        "        eval_steps=50,\n",
        "        logging_first_step=True,\n",
        "        learning_rate=learning_rate,\n",
        "        warmup_steps=warmup_steps,\n",
        "        per_device_train_batch_size=per_device_train_batch_size,\n",
        "        per_device_eval_batch_size=per_device_eval_batch_size,\n",
        "        gradient_accumulation_steps=gradient_accumulation_steps,\n",
        "        num_train_epochs=num_train_epochs,\n",
        "        weight_decay=weight_decay,\n",
        "        fp16=fp16,\n",
        "        seed=seed,\n",
        "        report_to=\"none\",\n",
        "    )\n",
        "\n",
        "    # Create a data collator for dynamic padding\n",
        "    # A data collator is used to construct batches of data from the dataset.\n",
        "    data_collator = DataCollatorForSeq2Seq(\n",
        "        tokenizer=student_tokenizer, model=student_model, padding=\"longest\"\n",
        "    )\n",
        "\n",
        "    # Create a trainer\n",
        "    trainer = Trainer(\n",
        "        model=student_model,\n",
        "        args=training_args,\n",
        "        train_dataset=train_tokenized_data,\n",
        "        eval_dataset=val_tokenized_data,\n",
        "        data_collator=data_collator,\n",
        "    )\n",
        "\n",
        "    # Fine-tune the model\n",
        "    trainer.train()\n",
        "\n",
        "\n",
        "set_seed()\n",
        "student_model = AutoModelForCausalLM.from_pretrained(\"gpt2\")\n",
        "fine_tune_student_model(\n",
        "    student_model,\n",
        "    train_tokenized_data,\n",
        "    val_tokenized_data,\n",
        "    student_tokenizer,\n",
        "    learning_rate=2e-5,\n",
        "    warmup_steps=100,\n",
        "    per_device_train_batch_size=2,\n",
        "    per_device_eval_batch_size=2,\n",
        "    gradient_accumulation_steps=4,\n",
        "    num_train_epochs=2,\n",
        "    weight_decay=0.01,\n",
        "    fp16=True,\n",
        "    seed=42,\n",
        ")"
      ]
    },
    {
      "cell_type": "markdown",
      "metadata": {
        "id": "iifom3OcNX-J"
      },
      "source": [
        "The reference training and validation losses are 2.61 and 3.01 respectively. Differences of +/- 0.2 are acceptable."
      ]
    },
    {
      "cell_type": "markdown",
      "metadata": {
        "id": "Q7VAEe4PNX-J"
      },
      "source": [
        "Let's now generate summaries with the fine-tuned student model and evaluate the performance."
      ]
    },
    {
      "cell_type": "code",
      "execution_count": null,
      "metadata": {
        "id": "5T-aPSVnNX-J"
      },
      "outputs": [],
      "source": [
        "set_seed()\n",
        "student_tokenizer.padding_side = \"left\" #Padding side left for generation\n",
        "pred_summaries_ft_student = summarize_wth_student_model(\n",
        "    cnn_dm_cse447_dataset[\"val\"][\"article\"],\n",
        "    student_model,\n",
        "    student_tokenizer,\n",
        "    p=0.9,\n",
        "    temperature=1.0,\n",
        "    device=\"cuda\",\n",
        ")"
      ]
    },
    {
      "cell_type": "code",
      "execution_count": null,
      "metadata": {
        "id": "NZAH9iy9NX-J"
      },
      "outputs": [],
      "source": [
        "# Inspect the summaries\n",
        "print(\"Article:\")\n",
        "pprint(cnn_dm_cse447_dataset[\"val\"][0][\"article\"])\n",
        "print(\"***********************\\n\\n\")\n",
        "print(\"Generated summary:\")\n",
        "pprint(pred_summaries_ft_student[0])\n",
        "print(\"***********************\\n\\n\")\n",
        "print(\"Gold summary:\")\n",
        "pprint(cnn_dm_cse447_dataset[\"val\"][0][\"summary\"])"
      ]
    },
    {
      "cell_type": "markdown",
      "metadata": {
        "id": "jRXS1wP9NX-J"
      },
      "source": [
        "While not perfect, the summaries generated by the fine-tuned student model are much better than the ones generated by the student model before fine-tuning. Let's now evaluate the performance of the fine-tuned student model."
      ]
    },
    {
      "cell_type": "code",
      "execution_count": null,
      "metadata": {
        "id": "4uZbThz4NX-J"
      },
      "outputs": [],
      "source": [
        "import evaluate\n",
        "teacher_rouge = evaluate.load(\"rouge\")\n",
        "scores = teacher_rouge.compute(\n",
        "    predictions=pred_summaries_ft_student,\n",
        "    references=cnn_dm_cse447_dataset[\"val\"][\"summary\"],\n",
        "    use_stemmer=True,\n",
        ")\n",
        "scores"
      ]
    },
    {
      "cell_type": "markdown",
      "metadata": {
        "id": "hEbjaHAbNX-J"
      },
      "source": [
        "You should see the following scores:\n",
        "- rouge1: 0.230\n",
        "- rouge2: 0.055\n",
        "- rougeL: 0.145\n",
        "- rougeLsum: 0.185\n",
        "\n",
        "Differences of +/- 0.02 in ROUGE scores are acceptable.\n",
        "\n",
        "As you can see, the fine-tuned student model performs much better than the student model before fine-tuning. This is impressive because we used very small teacher and student models and only used 1000 examples for distillation.\n",
        "\n",
        "In practice, you would want to use a much bigger teacher model and a bigger student model to get better performance. The purpose of this exercise is to give you an idea of how distillation works and how you can use it for your own use cases."
      ]
    },
    {
      "cell_type": "code",
      "execution_count": 56,
      "metadata": {
        "id": "IBXZ16OJNX-J"
      },
      "outputs": [],
      "source": [
        "# Select just first 1000 examples\n",
        "train_data_og = cnn_dm_cse447_dataset[\"train\"].select(range(1000))\n",
        "\n",
        "# Prepare human-annotated data for training\n",
        "train_tokenized_data_og = train_data_og.map(\n",
        "    lambda example: prepare_data_for_distillation(\n",
        "        example[\"article\"],\n",
        "        example[\"summary\"],\n",
        "        student_tokenizer,\n",
        "        max_length=1024,\n",
        "    ),\n",
        "    batched=False,\n",
        "    remove_columns=cnn_dm_cse447_dataset[\"train\"].column_names,\n",
        ")\n",
        "\n",
        "# Initialize new model for human-data training\n",
        "set_seed()\n",
        "student_model_human = AutoModelForCausalLM.from_pretrained(\"gpt2\")\n",
        "student_model_human = student_model_human.to(device)\n",
        "\n",
        "# Fine-tune on human data\n",
        "fine_tune_student_model(\n",
        "    student_model_human,\n",
        "    train_tokenized_data_og,\n",
        "    val_tokenized_data,\n",
        "    student_tokenizer,\n",
        "    learning_rate=2e-5,\n",
        "    warmup_steps=100,\n",
        "    per_device_train_batch_size=2,\n",
        "    per_device_eval_batch_size=2,\n",
        "    gradient_accumulation_steps=4,\n",
        "    num_train_epochs=2,\n",
        "    weight_decay=0.01,\n",
        "    fp16=True,\n",
        "    seed=42,\n",
        ")"
      ]
    },
    {
      "cell_type": "code",
      "execution_count": null,
      "metadata": {
        "id": "8VptDmNYl2LI"
      },
      "outputs": [],
      "source": [
        "def evaluate_all_models(val_articles, val_summaries):\n",
        "    \"\"\"Evaluate and compare all model variants\"\"\"\n",
        "\n",
        "    # Dictionary to store results\n",
        "    all_results = {}\n",
        "\n",
        "    # 1. Evaluate base GPT-2 (no fine-tuning)\n",
        "    base_model = AutoModelForCausalLM.from_pretrained(\"gpt2\").to(device)\n",
        "    base_preds = summarize_wth_student_model(\n",
        "        val_articles,\n",
        "        base_model,\n",
        "        student_tokenizer,\n",
        "        p=0.9,\n",
        "        temperature=1.0,\n",
        "        device=\"cuda\"\n",
        "    )\n",
        "    base_scores = rouge.compute(\n",
        "        predictions=base_preds,\n",
        "        references=val_summaries,\n",
        "        use_stemmer=True\n",
        "    )\n",
        "    all_results[\"GPT-2 (Base)\"] = base_scores\n",
        "\n",
        "    # 2. Evaluate KD fine-tuned model\n",
        "    kd_preds = summarize_wth_student_model(\n",
        "        val_articles,\n",
        "        student_model,  # This is our KD fine-tuned model\n",
        "        student_tokenizer,\n",
        "        p=0.9,\n",
        "        temperature=1.0,\n",
        "        device=\"cuda\"\n",
        "    )\n",
        "    kd_scores = rouge.compute(\n",
        "        predictions=kd_preds,\n",
        "        references=val_summaries,\n",
        "        use_stemmer=True\n",
        "    )\n",
        "    all_results[\"GPT-2 (KD)\"] = kd_scores\n",
        "\n",
        "    # 3. Evaluate human-data fine-tuned model\n",
        "    human_preds = summarize_wth_student_model(\n",
        "        val_articles,\n",
        "        student_model_human,\n",
        "        student_tokenizer,\n",
        "        p=0.9,\n",
        "        temperature=1.0,\n",
        "        device=\"cuda\"\n",
        "    )\n",
        "    human_scores = rouge.compute(\n",
        "        predictions=human_preds,\n",
        "        references=val_summaries,\n",
        "        use_stemmer=True\n",
        "    )\n",
        "    all_results[\"GPT-2 (Human)\"] = human_scores\n",
        "\n",
        "    # 4. Evaluate teacher model (Qwen)\n",
        "    teacher_preds = summarize_with_teacher_model(\n",
        "        val_articles[:100],  # Using first 100 due to computational constraints\n",
        "        teacher_model,\n",
        "        teacher_tokenizer,\n",
        "        p=0.9,\n",
        "        temperature=1.0,\n",
        "        device=\"cuda\"\n",
        "    )\n",
        "    teacher_scores = rouge.compute(\n",
        "        predictions=teacher_preds,\n",
        "        references=val_summaries[:100],\n",
        "        use_stemmer=True\n",
        "    )\n",
        "    all_results[\"Qwen-1.5B\"] = teacher_scores\n",
        "\n",
        "    return all_results\n",
        "\n",
        "# Run evaluation\n",
        "val_articles = cnn_dm_cse447_dataset[\"val\"][\"article\"]\n",
        "val_summaries = cnn_dm_cse447_dataset[\"val\"][\"summary\"]\n",
        "results = evaluate_all_models(val_articles, val_summaries)"
      ]
    }
  ],
  "metadata": {
    "accelerator": "GPU",
    "colab": {
      "gpuType": "T4",
      "provenance": []
    },
    "kernelspec": {
      "display_name": "Python 3",
      "name": "python3"
    },
    "language_info": {
      "codemirror_mode": {
        "name": "ipython",
        "version": 3
      },
      "file_extension": ".py",
      "mimetype": "text/x-python",
      "name": "python",
      "nbconvert_exporter": "python",
      "pygments_lexer": "ipython3",
      "version": "3.12.7"
    },
    "widgets": {
      "application/vnd.jupyter.widget-state+json": {
        "068470eaf30a410380c9a655676a356c": {
          "model_module": "@jupyter-widgets/controls",
          "model_module_version": "1.5.0",
          "model_name": "HTMLModel",
          "state": {
            "_dom_classes": [],
            "_model_module": "@jupyter-widgets/controls",
            "_model_module_version": "1.5.0",
            "_model_name": "HTMLModel",
            "_view_count": null,
            "_view_module": "@jupyter-widgets/controls",
            "_view_module_version": "1.5.0",
            "_view_name": "HTMLView",
            "description": "",
            "description_tooltip": null,
            "layout": "IPY_MODEL_f6696307adfb41789ee0cf177d9c3b2e",
            "placeholder": "​",
            "style": "IPY_MODEL_144e5174960a4c2f892e1fc2dfc7226c",
            "value": " 1000/1000 [00:03&lt;00:00, 264.93 examples/s]"
          }
        },
        "07d235de54e44d93badd153dad630ff5": {
          "model_module": "@jupyter-widgets/base",
          "model_module_version": "1.2.0",
          "model_name": "LayoutModel",
          "state": {
            "_model_module": "@jupyter-widgets/base",
            "_model_module_version": "1.2.0",
            "_model_name": "LayoutModel",
            "_view_count": null,
            "_view_module": "@jupyter-widgets/base",
            "_view_module_version": "1.2.0",
            "_view_name": "LayoutView",
            "align_content": null,
            "align_items": null,
            "align_self": null,
            "border": null,
            "bottom": null,
            "display": null,
            "flex": null,
            "flex_flow": null,
            "grid_area": null,
            "grid_auto_columns": null,
            "grid_auto_flow": null,
            "grid_auto_rows": null,
            "grid_column": null,
            "grid_gap": null,
            "grid_row": null,
            "grid_template_areas": null,
            "grid_template_columns": null,
            "grid_template_rows": null,
            "height": null,
            "justify_content": null,
            "justify_items": null,
            "left": null,
            "margin": null,
            "max_height": null,
            "max_width": null,
            "min_height": null,
            "min_width": null,
            "object_fit": null,
            "object_position": null,
            "order": null,
            "overflow": null,
            "overflow_x": null,
            "overflow_y": null,
            "padding": null,
            "right": null,
            "top": null,
            "visibility": null,
            "width": null
          }
        },
        "144e5174960a4c2f892e1fc2dfc7226c": {
          "model_module": "@jupyter-widgets/controls",
          "model_module_version": "1.5.0",
          "model_name": "DescriptionStyleModel",
          "state": {
            "_model_module": "@jupyter-widgets/controls",
            "_model_module_version": "1.5.0",
            "_model_name": "DescriptionStyleModel",
            "_view_count": null,
            "_view_module": "@jupyter-widgets/base",
            "_view_module_version": "1.2.0",
            "_view_name": "StyleView",
            "description_width": ""
          }
        },
        "187bde5329734b2e96eb70bd7f8ed8ba": {
          "model_module": "@jupyter-widgets/controls",
          "model_module_version": "1.5.0",
          "model_name": "HTMLModel",
          "state": {
            "_dom_classes": [],
            "_model_module": "@jupyter-widgets/controls",
            "_model_module_version": "1.5.0",
            "_model_name": "HTMLModel",
            "_view_count": null,
            "_view_module": "@jupyter-widgets/controls",
            "_view_module_version": "1.5.0",
            "_view_name": "HTMLView",
            "description": "",
            "description_tooltip": null,
            "layout": "IPY_MODEL_8b706e765a5643ffb65be066f4bc33b8",
            "placeholder": "​",
            "style": "IPY_MODEL_f7f4371ad13d47d59e1fddcdb53c6816",
            "value": " 6.27k/6.27k [00:00&lt;00:00, 413kB/s]"
          }
        },
        "1e620e45dd5b499b90910a150d00a9a0": {
          "model_module": "@jupyter-widgets/controls",
          "model_module_version": "1.5.0",
          "model_name": "ProgressStyleModel",
          "state": {
            "_model_module": "@jupyter-widgets/controls",
            "_model_module_version": "1.5.0",
            "_model_name": "ProgressStyleModel",
            "_view_count": null,
            "_view_module": "@jupyter-widgets/base",
            "_view_module_version": "1.2.0",
            "_view_name": "StyleView",
            "bar_color": null,
            "description_width": ""
          }
        },
        "297cb7de0fad4d96a8256625a1be8cfb": {
          "model_module": "@jupyter-widgets/controls",
          "model_module_version": "1.5.0",
          "model_name": "FloatProgressModel",
          "state": {
            "_dom_classes": [],
            "_model_module": "@jupyter-widgets/controls",
            "_model_module_version": "1.5.0",
            "_model_name": "FloatProgressModel",
            "_view_count": null,
            "_view_module": "@jupyter-widgets/controls",
            "_view_module_version": "1.5.0",
            "_view_name": "ProgressView",
            "bar_style": "success",
            "description": "",
            "description_tooltip": null,
            "layout": "IPY_MODEL_f0c51b796c534556a48c29f746d0eef6",
            "max": 6270,
            "min": 0,
            "orientation": "horizontal",
            "style": "IPY_MODEL_1e620e45dd5b499b90910a150d00a9a0",
            "value": 6270
          }
        },
        "2a76f75807f0404ca0798058b64386ce": {
          "model_module": "@jupyter-widgets/base",
          "model_module_version": "1.2.0",
          "model_name": "LayoutModel",
          "state": {
            "_model_module": "@jupyter-widgets/base",
            "_model_module_version": "1.2.0",
            "_model_name": "LayoutModel",
            "_view_count": null,
            "_view_module": "@jupyter-widgets/base",
            "_view_module_version": "1.2.0",
            "_view_name": "LayoutView",
            "align_content": null,
            "align_items": null,
            "align_self": null,
            "border": null,
            "bottom": null,
            "display": null,
            "flex": null,
            "flex_flow": null,
            "grid_area": null,
            "grid_auto_columns": null,
            "grid_auto_flow": null,
            "grid_auto_rows": null,
            "grid_column": null,
            "grid_gap": null,
            "grid_row": null,
            "grid_template_areas": null,
            "grid_template_columns": null,
            "grid_template_rows": null,
            "height": null,
            "justify_content": null,
            "justify_items": null,
            "left": null,
            "margin": null,
            "max_height": null,
            "max_width": null,
            "min_height": null,
            "min_width": null,
            "object_fit": null,
            "object_position": null,
            "order": null,
            "overflow": null,
            "overflow_x": null,
            "overflow_y": null,
            "padding": null,
            "right": null,
            "top": null,
            "visibility": null,
            "width": null
          }
        },
        "3e381b57ac254b95a6795c2de5d272e3": {
          "model_module": "@jupyter-widgets/base",
          "model_module_version": "1.2.0",
          "model_name": "LayoutModel",
          "state": {
            "_model_module": "@jupyter-widgets/base",
            "_model_module_version": "1.2.0",
            "_model_name": "LayoutModel",
            "_view_count": null,
            "_view_module": "@jupyter-widgets/base",
            "_view_module_version": "1.2.0",
            "_view_name": "LayoutView",
            "align_content": null,
            "align_items": null,
            "align_self": null,
            "border": null,
            "bottom": null,
            "display": null,
            "flex": null,
            "flex_flow": null,
            "grid_area": null,
            "grid_auto_columns": null,
            "grid_auto_flow": null,
            "grid_auto_rows": null,
            "grid_column": null,
            "grid_gap": null,
            "grid_row": null,
            "grid_template_areas": null,
            "grid_template_columns": null,
            "grid_template_rows": null,
            "height": null,
            "justify_content": null,
            "justify_items": null,
            "left": null,
            "margin": null,
            "max_height": null,
            "max_width": null,
            "min_height": null,
            "min_width": null,
            "object_fit": null,
            "object_position": null,
            "order": null,
            "overflow": null,
            "overflow_x": null,
            "overflow_y": null,
            "padding": null,
            "right": null,
            "top": null,
            "visibility": null,
            "width": null
          }
        },
        "40ccadf6a10a4c979f117a836b7188b9": {
          "model_module": "@jupyter-widgets/controls",
          "model_module_version": "1.5.0",
          "model_name": "DescriptionStyleModel",
          "state": {
            "_model_module": "@jupyter-widgets/controls",
            "_model_module_version": "1.5.0",
            "_model_name": "DescriptionStyleModel",
            "_view_count": null,
            "_view_module": "@jupyter-widgets/base",
            "_view_module_version": "1.2.0",
            "_view_name": "StyleView",
            "description_width": ""
          }
        },
        "49ab49eb1a904c01a2c17f6359b91571": {
          "model_module": "@jupyter-widgets/base",
          "model_module_version": "1.2.0",
          "model_name": "LayoutModel",
          "state": {
            "_model_module": "@jupyter-widgets/base",
            "_model_module_version": "1.2.0",
            "_model_name": "LayoutModel",
            "_view_count": null,
            "_view_module": "@jupyter-widgets/base",
            "_view_module_version": "1.2.0",
            "_view_name": "LayoutView",
            "align_content": null,
            "align_items": null,
            "align_self": null,
            "border": null,
            "bottom": null,
            "display": null,
            "flex": null,
            "flex_flow": null,
            "grid_area": null,
            "grid_auto_columns": null,
            "grid_auto_flow": null,
            "grid_auto_rows": null,
            "grid_column": null,
            "grid_gap": null,
            "grid_row": null,
            "grid_template_areas": null,
            "grid_template_columns": null,
            "grid_template_rows": null,
            "height": null,
            "justify_content": null,
            "justify_items": null,
            "left": null,
            "margin": null,
            "max_height": null,
            "max_width": null,
            "min_height": null,
            "min_width": null,
            "object_fit": null,
            "object_position": null,
            "order": null,
            "overflow": null,
            "overflow_x": null,
            "overflow_y": null,
            "padding": null,
            "right": null,
            "top": null,
            "visibility": null,
            "width": null
          }
        },
        "4a3897304a6f48efba8631e4db0a58e7": {
          "model_module": "@jupyter-widgets/controls",
          "model_module_version": "1.5.0",
          "model_name": "HTMLModel",
          "state": {
            "_dom_classes": [],
            "_model_module": "@jupyter-widgets/controls",
            "_model_module_version": "1.5.0",
            "_model_name": "HTMLModel",
            "_view_count": null,
            "_view_module": "@jupyter-widgets/controls",
            "_view_module_version": "1.5.0",
            "_view_name": "HTMLView",
            "description": "",
            "description_tooltip": null,
            "layout": "IPY_MODEL_6f2b2684d44447e7979e3e5e005ae62e",
            "placeholder": "​",
            "style": "IPY_MODEL_40ccadf6a10a4c979f117a836b7188b9",
            "value": "Map: 100%"
          }
        },
        "61266c310e6c4929bf37afc0435f653b": {
          "model_module": "@jupyter-widgets/controls",
          "model_module_version": "1.5.0",
          "model_name": "HTMLModel",
          "state": {
            "_dom_classes": [],
            "_model_module": "@jupyter-widgets/controls",
            "_model_module_version": "1.5.0",
            "_model_name": "HTMLModel",
            "_view_count": null,
            "_view_module": "@jupyter-widgets/controls",
            "_view_module_version": "1.5.0",
            "_view_name": "HTMLView",
            "description": "",
            "description_tooltip": null,
            "layout": "IPY_MODEL_bf9d8ac53a2140c4932e83fa158884a7",
            "placeholder": "​",
            "style": "IPY_MODEL_b9b89052e538493f8a09b799d4c126a6",
            "value": "Saving the dataset (1/1 shards): 100%"
          }
        },
        "618a8cc9039d40469055a6e0a85fba10": {
          "model_module": "@jupyter-widgets/controls",
          "model_module_version": "1.5.0",
          "model_name": "HTMLModel",
          "state": {
            "_dom_classes": [],
            "_model_module": "@jupyter-widgets/controls",
            "_model_module_version": "1.5.0",
            "_model_name": "HTMLModel",
            "_view_count": null,
            "_view_module": "@jupyter-widgets/controls",
            "_view_module_version": "1.5.0",
            "_view_name": "HTMLView",
            "description": "",
            "description_tooltip": null,
            "layout": "IPY_MODEL_b9668288ff5348a795ea21cb24fb2769",
            "placeholder": "​",
            "style": "IPY_MODEL_acbfa894310c42389f4de134f0048b10",
            "value": "Downloading builder script: 100%"
          }
        },
        "6f2b2684d44447e7979e3e5e005ae62e": {
          "model_module": "@jupyter-widgets/base",
          "model_module_version": "1.2.0",
          "model_name": "LayoutModel",
          "state": {
            "_model_module": "@jupyter-widgets/base",
            "_model_module_version": "1.2.0",
            "_model_name": "LayoutModel",
            "_view_count": null,
            "_view_module": "@jupyter-widgets/base",
            "_view_module_version": "1.2.0",
            "_view_name": "LayoutView",
            "align_content": null,
            "align_items": null,
            "align_self": null,
            "border": null,
            "bottom": null,
            "display": null,
            "flex": null,
            "flex_flow": null,
            "grid_area": null,
            "grid_auto_columns": null,
            "grid_auto_flow": null,
            "grid_auto_rows": null,
            "grid_column": null,
            "grid_gap": null,
            "grid_row": null,
            "grid_template_areas": null,
            "grid_template_columns": null,
            "grid_template_rows": null,
            "height": null,
            "justify_content": null,
            "justify_items": null,
            "left": null,
            "margin": null,
            "max_height": null,
            "max_width": null,
            "min_height": null,
            "min_width": null,
            "object_fit": null,
            "object_position": null,
            "order": null,
            "overflow": null,
            "overflow_x": null,
            "overflow_y": null,
            "padding": null,
            "right": null,
            "top": null,
            "visibility": null,
            "width": null
          }
        },
        "6fde0fc421984428b58fd512e3d17ae4": {
          "model_module": "@jupyter-widgets/controls",
          "model_module_version": "1.5.0",
          "model_name": "FloatProgressModel",
          "state": {
            "_dom_classes": [],
            "_model_module": "@jupyter-widgets/controls",
            "_model_module_version": "1.5.0",
            "_model_name": "FloatProgressModel",
            "_view_count": null,
            "_view_module": "@jupyter-widgets/controls",
            "_view_module_version": "1.5.0",
            "_view_name": "ProgressView",
            "bar_style": "success",
            "description": "",
            "description_tooltip": null,
            "layout": "IPY_MODEL_49ab49eb1a904c01a2c17f6359b91571",
            "max": 1000,
            "min": 0,
            "orientation": "horizontal",
            "style": "IPY_MODEL_b2e90f6dd3854c3ca3cd540b7c881d16",
            "value": 1000
          }
        },
        "817886ab4cc94ca188c2442af41a4241": {
          "model_module": "@jupyter-widgets/controls",
          "model_module_version": "1.5.0",
          "model_name": "HBoxModel",
          "state": {
            "_dom_classes": [],
            "_model_module": "@jupyter-widgets/controls",
            "_model_module_version": "1.5.0",
            "_model_name": "HBoxModel",
            "_view_count": null,
            "_view_module": "@jupyter-widgets/controls",
            "_view_module_version": "1.5.0",
            "_view_name": "HBoxView",
            "box_style": "",
            "children": [
              "IPY_MODEL_4a3897304a6f48efba8631e4db0a58e7",
              "IPY_MODEL_a2ab70e04c7844ef8c66a59bba9fa45e",
              "IPY_MODEL_068470eaf30a410380c9a655676a356c"
            ],
            "layout": "IPY_MODEL_07d235de54e44d93badd153dad630ff5"
          }
        },
        "8b706e765a5643ffb65be066f4bc33b8": {
          "model_module": "@jupyter-widgets/base",
          "model_module_version": "1.2.0",
          "model_name": "LayoutModel",
          "state": {
            "_model_module": "@jupyter-widgets/base",
            "_model_module_version": "1.2.0",
            "_model_name": "LayoutModel",
            "_view_count": null,
            "_view_module": "@jupyter-widgets/base",
            "_view_module_version": "1.2.0",
            "_view_name": "LayoutView",
            "align_content": null,
            "align_items": null,
            "align_self": null,
            "border": null,
            "bottom": null,
            "display": null,
            "flex": null,
            "flex_flow": null,
            "grid_area": null,
            "grid_auto_columns": null,
            "grid_auto_flow": null,
            "grid_auto_rows": null,
            "grid_column": null,
            "grid_gap": null,
            "grid_row": null,
            "grid_template_areas": null,
            "grid_template_columns": null,
            "grid_template_rows": null,
            "height": null,
            "justify_content": null,
            "justify_items": null,
            "left": null,
            "margin": null,
            "max_height": null,
            "max_width": null,
            "min_height": null,
            "min_width": null,
            "object_fit": null,
            "object_position": null,
            "order": null,
            "overflow": null,
            "overflow_x": null,
            "overflow_y": null,
            "padding": null,
            "right": null,
            "top": null,
            "visibility": null,
            "width": null
          }
        },
        "996bbd8d84364d8582af400fcd1bcdc7": {
          "model_module": "@jupyter-widgets/base",
          "model_module_version": "1.2.0",
          "model_name": "LayoutModel",
          "state": {
            "_model_module": "@jupyter-widgets/base",
            "_model_module_version": "1.2.0",
            "_model_name": "LayoutModel",
            "_view_count": null,
            "_view_module": "@jupyter-widgets/base",
            "_view_module_version": "1.2.0",
            "_view_name": "LayoutView",
            "align_content": null,
            "align_items": null,
            "align_self": null,
            "border": null,
            "bottom": null,
            "display": null,
            "flex": null,
            "flex_flow": null,
            "grid_area": null,
            "grid_auto_columns": null,
            "grid_auto_flow": null,
            "grid_auto_rows": null,
            "grid_column": null,
            "grid_gap": null,
            "grid_row": null,
            "grid_template_areas": null,
            "grid_template_columns": null,
            "grid_template_rows": null,
            "height": null,
            "justify_content": null,
            "justify_items": null,
            "left": null,
            "margin": null,
            "max_height": null,
            "max_width": null,
            "min_height": null,
            "min_width": null,
            "object_fit": null,
            "object_position": null,
            "order": null,
            "overflow": null,
            "overflow_x": null,
            "overflow_y": null,
            "padding": null,
            "right": null,
            "top": null,
            "visibility": null,
            "width": null
          }
        },
        "a2ab70e04c7844ef8c66a59bba9fa45e": {
          "model_module": "@jupyter-widgets/controls",
          "model_module_version": "1.5.0",
          "model_name": "FloatProgressModel",
          "state": {
            "_dom_classes": [],
            "_model_module": "@jupyter-widgets/controls",
            "_model_module_version": "1.5.0",
            "_model_name": "FloatProgressModel",
            "_view_count": null,
            "_view_module": "@jupyter-widgets/controls",
            "_view_module_version": "1.5.0",
            "_view_name": "ProgressView",
            "bar_style": "success",
            "description": "",
            "description_tooltip": null,
            "layout": "IPY_MODEL_996bbd8d84364d8582af400fcd1bcdc7",
            "max": 1000,
            "min": 0,
            "orientation": "horizontal",
            "style": "IPY_MODEL_f9c71c6e81c842feb19a64de0021e3ee",
            "value": 1000
          }
        },
        "acbfa894310c42389f4de134f0048b10": {
          "model_module": "@jupyter-widgets/controls",
          "model_module_version": "1.5.0",
          "model_name": "DescriptionStyleModel",
          "state": {
            "_model_module": "@jupyter-widgets/controls",
            "_model_module_version": "1.5.0",
            "_model_name": "DescriptionStyleModel",
            "_view_count": null,
            "_view_module": "@jupyter-widgets/base",
            "_view_module_version": "1.2.0",
            "_view_name": "StyleView",
            "description_width": ""
          }
        },
        "b2e90f6dd3854c3ca3cd540b7c881d16": {
          "model_module": "@jupyter-widgets/controls",
          "model_module_version": "1.5.0",
          "model_name": "ProgressStyleModel",
          "state": {
            "_model_module": "@jupyter-widgets/controls",
            "_model_module_version": "1.5.0",
            "_model_name": "ProgressStyleModel",
            "_view_count": null,
            "_view_module": "@jupyter-widgets/base",
            "_view_module_version": "1.2.0",
            "_view_name": "StyleView",
            "bar_color": null,
            "description_width": ""
          }
        },
        "b9668288ff5348a795ea21cb24fb2769": {
          "model_module": "@jupyter-widgets/base",
          "model_module_version": "1.2.0",
          "model_name": "LayoutModel",
          "state": {
            "_model_module": "@jupyter-widgets/base",
            "_model_module_version": "1.2.0",
            "_model_name": "LayoutModel",
            "_view_count": null,
            "_view_module": "@jupyter-widgets/base",
            "_view_module_version": "1.2.0",
            "_view_name": "LayoutView",
            "align_content": null,
            "align_items": null,
            "align_self": null,
            "border": null,
            "bottom": null,
            "display": null,
            "flex": null,
            "flex_flow": null,
            "grid_area": null,
            "grid_auto_columns": null,
            "grid_auto_flow": null,
            "grid_auto_rows": null,
            "grid_column": null,
            "grid_gap": null,
            "grid_row": null,
            "grid_template_areas": null,
            "grid_template_columns": null,
            "grid_template_rows": null,
            "height": null,
            "justify_content": null,
            "justify_items": null,
            "left": null,
            "margin": null,
            "max_height": null,
            "max_width": null,
            "min_height": null,
            "min_width": null,
            "object_fit": null,
            "object_position": null,
            "order": null,
            "overflow": null,
            "overflow_x": null,
            "overflow_y": null,
            "padding": null,
            "right": null,
            "top": null,
            "visibility": null,
            "width": null
          }
        },
        "b9b89052e538493f8a09b799d4c126a6": {
          "model_module": "@jupyter-widgets/controls",
          "model_module_version": "1.5.0",
          "model_name": "DescriptionStyleModel",
          "state": {
            "_model_module": "@jupyter-widgets/controls",
            "_model_module_version": "1.5.0",
            "_model_name": "DescriptionStyleModel",
            "_view_count": null,
            "_view_module": "@jupyter-widgets/base",
            "_view_module_version": "1.2.0",
            "_view_name": "StyleView",
            "description_width": ""
          }
        },
        "bba82d0096e84fedad913ec0fb0109d4": {
          "model_module": "@jupyter-widgets/base",
          "model_module_version": "1.2.0",
          "model_name": "LayoutModel",
          "state": {
            "_model_module": "@jupyter-widgets/base",
            "_model_module_version": "1.2.0",
            "_model_name": "LayoutModel",
            "_view_count": null,
            "_view_module": "@jupyter-widgets/base",
            "_view_module_version": "1.2.0",
            "_view_name": "LayoutView",
            "align_content": null,
            "align_items": null,
            "align_self": null,
            "border": null,
            "bottom": null,
            "display": null,
            "flex": null,
            "flex_flow": null,
            "grid_area": null,
            "grid_auto_columns": null,
            "grid_auto_flow": null,
            "grid_auto_rows": null,
            "grid_column": null,
            "grid_gap": null,
            "grid_row": null,
            "grid_template_areas": null,
            "grid_template_columns": null,
            "grid_template_rows": null,
            "height": null,
            "justify_content": null,
            "justify_items": null,
            "left": null,
            "margin": null,
            "max_height": null,
            "max_width": null,
            "min_height": null,
            "min_width": null,
            "object_fit": null,
            "object_position": null,
            "order": null,
            "overflow": null,
            "overflow_x": null,
            "overflow_y": null,
            "padding": null,
            "right": null,
            "top": null,
            "visibility": null,
            "width": null
          }
        },
        "bebb2996320647b0b15776ac1bce390a": {
          "model_module": "@jupyter-widgets/controls",
          "model_module_version": "1.5.0",
          "model_name": "HBoxModel",
          "state": {
            "_dom_classes": [],
            "_model_module": "@jupyter-widgets/controls",
            "_model_module_version": "1.5.0",
            "_model_name": "HBoxModel",
            "_view_count": null,
            "_view_module": "@jupyter-widgets/controls",
            "_view_module_version": "1.5.0",
            "_view_name": "HBoxView",
            "box_style": "",
            "children": [
              "IPY_MODEL_618a8cc9039d40469055a6e0a85fba10",
              "IPY_MODEL_297cb7de0fad4d96a8256625a1be8cfb",
              "IPY_MODEL_187bde5329734b2e96eb70bd7f8ed8ba"
            ],
            "layout": "IPY_MODEL_3e381b57ac254b95a6795c2de5d272e3"
          }
        },
        "bf9d8ac53a2140c4932e83fa158884a7": {
          "model_module": "@jupyter-widgets/base",
          "model_module_version": "1.2.0",
          "model_name": "LayoutModel",
          "state": {
            "_model_module": "@jupyter-widgets/base",
            "_model_module_version": "1.2.0",
            "_model_name": "LayoutModel",
            "_view_count": null,
            "_view_module": "@jupyter-widgets/base",
            "_view_module_version": "1.2.0",
            "_view_name": "LayoutView",
            "align_content": null,
            "align_items": null,
            "align_self": null,
            "border": null,
            "bottom": null,
            "display": null,
            "flex": null,
            "flex_flow": null,
            "grid_area": null,
            "grid_auto_columns": null,
            "grid_auto_flow": null,
            "grid_auto_rows": null,
            "grid_column": null,
            "grid_gap": null,
            "grid_row": null,
            "grid_template_areas": null,
            "grid_template_columns": null,
            "grid_template_rows": null,
            "height": null,
            "justify_content": null,
            "justify_items": null,
            "left": null,
            "margin": null,
            "max_height": null,
            "max_width": null,
            "min_height": null,
            "min_width": null,
            "object_fit": null,
            "object_position": null,
            "order": null,
            "overflow": null,
            "overflow_x": null,
            "overflow_y": null,
            "padding": null,
            "right": null,
            "top": null,
            "visibility": null,
            "width": null
          }
        },
        "ccceb008030b4eaaa75d6b5176041e06": {
          "model_module": "@jupyter-widgets/controls",
          "model_module_version": "1.5.0",
          "model_name": "HBoxModel",
          "state": {
            "_dom_classes": [],
            "_model_module": "@jupyter-widgets/controls",
            "_model_module_version": "1.5.0",
            "_model_name": "HBoxModel",
            "_view_count": null,
            "_view_module": "@jupyter-widgets/controls",
            "_view_module_version": "1.5.0",
            "_view_name": "HBoxView",
            "box_style": "",
            "children": [
              "IPY_MODEL_61266c310e6c4929bf37afc0435f653b",
              "IPY_MODEL_6fde0fc421984428b58fd512e3d17ae4",
              "IPY_MODEL_e08794c51ee74c4695075caca7cbb931"
            ],
            "layout": "IPY_MODEL_2a76f75807f0404ca0798058b64386ce"
          }
        },
        "d7251a0c3da442e59af413bb9dbb8087": {
          "model_module": "@jupyter-widgets/controls",
          "model_module_version": "1.5.0",
          "model_name": "DescriptionStyleModel",
          "state": {
            "_model_module": "@jupyter-widgets/controls",
            "_model_module_version": "1.5.0",
            "_model_name": "DescriptionStyleModel",
            "_view_count": null,
            "_view_module": "@jupyter-widgets/base",
            "_view_module_version": "1.2.0",
            "_view_name": "StyleView",
            "description_width": ""
          }
        },
        "e08794c51ee74c4695075caca7cbb931": {
          "model_module": "@jupyter-widgets/controls",
          "model_module_version": "1.5.0",
          "model_name": "HTMLModel",
          "state": {
            "_dom_classes": [],
            "_model_module": "@jupyter-widgets/controls",
            "_model_module_version": "1.5.0",
            "_model_name": "HTMLModel",
            "_view_count": null,
            "_view_module": "@jupyter-widgets/controls",
            "_view_module_version": "1.5.0",
            "_view_name": "HTMLView",
            "description": "",
            "description_tooltip": null,
            "layout": "IPY_MODEL_bba82d0096e84fedad913ec0fb0109d4",
            "placeholder": "​",
            "style": "IPY_MODEL_d7251a0c3da442e59af413bb9dbb8087",
            "value": " 1000/1000 [00:00&lt;00:00, 24436.35 examples/s]"
          }
        },
        "f0c51b796c534556a48c29f746d0eef6": {
          "model_module": "@jupyter-widgets/base",
          "model_module_version": "1.2.0",
          "model_name": "LayoutModel",
          "state": {
            "_model_module": "@jupyter-widgets/base",
            "_model_module_version": "1.2.0",
            "_model_name": "LayoutModel",
            "_view_count": null,
            "_view_module": "@jupyter-widgets/base",
            "_view_module_version": "1.2.0",
            "_view_name": "LayoutView",
            "align_content": null,
            "align_items": null,
            "align_self": null,
            "border": null,
            "bottom": null,
            "display": null,
            "flex": null,
            "flex_flow": null,
            "grid_area": null,
            "grid_auto_columns": null,
            "grid_auto_flow": null,
            "grid_auto_rows": null,
            "grid_column": null,
            "grid_gap": null,
            "grid_row": null,
            "grid_template_areas": null,
            "grid_template_columns": null,
            "grid_template_rows": null,
            "height": null,
            "justify_content": null,
            "justify_items": null,
            "left": null,
            "margin": null,
            "max_height": null,
            "max_width": null,
            "min_height": null,
            "min_width": null,
            "object_fit": null,
            "object_position": null,
            "order": null,
            "overflow": null,
            "overflow_x": null,
            "overflow_y": null,
            "padding": null,
            "right": null,
            "top": null,
            "visibility": null,
            "width": null
          }
        },
        "f6696307adfb41789ee0cf177d9c3b2e": {
          "model_module": "@jupyter-widgets/base",
          "model_module_version": "1.2.0",
          "model_name": "LayoutModel",
          "state": {
            "_model_module": "@jupyter-widgets/base",
            "_model_module_version": "1.2.0",
            "_model_name": "LayoutModel",
            "_view_count": null,
            "_view_module": "@jupyter-widgets/base",
            "_view_module_version": "1.2.0",
            "_view_name": "LayoutView",
            "align_content": null,
            "align_items": null,
            "align_self": null,
            "border": null,
            "bottom": null,
            "display": null,
            "flex": null,
            "flex_flow": null,
            "grid_area": null,
            "grid_auto_columns": null,
            "grid_auto_flow": null,
            "grid_auto_rows": null,
            "grid_column": null,
            "grid_gap": null,
            "grid_row": null,
            "grid_template_areas": null,
            "grid_template_columns": null,
            "grid_template_rows": null,
            "height": null,
            "justify_content": null,
            "justify_items": null,
            "left": null,
            "margin": null,
            "max_height": null,
            "max_width": null,
            "min_height": null,
            "min_width": null,
            "object_fit": null,
            "object_position": null,
            "order": null,
            "overflow": null,
            "overflow_x": null,
            "overflow_y": null,
            "padding": null,
            "right": null,
            "top": null,
            "visibility": null,
            "width": null
          }
        },
        "f7f4371ad13d47d59e1fddcdb53c6816": {
          "model_module": "@jupyter-widgets/controls",
          "model_module_version": "1.5.0",
          "model_name": "DescriptionStyleModel",
          "state": {
            "_model_module": "@jupyter-widgets/controls",
            "_model_module_version": "1.5.0",
            "_model_name": "DescriptionStyleModel",
            "_view_count": null,
            "_view_module": "@jupyter-widgets/base",
            "_view_module_version": "1.2.0",
            "_view_name": "StyleView",
            "description_width": ""
          }
        },
        "f9c71c6e81c842feb19a64de0021e3ee": {
          "model_module": "@jupyter-widgets/controls",
          "model_module_version": "1.5.0",
          "model_name": "ProgressStyleModel",
          "state": {
            "_model_module": "@jupyter-widgets/controls",
            "_model_module_version": "1.5.0",
            "_model_name": "ProgressStyleModel",
            "_view_count": null,
            "_view_module": "@jupyter-widgets/base",
            "_view_module_version": "1.2.0",
            "_view_name": "StyleView",
            "bar_color": null,
            "description_width": ""
          }
        }
      }
    }
  },
  "nbformat": 4,
  "nbformat_minor": 0
}
